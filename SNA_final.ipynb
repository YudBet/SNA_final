{
 "cells": [
  {
   "cell_type": "markdown",
   "metadata": {},
   "source": [
    "# Basic information"
   ]
  },
  {
   "cell_type": "markdown",
   "metadata": {},
   "source": [
    "## three fanspages\n",
    "* imeifoods id='202586376996' \n",
    "* iLoveKCmilk id='180080052032125' \n",
    "* Dominos.tw id='115361891807579'"
   ]
  },
  {
   "cell_type": "code",
   "execution_count": 1,
   "metadata": {
    "collapsed": false
   },
   "outputs": [
    {
     "name": "stdout",
     "output_type": "stream",
     "text": [
      "I choose three fanpages to analyze as following\n"
     ]
    },
    {
     "data": {
      "text/html": [
       "<a href=\"https://www.facebook.com/imeifoods/\" target=\"_blank\">imeifoods</a>"
      ],
      "text/plain": [
       "<IPython.core.display.HTML object>"
      ]
     },
     "metadata": {},
     "output_type": "display_data"
    },
    {
     "data": {
      "text/html": [
       "<a href=\"https://www.facebook.com/iLoveKCmilk/\" target=\"_blank\">iLoveKCmilk</a>"
      ],
      "text/plain": [
       "<IPython.core.display.HTML object>"
      ]
     },
     "metadata": {},
     "output_type": "display_data"
    },
    {
     "data": {
      "text/html": [
       "<a href=\"https://www.facebook.com/Dominos.tw/\" target=\"_blank\">Dominos.tw</a>"
      ],
      "text/plain": [
       "<IPython.core.display.HTML object>"
      ]
     },
     "metadata": {},
     "output_type": "display_data"
    }
   ],
   "source": [
    "import pyes\n",
    "import json\n",
    "from IPython.core.display import display, HTML\n",
    "\n",
    "\n",
    "host = '192.168.1.100:9200'\n",
    "conn = pyes.es.ES(host)\n",
    "\n",
    "fnames = ['imeifoods', 'iLoveKCmilk', 'Dominos.tw']\n",
    "fids = ['202586376996', '180080052032125', '115361891807579']\n",
    "\n",
    "tqs = [pyes.query.TermQuery(field=\"fid\", value=fid) for fid in fids]\n",
    "rs = [conn.search(query=tq, indices='facebook_nested', doc_types='fanpage') for tq in tqs]\n",
    "\n",
    "print 'I choose three fanpages to analyze as following'\n",
    "for r, name in zip(rs, fnames):\n",
    "    display(HTML('<a href='+ json.dumps(r[0]['link'], indent=2) + ' target=\"_blank\">' + name + '</a>'))"
   ]
  },
  {
   "cell_type": "markdown",
   "metadata": {},
   "source": [
    "## searching range (2015 whole year)"
   ]
  },
  {
   "cell_type": "code",
   "execution_count": 2,
   "metadata": {
    "collapsed": false
   },
   "outputs": [],
   "source": [
    "ESR = pyes.ESRange(field='created_time', from_value='2015-01-01T00:00:00+0800', to_value='2015-12-31T23:59:59+0800', \n",
    "                   include_lower=True, include_upper=False) # use whole data in 2015\n",
    "rq = pyes.query.RangeQuery(qrange=ESR)\n",
    "bqs = [pyes.query.BoolQuery().add_must(rq).add_must(tq) for tq in tqs]"
   ]
  },
  {
   "cell_type": "markdown",
   "metadata": {},
   "source": [
    "## # of comments"
   ]
  },
  {
   "cell_type": "code",
   "execution_count": 3,
   "metadata": {
    "collapsed": false
   },
   "outputs": [
    {
     "name": "stdout",
     "output_type": "stream",
     "text": [
      "[25556, 15444, 35136]\n"
     ]
    }
   ],
   "source": [
    "res = [conn.search(query=bq, indices='facebook_nested', doc_types='comment') for bq in bqs]\n",
    "print [len(r) for r in res]"
   ]
  },
  {
   "cell_type": "markdown",
   "metadata": {},
   "source": [
    "## # of posts"
   ]
  },
  {
   "cell_type": "code",
   "execution_count": 4,
   "metadata": {
    "collapsed": false
   },
   "outputs": [
    {
     "name": "stdout",
     "output_type": "stream",
     "text": [
      "[207, 105, 365]\n"
     ]
    }
   ],
   "source": [
    "res = [conn.search(query=bq, indices='facebook_nested', doc_types='post') for bq in bqs]\n",
    "print [len(r) for r in res]"
   ]
  },
  {
   "cell_type": "markdown",
   "metadata": {},
   "source": []
  }
 ],
 "metadata": {
  "kernelspec": {
   "display_name": "Python [Root]",
   "language": "python",
   "name": "Python [Root]"
  },
  "language_info": {
   "codemirror_mode": {
    "name": "ipython",
    "version": 2
   },
   "file_extension": ".py",
   "mimetype": "text/x-python",
   "name": "python",
   "nbconvert_exporter": "python",
   "pygments_lexer": "ipython2",
   "version": "2.7.12"
  }
 },
 "nbformat": 4,
 "nbformat_minor": 0
}
