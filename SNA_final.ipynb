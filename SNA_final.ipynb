{
 "cells": [
  {
   "cell_type": "markdown",
   "metadata": {},
   "source": [
    "# Basic information"
   ]
  },
  {
   "cell_type": "markdown",
   "metadata": {},
   "source": [
    "## three fanspages\n",
    "* imeifoods id='202586376996' \n",
    "* iLoveKCmilk id='180080052032125' \n",
    "* Dominos.tw id='115361891807579'"
   ]
  },
  {
   "cell_type": "code",
   "execution_count": 1,
   "metadata": {
    "collapsed": false
   },
   "outputs": [
    {
     "name": "stdout",
     "output_type": "stream",
     "text": [
      "I choose three fanpages to analyze as following\n"
     ]
    },
    {
     "data": {
      "text/html": [
       "<a href=\"https://www.facebook.com/imeifoods/\" target=\"_blank\">imeifoods</a>"
      ],
      "text/plain": [
       "<IPython.core.display.HTML object>"
      ]
     },
     "metadata": {},
     "output_type": "display_data"
    },
    {
     "data": {
      "text/html": [
       "<a href=\"https://www.facebook.com/iLoveKCmilk/\" target=\"_blank\">iLoveKCmilk</a>"
      ],
      "text/plain": [
       "<IPython.core.display.HTML object>"
      ]
     },
     "metadata": {},
     "output_type": "display_data"
    },
    {
     "data": {
      "text/html": [
       "<a href=\"https://www.facebook.com/Dominos.tw/\" target=\"_blank\">Dominos.tw</a>"
      ],
      "text/plain": [
       "<IPython.core.display.HTML object>"
      ]
     },
     "metadata": {},
     "output_type": "display_data"
    }
   ],
   "source": [
    "import pyes\n",
    "import json\n",
    "from IPython.core.display import display, HTML\n",
    "\n",
    "\n",
    "host = '192.168.1.100:9200'\n",
    "conn = pyes.es.ES(host)\n",
    "\n",
    "fnames = ['imeifoods', 'iLoveKCmilk', 'Dominos.tw']\n",
    "fids = ['202586376996', '180080052032125', '115361891807579']\n",
    "\n",
    "tqs = [pyes.query.TermQuery(field=\"fid\", value=fid) for fid in fids]\n",
    "rs = [conn.search(query=tq, indices='facebook_nested', doc_types='fanpage') for tq in tqs]\n",
    "\n",
    "print 'I choose three fanpages to analyze as following'\n",
    "for r, name in zip(rs, fnames):\n",
    "    display(HTML('<a href='+ json.dumps(r[0]['link'], indent=2) + ' target=\"_blank\">' + name + '</a>'))"
   ]
  },
  {
   "cell_type": "markdown",
   "metadata": {},
   "source": [
    "## searching range (2015 whole year)"
   ]
  },
  {
   "cell_type": "code",
   "execution_count": 2,
   "metadata": {
    "collapsed": true
   },
   "outputs": [],
   "source": [
    "ESR = pyes.ESRange(field='created_time', from_value='2015-01-02T00:00:00+0800', to_value='2015-12-31T23:59:59+0800', \n",
    "                   include_lower=True, include_upper=False) # use whole data in 2015\n",
    "rq = pyes.query.RangeQuery(qrange=ESR)\n",
    "bqs = [pyes.query.BoolQuery().add_must(rq).add_must(tq) for tq in tqs]"
   ]
  },
  {
   "cell_type": "markdown",
   "metadata": {},
   "source": [
    "## # of comments"
   ]
  },
  {
   "cell_type": "code",
   "execution_count": 3,
   "metadata": {
    "collapsed": false
   },
   "outputs": [
    {
     "name": "stdout",
     "output_type": "stream",
     "text": [
      "[25541, 15183, 35130]\n"
     ]
    }
   ],
   "source": [
    "res = [conn.search(query=bq, indices='facebook_nested', doc_types='comment') for bq in bqs]\n",
    "print [len(r) for r in res]"
   ]
  },
  {
   "cell_type": "markdown",
   "metadata": {},
   "source": [
    "## # of posts"
   ]
  },
  {
   "cell_type": "code",
   "execution_count": 4,
   "metadata": {
    "collapsed": false
   },
   "outputs": [
    {
     "name": "stdout",
     "output_type": "stream",
     "text": [
      "[207, 104, 364]\n"
     ]
    }
   ],
   "source": [
    "res = [conn.search(query=bq, indices='facebook_nested', doc_types='post') for bq in bqs]\n",
    "print [len(r) for r in res]"
   ]
  },
  {
   "cell_type": "markdown",
   "metadata": {},
   "source": [
    "## aggregate by 12 months"
   ]
  },
  {
   "cell_type": "code",
   "execution_count": 5,
   "metadata": {
    "collapsed": true
   },
   "outputs": [],
   "source": [
    "DHAgg = pyes.aggs.DateHistogramAgg('month', field='created_time', interval='month')\n",
    "\n",
    "qs = [pyes.query.Search(bq) for bq in bqs]\n",
    "for q in qs:\n",
    "    q.agg.add(DHAgg)"
   ]
  },
  {
   "cell_type": "markdown",
   "metadata": {},
   "source": [
    "## # of comments in 12 months"
   ]
  },
  {
   "cell_type": "code",
   "execution_count": 6,
   "metadata": {
    "collapsed": false
   },
   "outputs": [
    {
     "name": "stdout",
     "output_type": "stream",
     "text": [
      "[[654, 903, 5042, 1150, 1461, 1821, 5581, 480, 1149, 2685, 2560, 2055], [5747, 1237, 2, 609, 2385, 2524, 339, 169, 464, 1535, 22, 150], [1296, 679, 1797, 964, 2762, 1655, 2388, 4970, 4386, 3053, 5659, 5521]]\n"
     ]
    }
   ],
   "source": [
    "rs = [conn.search(query=q, indices='facebook_nested', doc_types='comment') for q in qs]\n",
    "comment_month = [[rs[i].aggs['month']['buckets'][m]['doc_count'] for m in range(12)] for i in range(3)]\n",
    "print comment_month"
   ]
  },
  {
   "cell_type": "markdown",
   "metadata": {},
   "source": [
    "## # of posts in 12 months"
   ]
  },
  {
   "cell_type": "code",
   "execution_count": 7,
   "metadata": {
    "collapsed": false
   },
   "outputs": [
    {
     "name": "stdout",
     "output_type": "stream",
     "text": [
      "[[16, 15, 15, 12, 14, 15, 28, 14, 17, 22, 15, 24], [17, 8, 0, 9, 10, 13, 11, 10, 8, 12, 1, 5], [40, 25, 26, 38, 32, 33, 35, 29, 25, 26, 30, 25]]\n"
     ]
    }
   ],
   "source": [
    "rs = [conn.search(query=q, indices='facebook_nested', doc_types='post') for q in qs]\n",
    "post_month = [[rs[i].aggs['month']['buckets'][m]['doc_count'] for m in range(12)] for i in range(3)]\n",
    "print post_month"
   ]
  },
  {
   "cell_type": "markdown",
   "metadata": {},
   "source": [
    "# Visualization: use Bokeh"
   ]
  },
  {
   "cell_type": "code",
   "execution_count": 8,
   "metadata": {
    "collapsed": false
   },
   "outputs": [
    {
     "data": {
      "text/html": [
       "\n",
       "    <div class=\"bk-root\">\n",
       "        <a href=\"http://bokeh.pydata.org\" target=\"_blank\" class=\"bk-logo bk-logo-small bk-logo-notebook\"></a>\n",
       "        <span id=\"2712f667-40f0-4fef-b4c3-8c094e352c5f\">Loading BokehJS ...</span>\n",
       "    </div>"
      ]
     },
     "metadata": {},
     "output_type": "display_data"
    },
    {
     "data": {
      "application/javascript": [
       "\n",
       "(function(global) {\n",
       "  function now() {\n",
       "    return new Date();\n",
       "  }\n",
       "\n",
       "  if (typeof (window._bokeh_onload_callbacks) === \"undefined\") {\n",
       "    window._bokeh_onload_callbacks = [];\n",
       "  }\n",
       "\n",
       "  function run_callbacks() {\n",
       "    window._bokeh_onload_callbacks.forEach(function(callback) { callback() });\n",
       "    delete window._bokeh_onload_callbacks\n",
       "    console.info(\"Bokeh: all callbacks have finished\");\n",
       "  }\n",
       "\n",
       "  function load_libs(js_urls, callback) {\n",
       "    window._bokeh_onload_callbacks.push(callback);\n",
       "    if (window._bokeh_is_loading > 0) {\n",
       "      console.log(\"Bokeh: BokehJS is being loaded, scheduling callback at\", now());\n",
       "      return null;\n",
       "    }\n",
       "    if (js_urls == null || js_urls.length === 0) {\n",
       "      run_callbacks();\n",
       "      return null;\n",
       "    }\n",
       "    console.log(\"Bokeh: BokehJS not loaded, scheduling load and callback at\", now());\n",
       "    window._bokeh_is_loading = js_urls.length;\n",
       "    for (var i = 0; i < js_urls.length; i++) {\n",
       "      var url = js_urls[i];\n",
       "      var s = document.createElement('script');\n",
       "      s.src = url;\n",
       "      s.async = false;\n",
       "      s.onreadystatechange = s.onload = function() {\n",
       "        window._bokeh_is_loading--;\n",
       "        if (window._bokeh_is_loading === 0) {\n",
       "          console.log(\"Bokeh: all BokehJS libraries loaded\");\n",
       "          run_callbacks()\n",
       "        }\n",
       "      };\n",
       "      s.onerror = function() {\n",
       "        console.warn(\"failed to load library \" + url);\n",
       "      };\n",
       "      console.log(\"Bokeh: injecting script tag for BokehJS library: \", url);\n",
       "      document.getElementsByTagName(\"head\")[0].appendChild(s);\n",
       "    }\n",
       "  };\n",
       "\n",
       "  var js_urls = ['https://cdn.pydata.org/bokeh/release/bokeh-0.12.0.min.js', 'https://cdn.pydata.org/bokeh/release/bokeh-widgets-0.12.0.min.js', 'https://cdn.pydata.org/bokeh/release/bokeh-compiler-0.12.0.min.js'];\n",
       "\n",
       "  var inline_js = [\n",
       "    function(Bokeh) {\n",
       "      Bokeh.set_log_level(\"info\");\n",
       "    },\n",
       "    \n",
       "    function(Bokeh) {\n",
       "      Bokeh.$(\"#2712f667-40f0-4fef-b4c3-8c094e352c5f\").text(\"BokehJS successfully loaded\");\n",
       "    },\n",
       "    function(Bokeh) {\n",
       "      console.log(\"Bokeh: injecting CSS: https://cdn.pydata.org/bokeh/release/bokeh-0.12.0.min.css\");\n",
       "      Bokeh.embed.inject_css(\"https://cdn.pydata.org/bokeh/release/bokeh-0.12.0.min.css\");\n",
       "      console.log(\"Bokeh: injecting CSS: https://cdn.pydata.org/bokeh/release/bokeh-widgets-0.12.0.min.css\");\n",
       "      Bokeh.embed.inject_css(\"https://cdn.pydata.org/bokeh/release/bokeh-widgets-0.12.0.min.css\");\n",
       "    }\n",
       "  ];\n",
       "\n",
       "  function run_inline_js() {\n",
       "    for (var i = 0; i < inline_js.length; i++) {\n",
       "      inline_js[i](window.Bokeh);\n",
       "    }\n",
       "  }\n",
       "\n",
       "  if (window._bokeh_is_loading === 0) {\n",
       "    console.log(\"Bokeh: BokehJS loaded, going straight to plotting\");\n",
       "    run_inline_js();\n",
       "  } else {\n",
       "    load_libs(js_urls, function() {\n",
       "      console.log(\"Bokeh: BokehJS plotting callback run at\", now());\n",
       "      run_inline_js();\n",
       "    });\n",
       "  }\n",
       "}(this));"
      ]
     },
     "metadata": {},
     "output_type": "display_data"
    }
   ],
   "source": [
    "from bokeh.io import push_notebook, show, output_notebook\n",
    "from bokeh.layouts import row\n",
    "from bokeh.plotting import figure\n",
    "output_notebook()"
   ]
  },
  {
   "cell_type": "markdown",
   "metadata": {},
   "source": [
    "## bar charts: imeifoods"
   ]
  },
  {
   "cell_type": "code",
   "execution_count": 11,
   "metadata": {
    "collapsed": false
   },
   "outputs": [
    {
     "data": {
      "text/html": [
       "\n",
       "\n",
       "    <div class=\"bk-root\">\n",
       "        <div class=\"plotdiv\" id=\"4636a263-f4e8-48c2-9bd3-06df3232f830\"></div>\n",
       "    </div>\n",
       "<script type=\"text/javascript\">\n",
       "  \n",
       "  (function(global) {\n",
       "    function now() {\n",
       "      return new Date();\n",
       "    }\n",
       "  \n",
       "    if (typeof (window._bokeh_onload_callbacks) === \"undefined\") {\n",
       "      window._bokeh_onload_callbacks = [];\n",
       "    }\n",
       "  \n",
       "    function run_callbacks() {\n",
       "      window._bokeh_onload_callbacks.forEach(function(callback) { callback() });\n",
       "      delete window._bokeh_onload_callbacks\n",
       "      console.info(\"Bokeh: all callbacks have finished\");\n",
       "    }\n",
       "  \n",
       "    function load_libs(js_urls, callback) {\n",
       "      window._bokeh_onload_callbacks.push(callback);\n",
       "      if (window._bokeh_is_loading > 0) {\n",
       "        console.log(\"Bokeh: BokehJS is being loaded, scheduling callback at\", now());\n",
       "        return null;\n",
       "      }\n",
       "      if (js_urls == null || js_urls.length === 0) {\n",
       "        run_callbacks();\n",
       "        return null;\n",
       "      }\n",
       "      console.log(\"Bokeh: BokehJS not loaded, scheduling load and callback at\", now());\n",
       "      window._bokeh_is_loading = js_urls.length;\n",
       "      for (var i = 0; i < js_urls.length; i++) {\n",
       "        var url = js_urls[i];\n",
       "        var s = document.createElement('script');\n",
       "        s.src = url;\n",
       "        s.async = false;\n",
       "        s.onreadystatechange = s.onload = function() {\n",
       "          window._bokeh_is_loading--;\n",
       "          if (window._bokeh_is_loading === 0) {\n",
       "            console.log(\"Bokeh: all BokehJS libraries loaded\");\n",
       "            run_callbacks()\n",
       "          }\n",
       "        };\n",
       "        s.onerror = function() {\n",
       "          console.warn(\"failed to load library \" + url);\n",
       "        };\n",
       "        console.log(\"Bokeh: injecting script tag for BokehJS library: \", url);\n",
       "        document.getElementsByTagName(\"head\")[0].appendChild(s);\n",
       "      }\n",
       "    };var element = document.getElementById(\"4636a263-f4e8-48c2-9bd3-06df3232f830\");\n",
       "    if (element == null) {\n",
       "      console.log(\"Bokeh: ERROR: autoload.js configured with elementid '4636a263-f4e8-48c2-9bd3-06df3232f830' but no matching script tag was found. \")\n",
       "      return false;\n",
       "    }\n",
       "  \n",
       "    var js_urls = [];\n",
       "  \n",
       "    var inline_js = [\n",
       "      function(Bokeh) {\n",
       "        Bokeh.$(function() {\n",
       "            var docs_json = {\"f07ae53e-3fd8-436b-b57a-cf8f74f95aa4\":{\"roots\":{\"references\":[{\"attributes\":{\"callback\":null,\"column_names\":[\"line_color\",\"line_alpha\",\"color\",\"fill_alpha\",\"height\",\"width\",\"y\",\"x\",\"label\"],\"data\":{\"chart_index\":[{\"label\":\"Feb\"}],\"color\":[\"#f22c40\"],\"fill_alpha\":[0.8],\"height\":[903.0],\"label\":[\"Feb\"],\"line_alpha\":[1.0],\"line_color\":[\"white\"],\"width\":[0.8],\"x\":[\"Feb\"],\"y\":[451.5]}},\"id\":\"81f6a9a5-42e0-4709-81f1-25c43fea835b\",\"type\":\"ColumnDataSource\"},{\"attributes\":{\"callback\":null,\"column_names\":[\"line_color\",\"line_alpha\",\"color\",\"fill_alpha\",\"height\",\"width\",\"y\",\"x\",\"label\"],\"data\":{\"chart_index\":[{\"label\":\"Apr\"}],\"color\":[\"#f22c40\"],\"fill_alpha\":[0.8],\"height\":[12.0],\"label\":[\"Apr\"],\"line_alpha\":[1.0],\"line_color\":[\"white\"],\"width\":[0.8],\"x\":[\"Apr\"],\"y\":[6.0]}},\"id\":\"0af2a863-7f3c-4d03-9306-181f59e1f525\",\"type\":\"ColumnDataSource\"},{\"attributes\":{\"fill_alpha\":{\"field\":\"fill_alpha\"},\"fill_color\":{\"field\":\"color\"},\"height\":{\"field\":\"height\",\"units\":\"data\"},\"line_color\":{\"field\":\"line_color\"},\"width\":{\"field\":\"width\",\"units\":\"data\"},\"x\":{\"field\":\"x\"},\"y\":{\"field\":\"y\"}},\"id\":\"f8d81903-0f14-43f2-8298-6ddb9587a4bb\",\"type\":\"Rect\"},{\"attributes\":{\"callback\":null,\"column_names\":[\"line_color\",\"line_alpha\",\"color\",\"fill_alpha\",\"height\",\"width\",\"y\",\"x\",\"label\"],\"data\":{\"chart_index\":[{\"label\":\"Mar\"}],\"color\":[\"#f22c40\"],\"fill_alpha\":[0.8],\"height\":[15.0],\"label\":[\"Mar\"],\"line_alpha\":[1.0],\"line_color\":[\"white\"],\"width\":[0.8],\"x\":[\"Mar\"],\"y\":[7.5]}},\"id\":\"2a64d267-9444-4ca9-ac04-e155057fbddb\",\"type\":\"ColumnDataSource\"},{\"attributes\":{},\"id\":\"8470a177-ab73-4124-8af7-4785def61718\",\"type\":\"CategoricalTickFormatter\"},{\"attributes\":{\"data_source\":{\"id\":\"8f149858-3636-471e-9308-0a818d06148b\",\"type\":\"ColumnDataSource\"},\"glyph\":{\"id\":\"f8d81903-0f14-43f2-8298-6ddb9587a4bb\",\"type\":\"Rect\"},\"hover_glyph\":null,\"nonselection_glyph\":null,\"selection_glyph\":null},\"id\":\"90629564-467d-4ff7-8c3f-c8a81bb1f55e\",\"type\":\"GlyphRenderer\"},{\"attributes\":{\"plot\":null,\"text\":\"Comments count\"},\"id\":\"86b49f2b-6300-4379-ae1c-746da47f45d1\",\"type\":\"Title\"},{\"attributes\":{\"fill_alpha\":{\"field\":\"fill_alpha\"},\"fill_color\":{\"field\":\"color\"},\"height\":{\"field\":\"height\",\"units\":\"data\"},\"line_color\":{\"field\":\"line_color\"},\"width\":{\"field\":\"width\",\"units\":\"data\"},\"x\":{\"field\":\"x\"},\"y\":{\"field\":\"y\"}},\"id\":\"b8948c07-c3f4-4f1e-8a85-2856d644be52\",\"type\":\"Rect\"},{\"attributes\":{\"callback\":null,\"column_names\":[\"line_color\",\"line_alpha\",\"color\",\"fill_alpha\",\"height\",\"width\",\"y\",\"x\",\"label\"],\"data\":{\"chart_index\":[{\"label\":\"Sep\"}],\"color\":[\"#f22c40\"],\"fill_alpha\":[0.8],\"height\":[17.0],\"label\":[\"Sep\"],\"line_alpha\":[1.0],\"line_color\":[\"white\"],\"width\":[0.8],\"x\":[\"Sep\"],\"y\":[8.5]}},\"id\":\"a401e492-bd7f-41d3-8b5a-dd762182dc86\",\"type\":\"ColumnDataSource\"},{\"attributes\":{\"data_source\":{\"id\":\"a967ee85-bfa5-4992-964d-280bf5cd4fdb\",\"type\":\"ColumnDataSource\"},\"glyph\":{\"id\":\"e9c4411b-368f-4241-b980-6221ff19a020\",\"type\":\"Rect\"},\"hover_glyph\":null,\"nonselection_glyph\":null,\"selection_glyph\":null},\"id\":\"ff69115f-b828-40be-b9d4-fc7bd8fa39b2\",\"type\":\"GlyphRenderer\"},{\"attributes\":{\"fill_alpha\":{\"field\":\"fill_alpha\"},\"fill_color\":{\"field\":\"color\"},\"height\":{\"field\":\"height\",\"units\":\"data\"},\"line_color\":{\"field\":\"line_color\"},\"width\":{\"field\":\"width\",\"units\":\"data\"},\"x\":{\"field\":\"x\"},\"y\":{\"field\":\"y\"}},\"id\":\"123fdc42-e2f9-4bd3-b57f-f02a62fc91ee\",\"type\":\"Rect\"},{\"attributes\":{\"fill_alpha\":{\"field\":\"fill_alpha\"},\"fill_color\":{\"field\":\"color\"},\"height\":{\"field\":\"height\",\"units\":\"data\"},\"line_color\":{\"field\":\"line_color\"},\"width\":{\"field\":\"width\",\"units\":\"data\"},\"x\":{\"field\":\"x\"},\"y\":{\"field\":\"y\"}},\"id\":\"31dfb23a-058b-4094-8652-422c9618ef3f\",\"type\":\"Rect\"},{\"attributes\":{\"plot\":{\"id\":\"a3ea6535-9443-479c-9441-0edc755571ec\",\"subtype\":\"Chart\",\"type\":\"Plot\"}},\"id\":\"bd99194d-1017-4293-8c72-73e1cf8ff1f1\",\"type\":\"HelpTool\"},{\"attributes\":{\"data_source\":{\"id\":\"48abe543-a632-4e1a-850d-023191519313\",\"type\":\"ColumnDataSource\"},\"glyph\":{\"id\":\"466b6135-a6cf-48cd-9ea2-4c1ad87065aa\",\"type\":\"Rect\"},\"hover_glyph\":null,\"nonselection_glyph\":null,\"selection_glyph\":null},\"id\":\"db1ba194-f700-464d-9e38-ba6ab876032a\",\"type\":\"GlyphRenderer\"},{\"attributes\":{\"callback\":null,\"end\":29.4},\"id\":\"4c3600a1-0e4c-415e-b1b6-aee71c10ccac\",\"type\":\"Range1d\"},{\"attributes\":{\"fill_alpha\":{\"field\":\"fill_alpha\"},\"fill_color\":{\"field\":\"color\"},\"height\":{\"field\":\"height\",\"units\":\"data\"},\"line_color\":{\"field\":\"line_color\"},\"width\":{\"field\":\"width\",\"units\":\"data\"},\"x\":{\"field\":\"x\"},\"y\":{\"field\":\"y\"}},\"id\":\"466b6135-a6cf-48cd-9ea2-4c1ad87065aa\",\"type\":\"Rect\"},{\"attributes\":{\"bottom_units\":\"screen\",\"fill_alpha\":{\"value\":0.5},\"fill_color\":{\"value\":\"lightgrey\"},\"left_units\":\"screen\",\"level\":\"overlay\",\"line_alpha\":{\"value\":1.0},\"line_color\":{\"value\":\"black\"},\"line_dash\":[4,4],\"line_width\":{\"value\":2},\"plot\":null,\"render_mode\":\"css\",\"right_units\":\"screen\",\"top_units\":\"screen\"},\"id\":\"0e5f8add-e0f7-4097-aa30-b01ac55bd696\",\"type\":\"BoxAnnotation\"},{\"attributes\":{\"data_source\":{\"id\":\"f4bc065e-957b-45f7-92a9-2ca7201495f4\",\"type\":\"ColumnDataSource\"},\"glyph\":{\"id\":\"7757e8f9-6ae7-404f-b486-9d54189c1d78\",\"type\":\"Rect\"},\"hover_glyph\":null,\"nonselection_glyph\":null,\"selection_glyph\":null},\"id\":\"d0a50833-d984-4500-b7ab-b1bca12d35af\",\"type\":\"GlyphRenderer\"},{\"attributes\":{\"callback\":null,\"column_names\":[\"line_color\",\"line_alpha\",\"color\",\"fill_alpha\",\"height\",\"width\",\"y\",\"x\",\"label\"],\"data\":{\"chart_index\":[{\"label\":\"Mar\"}],\"color\":[\"#f22c40\"],\"fill_alpha\":[0.8],\"height\":[5042.0],\"label\":[\"Mar\"],\"line_alpha\":[1.0],\"line_color\":[\"white\"],\"width\":[0.8],\"x\":[\"Mar\"],\"y\":[2521.0]}},\"id\":\"f2b21f3b-d7b2-4daa-9397-37078b0d6f83\",\"type\":\"ColumnDataSource\"},{\"attributes\":{\"callback\":null,\"column_names\":[\"line_color\",\"line_alpha\",\"color\",\"fill_alpha\",\"height\",\"width\",\"y\",\"x\",\"label\"],\"data\":{\"chart_index\":[{\"label\":\"Feb\"}],\"color\":[\"#f22c40\"],\"fill_alpha\":[0.8],\"height\":[15.0],\"label\":[\"Feb\"],\"line_alpha\":[1.0],\"line_color\":[\"white\"],\"width\":[0.8],\"x\":[\"Feb\"],\"y\":[7.5]}},\"id\":\"8f149858-3636-471e-9308-0a818d06148b\",\"type\":\"ColumnDataSource\"},{\"attributes\":{\"callback\":null,\"column_names\":[\"line_color\",\"line_alpha\",\"color\",\"fill_alpha\",\"height\",\"width\",\"y\",\"x\",\"label\"],\"data\":{\"chart_index\":[{\"label\":\"Nov\"}],\"color\":[\"#f22c40\"],\"fill_alpha\":[0.8],\"height\":[15.0],\"label\":[\"Nov\"],\"line_alpha\":[1.0],\"line_color\":[\"white\"],\"width\":[0.8],\"x\":[\"Nov\"],\"y\":[7.5]}},\"id\":\"a967ee85-bfa5-4992-964d-280bf5cd4fdb\",\"type\":\"ColumnDataSource\"},{\"attributes\":{\"dimension\":1,\"plot\":{\"id\":\"01b00522-145d-4d58-a6df-126eb2ec65fe\",\"subtype\":\"Chart\",\"type\":\"Plot\"},\"ticker\":{\"id\":\"281e08b9-76b9-4525-ba17-f108eb759eaa\",\"type\":\"BasicTicker\"}},\"id\":\"940ee81a-6d32-465f-bc90-a7d4ea3f7b82\",\"type\":\"Grid\"},{\"attributes\":{\"callback\":null,\"column_names\":[\"line_color\",\"line_alpha\",\"color\",\"fill_alpha\",\"height\",\"width\",\"y\",\"x\",\"label\"],\"data\":{\"chart_index\":[{\"label\":\"Oct\"}],\"color\":[\"#f22c40\"],\"fill_alpha\":[0.8],\"height\":[2685.0],\"label\":[\"Oct\"],\"line_alpha\":[1.0],\"line_color\":[\"white\"],\"width\":[0.8],\"x\":[\"Oct\"],\"y\":[1342.5]}},\"id\":\"7194f346-3a6e-48f9-9675-0ce6cdca34ed\",\"type\":\"ColumnDataSource\"},{\"attributes\":{\"callback\":null,\"column_names\":[\"line_color\",\"line_alpha\",\"color\",\"fill_alpha\",\"height\",\"width\",\"y\",\"x\",\"label\"],\"data\":{\"chart_index\":[{\"label\":\"May\"}],\"color\":[\"#f22c40\"],\"fill_alpha\":[0.8],\"height\":[14.0],\"label\":[\"May\"],\"line_alpha\":[1.0],\"line_color\":[\"white\"],\"width\":[0.8],\"x\":[\"May\"],\"y\":[7.0]}},\"id\":\"7b8fb3c0-0df1-4f78-b396-025123b9da64\",\"type\":\"ColumnDataSource\"},{\"attributes\":{\"fill_alpha\":{\"field\":\"fill_alpha\"},\"fill_color\":{\"field\":\"color\"},\"height\":{\"field\":\"height\",\"units\":\"data\"},\"line_color\":{\"field\":\"line_color\"},\"width\":{\"field\":\"width\",\"units\":\"data\"},\"x\":{\"field\":\"x\"},\"y\":{\"field\":\"y\"}},\"id\":\"19e42b9b-23db-42c7-9f5a-e52639b586dd\",\"type\":\"Rect\"},{\"attributes\":{\"data_source\":{\"id\":\"b010ac6e-a816-4c4a-989a-beaf8716ca70\",\"type\":\"ColumnDataSource\"},\"glyph\":{\"id\":\"ab0b802a-bac6-4261-8e5a-9215e42d3904\",\"type\":\"Rect\"},\"hover_glyph\":null,\"nonselection_glyph\":null,\"selection_glyph\":null},\"id\":\"94b1b2d5-6336-467f-a2c7-6f9309609365\",\"type\":\"GlyphRenderer\"},{\"attributes\":{},\"id\":\"405458e4-7706-4875-b312-5b0071b4257d\",\"type\":\"CategoricalTicker\"},{\"attributes\":{\"plot\":{\"id\":\"a3ea6535-9443-479c-9441-0edc755571ec\",\"subtype\":\"Chart\",\"type\":\"Plot\"}},\"id\":\"bbc1aef1-5b63-4682-bd9e-e559e51935f2\",\"type\":\"ResetTool\"},{\"attributes\":{},\"id\":\"c59ab66f-f2c6-4626-9f89-0d780d48d4e7\",\"type\":\"CategoricalTickFormatter\"},{\"attributes\":{\"fill_alpha\":{\"field\":\"fill_alpha\"},\"fill_color\":{\"field\":\"color\"},\"height\":{\"field\":\"height\",\"units\":\"data\"},\"line_color\":{\"field\":\"line_color\"},\"width\":{\"field\":\"width\",\"units\":\"data\"},\"x\":{\"field\":\"x\"},\"y\":{\"field\":\"y\"}},\"id\":\"717aa65d-14e5-4a09-b4de-4dab7fdcb8ca\",\"type\":\"Rect\"},{\"attributes\":{\"fill_alpha\":{\"field\":\"fill_alpha\"},\"fill_color\":{\"field\":\"color\"},\"height\":{\"field\":\"height\",\"units\":\"data\"},\"line_color\":{\"field\":\"line_color\"},\"width\":{\"field\":\"width\",\"units\":\"data\"},\"x\":{\"field\":\"x\"},\"y\":{\"field\":\"y\"}},\"id\":\"9799d201-e204-4540-9cd5-de8682d68aaa\",\"type\":\"Rect\"},{\"attributes\":{\"data_source\":{\"id\":\"81f6a9a5-42e0-4709-81f1-25c43fea835b\",\"type\":\"ColumnDataSource\"},\"glyph\":{\"id\":\"17a14061-e7ac-489f-97c5-f5cb59f3cbad\",\"type\":\"Rect\"},\"hover_glyph\":null,\"nonselection_glyph\":null,\"selection_glyph\":null},\"id\":\"b71b3072-8a84-4d9e-be61-bcb916605927\",\"type\":\"GlyphRenderer\"},{\"attributes\":{\"dimension\":1,\"plot\":{\"id\":\"a3ea6535-9443-479c-9441-0edc755571ec\",\"subtype\":\"Chart\",\"type\":\"Plot\"},\"ticker\":{\"id\":\"05afeacf-c24c-4f14-a49b-b461bf07b2c0\",\"type\":\"BasicTicker\"}},\"id\":\"281a62c3-5a4c-4e50-b0f2-8b6358454370\",\"type\":\"Grid\"},{\"attributes\":{},\"id\":\"05afeacf-c24c-4f14-a49b-b461bf07b2c0\",\"type\":\"BasicTicker\"},{\"attributes\":{\"data_source\":{\"id\":\"57b613cd-8c6b-4de7-bdc1-01f6caf8678a\",\"type\":\"ColumnDataSource\"},\"glyph\":{\"id\":\"0b729e6b-5224-4410-82ac-77c6f3d079ea\",\"type\":\"Rect\"},\"hover_glyph\":null,\"nonselection_glyph\":null,\"selection_glyph\":null},\"id\":\"c5e6afc1-4901-42e9-a9d5-c91fc70098f9\",\"type\":\"GlyphRenderer\"},{\"attributes\":{\"fill_alpha\":{\"field\":\"fill_alpha\"},\"fill_color\":{\"field\":\"color\"},\"height\":{\"field\":\"height\",\"units\":\"data\"},\"line_color\":{\"field\":\"line_color\"},\"width\":{\"field\":\"width\",\"units\":\"data\"},\"x\":{\"field\":\"x\"},\"y\":{\"field\":\"y\"}},\"id\":\"888e2e2e-9652-4cc2-81b9-cb39a3cb8cb7\",\"type\":\"Rect\"},{\"attributes\":{\"data_source\":{\"id\":\"a53472e5-e588-4754-acba-882e452df4ce\",\"type\":\"ColumnDataSource\"},\"glyph\":{\"id\":\"123fdc42-e2f9-4bd3-b57f-f02a62fc91ee\",\"type\":\"Rect\"},\"hover_glyph\":null,\"nonselection_glyph\":null,\"selection_glyph\":null},\"id\":\"0e5823e3-bf6e-42a3-8ad5-c145e8a26cbd\",\"type\":\"GlyphRenderer\"},{\"attributes\":{},\"id\":\"3b741989-3786-43a9-af5b-e7ed84573284\",\"type\":\"BasicTickFormatter\"},{\"attributes\":{\"callback\":null,\"column_names\":[\"line_color\",\"line_alpha\",\"color\",\"fill_alpha\",\"height\",\"width\",\"y\",\"x\",\"label\"],\"data\":{\"chart_index\":[{\"label\":\"Dec\"}],\"color\":[\"#f22c40\"],\"fill_alpha\":[0.8],\"height\":[2055.0],\"label\":[\"Dec\"],\"line_alpha\":[1.0],\"line_color\":[\"white\"],\"width\":[0.8],\"x\":[\"Dec\"],\"y\":[1027.5]}},\"id\":\"b010ac6e-a816-4c4a-989a-beaf8716ca70\",\"type\":\"ColumnDataSource\"},{\"attributes\":{\"bottom_units\":\"screen\",\"fill_alpha\":{\"value\":0.5},\"fill_color\":{\"value\":\"lightgrey\"},\"left_units\":\"screen\",\"level\":\"overlay\",\"line_alpha\":{\"value\":1.0},\"line_color\":{\"value\":\"black\"},\"line_dash\":[4,4],\"line_width\":{\"value\":2},\"plot\":null,\"render_mode\":\"css\",\"right_units\":\"screen\",\"top_units\":\"screen\"},\"id\":\"fac70a0f-0c25-4213-816b-eef410f433f3\",\"type\":\"BoxAnnotation\"},{\"attributes\":{\"callback\":null,\"column_names\":[\"line_color\",\"line_alpha\",\"color\",\"fill_alpha\",\"height\",\"width\",\"y\",\"x\",\"label\"],\"data\":{\"chart_index\":[{\"label\":\"Jan\"}],\"color\":[\"#f22c40\"],\"fill_alpha\":[0.8],\"height\":[16.0],\"label\":[\"Jan\"],\"line_alpha\":[1.0],\"line_color\":[\"white\"],\"width\":[0.8],\"x\":[\"Jan\"],\"y\":[8.0]}},\"id\":\"f4bc065e-957b-45f7-92a9-2ca7201495f4\",\"type\":\"ColumnDataSource\"},{\"attributes\":{\"data_source\":{\"id\":\"cf7ec0b8-c972-43c3-b59e-a13dbd2ae3a5\",\"type\":\"ColumnDataSource\"},\"glyph\":{\"id\":\"6a9847c6-69a2-46b7-a3db-bec73d1691d1\",\"type\":\"Rect\"},\"hover_glyph\":null,\"nonselection_glyph\":null,\"selection_glyph\":null},\"id\":\"36fa9e1c-ac69-49fc-aaf6-e23d779240c4\",\"type\":\"GlyphRenderer\"},{\"attributes\":{\"below\":[{\"id\":\"e9c867f4-5c5e-45bf-985d-beffe5675789\",\"type\":\"CategoricalAxis\"}],\"left\":[{\"id\":\"0beb6fa3-4ea1-4e12-84ce-d256f9aa2f21\",\"type\":\"LinearAxis\"}],\"plot_height\":450,\"plot_width\":450,\"renderers\":[{\"id\":\"0e5f8add-e0f7-4097-aa30-b01ac55bd696\",\"type\":\"BoxAnnotation\"},{\"id\":\"c5e6afc1-4901-42e9-a9d5-c91fc70098f9\",\"type\":\"GlyphRenderer\"},{\"id\":\"b71b3072-8a84-4d9e-be61-bcb916605927\",\"type\":\"GlyphRenderer\"},{\"id\":\"2f112fbd-dc8b-4a07-a84a-adbfb8cf2be5\",\"type\":\"GlyphRenderer\"},{\"id\":\"686544dd-1da0-4602-b69f-7b0342cf4472\",\"type\":\"GlyphRenderer\"},{\"id\":\"0e5823e3-bf6e-42a3-8ad5-c145e8a26cbd\",\"type\":\"GlyphRenderer\"},{\"id\":\"92de1793-4ef0-4603-a1ae-a1ff29f3e262\",\"type\":\"GlyphRenderer\"},{\"id\":\"db1ba194-f700-464d-9e38-ba6ab876032a\",\"type\":\"GlyphRenderer\"},{\"id\":\"3af1ae71-ad2c-4d6b-b66e-15ff0c88b058\",\"type\":\"GlyphRenderer\"},{\"id\":\"6ee5e083-9bea-4886-a5f7-3a42a9a7d542\",\"type\":\"GlyphRenderer\"},{\"id\":\"73e3104a-340f-49dc-8d23-4f2f4a22ecd9\",\"type\":\"GlyphRenderer\"},{\"id\":\"b2cf9382-31a9-4de6-9700-00973a300ea9\",\"type\":\"GlyphRenderer\"},{\"id\":\"94b1b2d5-6336-467f-a2c7-6f9309609365\",\"type\":\"GlyphRenderer\"},{\"id\":\"e9c867f4-5c5e-45bf-985d-beffe5675789\",\"type\":\"CategoricalAxis\"},{\"id\":\"0beb6fa3-4ea1-4e12-84ce-d256f9aa2f21\",\"type\":\"LinearAxis\"},{\"id\":\"281a62c3-5a4c-4e50-b0f2-8b6358454370\",\"type\":\"Grid\"}],\"title\":{\"id\":\"86b49f2b-6300-4379-ae1c-746da47f45d1\",\"type\":\"Title\"},\"tool_events\":{\"id\":\"15e52628-0b7b-4782-a502-a9c251e43734\",\"type\":\"ToolEvents\"},\"toolbar\":{\"id\":\"4ceeedb7-580a-4726-9d2e-4429e9fb9e32\",\"type\":\"Toolbar\"},\"x_mapper_type\":\"auto\",\"x_range\":{\"id\":\"d6ad37cb-bfb9-426f-a27b-abacc59a8059\",\"type\":\"FactorRange\"},\"y_mapper_type\":\"auto\",\"y_range\":{\"id\":\"792eb3e2-9609-4bf8-9fda-37bee9ac760f\",\"type\":\"Range1d\"}},\"id\":\"a3ea6535-9443-479c-9441-0edc755571ec\",\"subtype\":\"Chart\",\"type\":\"Plot\"},{\"attributes\":{\"below\":[{\"id\":\"c007a26b-4d65-4a39-a09f-484dc177edec\",\"type\":\"CategoricalAxis\"}],\"left\":[{\"id\":\"b65d8bfe-8bbd-4648-ba1f-2322c12fa30c\",\"type\":\"LinearAxis\"}],\"plot_height\":450,\"plot_width\":450,\"renderers\":[{\"id\":\"fac70a0f-0c25-4213-816b-eef410f433f3\",\"type\":\"BoxAnnotation\"},{\"id\":\"d0a50833-d984-4500-b7ab-b1bca12d35af\",\"type\":\"GlyphRenderer\"},{\"id\":\"90629564-467d-4ff7-8c3f-c8a81bb1f55e\",\"type\":\"GlyphRenderer\"},{\"id\":\"1b18ba84-2660-415b-9e13-88d82d347826\",\"type\":\"GlyphRenderer\"},{\"id\":\"0c16148e-2664-4e29-adf5-b014b5d69369\",\"type\":\"GlyphRenderer\"},{\"id\":\"51555f41-ac70-4ef6-a3e9-dabbcb445200\",\"type\":\"GlyphRenderer\"},{\"id\":\"df576459-8d56-4bf5-9ff6-a7afcc2e31b6\",\"type\":\"GlyphRenderer\"},{\"id\":\"e51439ce-8447-4c23-8efe-6ffeff721710\",\"type\":\"GlyphRenderer\"},{\"id\":\"36fa9e1c-ac69-49fc-aaf6-e23d779240c4\",\"type\":\"GlyphRenderer\"},{\"id\":\"9add873a-f9e2-4094-89ce-84f613db7ea6\",\"type\":\"GlyphRenderer\"},{\"id\":\"4588a242-32e9-4e08-b43d-d348ecc1d080\",\"type\":\"GlyphRenderer\"},{\"id\":\"ff69115f-b828-40be-b9d4-fc7bd8fa39b2\",\"type\":\"GlyphRenderer\"},{\"id\":\"05bf6887-5d37-4755-973d-b3fbb38371fd\",\"type\":\"GlyphRenderer\"},{\"id\":\"c007a26b-4d65-4a39-a09f-484dc177edec\",\"type\":\"CategoricalAxis\"},{\"id\":\"b65d8bfe-8bbd-4648-ba1f-2322c12fa30c\",\"type\":\"LinearAxis\"},{\"id\":\"940ee81a-6d32-465f-bc90-a7d4ea3f7b82\",\"type\":\"Grid\"}],\"title\":{\"id\":\"3bf3958c-8058-4d84-93df-58f5dd8139d0\",\"type\":\"Title\"},\"tool_events\":{\"id\":\"6f40f014-e2a1-450a-a1c7-3f98bf61c640\",\"type\":\"ToolEvents\"},\"toolbar\":{\"id\":\"b34d7994-a716-4fa1-9c43-209e526a61ef\",\"type\":\"Toolbar\"},\"x_mapper_type\":\"auto\",\"x_range\":{\"id\":\"95eac61a-953e-4bae-b08a-08378f9147bd\",\"type\":\"FactorRange\"},\"y_mapper_type\":\"auto\",\"y_range\":{\"id\":\"4c3600a1-0e4c-415e-b1b6-aee71c10ccac\",\"type\":\"Range1d\"}},\"id\":\"01b00522-145d-4d58-a6df-126eb2ec65fe\",\"subtype\":\"Chart\",\"type\":\"Plot\"},{\"attributes\":{\"fill_alpha\":{\"field\":\"fill_alpha\"},\"fill_color\":{\"field\":\"color\"},\"height\":{\"field\":\"height\",\"units\":\"data\"},\"line_color\":{\"field\":\"line_color\"},\"width\":{\"field\":\"width\",\"units\":\"data\"},\"x\":{\"field\":\"x\"},\"y\":{\"field\":\"y\"}},\"id\":\"17a14061-e7ac-489f-97c5-f5cb59f3cbad\",\"type\":\"Rect\"},{\"attributes\":{\"data_source\":{\"id\":\"e0e02c87-cae0-4ef4-8760-f0e7ef2ff1c6\",\"type\":\"ColumnDataSource\"},\"glyph\":{\"id\":\"e4bc0a02-251e-4d6d-b5bf-6ce1cc6cd105\",\"type\":\"Rect\"},\"hover_glyph\":null,\"nonselection_glyph\":null,\"selection_glyph\":null},\"id\":\"4588a242-32e9-4e08-b43d-d348ecc1d080\",\"type\":\"GlyphRenderer\"},{\"attributes\":{\"overlay\":{\"id\":\"0e5f8add-e0f7-4097-aa30-b01ac55bd696\",\"type\":\"BoxAnnotation\"},\"plot\":{\"id\":\"a3ea6535-9443-479c-9441-0edc755571ec\",\"subtype\":\"Chart\",\"type\":\"Plot\"}},\"id\":\"af15cf82-cb0f-408e-976c-bc20032dec24\",\"type\":\"BoxZoomTool\"},{\"attributes\":{\"plot\":{\"id\":\"01b00522-145d-4d58-a6df-126eb2ec65fe\",\"subtype\":\"Chart\",\"type\":\"Plot\"}},\"id\":\"0bda891a-f5ce-4bb2-ad70-086e65a66989\",\"type\":\"SaveTool\"},{\"attributes\":{\"axis_label\":\"comments\",\"formatter\":{\"id\":\"3b741989-3786-43a9-af5b-e7ed84573284\",\"type\":\"BasicTickFormatter\"},\"plot\":{\"id\":\"a3ea6535-9443-479c-9441-0edc755571ec\",\"subtype\":\"Chart\",\"type\":\"Plot\"},\"ticker\":{\"id\":\"05afeacf-c24c-4f14-a49b-b461bf07b2c0\",\"type\":\"BasicTicker\"}},\"id\":\"0beb6fa3-4ea1-4e12-84ce-d256f9aa2f21\",\"type\":\"LinearAxis\"},{\"attributes\":{\"data_source\":{\"id\":\"560b5c5c-79c5-4b29-82c9-8f515e32f56b\",\"type\":\"ColumnDataSource\"},\"glyph\":{\"id\":\"9799d201-e204-4540-9cd5-de8682d68aaa\",\"type\":\"Rect\"},\"hover_glyph\":null,\"nonselection_glyph\":null,\"selection_glyph\":null},\"id\":\"05bf6887-5d37-4755-973d-b3fbb38371fd\",\"type\":\"GlyphRenderer\"},{\"attributes\":{\"callback\":null,\"column_names\":[\"line_color\",\"line_alpha\",\"color\",\"fill_alpha\",\"height\",\"width\",\"y\",\"x\",\"label\"],\"data\":{\"chart_index\":[{\"label\":\"Aug\"}],\"color\":[\"#f22c40\"],\"fill_alpha\":[0.8],\"height\":[480.0],\"label\":[\"Aug\"],\"line_alpha\":[1.0],\"line_color\":[\"white\"],\"width\":[0.8],\"x\":[\"Aug\"],\"y\":[240.0]}},\"id\":\"4f9522f0-2eb8-44f0-84d9-0b97718500ef\",\"type\":\"ColumnDataSource\"},{\"attributes\":{\"callback\":null,\"factors\":[\"Jan\",\"Feb\",\"Mar\",\"Apr\",\"May\",\"Jun\",\"Jul\",\"Aug\",\"Sep\",\"Oct\",\"Nov\",\"Dec\"]},\"id\":\"95eac61a-953e-4bae-b08a-08378f9147bd\",\"type\":\"FactorRange\"},{\"attributes\":{\"data_source\":{\"id\":\"2a64d267-9444-4ca9-ac04-e155057fbddb\",\"type\":\"ColumnDataSource\"},\"glyph\":{\"id\":\"8ef7cc73-e754-4402-b0c7-9f55a1941c2b\",\"type\":\"Rect\"},\"hover_glyph\":null,\"nonselection_glyph\":null,\"selection_glyph\":null},\"id\":\"1b18ba84-2660-415b-9e13-88d82d347826\",\"type\":\"GlyphRenderer\"},{\"attributes\":{\"callback\":null,\"end\":5860.05},\"id\":\"792eb3e2-9609-4bf8-9fda-37bee9ac760f\",\"type\":\"Range1d\"},{\"attributes\":{\"axis_label\":\"\",\"formatter\":{\"id\":\"8470a177-ab73-4124-8af7-4785def61718\",\"type\":\"CategoricalTickFormatter\"},\"major_label_orientation\":0.7853981633974483,\"plot\":{\"id\":\"a3ea6535-9443-479c-9441-0edc755571ec\",\"subtype\":\"Chart\",\"type\":\"Plot\"},\"ticker\":{\"id\":\"eb28e74e-09b4-4b83-96c7-7ca53ce7b8a8\",\"type\":\"CategoricalTicker\"}},\"id\":\"e9c867f4-5c5e-45bf-985d-beffe5675789\",\"type\":\"CategoricalAxis\"},{\"attributes\":{\"callback\":null,\"column_names\":[\"line_color\",\"line_alpha\",\"color\",\"fill_alpha\",\"height\",\"width\",\"y\",\"x\",\"label\"],\"data\":{\"chart_index\":[{\"label\":\"Dec\"}],\"color\":[\"#f22c40\"],\"fill_alpha\":[0.8],\"height\":[24.0],\"label\":[\"Dec\"],\"line_alpha\":[1.0],\"line_color\":[\"white\"],\"width\":[0.8],\"x\":[\"Dec\"],\"y\":[12.0]}},\"id\":\"560b5c5c-79c5-4b29-82c9-8f515e32f56b\",\"type\":\"ColumnDataSource\"},{\"attributes\":{\"fill_alpha\":{\"field\":\"fill_alpha\"},\"fill_color\":{\"field\":\"color\"},\"height\":{\"field\":\"height\",\"units\":\"data\"},\"line_color\":{\"field\":\"line_color\"},\"width\":{\"field\":\"width\",\"units\":\"data\"},\"x\":{\"field\":\"x\"},\"y\":{\"field\":\"y\"}},\"id\":\"8ef7cc73-e754-4402-b0c7-9f55a1941c2b\",\"type\":\"Rect\"},{\"attributes\":{\"fill_alpha\":{\"field\":\"fill_alpha\"},\"fill_color\":{\"field\":\"color\"},\"height\":{\"field\":\"height\",\"units\":\"data\"},\"line_color\":{\"field\":\"line_color\"},\"width\":{\"field\":\"width\",\"units\":\"data\"},\"x\":{\"field\":\"x\"},\"y\":{\"field\":\"y\"}},\"id\":\"7757e8f9-6ae7-404f-b486-9d54189c1d78\",\"type\":\"Rect\"},{\"attributes\":{\"callback\":null,\"column_names\":[\"line_color\",\"line_alpha\",\"color\",\"fill_alpha\",\"height\",\"width\",\"y\",\"x\",\"label\"],\"data\":{\"chart_index\":[{\"label\":\"Jul\"}],\"color\":[\"#f22c40\"],\"fill_alpha\":[0.8],\"height\":[5581.0],\"label\":[\"Jul\"],\"line_alpha\":[1.0],\"line_color\":[\"white\"],\"width\":[0.8],\"x\":[\"Jul\"],\"y\":[2790.5]}},\"id\":\"48abe543-a632-4e1a-850d-023191519313\",\"type\":\"ColumnDataSource\"},{\"attributes\":{\"plot\":null,\"text\":\"Posts count\"},\"id\":\"3bf3958c-8058-4d84-93df-58f5dd8139d0\",\"type\":\"Title\"},{\"attributes\":{\"data_source\":{\"id\":\"cfe4a5a3-be9c-4406-8edf-c337fb0f3cd8\",\"type\":\"ColumnDataSource\"},\"glyph\":{\"id\":\"b8cd2dce-0637-4cbb-935a-b7fb26b1741a\",\"type\":\"Rect\"},\"hover_glyph\":null,\"nonselection_glyph\":null,\"selection_glyph\":null},\"id\":\"e51439ce-8447-4c23-8efe-6ffeff721710\",\"type\":\"GlyphRenderer\"},{\"attributes\":{\"data_source\":{\"id\":\"d55fc861-e1ec-4935-8493-32e57b485d7f\",\"type\":\"ColumnDataSource\"},\"glyph\":{\"id\":\"8a49ca54-c510-41e3-b7c8-6bccf2398c46\",\"type\":\"Rect\"},\"hover_glyph\":null,\"nonselection_glyph\":null,\"selection_glyph\":null},\"id\":\"6ee5e083-9bea-4886-a5f7-3a42a9a7d542\",\"type\":\"GlyphRenderer\"},{\"attributes\":{\"callback\":null,\"column_names\":[\"line_color\",\"line_alpha\",\"color\",\"fill_alpha\",\"height\",\"width\",\"y\",\"x\",\"label\"],\"data\":{\"chart_index\":[{\"label\":\"Aug\"}],\"color\":[\"#f22c40\"],\"fill_alpha\":[0.8],\"height\":[14.0],\"label\":[\"Aug\"],\"line_alpha\":[1.0],\"line_color\":[\"white\"],\"width\":[0.8],\"x\":[\"Aug\"],\"y\":[7.0]}},\"id\":\"cf7ec0b8-c972-43c3-b59e-a13dbd2ae3a5\",\"type\":\"ColumnDataSource\"},{\"attributes\":{\"data_source\":{\"id\":\"f2b21f3b-d7b2-4daa-9397-37078b0d6f83\",\"type\":\"ColumnDataSource\"},\"glyph\":{\"id\":\"717aa65d-14e5-4a09-b4de-4dab7fdcb8ca\",\"type\":\"Rect\"},\"hover_glyph\":null,\"nonselection_glyph\":null,\"selection_glyph\":null},\"id\":\"2f112fbd-dc8b-4a07-a84a-adbfb8cf2be5\",\"type\":\"GlyphRenderer\"},{\"attributes\":{\"active_drag\":\"auto\",\"active_scroll\":\"auto\",\"active_tap\":\"auto\",\"tools\":[{\"id\":\"c42e7de7-0935-4301-9ceb-29576a7cb6da\",\"type\":\"PanTool\"},{\"id\":\"bdf74d38-6df5-4ce6-81ef-a13278673909\",\"type\":\"WheelZoomTool\"},{\"id\":\"af15cf82-cb0f-408e-976c-bc20032dec24\",\"type\":\"BoxZoomTool\"},{\"id\":\"f4e2986b-a0fa-4aa1-9ca2-331ef15ca65f\",\"type\":\"SaveTool\"},{\"id\":\"bbc1aef1-5b63-4682-bd9e-e559e51935f2\",\"type\":\"ResetTool\"},{\"id\":\"bd99194d-1017-4293-8c72-73e1cf8ff1f1\",\"type\":\"HelpTool\"}]},\"id\":\"4ceeedb7-580a-4726-9d2e-4429e9fb9e32\",\"type\":\"Toolbar\"},{\"attributes\":{\"data_source\":{\"id\":\"4f9522f0-2eb8-44f0-84d9-0b97718500ef\",\"type\":\"ColumnDataSource\"},\"glyph\":{\"id\":\"b2f5f7e6-731c-40b5-add8-90f266ab7e3d\",\"type\":\"Rect\"},\"hover_glyph\":null,\"nonselection_glyph\":null,\"selection_glyph\":null},\"id\":\"3af1ae71-ad2c-4d6b-b66e-15ff0c88b058\",\"type\":\"GlyphRenderer\"},{\"attributes\":{\"fill_alpha\":{\"field\":\"fill_alpha\"},\"fill_color\":{\"field\":\"color\"},\"height\":{\"field\":\"height\",\"units\":\"data\"},\"line_color\":{\"field\":\"line_color\"},\"width\":{\"field\":\"width\",\"units\":\"data\"},\"x\":{\"field\":\"x\"},\"y\":{\"field\":\"y\"}},\"id\":\"0b729e6b-5224-4410-82ac-77c6f3d079ea\",\"type\":\"Rect\"},{\"attributes\":{},\"id\":\"281e08b9-76b9-4525-ba17-f108eb759eaa\",\"type\":\"BasicTicker\"},{\"attributes\":{\"children\":[{\"id\":\"a3ea6535-9443-479c-9441-0edc755571ec\",\"subtype\":\"Chart\",\"type\":\"Plot\"},{\"id\":\"01b00522-145d-4d58-a6df-126eb2ec65fe\",\"subtype\":\"Chart\",\"type\":\"Plot\"}]},\"id\":\"d6c6ba52-fd1a-448b-8fa9-e0131fc147a0\",\"type\":\"Row\"},{\"attributes\":{\"callback\":null,\"column_names\":[\"line_color\",\"line_alpha\",\"color\",\"fill_alpha\",\"height\",\"width\",\"y\",\"x\",\"label\"],\"data\":{\"chart_index\":[{\"label\":\"Sep\"}],\"color\":[\"#f22c40\"],\"fill_alpha\":[0.8],\"height\":[1149.0],\"label\":[\"Sep\"],\"line_alpha\":[1.0],\"line_color\":[\"white\"],\"width\":[0.8],\"x\":[\"Sep\"],\"y\":[574.5]}},\"id\":\"d55fc861-e1ec-4935-8493-32e57b485d7f\",\"type\":\"ColumnDataSource\"},{\"attributes\":{\"plot\":{\"id\":\"01b00522-145d-4d58-a6df-126eb2ec65fe\",\"subtype\":\"Chart\",\"type\":\"Plot\"}},\"id\":\"79b309bc-a480-4589-a686-0c069cd7d997\",\"type\":\"PanTool\"},{\"attributes\":{\"fill_alpha\":{\"field\":\"fill_alpha\"},\"fill_color\":{\"field\":\"color\"},\"height\":{\"field\":\"height\",\"units\":\"data\"},\"line_color\":{\"field\":\"line_color\"},\"width\":{\"field\":\"width\",\"units\":\"data\"},\"x\":{\"field\":\"x\"},\"y\":{\"field\":\"y\"}},\"id\":\"e9c4411b-368f-4241-b980-6221ff19a020\",\"type\":\"Rect\"},{\"attributes\":{},\"id\":\"6f40f014-e2a1-450a-a1c7-3f98bf61c640\",\"type\":\"ToolEvents\"},{\"attributes\":{\"overlay\":{\"id\":\"fac70a0f-0c25-4213-816b-eef410f433f3\",\"type\":\"BoxAnnotation\"},\"plot\":{\"id\":\"01b00522-145d-4d58-a6df-126eb2ec65fe\",\"subtype\":\"Chart\",\"type\":\"Plot\"}},\"id\":\"8669ab35-ce63-49cb-b458-5de1230d959e\",\"type\":\"BoxZoomTool\"},{\"attributes\":{\"callback\":null,\"factors\":[\"Jan\",\"Feb\",\"Mar\",\"Apr\",\"May\",\"Jun\",\"Jul\",\"Aug\",\"Sep\",\"Oct\",\"Nov\",\"Dec\"]},\"id\":\"d6ad37cb-bfb9-426f-a27b-abacc59a8059\",\"type\":\"FactorRange\"},{\"attributes\":{\"callback\":null,\"column_names\":[\"line_color\",\"line_alpha\",\"color\",\"fill_alpha\",\"height\",\"width\",\"y\",\"x\",\"label\"],\"data\":{\"chart_index\":[{\"label\":\"Jul\"}],\"color\":[\"#f22c40\"],\"fill_alpha\":[0.8],\"height\":[28.0],\"label\":[\"Jul\"],\"line_alpha\":[1.0],\"line_color\":[\"white\"],\"width\":[0.8],\"x\":[\"Jul\"],\"y\":[14.0]}},\"id\":\"cfe4a5a3-be9c-4406-8edf-c337fb0f3cd8\",\"type\":\"ColumnDataSource\"},{\"attributes\":{\"plot\":{\"id\":\"01b00522-145d-4d58-a6df-126eb2ec65fe\",\"subtype\":\"Chart\",\"type\":\"Plot\"}},\"id\":\"28bb082f-89e5-474c-b99f-3f99e39605af\",\"type\":\"WheelZoomTool\"},{\"attributes\":{\"fill_alpha\":{\"field\":\"fill_alpha\"},\"fill_color\":{\"field\":\"color\"},\"height\":{\"field\":\"height\",\"units\":\"data\"},\"line_color\":{\"field\":\"line_color\"},\"width\":{\"field\":\"width\",\"units\":\"data\"},\"x\":{\"field\":\"x\"},\"y\":{\"field\":\"y\"}},\"id\":\"6a9847c6-69a2-46b7-a3db-bec73d1691d1\",\"type\":\"Rect\"},{\"attributes\":{\"callback\":null,\"column_names\":[\"line_color\",\"line_alpha\",\"color\",\"fill_alpha\",\"height\",\"width\",\"y\",\"x\",\"label\"],\"data\":{\"chart_index\":[{\"label\":\"Jan\"}],\"color\":[\"#f22c40\"],\"fill_alpha\":[0.8],\"height\":[654.0],\"label\":[\"Jan\"],\"line_alpha\":[1.0],\"line_color\":[\"white\"],\"width\":[0.8],\"x\":[\"Jan\"],\"y\":[327.0]}},\"id\":\"57b613cd-8c6b-4de7-bdc1-01f6caf8678a\",\"type\":\"ColumnDataSource\"},{\"attributes\":{\"fill_alpha\":{\"field\":\"fill_alpha\"},\"fill_color\":{\"field\":\"color\"},\"height\":{\"field\":\"height\",\"units\":\"data\"},\"line_color\":{\"field\":\"line_color\"},\"width\":{\"field\":\"width\",\"units\":\"data\"},\"x\":{\"field\":\"x\"},\"y\":{\"field\":\"y\"}},\"id\":\"ab0b802a-bac6-4261-8e5a-9215e42d3904\",\"type\":\"Rect\"},{\"attributes\":{\"data_source\":{\"id\":\"7b8fb3c0-0df1-4f78-b396-025123b9da64\",\"type\":\"ColumnDataSource\"},\"glyph\":{\"id\":\"b8948c07-c3f4-4f1e-8a85-2856d644be52\",\"type\":\"Rect\"},\"hover_glyph\":null,\"nonselection_glyph\":null,\"selection_glyph\":null},\"id\":\"51555f41-ac70-4ef6-a3e9-dabbcb445200\",\"type\":\"GlyphRenderer\"},{\"attributes\":{},\"id\":\"eb28e74e-09b4-4b83-96c7-7ca53ce7b8a8\",\"type\":\"CategoricalTicker\"},{\"attributes\":{\"data_source\":{\"id\":\"7194f346-3a6e-48f9-9675-0ce6cdca34ed\",\"type\":\"ColumnDataSource\"},\"glyph\":{\"id\":\"fdf0df67-8e43-4889-bcc1-c5f70b039db6\",\"type\":\"Rect\"},\"hover_glyph\":null,\"nonselection_glyph\":null,\"selection_glyph\":null},\"id\":\"73e3104a-340f-49dc-8d23-4f2f4a22ecd9\",\"type\":\"GlyphRenderer\"},{\"attributes\":{\"axis_label\":\"\",\"formatter\":{\"id\":\"c59ab66f-f2c6-4626-9f89-0d780d48d4e7\",\"type\":\"CategoricalTickFormatter\"},\"major_label_orientation\":0.7853981633974483,\"plot\":{\"id\":\"01b00522-145d-4d58-a6df-126eb2ec65fe\",\"subtype\":\"Chart\",\"type\":\"Plot\"},\"ticker\":{\"id\":\"405458e4-7706-4875-b312-5b0071b4257d\",\"type\":\"CategoricalTicker\"}},\"id\":\"c007a26b-4d65-4a39-a09f-484dc177edec\",\"type\":\"CategoricalAxis\"},{\"attributes\":{\"plot\":{\"id\":\"01b00522-145d-4d58-a6df-126eb2ec65fe\",\"subtype\":\"Chart\",\"type\":\"Plot\"}},\"id\":\"5b79e6ea-4396-4402-9ab9-a88bfbd139d6\",\"type\":\"HelpTool\"},{\"attributes\":{\"callback\":null,\"column_names\":[\"line_color\",\"line_alpha\",\"color\",\"fill_alpha\",\"height\",\"width\",\"y\",\"x\",\"label\"],\"data\":{\"chart_index\":[{\"label\":\"Nov\"}],\"color\":[\"#f22c40\"],\"fill_alpha\":[0.8],\"height\":[2560.0],\"label\":[\"Nov\"],\"line_alpha\":[1.0],\"line_color\":[\"white\"],\"width\":[0.8],\"x\":[\"Nov\"],\"y\":[1280.0]}},\"id\":\"c4925963-9093-4f36-be79-11e2fe6b73ec\",\"type\":\"ColumnDataSource\"},{\"attributes\":{\"callback\":null,\"column_names\":[\"line_color\",\"line_alpha\",\"color\",\"fill_alpha\",\"height\",\"width\",\"y\",\"x\",\"label\"],\"data\":{\"chart_index\":[{\"label\":\"Oct\"}],\"color\":[\"#f22c40\"],\"fill_alpha\":[0.8],\"height\":[22.0],\"label\":[\"Oct\"],\"line_alpha\":[1.0],\"line_color\":[\"white\"],\"width\":[0.8],\"x\":[\"Oct\"],\"y\":[11.0]}},\"id\":\"e0e02c87-cae0-4ef4-8760-f0e7ef2ff1c6\",\"type\":\"ColumnDataSource\"},{\"attributes\":{\"data_source\":{\"id\":\"0af2a863-7f3c-4d03-9306-181f59e1f525\",\"type\":\"ColumnDataSource\"},\"glyph\":{\"id\":\"19e42b9b-23db-42c7-9f5a-e52639b586dd\",\"type\":\"Rect\"},\"hover_glyph\":null,\"nonselection_glyph\":null,\"selection_glyph\":null},\"id\":\"0c16148e-2664-4e29-adf5-b014b5d69369\",\"type\":\"GlyphRenderer\"},{\"attributes\":{\"fill_alpha\":{\"field\":\"fill_alpha\"},\"fill_color\":{\"field\":\"color\"},\"height\":{\"field\":\"height\",\"units\":\"data\"},\"line_color\":{\"field\":\"line_color\"},\"width\":{\"field\":\"width\",\"units\":\"data\"},\"x\":{\"field\":\"x\"},\"y\":{\"field\":\"y\"}},\"id\":\"66f2e5dd-23b1-49e7-859c-49c2568eeeaa\",\"type\":\"Rect\"},{\"attributes\":{\"active_drag\":\"auto\",\"active_scroll\":\"auto\",\"active_tap\":\"auto\",\"tools\":[{\"id\":\"79b309bc-a480-4589-a686-0c069cd7d997\",\"type\":\"PanTool\"},{\"id\":\"28bb082f-89e5-474c-b99f-3f99e39605af\",\"type\":\"WheelZoomTool\"},{\"id\":\"8669ab35-ce63-49cb-b458-5de1230d959e\",\"type\":\"BoxZoomTool\"},{\"id\":\"0bda891a-f5ce-4bb2-ad70-086e65a66989\",\"type\":\"SaveTool\"},{\"id\":\"735e134b-166b-49db-9e67-5a80752a5690\",\"type\":\"ResetTool\"},{\"id\":\"5b79e6ea-4396-4402-9ab9-a88bfbd139d6\",\"type\":\"HelpTool\"}]},\"id\":\"b34d7994-a716-4fa1-9c43-209e526a61ef\",\"type\":\"Toolbar\"},{\"attributes\":{\"fill_alpha\":{\"field\":\"fill_alpha\"},\"fill_color\":{\"field\":\"color\"},\"height\":{\"field\":\"height\",\"units\":\"data\"},\"line_color\":{\"field\":\"line_color\"},\"width\":{\"field\":\"width\",\"units\":\"data\"},\"x\":{\"field\":\"x\"},\"y\":{\"field\":\"y\"}},\"id\":\"c6cc3097-2c9b-43a9-893e-0696dc32a937\",\"type\":\"Rect\"},{\"attributes\":{\"data_source\":{\"id\":\"57760eaf-758f-4948-ab49-30dcbb0906b1\",\"type\":\"ColumnDataSource\"},\"glyph\":{\"id\":\"888e2e2e-9652-4cc2-81b9-cb39a3cb8cb7\",\"type\":\"Rect\"},\"hover_glyph\":null,\"nonselection_glyph\":null,\"selection_glyph\":null},\"id\":\"686544dd-1da0-4602-b69f-7b0342cf4472\",\"type\":\"GlyphRenderer\"},{\"attributes\":{\"callback\":null,\"column_names\":[\"line_color\",\"line_alpha\",\"color\",\"fill_alpha\",\"height\",\"width\",\"y\",\"x\",\"label\"],\"data\":{\"chart_index\":[{\"label\":\"Jun\"}],\"color\":[\"#f22c40\"],\"fill_alpha\":[0.8],\"height\":[1821.0],\"label\":[\"Jun\"],\"line_alpha\":[1.0],\"line_color\":[\"white\"],\"width\":[0.8],\"x\":[\"Jun\"],\"y\":[910.5]}},\"id\":\"f85c6f16-3040-4049-a24b-886794ef0de7\",\"type\":\"ColumnDataSource\"},{\"attributes\":{\"fill_alpha\":{\"field\":\"fill_alpha\"},\"fill_color\":{\"field\":\"color\"},\"height\":{\"field\":\"height\",\"units\":\"data\"},\"line_color\":{\"field\":\"line_color\"},\"width\":{\"field\":\"width\",\"units\":\"data\"},\"x\":{\"field\":\"x\"},\"y\":{\"field\":\"y\"}},\"id\":\"b8cd2dce-0637-4cbb-935a-b7fb26b1741a\",\"type\":\"Rect\"},{\"attributes\":{\"fill_alpha\":{\"field\":\"fill_alpha\"},\"fill_color\":{\"field\":\"color\"},\"height\":{\"field\":\"height\",\"units\":\"data\"},\"line_color\":{\"field\":\"line_color\"},\"width\":{\"field\":\"width\",\"units\":\"data\"},\"x\":{\"field\":\"x\"},\"y\":{\"field\":\"y\"}},\"id\":\"7b74cdc9-98a3-446c-9f23-ce3b9ea67278\",\"type\":\"Rect\"},{\"attributes\":{\"plot\":{\"id\":\"a3ea6535-9443-479c-9441-0edc755571ec\",\"subtype\":\"Chart\",\"type\":\"Plot\"}},\"id\":\"bdf74d38-6df5-4ce6-81ef-a13278673909\",\"type\":\"WheelZoomTool\"},{\"attributes\":{\"plot\":{\"id\":\"a3ea6535-9443-479c-9441-0edc755571ec\",\"subtype\":\"Chart\",\"type\":\"Plot\"}},\"id\":\"f4e2986b-a0fa-4aa1-9ca2-331ef15ca65f\",\"type\":\"SaveTool\"},{\"attributes\":{\"data_source\":{\"id\":\"c4925963-9093-4f36-be79-11e2fe6b73ec\",\"type\":\"ColumnDataSource\"},\"glyph\":{\"id\":\"7b74cdc9-98a3-446c-9f23-ce3b9ea67278\",\"type\":\"Rect\"},\"hover_glyph\":null,\"nonselection_glyph\":null,\"selection_glyph\":null},\"id\":\"b2cf9382-31a9-4de6-9700-00973a300ea9\",\"type\":\"GlyphRenderer\"},{\"attributes\":{\"fill_alpha\":{\"field\":\"fill_alpha\"},\"fill_color\":{\"field\":\"color\"},\"height\":{\"field\":\"height\",\"units\":\"data\"},\"line_color\":{\"field\":\"line_color\"},\"width\":{\"field\":\"width\",\"units\":\"data\"},\"x\":{\"field\":\"x\"},\"y\":{\"field\":\"y\"}},\"id\":\"b2f5f7e6-731c-40b5-add8-90f266ab7e3d\",\"type\":\"Rect\"},{\"attributes\":{\"fill_alpha\":{\"field\":\"fill_alpha\"},\"fill_color\":{\"field\":\"color\"},\"height\":{\"field\":\"height\",\"units\":\"data\"},\"line_color\":{\"field\":\"line_color\"},\"width\":{\"field\":\"width\",\"units\":\"data\"},\"x\":{\"field\":\"x\"},\"y\":{\"field\":\"y\"}},\"id\":\"e4bc0a02-251e-4d6d-b5bf-6ce1cc6cd105\",\"type\":\"Rect\"},{\"attributes\":{},\"id\":\"b612cfd3-5298-4143-b0d8-3011e4606569\",\"type\":\"BasicTickFormatter\"},{\"attributes\":{\"plot\":{\"id\":\"a3ea6535-9443-479c-9441-0edc755571ec\",\"subtype\":\"Chart\",\"type\":\"Plot\"}},\"id\":\"c42e7de7-0935-4301-9ceb-29576a7cb6da\",\"type\":\"PanTool\"},{\"attributes\":{\"callback\":null,\"column_names\":[\"line_color\",\"line_alpha\",\"color\",\"fill_alpha\",\"height\",\"width\",\"y\",\"x\",\"label\"],\"data\":{\"chart_index\":[{\"label\":\"May\"}],\"color\":[\"#f22c40\"],\"fill_alpha\":[0.8],\"height\":[1461.0],\"label\":[\"May\"],\"line_alpha\":[1.0],\"line_color\":[\"white\"],\"width\":[0.8],\"x\":[\"May\"],\"y\":[730.5]}},\"id\":\"a53472e5-e588-4754-acba-882e452df4ce\",\"type\":\"ColumnDataSource\"},{\"attributes\":{\"fill_alpha\":{\"field\":\"fill_alpha\"},\"fill_color\":{\"field\":\"color\"},\"height\":{\"field\":\"height\",\"units\":\"data\"},\"line_color\":{\"field\":\"line_color\"},\"width\":{\"field\":\"width\",\"units\":\"data\"},\"x\":{\"field\":\"x\"},\"y\":{\"field\":\"y\"}},\"id\":\"fdf0df67-8e43-4889-bcc1-c5f70b039db6\",\"type\":\"Rect\"},{\"attributes\":{\"fill_alpha\":{\"field\":\"fill_alpha\"},\"fill_color\":{\"field\":\"color\"},\"height\":{\"field\":\"height\",\"units\":\"data\"},\"line_color\":{\"field\":\"line_color\"},\"width\":{\"field\":\"width\",\"units\":\"data\"},\"x\":{\"field\":\"x\"},\"y\":{\"field\":\"y\"}},\"id\":\"8a49ca54-c510-41e3-b7c8-6bccf2398c46\",\"type\":\"Rect\"},{\"attributes\":{\"callback\":null,\"column_names\":[\"line_color\",\"line_alpha\",\"color\",\"fill_alpha\",\"height\",\"width\",\"y\",\"x\",\"label\"],\"data\":{\"chart_index\":[{\"label\":\"Apr\"}],\"color\":[\"#f22c40\"],\"fill_alpha\":[0.8],\"height\":[1150.0],\"label\":[\"Apr\"],\"line_alpha\":[1.0],\"line_color\":[\"white\"],\"width\":[0.8],\"x\":[\"Apr\"],\"y\":[575.0]}},\"id\":\"57760eaf-758f-4948-ab49-30dcbb0906b1\",\"type\":\"ColumnDataSource\"},{\"attributes\":{\"data_source\":{\"id\":\"c4483165-d458-43dc-b0e3-a751bbd91309\",\"type\":\"ColumnDataSource\"},\"glyph\":{\"id\":\"66f2e5dd-23b1-49e7-859c-49c2568eeeaa\",\"type\":\"Rect\"},\"hover_glyph\":null,\"nonselection_glyph\":null,\"selection_glyph\":null},\"id\":\"df576459-8d56-4bf5-9ff6-a7afcc2e31b6\",\"type\":\"GlyphRenderer\"},{\"attributes\":{\"plot\":{\"id\":\"01b00522-145d-4d58-a6df-126eb2ec65fe\",\"subtype\":\"Chart\",\"type\":\"Plot\"}},\"id\":\"735e134b-166b-49db-9e67-5a80752a5690\",\"type\":\"ResetTool\"},{\"attributes\":{\"data_source\":{\"id\":\"a401e492-bd7f-41d3-8b5a-dd762182dc86\",\"type\":\"ColumnDataSource\"},\"glyph\":{\"id\":\"c6cc3097-2c9b-43a9-893e-0696dc32a937\",\"type\":\"Rect\"},\"hover_glyph\":null,\"nonselection_glyph\":null,\"selection_glyph\":null},\"id\":\"9add873a-f9e2-4094-89ce-84f613db7ea6\",\"type\":\"GlyphRenderer\"},{\"attributes\":{\"data_source\":{\"id\":\"f85c6f16-3040-4049-a24b-886794ef0de7\",\"type\":\"ColumnDataSource\"},\"glyph\":{\"id\":\"31dfb23a-058b-4094-8652-422c9618ef3f\",\"type\":\"Rect\"},\"hover_glyph\":null,\"nonselection_glyph\":null,\"selection_glyph\":null},\"id\":\"92de1793-4ef0-4603-a1ae-a1ff29f3e262\",\"type\":\"GlyphRenderer\"},{\"attributes\":{\"callback\":null,\"column_names\":[\"line_color\",\"line_alpha\",\"color\",\"fill_alpha\",\"height\",\"width\",\"y\",\"x\",\"label\"],\"data\":{\"chart_index\":[{\"label\":\"Jun\"}],\"color\":[\"#f22c40\"],\"fill_alpha\":[0.8],\"height\":[15.0],\"label\":[\"Jun\"],\"line_alpha\":[1.0],\"line_color\":[\"white\"],\"width\":[0.8],\"x\":[\"Jun\"],\"y\":[7.5]}},\"id\":\"c4483165-d458-43dc-b0e3-a751bbd91309\",\"type\":\"ColumnDataSource\"},{\"attributes\":{\"axis_label\":\"posts\",\"formatter\":{\"id\":\"b612cfd3-5298-4143-b0d8-3011e4606569\",\"type\":\"BasicTickFormatter\"},\"plot\":{\"id\":\"01b00522-145d-4d58-a6df-126eb2ec65fe\",\"subtype\":\"Chart\",\"type\":\"Plot\"},\"ticker\":{\"id\":\"281e08b9-76b9-4525-ba17-f108eb759eaa\",\"type\":\"BasicTicker\"}},\"id\":\"b65d8bfe-8bbd-4648-ba1f-2322c12fa30c\",\"type\":\"LinearAxis\"},{\"attributes\":{},\"id\":\"15e52628-0b7b-4782-a502-a9c251e43734\",\"type\":\"ToolEvents\"}],\"root_ids\":[\"d6c6ba52-fd1a-448b-8fa9-e0131fc147a0\"]},\"title\":\"Bokeh Application\",\"version\":\"0.12.0\"}};\n",
       "            var render_items = [{\"docid\":\"f07ae53e-3fd8-436b-b57a-cf8f74f95aa4\",\"elementid\":\"4636a263-f4e8-48c2-9bd3-06df3232f830\",\"modelid\":\"d6c6ba52-fd1a-448b-8fa9-e0131fc147a0\",\"notebook_comms_target\":\"ea6e4f2b-ec66-48e2-9a92-89f60dd29479\"}];\n",
       "            \n",
       "            Bokeh.embed.embed_items(docs_json, render_items);\n",
       "        });\n",
       "      },\n",
       "      function(Bokeh) {\n",
       "      }\n",
       "    ];\n",
       "  \n",
       "    function run_inline_js() {\n",
       "      for (var i = 0; i < inline_js.length; i++) {\n",
       "        inline_js[i](window.Bokeh);\n",
       "      }\n",
       "    }\n",
       "  \n",
       "    if (window._bokeh_is_loading === 0) {\n",
       "      console.log(\"Bokeh: BokehJS loaded, going straight to plotting\");\n",
       "      run_inline_js();\n",
       "    } else {\n",
       "      load_libs(js_urls, function() {\n",
       "        console.log(\"Bokeh: BokehJS plotting callback run at\", now());\n",
       "        run_inline_js();\n",
       "      });\n",
       "    }\n",
       "  }(this));\n",
       "</script>"
      ]
     },
     "metadata": {},
     "output_type": "display_data"
    },
    {
     "data": {
      "text/html": [
       "<p><code>&lt;Bokeh Notebook handle for <strong>In[11]</strong>&gt;</code></p>"
      ],
      "text/plain": [
       "<bokeh.io._CommsHandle at 0x7f2150297a90>"
      ]
     },
     "execution_count": 11,
     "metadata": {},
     "output_type": "execute_result"
    }
   ],
   "source": [
    "from bokeh.charts import Bar\n",
    "from bokeh.charts.attributes import CatAttr\n",
    "\n",
    "MONTHS = ['Jan', 'Feb', 'Mar', 'Apr', 'May', 'Jun', 'Jul', 'Aug', 'Sep', 'Oct', 'Nov', 'Dec']\n",
    "\n",
    "comment_dict = dict(data=comment_month[0], label=MONTHS)\n",
    "post_dict = dict(data=post_month[0], label=MONTHS)\n",
    "\n",
    "comment_bar = Bar(comment_dict, values='data', label=CatAttr(columns=['label'], sort=False), \n",
    "               plot_width=450, plot_height=450, legend=None, title='Comments count')\n",
    "post_bar = Bar(post_dict, values='data', label=CatAttr(columns=['label'], sort=False), \n",
    "             plot_width=450, plot_height=450, legend=None, title='Posts count')\n",
    "\n",
    "comment_bar.xaxis.axis_label = post_bar.xaxis.axis_label = ''\n",
    "comment_bar.yaxis.axis_label = 'comments'\n",
    "post_bar.yaxis.axis_label = 'posts'\n",
    "\n",
    "show(row(comment_bar, post_bar))"
   ]
  },
  {
   "cell_type": "markdown",
   "metadata": {},
   "source": [
    "## bar charts: iLoveKCmilk"
   ]
  },
  {
   "cell_type": "code",
   "execution_count": 12,
   "metadata": {
    "collapsed": false
   },
   "outputs": [
    {
     "data": {
      "text/html": [
       "\n",
       "\n",
       "    <div class=\"bk-root\">\n",
       "        <div class=\"plotdiv\" id=\"0bc43048-a2bf-4697-81e4-9810b8a7908b\"></div>\n",
       "    </div>\n",
       "<script type=\"text/javascript\">\n",
       "  \n",
       "  (function(global) {\n",
       "    function now() {\n",
       "      return new Date();\n",
       "    }\n",
       "  \n",
       "    if (typeof (window._bokeh_onload_callbacks) === \"undefined\") {\n",
       "      window._bokeh_onload_callbacks = [];\n",
       "    }\n",
       "  \n",
       "    function run_callbacks() {\n",
       "      window._bokeh_onload_callbacks.forEach(function(callback) { callback() });\n",
       "      delete window._bokeh_onload_callbacks\n",
       "      console.info(\"Bokeh: all callbacks have finished\");\n",
       "    }\n",
       "  \n",
       "    function load_libs(js_urls, callback) {\n",
       "      window._bokeh_onload_callbacks.push(callback);\n",
       "      if (window._bokeh_is_loading > 0) {\n",
       "        console.log(\"Bokeh: BokehJS is being loaded, scheduling callback at\", now());\n",
       "        return null;\n",
       "      }\n",
       "      if (js_urls == null || js_urls.length === 0) {\n",
       "        run_callbacks();\n",
       "        return null;\n",
       "      }\n",
       "      console.log(\"Bokeh: BokehJS not loaded, scheduling load and callback at\", now());\n",
       "      window._bokeh_is_loading = js_urls.length;\n",
       "      for (var i = 0; i < js_urls.length; i++) {\n",
       "        var url = js_urls[i];\n",
       "        var s = document.createElement('script');\n",
       "        s.src = url;\n",
       "        s.async = false;\n",
       "        s.onreadystatechange = s.onload = function() {\n",
       "          window._bokeh_is_loading--;\n",
       "          if (window._bokeh_is_loading === 0) {\n",
       "            console.log(\"Bokeh: all BokehJS libraries loaded\");\n",
       "            run_callbacks()\n",
       "          }\n",
       "        };\n",
       "        s.onerror = function() {\n",
       "          console.warn(\"failed to load library \" + url);\n",
       "        };\n",
       "        console.log(\"Bokeh: injecting script tag for BokehJS library: \", url);\n",
       "        document.getElementsByTagName(\"head\")[0].appendChild(s);\n",
       "      }\n",
       "    };var element = document.getElementById(\"0bc43048-a2bf-4697-81e4-9810b8a7908b\");\n",
       "    if (element == null) {\n",
       "      console.log(\"Bokeh: ERROR: autoload.js configured with elementid '0bc43048-a2bf-4697-81e4-9810b8a7908b' but no matching script tag was found. \")\n",
       "      return false;\n",
       "    }\n",
       "  \n",
       "    var js_urls = [];\n",
       "  \n",
       "    var inline_js = [\n",
       "      function(Bokeh) {\n",
       "        Bokeh.$(function() {\n",
       "            var docs_json = {\"945ef7e1-3506-4fc4-a370-2ae98b750218\":{\"roots\":{\"references\":[{\"attributes\":{\"plot\":{\"id\":\"f42e17ef-24a5-4f07-b5bd-f081d4def321\",\"subtype\":\"Chart\",\"type\":\"Plot\"}},\"id\":\"327afc08-4bbf-4f4b-9db8-429ffde4e325\",\"type\":\"PanTool\"},{\"attributes\":{\"fill_alpha\":{\"field\":\"fill_alpha\"},\"fill_color\":{\"field\":\"color\"},\"height\":{\"field\":\"height\",\"units\":\"data\"},\"line_color\":{\"field\":\"line_color\"},\"width\":{\"field\":\"width\",\"units\":\"data\"},\"x\":{\"field\":\"x\"},\"y\":{\"field\":\"y\"}},\"id\":\"51d2671d-52ba-46b1-9437-8f94e364851e\",\"type\":\"Rect\"},{\"attributes\":{\"data_source\":{\"id\":\"13832523-c401-4a47-a2fd-e5fcd8564251\",\"type\":\"ColumnDataSource\"},\"glyph\":{\"id\":\"aef4ce66-d3bd-42ab-b750-7b8476828d43\",\"type\":\"Rect\"},\"hover_glyph\":null,\"nonselection_glyph\":null,\"selection_glyph\":null},\"id\":\"dc348a4d-d5a8-4503-9fb0-c77b0c21d5e0\",\"type\":\"GlyphRenderer\"},{\"attributes\":{\"callback\":null,\"column_names\":[\"line_color\",\"line_alpha\",\"color\",\"fill_alpha\",\"height\",\"width\",\"y\",\"x\",\"label\"],\"data\":{\"chart_index\":[{\"label\":\"Mar\"}],\"color\":[\"#f22c40\"],\"fill_alpha\":[0.8],\"height\":[0.0],\"label\":[\"Mar\"],\"line_alpha\":[1.0],\"line_color\":[\"white\"],\"width\":[0.8],\"x\":[\"Mar\"],\"y\":[0.0]}},\"id\":\"10956564-0429-48b6-b39a-24a6eef7830d\",\"type\":\"ColumnDataSource\"},{\"attributes\":{\"overlay\":{\"id\":\"cc48827d-8f12-4fd0-83ce-6ccad31fb749\",\"type\":\"BoxAnnotation\"},\"plot\":{\"id\":\"a1cfa7a0-5a38-400a-ab30-db1d971986ed\",\"subtype\":\"Chart\",\"type\":\"Plot\"}},\"id\":\"b9666b6c-cf17-4ae0-9979-9b4dc6ba724f\",\"type\":\"BoxZoomTool\"},{\"attributes\":{\"data_source\":{\"id\":\"8155dd39-b515-4a11-bd2b-44c62a97f229\",\"type\":\"ColumnDataSource\"},\"glyph\":{\"id\":\"03cc2f9e-3254-4e06-be93-8e15558454d2\",\"type\":\"Rect\"},\"hover_glyph\":null,\"nonselection_glyph\":null,\"selection_glyph\":null},\"id\":\"fdfb6ce5-ef3f-4812-ab77-26ded15b537c\",\"type\":\"GlyphRenderer\"},{\"attributes\":{\"data_source\":{\"id\":\"62dd9812-eade-4f5d-87a8-5a00531f4c32\",\"type\":\"ColumnDataSource\"},\"glyph\":{\"id\":\"21af9bb9-a8f3-4d6c-a83f-5062bb4edc5f\",\"type\":\"Rect\"},\"hover_glyph\":null,\"nonselection_glyph\":null,\"selection_glyph\":null},\"id\":\"abff7956-4c92-42ee-bb2d-49bae5db06eb\",\"type\":\"GlyphRenderer\"},{\"attributes\":{\"fill_alpha\":{\"field\":\"fill_alpha\"},\"fill_color\":{\"field\":\"color\"},\"height\":{\"field\":\"height\",\"units\":\"data\"},\"line_color\":{\"field\":\"line_color\"},\"width\":{\"field\":\"width\",\"units\":\"data\"},\"x\":{\"field\":\"x\"},\"y\":{\"field\":\"y\"}},\"id\":\"18813ad7-3dcd-4fc9-ab59-89570b1fde34\",\"type\":\"Rect\"},{\"attributes\":{\"data_source\":{\"id\":\"f7005852-5fb6-436c-b1af-96246f8c74e7\",\"type\":\"ColumnDataSource\"},\"glyph\":{\"id\":\"4c4412de-87dd-45f8-b4ad-dee8da9f62bb\",\"type\":\"Rect\"},\"hover_glyph\":null,\"nonselection_glyph\":null,\"selection_glyph\":null},\"id\":\"2760e8e5-d807-42f1-bff8-3856e283639e\",\"type\":\"GlyphRenderer\"},{\"attributes\":{},\"id\":\"1c386b10-ab94-458d-9740-b70d302fd181\",\"type\":\"BasicTicker\"},{\"attributes\":{\"fill_alpha\":{\"field\":\"fill_alpha\"},\"fill_color\":{\"field\":\"color\"},\"height\":{\"field\":\"height\",\"units\":\"data\"},\"line_color\":{\"field\":\"line_color\"},\"width\":{\"field\":\"width\",\"units\":\"data\"},\"x\":{\"field\":\"x\"},\"y\":{\"field\":\"y\"}},\"id\":\"f3a69110-bc16-4acb-8c78-f4eea4ffd123\",\"type\":\"Rect\"},{\"attributes\":{\"callback\":null,\"column_names\":[\"line_color\",\"line_alpha\",\"color\",\"fill_alpha\",\"height\",\"width\",\"y\",\"x\",\"label\"],\"data\":{\"chart_index\":[{\"label\":\"Jun\"}],\"color\":[\"#f22c40\"],\"fill_alpha\":[0.8],\"height\":[2524.0],\"label\":[\"Jun\"],\"line_alpha\":[1.0],\"line_color\":[\"white\"],\"width\":[0.8],\"x\":[\"Jun\"],\"y\":[1262.0]}},\"id\":\"0bfab584-d461-4a0b-8dd3-cb39c4997f43\",\"type\":\"ColumnDataSource\"},{\"attributes\":{\"data_source\":{\"id\":\"6b414ad1-ac9f-404f-9a8f-f6d8b41f5a0a\",\"type\":\"ColumnDataSource\"},\"glyph\":{\"id\":\"6e825772-26f3-4768-8f71-8fccfeb72be6\",\"type\":\"Rect\"},\"hover_glyph\":null,\"nonselection_glyph\":null,\"selection_glyph\":null},\"id\":\"e843a36e-25c9-47ff-99d3-c711af3cb1d9\",\"type\":\"GlyphRenderer\"},{\"attributes\":{\"plot\":{\"id\":\"a1cfa7a0-5a38-400a-ab30-db1d971986ed\",\"subtype\":\"Chart\",\"type\":\"Plot\"}},\"id\":\"6a0b12be-6bcf-430a-b092-1a7dec4ddde4\",\"type\":\"ResetTool\"},{\"attributes\":{\"data_source\":{\"id\":\"921cc042-d228-415a-bf88-f53f42a46ec9\",\"type\":\"ColumnDataSource\"},\"glyph\":{\"id\":\"0b6f5eb1-2699-4ac9-a42f-63b59217c09d\",\"type\":\"Rect\"},\"hover_glyph\":null,\"nonselection_glyph\":null,\"selection_glyph\":null},\"id\":\"f1a229b1-560d-4d17-8e7a-075829872ce7\",\"type\":\"GlyphRenderer\"},{\"attributes\":{\"fill_alpha\":{\"field\":\"fill_alpha\"},\"fill_color\":{\"field\":\"color\"},\"height\":{\"field\":\"height\",\"units\":\"data\"},\"line_color\":{\"field\":\"line_color\"},\"width\":{\"field\":\"width\",\"units\":\"data\"},\"x\":{\"field\":\"x\"},\"y\":{\"field\":\"y\"}},\"id\":\"36abb97f-7993-4208-be90-fb8efdede65d\",\"type\":\"Rect\"},{\"attributes\":{\"callback\":null,\"factors\":[\"Jan\",\"Feb\",\"Mar\",\"Apr\",\"May\",\"Jun\",\"Jul\",\"Aug\",\"Sep\",\"Oct\",\"Nov\",\"Dec\"]},\"id\":\"8e86907e-5ea8-4377-bb11-e730564ffe40\",\"type\":\"FactorRange\"},{\"attributes\":{},\"id\":\"c2fa33b2-0c6b-464c-a9f8-f72b51c8714f\",\"type\":\"ToolEvents\"},{\"attributes\":{\"fill_alpha\":{\"field\":\"fill_alpha\"},\"fill_color\":{\"field\":\"color\"},\"height\":{\"field\":\"height\",\"units\":\"data\"},\"line_color\":{\"field\":\"line_color\"},\"width\":{\"field\":\"width\",\"units\":\"data\"},\"x\":{\"field\":\"x\"},\"y\":{\"field\":\"y\"}},\"id\":\"ba24550b-4d95-4264-a0fa-30f77ecfad9e\",\"type\":\"Rect\"},{\"attributes\":{\"fill_alpha\":{\"field\":\"fill_alpha\"},\"fill_color\":{\"field\":\"color\"},\"height\":{\"field\":\"height\",\"units\":\"data\"},\"line_color\":{\"field\":\"line_color\"},\"width\":{\"field\":\"width\",\"units\":\"data\"},\"x\":{\"field\":\"x\"},\"y\":{\"field\":\"y\"}},\"id\":\"7554736f-5dcf-450d-afea-5ac08866bfa3\",\"type\":\"Rect\"},{\"attributes\":{\"fill_alpha\":{\"field\":\"fill_alpha\"},\"fill_color\":{\"field\":\"color\"},\"height\":{\"field\":\"height\",\"units\":\"data\"},\"line_color\":{\"field\":\"line_color\"},\"width\":{\"field\":\"width\",\"units\":\"data\"},\"x\":{\"field\":\"x\"},\"y\":{\"field\":\"y\"}},\"id\":\"0324d4f3-7cb4-4fc0-af8e-fb3772dfa9d7\",\"type\":\"Rect\"},{\"attributes\":{},\"id\":\"d0665d32-9769-49d8-accd-f0cc884c6336\",\"type\":\"BasicTicker\"},{\"attributes\":{},\"id\":\"546fea3b-8808-446a-9cfd-57498f172e10\",\"type\":\"CategoricalTicker\"},{\"attributes\":{\"callback\":null,\"column_names\":[\"line_color\",\"line_alpha\",\"color\",\"fill_alpha\",\"height\",\"width\",\"y\",\"x\",\"label\"],\"data\":{\"chart_index\":[{\"label\":\"Jun\"}],\"color\":[\"#f22c40\"],\"fill_alpha\":[0.8],\"height\":[13.0],\"label\":[\"Jun\"],\"line_alpha\":[1.0],\"line_color\":[\"white\"],\"width\":[0.8],\"x\":[\"Jun\"],\"y\":[6.5]}},\"id\":\"871627bc-ddc2-4140-9e11-8a909469a466\",\"type\":\"ColumnDataSource\"},{\"attributes\":{\"fill_alpha\":{\"field\":\"fill_alpha\"},\"fill_color\":{\"field\":\"color\"},\"height\":{\"field\":\"height\",\"units\":\"data\"},\"line_color\":{\"field\":\"line_color\"},\"width\":{\"field\":\"width\",\"units\":\"data\"},\"x\":{\"field\":\"x\"},\"y\":{\"field\":\"y\"}},\"id\":\"dd0cd75e-741b-43de-af33-81026f5e82f6\",\"type\":\"Rect\"},{\"attributes\":{\"callback\":null,\"column_names\":[\"line_color\",\"line_alpha\",\"color\",\"fill_alpha\",\"height\",\"width\",\"y\",\"x\",\"label\"],\"data\":{\"chart_index\":[{\"label\":\"Dec\"}],\"color\":[\"#f22c40\"],\"fill_alpha\":[0.8],\"height\":[150.0],\"label\":[\"Dec\"],\"line_alpha\":[1.0],\"line_color\":[\"white\"],\"width\":[0.8],\"x\":[\"Dec\"],\"y\":[75.0]}},\"id\":\"13832523-c401-4a47-a2fd-e5fcd8564251\",\"type\":\"ColumnDataSource\"},{\"attributes\":{\"callback\":null,\"column_names\":[\"line_color\",\"line_alpha\",\"color\",\"fill_alpha\",\"height\",\"width\",\"y\",\"x\",\"label\"],\"data\":{\"chart_index\":[{\"label\":\"Aug\"}],\"color\":[\"#f22c40\"],\"fill_alpha\":[0.8],\"height\":[169.0],\"label\":[\"Aug\"],\"line_alpha\":[1.0],\"line_color\":[\"white\"],\"width\":[0.8],\"x\":[\"Aug\"],\"y\":[84.5]}},\"id\":\"60b96400-abf0-4315-b74b-ac1d0e604959\",\"type\":\"ColumnDataSource\"},{\"attributes\":{\"callback\":null,\"column_names\":[\"line_color\",\"line_alpha\",\"color\",\"fill_alpha\",\"height\",\"width\",\"y\",\"x\",\"label\"],\"data\":{\"chart_index\":[{\"label\":\"Jul\"}],\"color\":[\"#f22c40\"],\"fill_alpha\":[0.8],\"height\":[11.0],\"label\":[\"Jul\"],\"line_alpha\":[1.0],\"line_color\":[\"white\"],\"width\":[0.8],\"x\":[\"Jul\"],\"y\":[5.5]}},\"id\":\"9dee213e-fc06-44d4-85d5-53c362e59236\",\"type\":\"ColumnDataSource\"},{\"attributes\":{\"data_source\":{\"id\":\"190dbd88-e5f9-4c1f-b44b-5ce608627fab\",\"type\":\"ColumnDataSource\"},\"glyph\":{\"id\":\"36abb97f-7993-4208-be90-fb8efdede65d\",\"type\":\"Rect\"},\"hover_glyph\":null,\"nonselection_glyph\":null,\"selection_glyph\":null},\"id\":\"2d50b114-35c3-4383-8206-6e056acf8d84\",\"type\":\"GlyphRenderer\"},{\"attributes\":{\"dimension\":1,\"plot\":{\"id\":\"a1cfa7a0-5a38-400a-ab30-db1d971986ed\",\"subtype\":\"Chart\",\"type\":\"Plot\"},\"ticker\":{\"id\":\"d0665d32-9769-49d8-accd-f0cc884c6336\",\"type\":\"BasicTicker\"}},\"id\":\"de3760e3-cd09-421c-9da5-563bf495b778\",\"type\":\"Grid\"},{\"attributes\":{\"below\":[{\"id\":\"6191bf1a-1c98-4fef-8021-265421078abb\",\"type\":\"CategoricalAxis\"}],\"left\":[{\"id\":\"73b857af-4f4d-4798-86ae-41c60dda870e\",\"type\":\"LinearAxis\"}],\"plot_height\":450,\"plot_width\":450,\"renderers\":[{\"id\":\"a7dfca71-cfb8-46cc-a6fb-26abd2bcc4dc\",\"type\":\"BoxAnnotation\"},{\"id\":\"fdfb6ce5-ef3f-4812-ab77-26ded15b537c\",\"type\":\"GlyphRenderer\"},{\"id\":\"09124647-e476-43ab-83a3-17c2ee815c74\",\"type\":\"GlyphRenderer\"},{\"id\":\"e843a36e-25c9-47ff-99d3-c711af3cb1d9\",\"type\":\"GlyphRenderer\"},{\"id\":\"f1a229b1-560d-4d17-8e7a-075829872ce7\",\"type\":\"GlyphRenderer\"},{\"id\":\"6ece388e-7bbc-49d7-a311-51437c909df0\",\"type\":\"GlyphRenderer\"},{\"id\":\"18de658d-b55b-493c-a370-7a7facc5b258\",\"type\":\"GlyphRenderer\"},{\"id\":\"de63f46d-36c3-45d7-8a84-7d43a083f3f7\",\"type\":\"GlyphRenderer\"},{\"id\":\"cc40e08b-e042-45d0-a552-c94b93b93571\",\"type\":\"GlyphRenderer\"},{\"id\":\"c047ebcf-c9dc-494f-ae07-2361c1c6b805\",\"type\":\"GlyphRenderer\"},{\"id\":\"686723e6-08be-4b00-b5fe-e0eb1bbbf3f9\",\"type\":\"GlyphRenderer\"},{\"id\":\"95a16fa2-2134-45de-8b11-a0d723d97492\",\"type\":\"GlyphRenderer\"},{\"id\":\"dc348a4d-d5a8-4503-9fb0-c77b0c21d5e0\",\"type\":\"GlyphRenderer\"},{\"id\":\"6191bf1a-1c98-4fef-8021-265421078abb\",\"type\":\"CategoricalAxis\"},{\"id\":\"73b857af-4f4d-4798-86ae-41c60dda870e\",\"type\":\"LinearAxis\"},{\"id\":\"9d0d61ab-fb40-4d2d-9b34-a2701410b602\",\"type\":\"Grid\"}],\"title\":{\"id\":\"85cae765-8d15-4f64-a419-b3195a0814cd\",\"type\":\"Title\"},\"tool_events\":{\"id\":\"c2fa33b2-0c6b-464c-a9f8-f72b51c8714f\",\"type\":\"ToolEvents\"},\"toolbar\":{\"id\":\"77cd3813-a1a6-45c9-a95b-0bbdb488a0c4\",\"type\":\"Toolbar\"},\"x_mapper_type\":\"auto\",\"x_range\":{\"id\":\"af858459-ebcf-4ff6-8c20-35f31e7c6703\",\"type\":\"FactorRange\"},\"y_mapper_type\":\"auto\",\"y_range\":{\"id\":\"9f0b4246-88bd-4eb1-9a4e-fcc5d51d138c\",\"type\":\"Range1d\"}},\"id\":\"f42e17ef-24a5-4f07-b5bd-f081d4def321\",\"subtype\":\"Chart\",\"type\":\"Plot\"},{\"attributes\":{\"callback\":null,\"end\":17.85},\"id\":\"0839f2d4-905b-4d33-9956-a4e5baa279f5\",\"type\":\"Range1d\"},{\"attributes\":{\"plot\":{\"id\":\"a1cfa7a0-5a38-400a-ab30-db1d971986ed\",\"subtype\":\"Chart\",\"type\":\"Plot\"}},\"id\":\"cfb0c50e-31de-4686-9da5-e222e2346b7c\",\"type\":\"WheelZoomTool\"},{\"attributes\":{\"callback\":null,\"column_names\":[\"line_color\",\"line_alpha\",\"color\",\"fill_alpha\",\"height\",\"width\",\"y\",\"x\",\"label\"],\"data\":{\"chart_index\":[{\"label\":\"Oct\"}],\"color\":[\"#f22c40\"],\"fill_alpha\":[0.8],\"height\":[12.0],\"label\":[\"Oct\"],\"line_alpha\":[1.0],\"line_color\":[\"white\"],\"width\":[0.8],\"x\":[\"Oct\"],\"y\":[6.0]}},\"id\":\"f7005852-5fb6-436c-b1af-96246f8c74e7\",\"type\":\"ColumnDataSource\"},{\"attributes\":{\"data_source\":{\"id\":\"cb5112b9-d603-4401-9b1a-6bd5f3d27652\",\"type\":\"ColumnDataSource\"},\"glyph\":{\"id\":\"d45da1bc-777c-4f08-80f0-b1a068b834a6\",\"type\":\"Rect\"},\"hover_glyph\":null,\"nonselection_glyph\":null,\"selection_glyph\":null},\"id\":\"a652a863-a93c-417c-8dcc-6a0d435a22e7\",\"type\":\"GlyphRenderer\"},{\"attributes\":{\"plot\":{\"id\":\"a1cfa7a0-5a38-400a-ab30-db1d971986ed\",\"subtype\":\"Chart\",\"type\":\"Plot\"}},\"id\":\"018eecae-6d38-4af3-aa1e-00eab9a16391\",\"type\":\"PanTool\"},{\"attributes\":{\"data_source\":{\"id\":\"3dd33fa2-a320-4696-9ff0-dc969870841b\",\"type\":\"ColumnDataSource\"},\"glyph\":{\"id\":\"12d9e0b0-19d0-424e-a975-3f0efbf976c5\",\"type\":\"Rect\"},\"hover_glyph\":null,\"nonselection_glyph\":null,\"selection_glyph\":null},\"id\":\"686723e6-08be-4b00-b5fe-e0eb1bbbf3f9\",\"type\":\"GlyphRenderer\"},{\"attributes\":{\"fill_alpha\":{\"field\":\"fill_alpha\"},\"fill_color\":{\"field\":\"color\"},\"height\":{\"field\":\"height\",\"units\":\"data\"},\"line_color\":{\"field\":\"line_color\"},\"width\":{\"field\":\"width\",\"units\":\"data\"},\"x\":{\"field\":\"x\"},\"y\":{\"field\":\"y\"}},\"id\":\"0b6f5eb1-2699-4ac9-a42f-63b59217c09d\",\"type\":\"Rect\"},{\"attributes\":{\"callback\":null,\"column_names\":[\"line_color\",\"line_alpha\",\"color\",\"fill_alpha\",\"height\",\"width\",\"y\",\"x\",\"label\"],\"data\":{\"chart_index\":[{\"label\":\"Nov\"}],\"color\":[\"#f22c40\"],\"fill_alpha\":[0.8],\"height\":[22.0],\"label\":[\"Nov\"],\"line_alpha\":[1.0],\"line_color\":[\"white\"],\"width\":[0.8],\"x\":[\"Nov\"],\"y\":[11.0]}},\"id\":\"b4660c4d-c964-41e4-b1e5-66e01fb67f5b\",\"type\":\"ColumnDataSource\"},{\"attributes\":{\"callback\":null,\"column_names\":[\"line_color\",\"line_alpha\",\"color\",\"fill_alpha\",\"height\",\"width\",\"y\",\"x\",\"label\"],\"data\":{\"chart_index\":[{\"label\":\"Mar\"}],\"color\":[\"#f22c40\"],\"fill_alpha\":[0.8],\"height\":[2.0],\"label\":[\"Mar\"],\"line_alpha\":[1.0],\"line_color\":[\"white\"],\"width\":[0.8],\"x\":[\"Mar\"],\"y\":[1.0]}},\"id\":\"6b414ad1-ac9f-404f-9a8f-f6d8b41f5a0a\",\"type\":\"ColumnDataSource\"},{\"attributes\":{\"callback\":null,\"column_names\":[\"line_color\",\"line_alpha\",\"color\",\"fill_alpha\",\"height\",\"width\",\"y\",\"x\",\"label\"],\"data\":{\"chart_index\":[{\"label\":\"May\"}],\"color\":[\"#f22c40\"],\"fill_alpha\":[0.8],\"height\":[2385.0],\"label\":[\"May\"],\"line_alpha\":[1.0],\"line_color\":[\"white\"],\"width\":[0.8],\"x\":[\"May\"],\"y\":[1192.5]}},\"id\":\"f7cd4290-783e-4e61-9e0a-654043222a50\",\"type\":\"ColumnDataSource\"},{\"attributes\":{\"callback\":null,\"factors\":[\"Jan\",\"Feb\",\"Mar\",\"Apr\",\"May\",\"Jun\",\"Jul\",\"Aug\",\"Sep\",\"Oct\",\"Nov\",\"Dec\"]},\"id\":\"af858459-ebcf-4ff6-8c20-35f31e7c6703\",\"type\":\"FactorRange\"},{\"attributes\":{\"active_drag\":\"auto\",\"active_scroll\":\"auto\",\"active_tap\":\"auto\",\"tools\":[{\"id\":\"018eecae-6d38-4af3-aa1e-00eab9a16391\",\"type\":\"PanTool\"},{\"id\":\"cfb0c50e-31de-4686-9da5-e222e2346b7c\",\"type\":\"WheelZoomTool\"},{\"id\":\"b9666b6c-cf17-4ae0-9979-9b4dc6ba724f\",\"type\":\"BoxZoomTool\"},{\"id\":\"fb59a56e-ec9a-47da-a28b-61a9da79d42c\",\"type\":\"SaveTool\"},{\"id\":\"6a0b12be-6bcf-430a-b092-1a7dec4ddde4\",\"type\":\"ResetTool\"},{\"id\":\"1b6ef4ea-5f08-46e5-baf8-91a3e3f85815\",\"type\":\"HelpTool\"}]},\"id\":\"ca43fdf3-15d8-4fca-b39b-9773b1473bf6\",\"type\":\"Toolbar\"},{\"attributes\":{\"callback\":null,\"column_names\":[\"line_color\",\"line_alpha\",\"color\",\"fill_alpha\",\"height\",\"width\",\"y\",\"x\",\"label\"],\"data\":{\"chart_index\":[{\"label\":\"Jan\"}],\"color\":[\"#f22c40\"],\"fill_alpha\":[0.8],\"height\":[17.0],\"label\":[\"Jan\"],\"line_alpha\":[1.0],\"line_color\":[\"white\"],\"width\":[0.8],\"x\":[\"Jan\"],\"y\":[8.5]}},\"id\":\"190dbd88-e5f9-4c1f-b44b-5ce608627fab\",\"type\":\"ColumnDataSource\"},{\"attributes\":{\"fill_alpha\":{\"field\":\"fill_alpha\"},\"fill_color\":{\"field\":\"color\"},\"height\":{\"field\":\"height\",\"units\":\"data\"},\"line_color\":{\"field\":\"line_color\"},\"width\":{\"field\":\"width\",\"units\":\"data\"},\"x\":{\"field\":\"x\"},\"y\":{\"field\":\"y\"}},\"id\":\"06904e02-ae46-4591-943b-eeb4290037e6\",\"type\":\"Rect\"},{\"attributes\":{},\"id\":\"bc4c7037-c7e3-49c3-9f33-e5d7b278063b\",\"type\":\"CategoricalTicker\"},{\"attributes\":{\"fill_alpha\":{\"field\":\"fill_alpha\"},\"fill_color\":{\"field\":\"color\"},\"height\":{\"field\":\"height\",\"units\":\"data\"},\"line_color\":{\"field\":\"line_color\"},\"width\":{\"field\":\"width\",\"units\":\"data\"},\"x\":{\"field\":\"x\"},\"y\":{\"field\":\"y\"}},\"id\":\"03cc2f9e-3254-4e06-be93-8e15558454d2\",\"type\":\"Rect\"},{\"attributes\":{\"callback\":null,\"end\":6034.35},\"id\":\"9f0b4246-88bd-4eb1-9a4e-fcc5d51d138c\",\"type\":\"Range1d\"},{\"attributes\":{\"fill_alpha\":{\"field\":\"fill_alpha\"},\"fill_color\":{\"field\":\"color\"},\"height\":{\"field\":\"height\",\"units\":\"data\"},\"line_color\":{\"field\":\"line_color\"},\"width\":{\"field\":\"width\",\"units\":\"data\"},\"x\":{\"field\":\"x\"},\"y\":{\"field\":\"y\"}},\"id\":\"12d9e0b0-19d0-424e-a975-3f0efbf976c5\",\"type\":\"Rect\"},{\"attributes\":{\"axis_label\":\"\",\"formatter\":{\"id\":\"2626cbb3-4775-4207-af10-09603a3b22bb\",\"type\":\"CategoricalTickFormatter\"},\"major_label_orientation\":0.7853981633974483,\"plot\":{\"id\":\"a1cfa7a0-5a38-400a-ab30-db1d971986ed\",\"subtype\":\"Chart\",\"type\":\"Plot\"},\"ticker\":{\"id\":\"bc4c7037-c7e3-49c3-9f33-e5d7b278063b\",\"type\":\"CategoricalTicker\"}},\"id\":\"40d7cb73-9de2-4e8b-beeb-d34c0d4d9dfb\",\"type\":\"CategoricalAxis\"},{\"attributes\":{\"plot\":{\"id\":\"a1cfa7a0-5a38-400a-ab30-db1d971986ed\",\"subtype\":\"Chart\",\"type\":\"Plot\"}},\"id\":\"1b6ef4ea-5f08-46e5-baf8-91a3e3f85815\",\"type\":\"HelpTool\"},{\"attributes\":{\"fill_alpha\":{\"field\":\"fill_alpha\"},\"fill_color\":{\"field\":\"color\"},\"height\":{\"field\":\"height\",\"units\":\"data\"},\"line_color\":{\"field\":\"line_color\"},\"width\":{\"field\":\"width\",\"units\":\"data\"},\"x\":{\"field\":\"x\"},\"y\":{\"field\":\"y\"}},\"id\":\"4c4412de-87dd-45f8-b4ad-dee8da9f62bb\",\"type\":\"Rect\"},{\"attributes\":{},\"id\":\"6b2592a3-936d-431a-b571-1c562fc4286d\",\"type\":\"ToolEvents\"},{\"attributes\":{\"data_source\":{\"id\":\"a933743a-63d5-411e-9452-fa9fff36ae34\",\"type\":\"ColumnDataSource\"},\"glyph\":{\"id\":\"f3a69110-bc16-4acb-8c78-f4eea4ffd123\",\"type\":\"Rect\"},\"hover_glyph\":null,\"nonselection_glyph\":null,\"selection_glyph\":null},\"id\":\"c047ebcf-c9dc-494f-ae07-2361c1c6b805\",\"type\":\"GlyphRenderer\"},{\"attributes\":{\"data_source\":{\"id\":\"9dee213e-fc06-44d4-85d5-53c362e59236\",\"type\":\"ColumnDataSource\"},\"glyph\":{\"id\":\"06904e02-ae46-4591-943b-eeb4290037e6\",\"type\":\"Rect\"},\"hover_glyph\":null,\"nonselection_glyph\":null,\"selection_glyph\":null},\"id\":\"c2ccd0a5-2269-447b-876b-908ce031fe8e\",\"type\":\"GlyphRenderer\"},{\"attributes\":{\"fill_alpha\":{\"field\":\"fill_alpha\"},\"fill_color\":{\"field\":\"color\"},\"height\":{\"field\":\"height\",\"units\":\"data\"},\"line_color\":{\"field\":\"line_color\"},\"width\":{\"field\":\"width\",\"units\":\"data\"},\"x\":{\"field\":\"x\"},\"y\":{\"field\":\"y\"}},\"id\":\"aef4ce66-d3bd-42ab-b750-7b8476828d43\",\"type\":\"Rect\"},{\"attributes\":{\"data_source\":{\"id\":\"09821772-ad2b-436e-aab3-a05c4b8f6fd7\",\"type\":\"ColumnDataSource\"},\"glyph\":{\"id\":\"daf5402a-db00-4ce6-8317-74f69e364e90\",\"type\":\"Rect\"},\"hover_glyph\":null,\"nonselection_glyph\":null,\"selection_glyph\":null},\"id\":\"de63f46d-36c3-45d7-8a84-7d43a083f3f7\",\"type\":\"GlyphRenderer\"},{\"attributes\":{\"callback\":null,\"column_names\":[\"line_color\",\"line_alpha\",\"color\",\"fill_alpha\",\"height\",\"width\",\"y\",\"x\",\"label\"],\"data\":{\"chart_index\":[{\"label\":\"Jan\"}],\"color\":[\"#f22c40\"],\"fill_alpha\":[0.8],\"height\":[5747.0],\"label\":[\"Jan\"],\"line_alpha\":[1.0],\"line_color\":[\"white\"],\"width\":[0.8],\"x\":[\"Jan\"],\"y\":[2873.5]}},\"id\":\"8155dd39-b515-4a11-bd2b-44c62a97f229\",\"type\":\"ColumnDataSource\"},{\"attributes\":{\"data_source\":{\"id\":\"aa9819e9-0b2d-4782-98b2-3a91a8625c64\",\"type\":\"ColumnDataSource\"},\"glyph\":{\"id\":\"4f146abd-0d6c-4b27-bb56-3c85f815a072\",\"type\":\"Rect\"},\"hover_glyph\":null,\"nonselection_glyph\":null,\"selection_glyph\":null},\"id\":\"e5ebe8bb-dd33-4ad0-a62f-1c2159a0140d\",\"type\":\"GlyphRenderer\"},{\"attributes\":{\"data_source\":{\"id\":\"10956564-0429-48b6-b39a-24a6eef7830d\",\"type\":\"ColumnDataSource\"},\"glyph\":{\"id\":\"ba24550b-4d95-4264-a0fa-30f77ecfad9e\",\"type\":\"Rect\"},\"hover_glyph\":null,\"nonselection_glyph\":null,\"selection_glyph\":null},\"id\":\"50a4fcd9-4213-4e97-bbf3-f742416a797e\",\"type\":\"GlyphRenderer\"},{\"attributes\":{\"callback\":null,\"column_names\":[\"line_color\",\"line_alpha\",\"color\",\"fill_alpha\",\"height\",\"width\",\"y\",\"x\",\"label\"],\"data\":{\"chart_index\":[{\"label\":\"Aug\"}],\"color\":[\"#f22c40\"],\"fill_alpha\":[0.8],\"height\":[10.0],\"label\":[\"Aug\"],\"line_alpha\":[1.0],\"line_color\":[\"white\"],\"width\":[0.8],\"x\":[\"Aug\"],\"y\":[5.0]}},\"id\":\"aa9819e9-0b2d-4782-98b2-3a91a8625c64\",\"type\":\"ColumnDataSource\"},{\"attributes\":{\"callback\":null,\"column_names\":[\"line_color\",\"line_alpha\",\"color\",\"fill_alpha\",\"height\",\"width\",\"y\",\"x\",\"label\"],\"data\":{\"chart_index\":[{\"label\":\"Nov\"}],\"color\":[\"#f22c40\"],\"fill_alpha\":[0.8],\"height\":[1.0],\"label\":[\"Nov\"],\"line_alpha\":[1.0],\"line_color\":[\"white\"],\"width\":[0.8],\"x\":[\"Nov\"],\"y\":[0.5]}},\"id\":\"e4a86d98-ad08-4bff-87cb-6a7b561db43d\",\"type\":\"ColumnDataSource\"},{\"attributes\":{},\"id\":\"da24ad4f-5da6-4344-8105-896bf75fabfa\",\"type\":\"CategoricalTickFormatter\"},{\"attributes\":{\"data_source\":{\"id\":\"871627bc-ddc2-4140-9e11-8a909469a466\",\"type\":\"ColumnDataSource\"},\"glyph\":{\"id\":\"18813ad7-3dcd-4fc9-ab59-89570b1fde34\",\"type\":\"Rect\"},\"hover_glyph\":null,\"nonselection_glyph\":null,\"selection_glyph\":null},\"id\":\"70a95a74-abd0-4dd6-81d7-2e969ab4baac\",\"type\":\"GlyphRenderer\"},{\"attributes\":{\"fill_alpha\":{\"field\":\"fill_alpha\"},\"fill_color\":{\"field\":\"color\"},\"height\":{\"field\":\"height\",\"units\":\"data\"},\"line_color\":{\"field\":\"line_color\"},\"width\":{\"field\":\"width\",\"units\":\"data\"},\"x\":{\"field\":\"x\"},\"y\":{\"field\":\"y\"}},\"id\":\"2e3a5726-2bfc-496e-859f-42680d4bc99f\",\"type\":\"Rect\"},{\"attributes\":{\"callback\":null,\"column_names\":[\"line_color\",\"line_alpha\",\"color\",\"fill_alpha\",\"height\",\"width\",\"y\",\"x\",\"label\"],\"data\":{\"chart_index\":[{\"label\":\"Jul\"}],\"color\":[\"#f22c40\"],\"fill_alpha\":[0.8],\"height\":[339.0],\"label\":[\"Jul\"],\"line_alpha\":[1.0],\"line_color\":[\"white\"],\"width\":[0.8],\"x\":[\"Jul\"],\"y\":[169.5]}},\"id\":\"09821772-ad2b-436e-aab3-a05c4b8f6fd7\",\"type\":\"ColumnDataSource\"},{\"attributes\":{\"data_source\":{\"id\":\"00a0f692-d1b1-4d32-9ff2-17e75e9a9aa7\",\"type\":\"ColumnDataSource\"},\"glyph\":{\"id\":\"dd0cd75e-741b-43de-af33-81026f5e82f6\",\"type\":\"Rect\"},\"hover_glyph\":null,\"nonselection_glyph\":null,\"selection_glyph\":null},\"id\":\"478b7288-bd00-47ce-83e9-ed93f011ddc0\",\"type\":\"GlyphRenderer\"},{\"attributes\":{\"fill_alpha\":{\"field\":\"fill_alpha\"},\"fill_color\":{\"field\":\"color\"},\"height\":{\"field\":\"height\",\"units\":\"data\"},\"line_color\":{\"field\":\"line_color\"},\"width\":{\"field\":\"width\",\"units\":\"data\"},\"x\":{\"field\":\"x\"},\"y\":{\"field\":\"y\"}},\"id\":\"6e825772-26f3-4768-8f71-8fccfeb72be6\",\"type\":\"Rect\"},{\"attributes\":{\"plot\":{\"id\":\"f42e17ef-24a5-4f07-b5bd-f081d4def321\",\"subtype\":\"Chart\",\"type\":\"Plot\"}},\"id\":\"9e107754-68cb-456c-a9a3-14413759f689\",\"type\":\"ResetTool\"},{\"attributes\":{\"fill_alpha\":{\"field\":\"fill_alpha\"},\"fill_color\":{\"field\":\"color\"},\"height\":{\"field\":\"height\",\"units\":\"data\"},\"line_color\":{\"field\":\"line_color\"},\"width\":{\"field\":\"width\",\"units\":\"data\"},\"x\":{\"field\":\"x\"},\"y\":{\"field\":\"y\"}},\"id\":\"e12165a0-54f5-4f19-b125-8958eb60d8f9\",\"type\":\"Rect\"},{\"attributes\":{\"data_source\":{\"id\":\"e4a86d98-ad08-4bff-87cb-6a7b561db43d\",\"type\":\"ColumnDataSource\"},\"glyph\":{\"id\":\"7554736f-5dcf-450d-afea-5ac08866bfa3\",\"type\":\"Rect\"},\"hover_glyph\":null,\"nonselection_glyph\":null,\"selection_glyph\":null},\"id\":\"417f5d06-fcbc-4237-83e4-dce7dcd3f85a\",\"type\":\"GlyphRenderer\"},{\"attributes\":{\"callback\":null,\"column_names\":[\"line_color\",\"line_alpha\",\"color\",\"fill_alpha\",\"height\",\"width\",\"y\",\"x\",\"label\"],\"data\":{\"chart_index\":[{\"label\":\"Apr\"}],\"color\":[\"#f22c40\"],\"fill_alpha\":[0.8],\"height\":[9.0],\"label\":[\"Apr\"],\"line_alpha\":[1.0],\"line_color\":[\"white\"],\"width\":[0.8],\"x\":[\"Apr\"],\"y\":[4.5]}},\"id\":\"00a0f692-d1b1-4d32-9ff2-17e75e9a9aa7\",\"type\":\"ColumnDataSource\"},{\"attributes\":{\"fill_alpha\":{\"field\":\"fill_alpha\"},\"fill_color\":{\"field\":\"color\"},\"height\":{\"field\":\"height\",\"units\":\"data\"},\"line_color\":{\"field\":\"line_color\"},\"width\":{\"field\":\"width\",\"units\":\"data\"},\"x\":{\"field\":\"x\"},\"y\":{\"field\":\"y\"}},\"id\":\"d45da1bc-777c-4f08-80f0-b1a068b834a6\",\"type\":\"Rect\"},{\"attributes\":{\"data_source\":{\"id\":\"9e86b6c2-5fdd-43bd-a224-b8ab685a80c8\",\"type\":\"ColumnDataSource\"},\"glyph\":{\"id\":\"2e3a5726-2bfc-496e-859f-42680d4bc99f\",\"type\":\"Rect\"},\"hover_glyph\":null,\"nonselection_glyph\":null,\"selection_glyph\":null},\"id\":\"5be5a7d7-1ee7-4601-9d2d-16150bd25354\",\"type\":\"GlyphRenderer\"},{\"attributes\":{\"data_source\":{\"id\":\"b3911936-8a3d-4735-af3b-c76fbe3fad0f\",\"type\":\"ColumnDataSource\"},\"glyph\":{\"id\":\"0324d4f3-7cb4-4fc0-af8e-fb3772dfa9d7\",\"type\":\"Rect\"},\"hover_glyph\":null,\"nonselection_glyph\":null,\"selection_glyph\":null},\"id\":\"bf03aa72-e1b1-4d2a-b987-29c61a8c690a\",\"type\":\"GlyphRenderer\"},{\"attributes\":{\"data_source\":{\"id\":\"b3e68130-a5be-4896-9351-1bcedef93ebd\",\"type\":\"ColumnDataSource\"},\"glyph\":{\"id\":\"fa236cef-8e5a-457c-a5a8-5b1b7a864908\",\"type\":\"Rect\"},\"hover_glyph\":null,\"nonselection_glyph\":null,\"selection_glyph\":null},\"id\":\"09124647-e476-43ab-83a3-17c2ee815c74\",\"type\":\"GlyphRenderer\"},{\"attributes\":{},\"id\":\"2626cbb3-4775-4207-af10-09603a3b22bb\",\"type\":\"CategoricalTickFormatter\"},{\"attributes\":{\"plot\":{\"id\":\"f42e17ef-24a5-4f07-b5bd-f081d4def321\",\"subtype\":\"Chart\",\"type\":\"Plot\"}},\"id\":\"40df2b0e-ae58-4c75-857f-4ef3c24fa68c\",\"type\":\"HelpTool\"},{\"attributes\":{\"fill_alpha\":{\"field\":\"fill_alpha\"},\"fill_color\":{\"field\":\"color\"},\"height\":{\"field\":\"height\",\"units\":\"data\"},\"line_color\":{\"field\":\"line_color\"},\"width\":{\"field\":\"width\",\"units\":\"data\"},\"x\":{\"field\":\"x\"},\"y\":{\"field\":\"y\"}},\"id\":\"d323499f-ddf0-4156-882d-bde533031885\",\"type\":\"Rect\"},{\"attributes\":{\"fill_alpha\":{\"field\":\"fill_alpha\"},\"fill_color\":{\"field\":\"color\"},\"height\":{\"field\":\"height\",\"units\":\"data\"},\"line_color\":{\"field\":\"line_color\"},\"width\":{\"field\":\"width\",\"units\":\"data\"},\"x\":{\"field\":\"x\"},\"y\":{\"field\":\"y\"}},\"id\":\"daf5402a-db00-4ce6-8317-74f69e364e90\",\"type\":\"Rect\"},{\"attributes\":{},\"id\":\"9b674af5-cac6-4268-a295-bb091df71a6f\",\"type\":\"BasicTickFormatter\"},{\"attributes\":{\"data_source\":{\"id\":\"f7cd4290-783e-4e61-9e0a-654043222a50\",\"type\":\"ColumnDataSource\"},\"glyph\":{\"id\":\"d323499f-ddf0-4156-882d-bde533031885\",\"type\":\"Rect\"},\"hover_glyph\":null,\"nonselection_glyph\":null,\"selection_glyph\":null},\"id\":\"6ece388e-7bbc-49d7-a311-51437c909df0\",\"type\":\"GlyphRenderer\"},{\"attributes\":{\"plot\":{\"id\":\"a1cfa7a0-5a38-400a-ab30-db1d971986ed\",\"subtype\":\"Chart\",\"type\":\"Plot\"}},\"id\":\"fb59a56e-ec9a-47da-a28b-61a9da79d42c\",\"type\":\"SaveTool\"},{\"attributes\":{\"data_source\":{\"id\":\"60b96400-abf0-4315-b74b-ac1d0e604959\",\"type\":\"ColumnDataSource\"},\"glyph\":{\"id\":\"76b7392a-1492-4a6c-9a3b-e8a76412a628\",\"type\":\"Rect\"},\"hover_glyph\":null,\"nonselection_glyph\":null,\"selection_glyph\":null},\"id\":\"cc40e08b-e042-45d0-a552-c94b93b93571\",\"type\":\"GlyphRenderer\"},{\"attributes\":{\"fill_alpha\":{\"field\":\"fill_alpha\"},\"fill_color\":{\"field\":\"color\"},\"height\":{\"field\":\"height\",\"units\":\"data\"},\"line_color\":{\"field\":\"line_color\"},\"width\":{\"field\":\"width\",\"units\":\"data\"},\"x\":{\"field\":\"x\"},\"y\":{\"field\":\"y\"}},\"id\":\"fa236cef-8e5a-457c-a5a8-5b1b7a864908\",\"type\":\"Rect\"},{\"attributes\":{},\"id\":\"d2991e7d-fa08-4b11-b2f2-6f4691cf94d8\",\"type\":\"BasicTickFormatter\"},{\"attributes\":{\"plot\":null,\"text\":\"Posts count\"},\"id\":\"d83139c6-d6e3-4ab7-8785-2e2c35cc726e\",\"type\":\"Title\"},{\"attributes\":{\"data_source\":{\"id\":\"b4660c4d-c964-41e4-b1e5-66e01fb67f5b\",\"type\":\"ColumnDataSource\"},\"glyph\":{\"id\":\"51d2671d-52ba-46b1-9437-8f94e364851e\",\"type\":\"Rect\"},\"hover_glyph\":null,\"nonselection_glyph\":null,\"selection_glyph\":null},\"id\":\"95a16fa2-2134-45de-8b11-a0d723d97492\",\"type\":\"GlyphRenderer\"},{\"attributes\":{\"fill_alpha\":{\"field\":\"fill_alpha\"},\"fill_color\":{\"field\":\"color\"},\"height\":{\"field\":\"height\",\"units\":\"data\"},\"line_color\":{\"field\":\"line_color\"},\"width\":{\"field\":\"width\",\"units\":\"data\"},\"x\":{\"field\":\"x\"},\"y\":{\"field\":\"y\"}},\"id\":\"4f146abd-0d6c-4b27-bb56-3c85f815a072\",\"type\":\"Rect\"},{\"attributes\":{\"callback\":null,\"column_names\":[\"line_color\",\"line_alpha\",\"color\",\"fill_alpha\",\"height\",\"width\",\"y\",\"x\",\"label\"],\"data\":{\"chart_index\":[{\"label\":\"Apr\"}],\"color\":[\"#f22c40\"],\"fill_alpha\":[0.8],\"height\":[609.0],\"label\":[\"Apr\"],\"line_alpha\":[1.0],\"line_color\":[\"white\"],\"width\":[0.8],\"x\":[\"Apr\"],\"y\":[304.5]}},\"id\":\"921cc042-d228-415a-bf88-f53f42a46ec9\",\"type\":\"ColumnDataSource\"},{\"attributes\":{\"axis_label\":\"comments\",\"formatter\":{\"id\":\"d2991e7d-fa08-4b11-b2f2-6f4691cf94d8\",\"type\":\"BasicTickFormatter\"},\"plot\":{\"id\":\"f42e17ef-24a5-4f07-b5bd-f081d4def321\",\"subtype\":\"Chart\",\"type\":\"Plot\"},\"ticker\":{\"id\":\"1c386b10-ab94-458d-9740-b70d302fd181\",\"type\":\"BasicTicker\"}},\"id\":\"73b857af-4f4d-4798-86ae-41c60dda870e\",\"type\":\"LinearAxis\"},{\"attributes\":{\"active_drag\":\"auto\",\"active_scroll\":\"auto\",\"active_tap\":\"auto\",\"tools\":[{\"id\":\"327afc08-4bbf-4f4b-9db8-429ffde4e325\",\"type\":\"PanTool\"},{\"id\":\"575799ae-e18f-4525-ba37-437f27dd078a\",\"type\":\"WheelZoomTool\"},{\"id\":\"996b4b07-2d68-4155-973f-8be9c22fd091\",\"type\":\"BoxZoomTool\"},{\"id\":\"167ab1ea-2864-466d-91c3-bdfeb21153e4\",\"type\":\"SaveTool\"},{\"id\":\"9e107754-68cb-456c-a9a3-14413759f689\",\"type\":\"ResetTool\"},{\"id\":\"40df2b0e-ae58-4c75-857f-4ef3c24fa68c\",\"type\":\"HelpTool\"}]},\"id\":\"77cd3813-a1a6-45c9-a95b-0bbdb488a0c4\",\"type\":\"Toolbar\"},{\"attributes\":{\"plot\":{\"id\":\"f42e17ef-24a5-4f07-b5bd-f081d4def321\",\"subtype\":\"Chart\",\"type\":\"Plot\"}},\"id\":\"167ab1ea-2864-466d-91c3-bdfeb21153e4\",\"type\":\"SaveTool\"},{\"attributes\":{\"plot\":{\"id\":\"f42e17ef-24a5-4f07-b5bd-f081d4def321\",\"subtype\":\"Chart\",\"type\":\"Plot\"}},\"id\":\"575799ae-e18f-4525-ba37-437f27dd078a\",\"type\":\"WheelZoomTool\"},{\"attributes\":{\"data_source\":{\"id\":\"0bfab584-d461-4a0b-8dd3-cb39c4997f43\",\"type\":\"ColumnDataSource\"},\"glyph\":{\"id\":\"e12165a0-54f5-4f19-b125-8958eb60d8f9\",\"type\":\"Rect\"},\"hover_glyph\":null,\"nonselection_glyph\":null,\"selection_glyph\":null},\"id\":\"18de658d-b55b-493c-a370-7a7facc5b258\",\"type\":\"GlyphRenderer\"},{\"attributes\":{\"callback\":null,\"column_names\":[\"line_color\",\"line_alpha\",\"color\",\"fill_alpha\",\"height\",\"width\",\"y\",\"x\",\"label\"],\"data\":{\"chart_index\":[{\"label\":\"Feb\"}],\"color\":[\"#f22c40\"],\"fill_alpha\":[0.8],\"height\":[8.0],\"label\":[\"Feb\"],\"line_alpha\":[1.0],\"line_color\":[\"white\"],\"width\":[0.8],\"x\":[\"Feb\"],\"y\":[4.0]}},\"id\":\"b3911936-8a3d-4735-af3b-c76fbe3fad0f\",\"type\":\"ColumnDataSource\"},{\"attributes\":{\"bottom_units\":\"screen\",\"fill_alpha\":{\"value\":0.5},\"fill_color\":{\"value\":\"lightgrey\"},\"left_units\":\"screen\",\"level\":\"overlay\",\"line_alpha\":{\"value\":1.0},\"line_color\":{\"value\":\"black\"},\"line_dash\":[4,4],\"line_width\":{\"value\":2},\"plot\":null,\"render_mode\":\"css\",\"right_units\":\"screen\",\"top_units\":\"screen\"},\"id\":\"cc48827d-8f12-4fd0-83ce-6ccad31fb749\",\"type\":\"BoxAnnotation\"},{\"attributes\":{\"plot\":null,\"text\":\"Comments count\"},\"id\":\"85cae765-8d15-4f64-a419-b3195a0814cd\",\"type\":\"Title\"},{\"attributes\":{\"dimension\":1,\"plot\":{\"id\":\"f42e17ef-24a5-4f07-b5bd-f081d4def321\",\"subtype\":\"Chart\",\"type\":\"Plot\"},\"ticker\":{\"id\":\"1c386b10-ab94-458d-9740-b70d302fd181\",\"type\":\"BasicTicker\"}},\"id\":\"9d0d61ab-fb40-4d2d-9b34-a2701410b602\",\"type\":\"Grid\"},{\"attributes\":{\"fill_alpha\":{\"field\":\"fill_alpha\"},\"fill_color\":{\"field\":\"color\"},\"height\":{\"field\":\"height\",\"units\":\"data\"},\"line_color\":{\"field\":\"line_color\"},\"width\":{\"field\":\"width\",\"units\":\"data\"},\"x\":{\"field\":\"x\"},\"y\":{\"field\":\"y\"}},\"id\":\"76b7392a-1492-4a6c-9a3b-e8a76412a628\",\"type\":\"Rect\"},{\"attributes\":{\"below\":[{\"id\":\"40d7cb73-9de2-4e8b-beeb-d34c0d4d9dfb\",\"type\":\"CategoricalAxis\"}],\"left\":[{\"id\":\"b444468d-92f7-4024-ae87-b78488f8e9ac\",\"type\":\"LinearAxis\"}],\"plot_height\":450,\"plot_width\":450,\"renderers\":[{\"id\":\"cc48827d-8f12-4fd0-83ce-6ccad31fb749\",\"type\":\"BoxAnnotation\"},{\"id\":\"2d50b114-35c3-4383-8206-6e056acf8d84\",\"type\":\"GlyphRenderer\"},{\"id\":\"bf03aa72-e1b1-4d2a-b987-29c61a8c690a\",\"type\":\"GlyphRenderer\"},{\"id\":\"50a4fcd9-4213-4e97-bbf3-f742416a797e\",\"type\":\"GlyphRenderer\"},{\"id\":\"478b7288-bd00-47ce-83e9-ed93f011ddc0\",\"type\":\"GlyphRenderer\"},{\"id\":\"abff7956-4c92-42ee-bb2d-49bae5db06eb\",\"type\":\"GlyphRenderer\"},{\"id\":\"70a95a74-abd0-4dd6-81d7-2e969ab4baac\",\"type\":\"GlyphRenderer\"},{\"id\":\"c2ccd0a5-2269-447b-876b-908ce031fe8e\",\"type\":\"GlyphRenderer\"},{\"id\":\"e5ebe8bb-dd33-4ad0-a62f-1c2159a0140d\",\"type\":\"GlyphRenderer\"},{\"id\":\"a652a863-a93c-417c-8dcc-6a0d435a22e7\",\"type\":\"GlyphRenderer\"},{\"id\":\"2760e8e5-d807-42f1-bff8-3856e283639e\",\"type\":\"GlyphRenderer\"},{\"id\":\"417f5d06-fcbc-4237-83e4-dce7dcd3f85a\",\"type\":\"GlyphRenderer\"},{\"id\":\"5be5a7d7-1ee7-4601-9d2d-16150bd25354\",\"type\":\"GlyphRenderer\"},{\"id\":\"40d7cb73-9de2-4e8b-beeb-d34c0d4d9dfb\",\"type\":\"CategoricalAxis\"},{\"id\":\"b444468d-92f7-4024-ae87-b78488f8e9ac\",\"type\":\"LinearAxis\"},{\"id\":\"de3760e3-cd09-421c-9da5-563bf495b778\",\"type\":\"Grid\"}],\"title\":{\"id\":\"d83139c6-d6e3-4ab7-8785-2e2c35cc726e\",\"type\":\"Title\"},\"tool_events\":{\"id\":\"6b2592a3-936d-431a-b571-1c562fc4286d\",\"type\":\"ToolEvents\"},\"toolbar\":{\"id\":\"ca43fdf3-15d8-4fca-b39b-9773b1473bf6\",\"type\":\"Toolbar\"},\"x_mapper_type\":\"auto\",\"x_range\":{\"id\":\"8e86907e-5ea8-4377-bb11-e730564ffe40\",\"type\":\"FactorRange\"},\"y_mapper_type\":\"auto\",\"y_range\":{\"id\":\"0839f2d4-905b-4d33-9956-a4e5baa279f5\",\"type\":\"Range1d\"}},\"id\":\"a1cfa7a0-5a38-400a-ab30-db1d971986ed\",\"subtype\":\"Chart\",\"type\":\"Plot\"},{\"attributes\":{\"children\":[{\"id\":\"f42e17ef-24a5-4f07-b5bd-f081d4def321\",\"subtype\":\"Chart\",\"type\":\"Plot\"},{\"id\":\"a1cfa7a0-5a38-400a-ab30-db1d971986ed\",\"subtype\":\"Chart\",\"type\":\"Plot\"}]},\"id\":\"683e0f51-f2bc-42d0-b2f3-b221e563e8ba\",\"type\":\"Row\"},{\"attributes\":{\"bottom_units\":\"screen\",\"fill_alpha\":{\"value\":0.5},\"fill_color\":{\"value\":\"lightgrey\"},\"left_units\":\"screen\",\"level\":\"overlay\",\"line_alpha\":{\"value\":1.0},\"line_color\":{\"value\":\"black\"},\"line_dash\":[4,4],\"line_width\":{\"value\":2},\"plot\":null,\"render_mode\":\"css\",\"right_units\":\"screen\",\"top_units\":\"screen\"},\"id\":\"a7dfca71-cfb8-46cc-a6fb-26abd2bcc4dc\",\"type\":\"BoxAnnotation\"},{\"attributes\":{\"axis_label\":\"posts\",\"formatter\":{\"id\":\"9b674af5-cac6-4268-a295-bb091df71a6f\",\"type\":\"BasicTickFormatter\"},\"plot\":{\"id\":\"a1cfa7a0-5a38-400a-ab30-db1d971986ed\",\"subtype\":\"Chart\",\"type\":\"Plot\"},\"ticker\":{\"id\":\"d0665d32-9769-49d8-accd-f0cc884c6336\",\"type\":\"BasicTicker\"}},\"id\":\"b444468d-92f7-4024-ae87-b78488f8e9ac\",\"type\":\"LinearAxis\"},{\"attributes\":{\"callback\":null,\"column_names\":[\"line_color\",\"line_alpha\",\"color\",\"fill_alpha\",\"height\",\"width\",\"y\",\"x\",\"label\"],\"data\":{\"chart_index\":[{\"label\":\"Feb\"}],\"color\":[\"#f22c40\"],\"fill_alpha\":[0.8],\"height\":[1237.0],\"label\":[\"Feb\"],\"line_alpha\":[1.0],\"line_color\":[\"white\"],\"width\":[0.8],\"x\":[\"Feb\"],\"y\":[618.5]}},\"id\":\"b3e68130-a5be-4896-9351-1bcedef93ebd\",\"type\":\"ColumnDataSource\"},{\"attributes\":{\"callback\":null,\"column_names\":[\"line_color\",\"line_alpha\",\"color\",\"fill_alpha\",\"height\",\"width\",\"y\",\"x\",\"label\"],\"data\":{\"chart_index\":[{\"label\":\"Sep\"}],\"color\":[\"#f22c40\"],\"fill_alpha\":[0.8],\"height\":[464.0],\"label\":[\"Sep\"],\"line_alpha\":[1.0],\"line_color\":[\"white\"],\"width\":[0.8],\"x\":[\"Sep\"],\"y\":[232.0]}},\"id\":\"a933743a-63d5-411e-9452-fa9fff36ae34\",\"type\":\"ColumnDataSource\"},{\"attributes\":{\"callback\":null,\"column_names\":[\"line_color\",\"line_alpha\",\"color\",\"fill_alpha\",\"height\",\"width\",\"y\",\"x\",\"label\"],\"data\":{\"chart_index\":[{\"label\":\"May\"}],\"color\":[\"#f22c40\"],\"fill_alpha\":[0.8],\"height\":[10.0],\"label\":[\"May\"],\"line_alpha\":[1.0],\"line_color\":[\"white\"],\"width\":[0.8],\"x\":[\"May\"],\"y\":[5.0]}},\"id\":\"62dd9812-eade-4f5d-87a8-5a00531f4c32\",\"type\":\"ColumnDataSource\"},{\"attributes\":{\"axis_label\":\"\",\"formatter\":{\"id\":\"da24ad4f-5da6-4344-8105-896bf75fabfa\",\"type\":\"CategoricalTickFormatter\"},\"major_label_orientation\":0.7853981633974483,\"plot\":{\"id\":\"f42e17ef-24a5-4f07-b5bd-f081d4def321\",\"subtype\":\"Chart\",\"type\":\"Plot\"},\"ticker\":{\"id\":\"546fea3b-8808-446a-9cfd-57498f172e10\",\"type\":\"CategoricalTicker\"}},\"id\":\"6191bf1a-1c98-4fef-8021-265421078abb\",\"type\":\"CategoricalAxis\"},{\"attributes\":{\"callback\":null,\"column_names\":[\"line_color\",\"line_alpha\",\"color\",\"fill_alpha\",\"height\",\"width\",\"y\",\"x\",\"label\"],\"data\":{\"chart_index\":[{\"label\":\"Sep\"}],\"color\":[\"#f22c40\"],\"fill_alpha\":[0.8],\"height\":[8.0],\"label\":[\"Sep\"],\"line_alpha\":[1.0],\"line_color\":[\"white\"],\"width\":[0.8],\"x\":[\"Sep\"],\"y\":[4.0]}},\"id\":\"cb5112b9-d603-4401-9b1a-6bd5f3d27652\",\"type\":\"ColumnDataSource\"},{\"attributes\":{\"callback\":null,\"column_names\":[\"line_color\",\"line_alpha\",\"color\",\"fill_alpha\",\"height\",\"width\",\"y\",\"x\",\"label\"],\"data\":{\"chart_index\":[{\"label\":\"Oct\"}],\"color\":[\"#f22c40\"],\"fill_alpha\":[0.8],\"height\":[1535.0],\"label\":[\"Oct\"],\"line_alpha\":[1.0],\"line_color\":[\"white\"],\"width\":[0.8],\"x\":[\"Oct\"],\"y\":[767.5]}},\"id\":\"3dd33fa2-a320-4696-9ff0-dc969870841b\",\"type\":\"ColumnDataSource\"},{\"attributes\":{\"fill_alpha\":{\"field\":\"fill_alpha\"},\"fill_color\":{\"field\":\"color\"},\"height\":{\"field\":\"height\",\"units\":\"data\"},\"line_color\":{\"field\":\"line_color\"},\"width\":{\"field\":\"width\",\"units\":\"data\"},\"x\":{\"field\":\"x\"},\"y\":{\"field\":\"y\"}},\"id\":\"21af9bb9-a8f3-4d6c-a83f-5062bb4edc5f\",\"type\":\"Rect\"},{\"attributes\":{\"callback\":null,\"column_names\":[\"line_color\",\"line_alpha\",\"color\",\"fill_alpha\",\"height\",\"width\",\"y\",\"x\",\"label\"],\"data\":{\"chart_index\":[{\"label\":\"Dec\"}],\"color\":[\"#f22c40\"],\"fill_alpha\":[0.8],\"height\":[5.0],\"label\":[\"Dec\"],\"line_alpha\":[1.0],\"line_color\":[\"white\"],\"width\":[0.8],\"x\":[\"Dec\"],\"y\":[2.5]}},\"id\":\"9e86b6c2-5fdd-43bd-a224-b8ab685a80c8\",\"type\":\"ColumnDataSource\"},{\"attributes\":{\"overlay\":{\"id\":\"a7dfca71-cfb8-46cc-a6fb-26abd2bcc4dc\",\"type\":\"BoxAnnotation\"},\"plot\":{\"id\":\"f42e17ef-24a5-4f07-b5bd-f081d4def321\",\"subtype\":\"Chart\",\"type\":\"Plot\"}},\"id\":\"996b4b07-2d68-4155-973f-8be9c22fd091\",\"type\":\"BoxZoomTool\"}],\"root_ids\":[\"683e0f51-f2bc-42d0-b2f3-b221e563e8ba\"]},\"title\":\"Bokeh Application\",\"version\":\"0.12.0\"}};\n",
       "            var render_items = [{\"docid\":\"945ef7e1-3506-4fc4-a370-2ae98b750218\",\"elementid\":\"0bc43048-a2bf-4697-81e4-9810b8a7908b\",\"modelid\":\"683e0f51-f2bc-42d0-b2f3-b221e563e8ba\",\"notebook_comms_target\":\"6392479c-7855-42cb-a68e-31b8c356d145\"}];\n",
       "            \n",
       "            Bokeh.embed.embed_items(docs_json, render_items);\n",
       "        });\n",
       "      },\n",
       "      function(Bokeh) {\n",
       "      }\n",
       "    ];\n",
       "  \n",
       "    function run_inline_js() {\n",
       "      for (var i = 0; i < inline_js.length; i++) {\n",
       "        inline_js[i](window.Bokeh);\n",
       "      }\n",
       "    }\n",
       "  \n",
       "    if (window._bokeh_is_loading === 0) {\n",
       "      console.log(\"Bokeh: BokehJS loaded, going straight to plotting\");\n",
       "      run_inline_js();\n",
       "    } else {\n",
       "      load_libs(js_urls, function() {\n",
       "        console.log(\"Bokeh: BokehJS plotting callback run at\", now());\n",
       "        run_inline_js();\n",
       "      });\n",
       "    }\n",
       "  }(this));\n",
       "</script>"
      ]
     },
     "metadata": {},
     "output_type": "display_data"
    },
    {
     "data": {
      "text/html": [
       "<p><code>&lt;Bokeh Notebook handle for <strong>In[12]</strong>&gt;</code></p>"
      ],
      "text/plain": [
       "<bokeh.io._CommsHandle at 0x7f21501758d0>"
      ]
     },
     "execution_count": 12,
     "metadata": {},
     "output_type": "execute_result"
    }
   ],
   "source": [
    "from bokeh.charts import Bar\n",
    "from bokeh.charts.attributes import CatAttr\n",
    "\n",
    "MONTHS = ['Jan', 'Feb', 'Mar', 'Apr', 'May', 'Jun', 'Jul', 'Aug', 'Sep', 'Oct', 'Nov', 'Dec']\n",
    "\n",
    "comment_dict = dict(data=comment_month[1], label=MONTHS)\n",
    "post_dict = dict(data=post_month[1], label=MONTHS)\n",
    "\n",
    "comment_bar = Bar(comment_dict, values='data', label=CatAttr(columns=['label'], sort=False), \n",
    "               plot_width=450, plot_height=450, legend=None, title='Comments count')\n",
    "post_bar = Bar(post_dict, values='data', label=CatAttr(columns=['label'], sort=False), \n",
    "             plot_width=450, plot_height=450, legend=None, title='Posts count')\n",
    "\n",
    "comment_bar.xaxis.axis_label = post_bar.xaxis.axis_label = ''\n",
    "comment_bar.yaxis.axis_label = 'comments'\n",
    "post_bar.yaxis.axis_label = 'posts'\n",
    "\n",
    "show(row(comment_bar, post_bar))"
   ]
  },
  {
   "cell_type": "markdown",
   "metadata": {},
   "source": [
    "## bar charts: Dominos.tw"
   ]
  },
  {
   "cell_type": "code",
   "execution_count": 13,
   "metadata": {
    "collapsed": false
   },
   "outputs": [
    {
     "data": {
      "text/html": [
       "\n",
       "\n",
       "    <div class=\"bk-root\">\n",
       "        <div class=\"plotdiv\" id=\"041b455e-84c7-4614-a157-c3d7909ca28f\"></div>\n",
       "    </div>\n",
       "<script type=\"text/javascript\">\n",
       "  \n",
       "  (function(global) {\n",
       "    function now() {\n",
       "      return new Date();\n",
       "    }\n",
       "  \n",
       "    if (typeof (window._bokeh_onload_callbacks) === \"undefined\") {\n",
       "      window._bokeh_onload_callbacks = [];\n",
       "    }\n",
       "  \n",
       "    function run_callbacks() {\n",
       "      window._bokeh_onload_callbacks.forEach(function(callback) { callback() });\n",
       "      delete window._bokeh_onload_callbacks\n",
       "      console.info(\"Bokeh: all callbacks have finished\");\n",
       "    }\n",
       "  \n",
       "    function load_libs(js_urls, callback) {\n",
       "      window._bokeh_onload_callbacks.push(callback);\n",
       "      if (window._bokeh_is_loading > 0) {\n",
       "        console.log(\"Bokeh: BokehJS is being loaded, scheduling callback at\", now());\n",
       "        return null;\n",
       "      }\n",
       "      if (js_urls == null || js_urls.length === 0) {\n",
       "        run_callbacks();\n",
       "        return null;\n",
       "      }\n",
       "      console.log(\"Bokeh: BokehJS not loaded, scheduling load and callback at\", now());\n",
       "      window._bokeh_is_loading = js_urls.length;\n",
       "      for (var i = 0; i < js_urls.length; i++) {\n",
       "        var url = js_urls[i];\n",
       "        var s = document.createElement('script');\n",
       "        s.src = url;\n",
       "        s.async = false;\n",
       "        s.onreadystatechange = s.onload = function() {\n",
       "          window._bokeh_is_loading--;\n",
       "          if (window._bokeh_is_loading === 0) {\n",
       "            console.log(\"Bokeh: all BokehJS libraries loaded\");\n",
       "            run_callbacks()\n",
       "          }\n",
       "        };\n",
       "        s.onerror = function() {\n",
       "          console.warn(\"failed to load library \" + url);\n",
       "        };\n",
       "        console.log(\"Bokeh: injecting script tag for BokehJS library: \", url);\n",
       "        document.getElementsByTagName(\"head\")[0].appendChild(s);\n",
       "      }\n",
       "    };var element = document.getElementById(\"041b455e-84c7-4614-a157-c3d7909ca28f\");\n",
       "    if (element == null) {\n",
       "      console.log(\"Bokeh: ERROR: autoload.js configured with elementid '041b455e-84c7-4614-a157-c3d7909ca28f' but no matching script tag was found. \")\n",
       "      return false;\n",
       "    }\n",
       "  \n",
       "    var js_urls = [];\n",
       "  \n",
       "    var inline_js = [\n",
       "      function(Bokeh) {\n",
       "        Bokeh.$(function() {\n",
       "            var docs_json = {\"43e0cee9-a8fc-4b9d-9549-eba6adc30549\":{\"roots\":{\"references\":[{\"attributes\":{},\"id\":\"c7b15de3-4dcb-4e98-b38c-d00ae1df5503\",\"type\":\"BasicTickFormatter\"},{\"attributes\":{\"fill_alpha\":{\"field\":\"fill_alpha\"},\"fill_color\":{\"field\":\"color\"},\"height\":{\"field\":\"height\",\"units\":\"data\"},\"line_color\":{\"field\":\"line_color\"},\"width\":{\"field\":\"width\",\"units\":\"data\"},\"x\":{\"field\":\"x\"},\"y\":{\"field\":\"y\"}},\"id\":\"ef2d1ff1-003b-41e4-b60f-6facb4e843bd\",\"type\":\"Rect\"},{\"attributes\":{\"callback\":null,\"end\":5941.95},\"id\":\"f1389460-d48b-4a10-a5d5-b934df05b435\",\"type\":\"Range1d\"},{\"attributes\":{\"fill_alpha\":{\"field\":\"fill_alpha\"},\"fill_color\":{\"field\":\"color\"},\"height\":{\"field\":\"height\",\"units\":\"data\"},\"line_color\":{\"field\":\"line_color\"},\"width\":{\"field\":\"width\",\"units\":\"data\"},\"x\":{\"field\":\"x\"},\"y\":{\"field\":\"y\"}},\"id\":\"3cd3a39d-b7fe-4672-97d4-53be80061c48\",\"type\":\"Rect\"},{\"attributes\":{\"fill_alpha\":{\"field\":\"fill_alpha\"},\"fill_color\":{\"field\":\"color\"},\"height\":{\"field\":\"height\",\"units\":\"data\"},\"line_color\":{\"field\":\"line_color\"},\"width\":{\"field\":\"width\",\"units\":\"data\"},\"x\":{\"field\":\"x\"},\"y\":{\"field\":\"y\"}},\"id\":\"6960991c-0d1c-45bc-a379-30a897435198\",\"type\":\"Rect\"},{\"attributes\":{\"callback\":null,\"column_names\":[\"line_color\",\"line_alpha\",\"color\",\"fill_alpha\",\"height\",\"width\",\"y\",\"x\",\"label\"],\"data\":{\"chart_index\":[{\"label\":\"Aug\"}],\"color\":[\"#f22c40\"],\"fill_alpha\":[0.8],\"height\":[4970.0],\"label\":[\"Aug\"],\"line_alpha\":[1.0],\"line_color\":[\"white\"],\"width\":[0.8],\"x\":[\"Aug\"],\"y\":[2485.0]}},\"id\":\"34da7e30-9997-4d5a-8c51-ef1c16147b06\",\"type\":\"ColumnDataSource\"},{\"attributes\":{\"fill_alpha\":{\"field\":\"fill_alpha\"},\"fill_color\":{\"field\":\"color\"},\"height\":{\"field\":\"height\",\"units\":\"data\"},\"line_color\":{\"field\":\"line_color\"},\"width\":{\"field\":\"width\",\"units\":\"data\"},\"x\":{\"field\":\"x\"},\"y\":{\"field\":\"y\"}},\"id\":\"edaf1875-acbf-4fa5-87e7-89afee74519c\",\"type\":\"Rect\"},{\"attributes\":{\"axis_label\":\"\",\"formatter\":{\"id\":\"28b2b969-2981-42a8-b891-8b759ea9801f\",\"type\":\"CategoricalTickFormatter\"},\"major_label_orientation\":0.7853981633974483,\"plot\":{\"id\":\"0a7ed935-3440-49a9-9b46-4ef01a97719e\",\"subtype\":\"Chart\",\"type\":\"Plot\"},\"ticker\":{\"id\":\"0ab6f081-023d-48c3-b1d0-95189bbe3800\",\"type\":\"CategoricalTicker\"}},\"id\":\"f0423b60-dffb-4fb4-bac3-7a6dcc123a95\",\"type\":\"CategoricalAxis\"},{\"attributes\":{\"data_source\":{\"id\":\"982e9db7-4668-4b7b-967f-626c3266f36c\",\"type\":\"ColumnDataSource\"},\"glyph\":{\"id\":\"ffa467c2-b5ee-4e61-8a11-de0a72b48a4f\",\"type\":\"Rect\"},\"hover_glyph\":null,\"nonselection_glyph\":null,\"selection_glyph\":null},\"id\":\"fe4049de-ee71-40cb-aff3-2742272c0519\",\"type\":\"GlyphRenderer\"},{\"attributes\":{\"data_source\":{\"id\":\"3f863d23-3466-4b95-a13d-a3aaedf9cf91\",\"type\":\"ColumnDataSource\"},\"glyph\":{\"id\":\"0e2fa78e-954d-4ec2-9541-03397e1398a2\",\"type\":\"Rect\"},\"hover_glyph\":null,\"nonselection_glyph\":null,\"selection_glyph\":null},\"id\":\"fc17b735-1490-4bf9-9eba-1d8cee96a274\",\"type\":\"GlyphRenderer\"},{\"attributes\":{\"data_source\":{\"id\":\"09eecc49-c42d-46cb-9a06-f7d2323df266\",\"type\":\"ColumnDataSource\"},\"glyph\":{\"id\":\"905a05cd-9b06-4f8c-89a1-6b834152080d\",\"type\":\"Rect\"},\"hover_glyph\":null,\"nonselection_glyph\":null,\"selection_glyph\":null},\"id\":\"1135af6b-ecd6-489c-b9d0-0227cf291362\",\"type\":\"GlyphRenderer\"},{\"attributes\":{\"fill_alpha\":{\"field\":\"fill_alpha\"},\"fill_color\":{\"field\":\"color\"},\"height\":{\"field\":\"height\",\"units\":\"data\"},\"line_color\":{\"field\":\"line_color\"},\"width\":{\"field\":\"width\",\"units\":\"data\"},\"x\":{\"field\":\"x\"},\"y\":{\"field\":\"y\"}},\"id\":\"ba7a903a-0cdd-4586-89b3-8b994cd26a9a\",\"type\":\"Rect\"},{\"attributes\":{\"callback\":null,\"column_names\":[\"line_color\",\"line_alpha\",\"color\",\"fill_alpha\",\"height\",\"width\",\"y\",\"x\",\"label\"],\"data\":{\"chart_index\":[{\"label\":\"Feb\"}],\"color\":[\"#f22c40\"],\"fill_alpha\":[0.8],\"height\":[25.0],\"label\":[\"Feb\"],\"line_alpha\":[1.0],\"line_color\":[\"white\"],\"width\":[0.8],\"x\":[\"Feb\"],\"y\":[12.5]}},\"id\":\"09eecc49-c42d-46cb-9a06-f7d2323df266\",\"type\":\"ColumnDataSource\"},{\"attributes\":{\"below\":[{\"id\":\"f0423b60-dffb-4fb4-bac3-7a6dcc123a95\",\"type\":\"CategoricalAxis\"}],\"left\":[{\"id\":\"c33e2821-00e6-4d1c-93a2-4991a7b592a5\",\"type\":\"LinearAxis\"}],\"plot_height\":450,\"plot_width\":450,\"renderers\":[{\"id\":\"0ee7a484-39c8-43f3-8af5-efc78bdc6ea4\",\"type\":\"BoxAnnotation\"},{\"id\":\"5509b2da-5117-4d84-bc4e-dcbc5d47e5f6\",\"type\":\"GlyphRenderer\"},{\"id\":\"1135af6b-ecd6-489c-b9d0-0227cf291362\",\"type\":\"GlyphRenderer\"},{\"id\":\"a11c1032-0be1-4fc9-a916-9ffa9587e389\",\"type\":\"GlyphRenderer\"},{\"id\":\"43ab1057-0b22-4e1f-9947-45865062cbc6\",\"type\":\"GlyphRenderer\"},{\"id\":\"6d5d6bec-2fcb-4fcc-9908-b757152b28fc\",\"type\":\"GlyphRenderer\"},{\"id\":\"47b31540-a69e-49c1-9b6e-0ff479ef1eb9\",\"type\":\"GlyphRenderer\"},{\"id\":\"73e51f6d-df53-40c1-b055-297681c87f9a\",\"type\":\"GlyphRenderer\"},{\"id\":\"01e914c7-0be6-4ad0-87cd-d47c600a3847\",\"type\":\"GlyphRenderer\"},{\"id\":\"53aa422a-5b23-46a5-ba71-949ac4f0fbd7\",\"type\":\"GlyphRenderer\"},{\"id\":\"fe4049de-ee71-40cb-aff3-2742272c0519\",\"type\":\"GlyphRenderer\"},{\"id\":\"cafeef8b-8c1b-43c3-a750-64f2035b0e52\",\"type\":\"GlyphRenderer\"},{\"id\":\"feaaf01a-3e41-4a54-b5fc-13dab709f0e7\",\"type\":\"GlyphRenderer\"},{\"id\":\"f0423b60-dffb-4fb4-bac3-7a6dcc123a95\",\"type\":\"CategoricalAxis\"},{\"id\":\"c33e2821-00e6-4d1c-93a2-4991a7b592a5\",\"type\":\"LinearAxis\"},{\"id\":\"3231c790-7d68-48e4-a762-376be752e6c3\",\"type\":\"Grid\"}],\"title\":{\"id\":\"dc771fd8-53ec-430e-83f8-aa9095c53243\",\"type\":\"Title\"},\"tool_events\":{\"id\":\"2f8a46fd-6fbe-43af-8d17-cfefb4ca58dd\",\"type\":\"ToolEvents\"},\"toolbar\":{\"id\":\"eb441961-822d-48bf-8161-69f9fb8c0c36\",\"type\":\"Toolbar\"},\"x_mapper_type\":\"auto\",\"x_range\":{\"id\":\"5a260d6e-3fe8-41fe-bb16-a1ea698168a9\",\"type\":\"FactorRange\"},\"y_mapper_type\":\"auto\",\"y_range\":{\"id\":\"43a8e7a2-493c-439c-a280-36d2b3a15e0c\",\"type\":\"Range1d\"}},\"id\":\"0a7ed935-3440-49a9-9b46-4ef01a97719e\",\"subtype\":\"Chart\",\"type\":\"Plot\"},{\"attributes\":{\"callback\":null,\"column_names\":[\"line_color\",\"line_alpha\",\"color\",\"fill_alpha\",\"height\",\"width\",\"y\",\"x\",\"label\"],\"data\":{\"chart_index\":[{\"label\":\"Mar\"}],\"color\":[\"#f22c40\"],\"fill_alpha\":[0.8],\"height\":[1797.0],\"label\":[\"Mar\"],\"line_alpha\":[1.0],\"line_color\":[\"white\"],\"width\":[0.8],\"x\":[\"Mar\"],\"y\":[898.5]}},\"id\":\"9b7c03b3-36cf-4047-9c8c-9a16d521e2a4\",\"type\":\"ColumnDataSource\"},{\"attributes\":{\"data_source\":{\"id\":\"ac5f8ce1-c276-4ce1-8987-dd201be5ed2a\",\"type\":\"ColumnDataSource\"},\"glyph\":{\"id\":\"4b9323f8-8a47-4d5a-93e4-1e989c0ef6d6\",\"type\":\"Rect\"},\"hover_glyph\":null,\"nonselection_glyph\":null,\"selection_glyph\":null},\"id\":\"feaaf01a-3e41-4a54-b5fc-13dab709f0e7\",\"type\":\"GlyphRenderer\"},{\"attributes\":{\"callback\":null,\"column_names\":[\"line_color\",\"line_alpha\",\"color\",\"fill_alpha\",\"height\",\"width\",\"y\",\"x\",\"label\"],\"data\":{\"chart_index\":[{\"label\":\"Jun\"}],\"color\":[\"#f22c40\"],\"fill_alpha\":[0.8],\"height\":[33.0],\"label\":[\"Jun\"],\"line_alpha\":[1.0],\"line_color\":[\"white\"],\"width\":[0.8],\"x\":[\"Jun\"],\"y\":[16.5]}},\"id\":\"a26a33df-7783-4f0d-934c-7dd1360b25e7\",\"type\":\"ColumnDataSource\"},{\"attributes\":{\"callback\":null,\"end\":42.0},\"id\":\"43a8e7a2-493c-439c-a280-36d2b3a15e0c\",\"type\":\"Range1d\"},{\"attributes\":{\"callback\":null,\"column_names\":[\"line_color\",\"line_alpha\",\"color\",\"fill_alpha\",\"height\",\"width\",\"y\",\"x\",\"label\"],\"data\":{\"chart_index\":[{\"label\":\"Dec\"}],\"color\":[\"#f22c40\"],\"fill_alpha\":[0.8],\"height\":[25.0],\"label\":[\"Dec\"],\"line_alpha\":[1.0],\"line_color\":[\"white\"],\"width\":[0.8],\"x\":[\"Dec\"],\"y\":[12.5]}},\"id\":\"ac5f8ce1-c276-4ce1-8987-dd201be5ed2a\",\"type\":\"ColumnDataSource\"},{\"attributes\":{\"data_source\":{\"id\":\"dd1d3db7-3c23-48df-a099-251c2fc28818\",\"type\":\"ColumnDataSource\"},\"glyph\":{\"id\":\"ef2d1ff1-003b-41e4-b60f-6facb4e843bd\",\"type\":\"Rect\"},\"hover_glyph\":null,\"nonselection_glyph\":null,\"selection_glyph\":null},\"id\":\"01e914c7-0be6-4ad0-87cd-d47c600a3847\",\"type\":\"GlyphRenderer\"},{\"attributes\":{\"overlay\":{\"id\":\"0ee7a484-39c8-43f3-8af5-efc78bdc6ea4\",\"type\":\"BoxAnnotation\"},\"plot\":{\"id\":\"0a7ed935-3440-49a9-9b46-4ef01a97719e\",\"subtype\":\"Chart\",\"type\":\"Plot\"}},\"id\":\"42b6fe75-56b6-4195-941a-e020145f4a2a\",\"type\":\"BoxZoomTool\"},{\"attributes\":{\"data_source\":{\"id\":\"2998a3fe-c1dc-4bf5-8278-baec6f5a73b9\",\"type\":\"ColumnDataSource\"},\"glyph\":{\"id\":\"edaf1875-acbf-4fa5-87e7-89afee74519c\",\"type\":\"Rect\"},\"hover_glyph\":null,\"nonselection_glyph\":null,\"selection_glyph\":null},\"id\":\"0f9235b3-dd69-4220-bdc7-bfefa92dda3f\",\"type\":\"GlyphRenderer\"},{\"attributes\":{\"callback\":null,\"column_names\":[\"line_color\",\"line_alpha\",\"color\",\"fill_alpha\",\"height\",\"width\",\"y\",\"x\",\"label\"],\"data\":{\"chart_index\":[{\"label\":\"Jan\"}],\"color\":[\"#f22c40\"],\"fill_alpha\":[0.8],\"height\":[1296.0],\"label\":[\"Jan\"],\"line_alpha\":[1.0],\"line_color\":[\"white\"],\"width\":[0.8],\"x\":[\"Jan\"],\"y\":[648.0]}},\"id\":\"571d01fe-2e23-4f50-874a-a308899b6aff\",\"type\":\"ColumnDataSource\"},{\"attributes\":{\"callback\":null,\"column_names\":[\"line_color\",\"line_alpha\",\"color\",\"fill_alpha\",\"height\",\"width\",\"y\",\"x\",\"label\"],\"data\":{\"chart_index\":[{\"label\":\"Jul\"}],\"color\":[\"#f22c40\"],\"fill_alpha\":[0.8],\"height\":[2388.0],\"label\":[\"Jul\"],\"line_alpha\":[1.0],\"line_color\":[\"white\"],\"width\":[0.8],\"x\":[\"Jul\"],\"y\":[1194.0]}},\"id\":\"4417005d-d894-4e50-a69c-358c11f75089\",\"type\":\"ColumnDataSource\"},{\"attributes\":{\"callback\":null,\"column_names\":[\"line_color\",\"line_alpha\",\"color\",\"fill_alpha\",\"height\",\"width\",\"y\",\"x\",\"label\"],\"data\":{\"chart_index\":[{\"label\":\"Apr\"}],\"color\":[\"#f22c40\"],\"fill_alpha\":[0.8],\"height\":[964.0],\"label\":[\"Apr\"],\"line_alpha\":[1.0],\"line_color\":[\"white\"],\"width\":[0.8],\"x\":[\"Apr\"],\"y\":[482.0]}},\"id\":\"2998a3fe-c1dc-4bf5-8278-baec6f5a73b9\",\"type\":\"ColumnDataSource\"},{\"attributes\":{\"fill_alpha\":{\"field\":\"fill_alpha\"},\"fill_color\":{\"field\":\"color\"},\"height\":{\"field\":\"height\",\"units\":\"data\"},\"line_color\":{\"field\":\"line_color\"},\"width\":{\"field\":\"width\",\"units\":\"data\"},\"x\":{\"field\":\"x\"},\"y\":{\"field\":\"y\"}},\"id\":\"21b27ec3-ec54-45af-afbe-7e98d0498c94\",\"type\":\"Rect\"},{\"attributes\":{\"plot\":{\"id\":\"a0be7e8d-3187-462c-9b53-ba1700f53e0b\",\"subtype\":\"Chart\",\"type\":\"Plot\"}},\"id\":\"d7f98e38-8763-477b-9b1b-4b34af65e23c\",\"type\":\"ResetTool\"},{\"attributes\":{\"fill_alpha\":{\"field\":\"fill_alpha\"},\"fill_color\":{\"field\":\"color\"},\"height\":{\"field\":\"height\",\"units\":\"data\"},\"line_color\":{\"field\":\"line_color\"},\"width\":{\"field\":\"width\",\"units\":\"data\"},\"x\":{\"field\":\"x\"},\"y\":{\"field\":\"y\"}},\"id\":\"ffa467c2-b5ee-4e61-8a11-de0a72b48a4f\",\"type\":\"Rect\"},{\"attributes\":{\"fill_alpha\":{\"field\":\"fill_alpha\"},\"fill_color\":{\"field\":\"color\"},\"height\":{\"field\":\"height\",\"units\":\"data\"},\"line_color\":{\"field\":\"line_color\"},\"width\":{\"field\":\"width\",\"units\":\"data\"},\"x\":{\"field\":\"x\"},\"y\":{\"field\":\"y\"}},\"id\":\"12f2c3df-5061-43f4-b2dd-dd709935cba3\",\"type\":\"Rect\"},{\"attributes\":{\"callback\":null,\"column_names\":[\"line_color\",\"line_alpha\",\"color\",\"fill_alpha\",\"height\",\"width\",\"y\",\"x\",\"label\"],\"data\":{\"chart_index\":[{\"label\":\"Dec\"}],\"color\":[\"#f22c40\"],\"fill_alpha\":[0.8],\"height\":[5521.0],\"label\":[\"Dec\"],\"line_alpha\":[1.0],\"line_color\":[\"white\"],\"width\":[0.8],\"x\":[\"Dec\"],\"y\":[2760.5]}},\"id\":\"ed035b36-d738-449b-9e47-bcf7da00051b\",\"type\":\"ColumnDataSource\"},{\"attributes\":{\"active_drag\":\"auto\",\"active_scroll\":\"auto\",\"active_tap\":\"auto\",\"tools\":[{\"id\":\"a230614e-6242-411c-b3e1-6d2b46b41ed1\",\"type\":\"PanTool\"},{\"id\":\"da7faafa-7ab0-4d50-b52c-c901a811958f\",\"type\":\"WheelZoomTool\"},{\"id\":\"42b6fe75-56b6-4195-941a-e020145f4a2a\",\"type\":\"BoxZoomTool\"},{\"id\":\"a5dfdced-7193-41fb-879e-2890ea6b7b13\",\"type\":\"SaveTool\"},{\"id\":\"3081885c-fceb-4e6a-b16f-fe012e5d4422\",\"type\":\"ResetTool\"},{\"id\":\"53193c1e-aaa5-4996-bc49-8c6fc12d6bc6\",\"type\":\"HelpTool\"}]},\"id\":\"eb441961-822d-48bf-8161-69f9fb8c0c36\",\"type\":\"Toolbar\"},{\"attributes\":{\"plot\":null,\"text\":\"Posts count\"},\"id\":\"dc771fd8-53ec-430e-83f8-aa9095c53243\",\"type\":\"Title\"},{\"attributes\":{\"data_source\":{\"id\":\"571d01fe-2e23-4f50-874a-a308899b6aff\",\"type\":\"ColumnDataSource\"},\"glyph\":{\"id\":\"dc214420-8a87-4983-a18b-81b58dff1a5d\",\"type\":\"Rect\"},\"hover_glyph\":null,\"nonselection_glyph\":null,\"selection_glyph\":null},\"id\":\"380c1700-821d-4657-86df-ecb2720120b6\",\"type\":\"GlyphRenderer\"},{\"attributes\":{\"fill_alpha\":{\"field\":\"fill_alpha\"},\"fill_color\":{\"field\":\"color\"},\"height\":{\"field\":\"height\",\"units\":\"data\"},\"line_color\":{\"field\":\"line_color\"},\"width\":{\"field\":\"width\",\"units\":\"data\"},\"x\":{\"field\":\"x\"},\"y\":{\"field\":\"y\"}},\"id\":\"0e2fa78e-954d-4ec2-9541-03397e1398a2\",\"type\":\"Rect\"},{\"attributes\":{\"fill_alpha\":{\"field\":\"fill_alpha\"},\"fill_color\":{\"field\":\"color\"},\"height\":{\"field\":\"height\",\"units\":\"data\"},\"line_color\":{\"field\":\"line_color\"},\"width\":{\"field\":\"width\",\"units\":\"data\"},\"x\":{\"field\":\"x\"},\"y\":{\"field\":\"y\"}},\"id\":\"ff6da7ac-eaed-4265-ab17-d7cf57822d3b\",\"type\":\"Rect\"},{\"attributes\":{\"callback\":null,\"factors\":[\"Jan\",\"Feb\",\"Mar\",\"Apr\",\"May\",\"Jun\",\"Jul\",\"Aug\",\"Sep\",\"Oct\",\"Nov\",\"Dec\"]},\"id\":\"92fc039f-ffd3-41bb-ade2-c78bbdc22df6\",\"type\":\"FactorRange\"},{\"attributes\":{\"dimension\":1,\"plot\":{\"id\":\"a0be7e8d-3187-462c-9b53-ba1700f53e0b\",\"subtype\":\"Chart\",\"type\":\"Plot\"},\"ticker\":{\"id\":\"a236d448-fdb0-4764-8889-a3cf3c224003\",\"type\":\"BasicTicker\"}},\"id\":\"ec943e94-cc2f-47e1-b9e8-ae9833190ac2\",\"type\":\"Grid\"},{\"attributes\":{\"callback\":null,\"factors\":[\"Jan\",\"Feb\",\"Mar\",\"Apr\",\"May\",\"Jun\",\"Jul\",\"Aug\",\"Sep\",\"Oct\",\"Nov\",\"Dec\"]},\"id\":\"5a260d6e-3fe8-41fe-bb16-a1ea698168a9\",\"type\":\"FactorRange\"},{\"attributes\":{\"callback\":null,\"column_names\":[\"line_color\",\"line_alpha\",\"color\",\"fill_alpha\",\"height\",\"width\",\"y\",\"x\",\"label\"],\"data\":{\"chart_index\":[{\"label\":\"Nov\"}],\"color\":[\"#f22c40\"],\"fill_alpha\":[0.8],\"height\":[30.0],\"label\":[\"Nov\"],\"line_alpha\":[1.0],\"line_color\":[\"white\"],\"width\":[0.8],\"x\":[\"Nov\"],\"y\":[15.0]}},\"id\":\"dd8c0d04-dbdb-4768-a5fc-c6072ef3d9d3\",\"type\":\"ColumnDataSource\"},{\"attributes\":{\"data_source\":{\"id\":\"30793186-d566-4132-b929-0cff71ef1f0a\",\"type\":\"ColumnDataSource\"},\"glyph\":{\"id\":\"9b2b520f-9361-4efc-a1ad-f2a6bf35e396\",\"type\":\"Rect\"},\"hover_glyph\":null,\"nonselection_glyph\":null,\"selection_glyph\":null},\"id\":\"43ab1057-0b22-4e1f-9947-45865062cbc6\",\"type\":\"GlyphRenderer\"},{\"attributes\":{\"data_source\":{\"id\":\"34da7e30-9997-4d5a-8c51-ef1c16147b06\",\"type\":\"ColumnDataSource\"},\"glyph\":{\"id\":\"c2718eae-3ca5-443a-826b-c39c755c6ff1\",\"type\":\"Rect\"},\"hover_glyph\":null,\"nonselection_glyph\":null,\"selection_glyph\":null},\"id\":\"87078908-96fa-4d8d-b473-135839520239\",\"type\":\"GlyphRenderer\"},{\"attributes\":{\"plot\":{\"id\":\"0a7ed935-3440-49a9-9b46-4ef01a97719e\",\"subtype\":\"Chart\",\"type\":\"Plot\"}},\"id\":\"da7faafa-7ab0-4d50-b52c-c901a811958f\",\"type\":\"WheelZoomTool\"},{\"attributes\":{\"plot\":{\"id\":\"a0be7e8d-3187-462c-9b53-ba1700f53e0b\",\"subtype\":\"Chart\",\"type\":\"Plot\"}},\"id\":\"fd0ee706-82fc-457e-a39a-9a7140a1be73\",\"type\":\"HelpTool\"},{\"attributes\":{\"data_source\":{\"id\":\"4417005d-d894-4e50-a69c-358c11f75089\",\"type\":\"ColumnDataSource\"},\"glyph\":{\"id\":\"6960991c-0d1c-45bc-a379-30a897435198\",\"type\":\"Rect\"},\"hover_glyph\":null,\"nonselection_glyph\":null,\"selection_glyph\":null},\"id\":\"ed696dcd-a63b-44e5-ad3a-b9b408d61d3f\",\"type\":\"GlyphRenderer\"},{\"attributes\":{\"data_source\":{\"id\":\"63ed6bc9-5875-4e82-951d-446196457a31\",\"type\":\"ColumnDataSource\"},\"glyph\":{\"id\":\"21b27ec3-ec54-45af-afbe-7e98d0498c94\",\"type\":\"Rect\"},\"hover_glyph\":null,\"nonselection_glyph\":null,\"selection_glyph\":null},\"id\":\"a11c1032-0be1-4fc9-a916-9ffa9587e389\",\"type\":\"GlyphRenderer\"},{\"attributes\":{\"plot\":{\"id\":\"0a7ed935-3440-49a9-9b46-4ef01a97719e\",\"subtype\":\"Chart\",\"type\":\"Plot\"}},\"id\":\"53193c1e-aaa5-4996-bc49-8c6fc12d6bc6\",\"type\":\"HelpTool\"},{\"attributes\":{\"callback\":null,\"column_names\":[\"line_color\",\"line_alpha\",\"color\",\"fill_alpha\",\"height\",\"width\",\"y\",\"x\",\"label\"],\"data\":{\"chart_index\":[{\"label\":\"Oct\"}],\"color\":[\"#f22c40\"],\"fill_alpha\":[0.8],\"height\":[26.0],\"label\":[\"Oct\"],\"line_alpha\":[1.0],\"line_color\":[\"white\"],\"width\":[0.8],\"x\":[\"Oct\"],\"y\":[13.0]}},\"id\":\"982e9db7-4668-4b7b-967f-626c3266f36c\",\"type\":\"ColumnDataSource\"},{\"attributes\":{\"plot\":{\"id\":\"0a7ed935-3440-49a9-9b46-4ef01a97719e\",\"subtype\":\"Chart\",\"type\":\"Plot\"}},\"id\":\"3081885c-fceb-4e6a-b16f-fe012e5d4422\",\"type\":\"ResetTool\"},{\"attributes\":{\"plot\":{\"id\":\"a0be7e8d-3187-462c-9b53-ba1700f53e0b\",\"subtype\":\"Chart\",\"type\":\"Plot\"}},\"id\":\"739a470c-5be1-4df8-ba1a-7db56f617515\",\"type\":\"SaveTool\"},{\"attributes\":{\"fill_alpha\":{\"field\":\"fill_alpha\"},\"fill_color\":{\"field\":\"color\"},\"height\":{\"field\":\"height\",\"units\":\"data\"},\"line_color\":{\"field\":\"line_color\"},\"width\":{\"field\":\"width\",\"units\":\"data\"},\"x\":{\"field\":\"x\"},\"y\":{\"field\":\"y\"}},\"id\":\"364e3f47-34cb-402c-8152-292d70c63bce\",\"type\":\"Rect\"},{\"attributes\":{},\"id\":\"28b2b969-2981-42a8-b891-8b759ea9801f\",\"type\":\"CategoricalTickFormatter\"},{\"attributes\":{},\"id\":\"e7b324d5-bc83-42b7-aff3-e5de9ad4e3f3\",\"type\":\"BasicTicker\"},{\"attributes\":{},\"id\":\"0aae55f0-42c8-47ea-9ba2-0bce21d20ff8\",\"type\":\"CategoricalTicker\"},{\"attributes\":{\"callback\":null,\"column_names\":[\"line_color\",\"line_alpha\",\"color\",\"fill_alpha\",\"height\",\"width\",\"y\",\"x\",\"label\"],\"data\":{\"chart_index\":[{\"label\":\"Aug\"}],\"color\":[\"#f22c40\"],\"fill_alpha\":[0.8],\"height\":[29.0],\"label\":[\"Aug\"],\"line_alpha\":[1.0],\"line_color\":[\"white\"],\"width\":[0.8],\"x\":[\"Aug\"],\"y\":[14.5]}},\"id\":\"dd1d3db7-3c23-48df-a099-251c2fc28818\",\"type\":\"ColumnDataSource\"},{\"attributes\":{\"fill_alpha\":{\"field\":\"fill_alpha\"},\"fill_color\":{\"field\":\"color\"},\"height\":{\"field\":\"height\",\"units\":\"data\"},\"line_color\":{\"field\":\"line_color\"},\"width\":{\"field\":\"width\",\"units\":\"data\"},\"x\":{\"field\":\"x\"},\"y\":{\"field\":\"y\"}},\"id\":\"4b9323f8-8a47-4d5a-93e4-1e989c0ef6d6\",\"type\":\"Rect\"},{\"attributes\":{\"fill_alpha\":{\"field\":\"fill_alpha\"},\"fill_color\":{\"field\":\"color\"},\"height\":{\"field\":\"height\",\"units\":\"data\"},\"line_color\":{\"field\":\"line_color\"},\"width\":{\"field\":\"width\",\"units\":\"data\"},\"x\":{\"field\":\"x\"},\"y\":{\"field\":\"y\"}},\"id\":\"71f6492c-5c5f-487f-ab31-5dee50062fa0\",\"type\":\"Rect\"},{\"attributes\":{},\"id\":\"a236d448-fdb0-4764-8889-a3cf3c224003\",\"type\":\"BasicTicker\"},{\"attributes\":{\"callback\":null,\"column_names\":[\"line_color\",\"line_alpha\",\"color\",\"fill_alpha\",\"height\",\"width\",\"y\",\"x\",\"label\"],\"data\":{\"chart_index\":[{\"label\":\"Jul\"}],\"color\":[\"#f22c40\"],\"fill_alpha\":[0.8],\"height\":[35.0],\"label\":[\"Jul\"],\"line_alpha\":[1.0],\"line_color\":[\"white\"],\"width\":[0.8],\"x\":[\"Jul\"],\"y\":[17.5]}},\"id\":\"30bcfc73-ef07-4103-b241-a3237e3894f8\",\"type\":\"ColumnDataSource\"},{\"attributes\":{\"fill_alpha\":{\"field\":\"fill_alpha\"},\"fill_color\":{\"field\":\"color\"},\"height\":{\"field\":\"height\",\"units\":\"data\"},\"line_color\":{\"field\":\"line_color\"},\"width\":{\"field\":\"width\",\"units\":\"data\"},\"x\":{\"field\":\"x\"},\"y\":{\"field\":\"y\"}},\"id\":\"9b2b520f-9361-4efc-a1ad-f2a6bf35e396\",\"type\":\"Rect\"},{\"attributes\":{\"fill_alpha\":{\"field\":\"fill_alpha\"},\"fill_color\":{\"field\":\"color\"},\"height\":{\"field\":\"height\",\"units\":\"data\"},\"line_color\":{\"field\":\"line_color\"},\"width\":{\"field\":\"width\",\"units\":\"data\"},\"x\":{\"field\":\"x\"},\"y\":{\"field\":\"y\"}},\"id\":\"4015b32c-0900-4171-84e7-405b83a59934\",\"type\":\"Rect\"},{\"attributes\":{\"callback\":null,\"column_names\":[\"line_color\",\"line_alpha\",\"color\",\"fill_alpha\",\"height\",\"width\",\"y\",\"x\",\"label\"],\"data\":{\"chart_index\":[{\"label\":\"Sep\"}],\"color\":[\"#f22c40\"],\"fill_alpha\":[0.8],\"height\":[25.0],\"label\":[\"Sep\"],\"line_alpha\":[1.0],\"line_color\":[\"white\"],\"width\":[0.8],\"x\":[\"Sep\"],\"y\":[12.5]}},\"id\":\"2fb79aec-ce85-4d0f-a8eb-35af54e74b98\",\"type\":\"ColumnDataSource\"},{\"attributes\":{\"callback\":null,\"column_names\":[\"line_color\",\"line_alpha\",\"color\",\"fill_alpha\",\"height\",\"width\",\"y\",\"x\",\"label\"],\"data\":{\"chart_index\":[{\"label\":\"Sep\"}],\"color\":[\"#f22c40\"],\"fill_alpha\":[0.8],\"height\":[4386.0],\"label\":[\"Sep\"],\"line_alpha\":[1.0],\"line_color\":[\"white\"],\"width\":[0.8],\"x\":[\"Sep\"],\"y\":[2193.0]}},\"id\":\"26676a21-c083-4369-bd40-4c882707b116\",\"type\":\"ColumnDataSource\"},{\"attributes\":{\"data_source\":{\"id\":\"ed035b36-d738-449b-9e47-bcf7da00051b\",\"type\":\"ColumnDataSource\"},\"glyph\":{\"id\":\"5cd818ee-ab73-4731-82b1-e10353ac6ca9\",\"type\":\"Rect\"},\"hover_glyph\":null,\"nonselection_glyph\":null,\"selection_glyph\":null},\"id\":\"9b734e40-9337-40ec-bf20-ed39ff7b3748\",\"type\":\"GlyphRenderer\"},{\"attributes\":{\"axis_label\":\"comments\",\"formatter\":{\"id\":\"c7b15de3-4dcb-4e98-b38c-d00ae1df5503\",\"type\":\"BasicTickFormatter\"},\"plot\":{\"id\":\"a0be7e8d-3187-462c-9b53-ba1700f53e0b\",\"subtype\":\"Chart\",\"type\":\"Plot\"},\"ticker\":{\"id\":\"a236d448-fdb0-4764-8889-a3cf3c224003\",\"type\":\"BasicTicker\"}},\"id\":\"cb9a0dac-1619-4747-9bc2-b39086a9b2ea\",\"type\":\"LinearAxis\"},{\"attributes\":{\"fill_alpha\":{\"field\":\"fill_alpha\"},\"fill_color\":{\"field\":\"color\"},\"height\":{\"field\":\"height\",\"units\":\"data\"},\"line_color\":{\"field\":\"line_color\"},\"width\":{\"field\":\"width\",\"units\":\"data\"},\"x\":{\"field\":\"x\"},\"y\":{\"field\":\"y\"}},\"id\":\"d14370cd-7c5c-4727-95cc-bc849a81cb73\",\"type\":\"Rect\"},{\"attributes\":{\"fill_alpha\":{\"field\":\"fill_alpha\"},\"fill_color\":{\"field\":\"color\"},\"height\":{\"field\":\"height\",\"units\":\"data\"},\"line_color\":{\"field\":\"line_color\"},\"width\":{\"field\":\"width\",\"units\":\"data\"},\"x\":{\"field\":\"x\"},\"y\":{\"field\":\"y\"}},\"id\":\"6cf3d7ec-0042-42dd-9863-7c1669206a4f\",\"type\":\"Rect\"},{\"attributes\":{\"callback\":null,\"column_names\":[\"line_color\",\"line_alpha\",\"color\",\"fill_alpha\",\"height\",\"width\",\"y\",\"x\",\"label\"],\"data\":{\"chart_index\":[{\"label\":\"Jan\"}],\"color\":[\"#f22c40\"],\"fill_alpha\":[0.8],\"height\":[40.0],\"label\":[\"Jan\"],\"line_alpha\":[1.0],\"line_color\":[\"white\"],\"width\":[0.8],\"x\":[\"Jan\"],\"y\":[20.0]}},\"id\":\"acd8c268-3f85-4096-a9d2-cb0d3ed0952b\",\"type\":\"ColumnDataSource\"},{\"attributes\":{\"plot\":null,\"text\":\"Comments count\"},\"id\":\"58898837-cb24-43bc-8c39-d59acc4ec07a\",\"type\":\"Title\"},{\"attributes\":{\"axis_label\":\"posts\",\"formatter\":{\"id\":\"f78b51b1-b81f-4603-b6e0-8675606a7d02\",\"type\":\"BasicTickFormatter\"},\"plot\":{\"id\":\"0a7ed935-3440-49a9-9b46-4ef01a97719e\",\"subtype\":\"Chart\",\"type\":\"Plot\"},\"ticker\":{\"id\":\"e7b324d5-bc83-42b7-aff3-e5de9ad4e3f3\",\"type\":\"BasicTicker\"}},\"id\":\"c33e2821-00e6-4d1c-93a2-4991a7b592a5\",\"type\":\"LinearAxis\"},{\"attributes\":{\"bottom_units\":\"screen\",\"fill_alpha\":{\"value\":0.5},\"fill_color\":{\"value\":\"lightgrey\"},\"left_units\":\"screen\",\"level\":\"overlay\",\"line_alpha\":{\"value\":1.0},\"line_color\":{\"value\":\"black\"},\"line_dash\":[4,4],\"line_width\":{\"value\":2},\"plot\":null,\"render_mode\":\"css\",\"right_units\":\"screen\",\"top_units\":\"screen\"},\"id\":\"867cf1cd-a8ca-4498-b19f-83d938a79dd4\",\"type\":\"BoxAnnotation\"},{\"attributes\":{\"callback\":null,\"column_names\":[\"line_color\",\"line_alpha\",\"color\",\"fill_alpha\",\"height\",\"width\",\"y\",\"x\",\"label\"],\"data\":{\"chart_index\":[{\"label\":\"May\"}],\"color\":[\"#f22c40\"],\"fill_alpha\":[0.8],\"height\":[32.0],\"label\":[\"May\"],\"line_alpha\":[1.0],\"line_color\":[\"white\"],\"width\":[0.8],\"x\":[\"May\"],\"y\":[16.0]}},\"id\":\"36d4dbcb-7cd5-4790-ba7a-a0a17aaa3cdc\",\"type\":\"ColumnDataSource\"},{\"attributes\":{\"fill_alpha\":{\"field\":\"fill_alpha\"},\"fill_color\":{\"field\":\"color\"},\"height\":{\"field\":\"height\",\"units\":\"data\"},\"line_color\":{\"field\":\"line_color\"},\"width\":{\"field\":\"width\",\"units\":\"data\"},\"x\":{\"field\":\"x\"},\"y\":{\"field\":\"y\"}},\"id\":\"a6f7d2a9-28a5-45ac-a610-086f5c535a61\",\"type\":\"Rect\"},{\"attributes\":{\"fill_alpha\":{\"field\":\"fill_alpha\"},\"fill_color\":{\"field\":\"color\"},\"height\":{\"field\":\"height\",\"units\":\"data\"},\"line_color\":{\"field\":\"line_color\"},\"width\":{\"field\":\"width\",\"units\":\"data\"},\"x\":{\"field\":\"x\"},\"y\":{\"field\":\"y\"}},\"id\":\"905a05cd-9b06-4f8c-89a1-6b834152080d\",\"type\":\"Rect\"},{\"attributes\":{\"callback\":null,\"column_names\":[\"line_color\",\"line_alpha\",\"color\",\"fill_alpha\",\"height\",\"width\",\"y\",\"x\",\"label\"],\"data\":{\"chart_index\":[{\"label\":\"Mar\"}],\"color\":[\"#f22c40\"],\"fill_alpha\":[0.8],\"height\":[26.0],\"label\":[\"Mar\"],\"line_alpha\":[1.0],\"line_color\":[\"white\"],\"width\":[0.8],\"x\":[\"Mar\"],\"y\":[13.0]}},\"id\":\"63ed6bc9-5875-4e82-951d-446196457a31\",\"type\":\"ColumnDataSource\"},{\"attributes\":{\"data_source\":{\"id\":\"dd8c0d04-dbdb-4768-a5fc-c6072ef3d9d3\",\"type\":\"ColumnDataSource\"},\"glyph\":{\"id\":\"12f2c3df-5061-43f4-b2dd-dd709935cba3\",\"type\":\"Rect\"},\"hover_glyph\":null,\"nonselection_glyph\":null,\"selection_glyph\":null},\"id\":\"cafeef8b-8c1b-43c3-a750-64f2035b0e52\",\"type\":\"GlyphRenderer\"},{\"attributes\":{\"fill_alpha\":{\"field\":\"fill_alpha\"},\"fill_color\":{\"field\":\"color\"},\"height\":{\"field\":\"height\",\"units\":\"data\"},\"line_color\":{\"field\":\"line_color\"},\"width\":{\"field\":\"width\",\"units\":\"data\"},\"x\":{\"field\":\"x\"},\"y\":{\"field\":\"y\"}},\"id\":\"dc214420-8a87-4983-a18b-81b58dff1a5d\",\"type\":\"Rect\"},{\"attributes\":{\"callback\":null,\"column_names\":[\"line_color\",\"line_alpha\",\"color\",\"fill_alpha\",\"height\",\"width\",\"y\",\"x\",\"label\"],\"data\":{\"chart_index\":[{\"label\":\"Jun\"}],\"color\":[\"#f22c40\"],\"fill_alpha\":[0.8],\"height\":[1655.0],\"label\":[\"Jun\"],\"line_alpha\":[1.0],\"line_color\":[\"white\"],\"width\":[0.8],\"x\":[\"Jun\"],\"y\":[827.5]}},\"id\":\"809a0848-17c2-4412-88f3-70988045fd5c\",\"type\":\"ColumnDataSource\"},{\"attributes\":{\"data_source\":{\"id\":\"9b7c03b3-36cf-4047-9c8c-9a16d521e2a4\",\"type\":\"ColumnDataSource\"},\"glyph\":{\"id\":\"a6f7d2a9-28a5-45ac-a610-086f5c535a61\",\"type\":\"Rect\"},\"hover_glyph\":null,\"nonselection_glyph\":null,\"selection_glyph\":null},\"id\":\"296ad5b4-2a13-4aa9-b1d5-300ca452f703\",\"type\":\"GlyphRenderer\"},{\"attributes\":{},\"id\":\"f78b51b1-b81f-4603-b6e0-8675606a7d02\",\"type\":\"BasicTickFormatter\"},{\"attributes\":{\"data_source\":{\"id\":\"71af5640-0ecc-42e3-a58d-111dedb135ec\",\"type\":\"ColumnDataSource\"},\"glyph\":{\"id\":\"2dfd1177-f5a9-4f24-bcfb-a4a4c7744250\",\"type\":\"Rect\"},\"hover_glyph\":null,\"nonselection_glyph\":null,\"selection_glyph\":null},\"id\":\"817af15e-1d80-4397-a169-ed8139325e03\",\"type\":\"GlyphRenderer\"},{\"attributes\":{\"data_source\":{\"id\":\"30bcfc73-ef07-4103-b241-a3237e3894f8\",\"type\":\"ColumnDataSource\"},\"glyph\":{\"id\":\"a099d538-054a-4847-b09f-b607122f8e91\",\"type\":\"Rect\"},\"hover_glyph\":null,\"nonselection_glyph\":null,\"selection_glyph\":null},\"id\":\"73e51f6d-df53-40c1-b055-297681c87f9a\",\"type\":\"GlyphRenderer\"},{\"attributes\":{},\"id\":\"6d6f1f01-da01-4831-8611-8a79c0079ec0\",\"type\":\"ToolEvents\"},{\"attributes\":{\"callback\":null,\"column_names\":[\"line_color\",\"line_alpha\",\"color\",\"fill_alpha\",\"height\",\"width\",\"y\",\"x\",\"label\"],\"data\":{\"chart_index\":[{\"label\":\"Apr\"}],\"color\":[\"#f22c40\"],\"fill_alpha\":[0.8],\"height\":[38.0],\"label\":[\"Apr\"],\"line_alpha\":[1.0],\"line_color\":[\"white\"],\"width\":[0.8],\"x\":[\"Apr\"],\"y\":[19.0]}},\"id\":\"30793186-d566-4132-b929-0cff71ef1f0a\",\"type\":\"ColumnDataSource\"},{\"attributes\":{\"axis_label\":\"\",\"formatter\":{\"id\":\"50b9ed8c-4330-4a8a-b0b5-78ff7afb34e9\",\"type\":\"CategoricalTickFormatter\"},\"major_label_orientation\":0.7853981633974483,\"plot\":{\"id\":\"a0be7e8d-3187-462c-9b53-ba1700f53e0b\",\"subtype\":\"Chart\",\"type\":\"Plot\"},\"ticker\":{\"id\":\"0aae55f0-42c8-47ea-9ba2-0bce21d20ff8\",\"type\":\"CategoricalTicker\"}},\"id\":\"058ce7be-8b38-4d75-87b6-6ffd8e6f364e\",\"type\":\"CategoricalAxis\"},{\"attributes\":{\"callback\":null,\"column_names\":[\"line_color\",\"line_alpha\",\"color\",\"fill_alpha\",\"height\",\"width\",\"y\",\"x\",\"label\"],\"data\":{\"chart_index\":[{\"label\":\"Oct\"}],\"color\":[\"#f22c40\"],\"fill_alpha\":[0.8],\"height\":[3053.0],\"label\":[\"Oct\"],\"line_alpha\":[1.0],\"line_color\":[\"white\"],\"width\":[0.8],\"x\":[\"Oct\"],\"y\":[1526.5]}},\"id\":\"71af5640-0ecc-42e3-a58d-111dedb135ec\",\"type\":\"ColumnDataSource\"},{\"attributes\":{\"callback\":null,\"column_names\":[\"line_color\",\"line_alpha\",\"color\",\"fill_alpha\",\"height\",\"width\",\"y\",\"x\",\"label\"],\"data\":{\"chart_index\":[{\"label\":\"May\"}],\"color\":[\"#f22c40\"],\"fill_alpha\":[0.8],\"height\":[2762.0],\"label\":[\"May\"],\"line_alpha\":[1.0],\"line_color\":[\"white\"],\"width\":[0.8],\"x\":[\"May\"],\"y\":[1381.0]}},\"id\":\"3f863d23-3466-4b95-a13d-a3aaedf9cf91\",\"type\":\"ColumnDataSource\"},{\"attributes\":{\"data_source\":{\"id\":\"5ce3ae50-bf1e-4f3e-a617-27d1996a4056\",\"type\":\"ColumnDataSource\"},\"glyph\":{\"id\":\"ba7a903a-0cdd-4586-89b3-8b994cd26a9a\",\"type\":\"Rect\"},\"hover_glyph\":null,\"nonselection_glyph\":null,\"selection_glyph\":null},\"id\":\"8f7b2b7f-4668-4ad2-b787-193c740259a5\",\"type\":\"GlyphRenderer\"},{\"attributes\":{},\"id\":\"0ab6f081-023d-48c3-b1d0-95189bbe3800\",\"type\":\"CategoricalTicker\"},{\"attributes\":{\"data_source\":{\"id\":\"2fb79aec-ce85-4d0f-a8eb-35af54e74b98\",\"type\":\"ColumnDataSource\"},\"glyph\":{\"id\":\"4015b32c-0900-4171-84e7-405b83a59934\",\"type\":\"Rect\"},\"hover_glyph\":null,\"nonselection_glyph\":null,\"selection_glyph\":null},\"id\":\"53aa422a-5b23-46a5-ba71-949ac4f0fbd7\",\"type\":\"GlyphRenderer\"},{\"attributes\":{\"data_source\":{\"id\":\"acd8c268-3f85-4096-a9d2-cb0d3ed0952b\",\"type\":\"ColumnDataSource\"},\"glyph\":{\"id\":\"71f6492c-5c5f-487f-ab31-5dee50062fa0\",\"type\":\"Rect\"},\"hover_glyph\":null,\"nonselection_glyph\":null,\"selection_glyph\":null},\"id\":\"5509b2da-5117-4d84-bc4e-dcbc5d47e5f6\",\"type\":\"GlyphRenderer\"},{\"attributes\":{\"plot\":{\"id\":\"0a7ed935-3440-49a9-9b46-4ef01a97719e\",\"subtype\":\"Chart\",\"type\":\"Plot\"}},\"id\":\"a230614e-6242-411c-b3e1-6d2b46b41ed1\",\"type\":\"PanTool\"},{\"attributes\":{\"plot\":{\"id\":\"0a7ed935-3440-49a9-9b46-4ef01a97719e\",\"subtype\":\"Chart\",\"type\":\"Plot\"}},\"id\":\"a5dfdced-7193-41fb-879e-2890ea6b7b13\",\"type\":\"SaveTool\"},{\"attributes\":{},\"id\":\"50b9ed8c-4330-4a8a-b0b5-78ff7afb34e9\",\"type\":\"CategoricalTickFormatter\"},{\"attributes\":{\"data_source\":{\"id\":\"a26a33df-7783-4f0d-934c-7dd1360b25e7\",\"type\":\"ColumnDataSource\"},\"glyph\":{\"id\":\"d14370cd-7c5c-4727-95cc-bc849a81cb73\",\"type\":\"Rect\"},\"hover_glyph\":null,\"nonselection_glyph\":null,\"selection_glyph\":null},\"id\":\"47b31540-a69e-49c1-9b6e-0ff479ef1eb9\",\"type\":\"GlyphRenderer\"},{\"attributes\":{\"data_source\":{\"id\":\"556f9173-a0fd-47dd-b673-f2e4d6bf3535\",\"type\":\"ColumnDataSource\"},\"glyph\":{\"id\":\"3cd3a39d-b7fe-4672-97d4-53be80061c48\",\"type\":\"Rect\"},\"hover_glyph\":null,\"nonselection_glyph\":null,\"selection_glyph\":null},\"id\":\"5bc2821e-6ead-4797-846d-448596fe93be\",\"type\":\"GlyphRenderer\"},{\"attributes\":{\"children\":[{\"id\":\"a0be7e8d-3187-462c-9b53-ba1700f53e0b\",\"subtype\":\"Chart\",\"type\":\"Plot\"},{\"id\":\"0a7ed935-3440-49a9-9b46-4ef01a97719e\",\"subtype\":\"Chart\",\"type\":\"Plot\"}]},\"id\":\"93c3b830-e5a2-4c21-bdb3-e7b8256159c7\",\"type\":\"Row\"},{\"attributes\":{\"below\":[{\"id\":\"058ce7be-8b38-4d75-87b6-6ffd8e6f364e\",\"type\":\"CategoricalAxis\"}],\"left\":[{\"id\":\"cb9a0dac-1619-4747-9bc2-b39086a9b2ea\",\"type\":\"LinearAxis\"}],\"plot_height\":450,\"plot_width\":450,\"renderers\":[{\"id\":\"867cf1cd-a8ca-4498-b19f-83d938a79dd4\",\"type\":\"BoxAnnotation\"},{\"id\":\"380c1700-821d-4657-86df-ecb2720120b6\",\"type\":\"GlyphRenderer\"},{\"id\":\"8f7b2b7f-4668-4ad2-b787-193c740259a5\",\"type\":\"GlyphRenderer\"},{\"id\":\"296ad5b4-2a13-4aa9-b1d5-300ca452f703\",\"type\":\"GlyphRenderer\"},{\"id\":\"0f9235b3-dd69-4220-bdc7-bfefa92dda3f\",\"type\":\"GlyphRenderer\"},{\"id\":\"fc17b735-1490-4bf9-9eba-1d8cee96a274\",\"type\":\"GlyphRenderer\"},{\"id\":\"8e46d69a-8d96-4a97-ad8b-de6241c21c30\",\"type\":\"GlyphRenderer\"},{\"id\":\"ed696dcd-a63b-44e5-ad3a-b9b408d61d3f\",\"type\":\"GlyphRenderer\"},{\"id\":\"87078908-96fa-4d8d-b473-135839520239\",\"type\":\"GlyphRenderer\"},{\"id\":\"4b117c91-3eac-4f59-b9c9-d6b717c70970\",\"type\":\"GlyphRenderer\"},{\"id\":\"817af15e-1d80-4397-a169-ed8139325e03\",\"type\":\"GlyphRenderer\"},{\"id\":\"5bc2821e-6ead-4797-846d-448596fe93be\",\"type\":\"GlyphRenderer\"},{\"id\":\"9b734e40-9337-40ec-bf20-ed39ff7b3748\",\"type\":\"GlyphRenderer\"},{\"id\":\"058ce7be-8b38-4d75-87b6-6ffd8e6f364e\",\"type\":\"CategoricalAxis\"},{\"id\":\"cb9a0dac-1619-4747-9bc2-b39086a9b2ea\",\"type\":\"LinearAxis\"},{\"id\":\"ec943e94-cc2f-47e1-b9e8-ae9833190ac2\",\"type\":\"Grid\"}],\"title\":{\"id\":\"58898837-cb24-43bc-8c39-d59acc4ec07a\",\"type\":\"Title\"},\"tool_events\":{\"id\":\"6d6f1f01-da01-4831-8611-8a79c0079ec0\",\"type\":\"ToolEvents\"},\"toolbar\":{\"id\":\"11a08c66-b059-4852-b1af-c9dedb3ab42d\",\"type\":\"Toolbar\"},\"x_mapper_type\":\"auto\",\"x_range\":{\"id\":\"92fc039f-ffd3-41bb-ade2-c78bbdc22df6\",\"type\":\"FactorRange\"},\"y_mapper_type\":\"auto\",\"y_range\":{\"id\":\"f1389460-d48b-4a10-a5d5-b934df05b435\",\"type\":\"Range1d\"}},\"id\":\"a0be7e8d-3187-462c-9b53-ba1700f53e0b\",\"subtype\":\"Chart\",\"type\":\"Plot\"},{\"attributes\":{\"data_source\":{\"id\":\"809a0848-17c2-4412-88f3-70988045fd5c\",\"type\":\"ColumnDataSource\"},\"glyph\":{\"id\":\"6cf3d7ec-0042-42dd-9863-7c1669206a4f\",\"type\":\"Rect\"},\"hover_glyph\":null,\"nonselection_glyph\":null,\"selection_glyph\":null},\"id\":\"8e46d69a-8d96-4a97-ad8b-de6241c21c30\",\"type\":\"GlyphRenderer\"},{\"attributes\":{\"fill_alpha\":{\"field\":\"fill_alpha\"},\"fill_color\":{\"field\":\"color\"},\"height\":{\"field\":\"height\",\"units\":\"data\"},\"line_color\":{\"field\":\"line_color\"},\"width\":{\"field\":\"width\",\"units\":\"data\"},\"x\":{\"field\":\"x\"},\"y\":{\"field\":\"y\"}},\"id\":\"5cd818ee-ab73-4731-82b1-e10353ac6ca9\",\"type\":\"Rect\"},{\"attributes\":{\"overlay\":{\"id\":\"867cf1cd-a8ca-4498-b19f-83d938a79dd4\",\"type\":\"BoxAnnotation\"},\"plot\":{\"id\":\"a0be7e8d-3187-462c-9b53-ba1700f53e0b\",\"subtype\":\"Chart\",\"type\":\"Plot\"}},\"id\":\"063e966d-dac7-4d3d-8af0-24c406977444\",\"type\":\"BoxZoomTool\"},{\"attributes\":{\"callback\":null,\"column_names\":[\"line_color\",\"line_alpha\",\"color\",\"fill_alpha\",\"height\",\"width\",\"y\",\"x\",\"label\"],\"data\":{\"chart_index\":[{\"label\":\"Feb\"}],\"color\":[\"#f22c40\"],\"fill_alpha\":[0.8],\"height\":[679.0],\"label\":[\"Feb\"],\"line_alpha\":[1.0],\"line_color\":[\"white\"],\"width\":[0.8],\"x\":[\"Feb\"],\"y\":[339.5]}},\"id\":\"5ce3ae50-bf1e-4f3e-a617-27d1996a4056\",\"type\":\"ColumnDataSource\"},{\"attributes\":{\"plot\":{\"id\":\"a0be7e8d-3187-462c-9b53-ba1700f53e0b\",\"subtype\":\"Chart\",\"type\":\"Plot\"}},\"id\":\"717d69eb-3005-421b-bd94-5a4b010d367e\",\"type\":\"WheelZoomTool\"},{\"attributes\":{\"fill_alpha\":{\"field\":\"fill_alpha\"},\"fill_color\":{\"field\":\"color\"},\"height\":{\"field\":\"height\",\"units\":\"data\"},\"line_color\":{\"field\":\"line_color\"},\"width\":{\"field\":\"width\",\"units\":\"data\"},\"x\":{\"field\":\"x\"},\"y\":{\"field\":\"y\"}},\"id\":\"c2718eae-3ca5-443a-826b-c39c755c6ff1\",\"type\":\"Rect\"},{\"attributes\":{\"callback\":null,\"column_names\":[\"line_color\",\"line_alpha\",\"color\",\"fill_alpha\",\"height\",\"width\",\"y\",\"x\",\"label\"],\"data\":{\"chart_index\":[{\"label\":\"Nov\"}],\"color\":[\"#f22c40\"],\"fill_alpha\":[0.8],\"height\":[5659.0],\"label\":[\"Nov\"],\"line_alpha\":[1.0],\"line_color\":[\"white\"],\"width\":[0.8],\"x\":[\"Nov\"],\"y\":[2829.5]}},\"id\":\"556f9173-a0fd-47dd-b673-f2e4d6bf3535\",\"type\":\"ColumnDataSource\"},{\"attributes\":{\"active_drag\":\"auto\",\"active_scroll\":\"auto\",\"active_tap\":\"auto\",\"tools\":[{\"id\":\"a9f25e75-d464-452e-b64b-73c6faa807b5\",\"type\":\"PanTool\"},{\"id\":\"717d69eb-3005-421b-bd94-5a4b010d367e\",\"type\":\"WheelZoomTool\"},{\"id\":\"063e966d-dac7-4d3d-8af0-24c406977444\",\"type\":\"BoxZoomTool\"},{\"id\":\"739a470c-5be1-4df8-ba1a-7db56f617515\",\"type\":\"SaveTool\"},{\"id\":\"d7f98e38-8763-477b-9b1b-4b34af65e23c\",\"type\":\"ResetTool\"},{\"id\":\"fd0ee706-82fc-457e-a39a-9a7140a1be73\",\"type\":\"HelpTool\"}]},\"id\":\"11a08c66-b059-4852-b1af-c9dedb3ab42d\",\"type\":\"Toolbar\"},{\"attributes\":{\"fill_alpha\":{\"field\":\"fill_alpha\"},\"fill_color\":{\"field\":\"color\"},\"height\":{\"field\":\"height\",\"units\":\"data\"},\"line_color\":{\"field\":\"line_color\"},\"width\":{\"field\":\"width\",\"units\":\"data\"},\"x\":{\"field\":\"x\"},\"y\":{\"field\":\"y\"}},\"id\":\"a099d538-054a-4847-b09f-b607122f8e91\",\"type\":\"Rect\"},{\"attributes\":{\"bottom_units\":\"screen\",\"fill_alpha\":{\"value\":0.5},\"fill_color\":{\"value\":\"lightgrey\"},\"left_units\":\"screen\",\"level\":\"overlay\",\"line_alpha\":{\"value\":1.0},\"line_color\":{\"value\":\"black\"},\"line_dash\":[4,4],\"line_width\":{\"value\":2},\"plot\":null,\"render_mode\":\"css\",\"right_units\":\"screen\",\"top_units\":\"screen\"},\"id\":\"0ee7a484-39c8-43f3-8af5-efc78bdc6ea4\",\"type\":\"BoxAnnotation\"},{\"attributes\":{\"fill_alpha\":{\"field\":\"fill_alpha\"},\"fill_color\":{\"field\":\"color\"},\"height\":{\"field\":\"height\",\"units\":\"data\"},\"line_color\":{\"field\":\"line_color\"},\"width\":{\"field\":\"width\",\"units\":\"data\"},\"x\":{\"field\":\"x\"},\"y\":{\"field\":\"y\"}},\"id\":\"2dfd1177-f5a9-4f24-bcfb-a4a4c7744250\",\"type\":\"Rect\"},{\"attributes\":{\"plot\":{\"id\":\"a0be7e8d-3187-462c-9b53-ba1700f53e0b\",\"subtype\":\"Chart\",\"type\":\"Plot\"}},\"id\":\"a9f25e75-d464-452e-b64b-73c6faa807b5\",\"type\":\"PanTool\"},{\"attributes\":{\"dimension\":1,\"plot\":{\"id\":\"0a7ed935-3440-49a9-9b46-4ef01a97719e\",\"subtype\":\"Chart\",\"type\":\"Plot\"},\"ticker\":{\"id\":\"e7b324d5-bc83-42b7-aff3-e5de9ad4e3f3\",\"type\":\"BasicTicker\"}},\"id\":\"3231c790-7d68-48e4-a762-376be752e6c3\",\"type\":\"Grid\"},{\"attributes\":{\"data_source\":{\"id\":\"26676a21-c083-4369-bd40-4c882707b116\",\"type\":\"ColumnDataSource\"},\"glyph\":{\"id\":\"364e3f47-34cb-402c-8152-292d70c63bce\",\"type\":\"Rect\"},\"hover_glyph\":null,\"nonselection_glyph\":null,\"selection_glyph\":null},\"id\":\"4b117c91-3eac-4f59-b9c9-d6b717c70970\",\"type\":\"GlyphRenderer\"},{\"attributes\":{},\"id\":\"2f8a46fd-6fbe-43af-8d17-cfefb4ca58dd\",\"type\":\"ToolEvents\"},{\"attributes\":{\"data_source\":{\"id\":\"36d4dbcb-7cd5-4790-ba7a-a0a17aaa3cdc\",\"type\":\"ColumnDataSource\"},\"glyph\":{\"id\":\"ff6da7ac-eaed-4265-ab17-d7cf57822d3b\",\"type\":\"Rect\"},\"hover_glyph\":null,\"nonselection_glyph\":null,\"selection_glyph\":null},\"id\":\"6d5d6bec-2fcb-4fcc-9908-b757152b28fc\",\"type\":\"GlyphRenderer\"}],\"root_ids\":[\"93c3b830-e5a2-4c21-bdb3-e7b8256159c7\"]},\"title\":\"Bokeh Application\",\"version\":\"0.12.0\"}};\n",
       "            var render_items = [{\"docid\":\"43e0cee9-a8fc-4b9d-9549-eba6adc30549\",\"elementid\":\"041b455e-84c7-4614-a157-c3d7909ca28f\",\"modelid\":\"93c3b830-e5a2-4c21-bdb3-e7b8256159c7\",\"notebook_comms_target\":\"3e6e7309-8109-4ae5-9ea2-7e82c50f18c9\"}];\n",
       "            \n",
       "            Bokeh.embed.embed_items(docs_json, render_items);\n",
       "        });\n",
       "      },\n",
       "      function(Bokeh) {\n",
       "      }\n",
       "    ];\n",
       "  \n",
       "    function run_inline_js() {\n",
       "      for (var i = 0; i < inline_js.length; i++) {\n",
       "        inline_js[i](window.Bokeh);\n",
       "      }\n",
       "    }\n",
       "  \n",
       "    if (window._bokeh_is_loading === 0) {\n",
       "      console.log(\"Bokeh: BokehJS loaded, going straight to plotting\");\n",
       "      run_inline_js();\n",
       "    } else {\n",
       "      load_libs(js_urls, function() {\n",
       "        console.log(\"Bokeh: BokehJS plotting callback run at\", now());\n",
       "        run_inline_js();\n",
       "      });\n",
       "    }\n",
       "  }(this));\n",
       "</script>"
      ]
     },
     "metadata": {},
     "output_type": "display_data"
    },
    {
     "data": {
      "text/html": [
       "<p><code>&lt;Bokeh Notebook handle for <strong>In[13]</strong>&gt;</code></p>"
      ],
      "text/plain": [
       "<bokeh.io._CommsHandle at 0x7f214ffd0890>"
      ]
     },
     "execution_count": 13,
     "metadata": {},
     "output_type": "execute_result"
    }
   ],
   "source": [
    "from bokeh.charts import Bar\n",
    "from bokeh.charts.attributes import CatAttr\n",
    "\n",
    "MONTHS = ['Jan', 'Feb', 'Mar', 'Apr', 'May', 'Jun', 'Jul', 'Aug', 'Sep', 'Oct', 'Nov', 'Dec']\n",
    "\n",
    "comment_dict = dict(data=comment_month[2], label=MONTHS)\n",
    "post_dict = dict(data=post_month[2], label=MONTHS)\n",
    "\n",
    "comment_bar = Bar(comment_dict, values='data', label=CatAttr(columns=['label'], sort=False), \n",
    "               plot_width=450, plot_height=450, legend=None, title='Comments count')\n",
    "post_bar = Bar(post_dict, values='data', label=CatAttr(columns=['label'], sort=False), \n",
    "             plot_width=450, plot_height=450, legend=None, title='Posts count')\n",
    "\n",
    "comment_bar.xaxis.axis_label = post_bar.xaxis.axis_label = ''\n",
    "comment_bar.yaxis.axis_label = 'comments'\n",
    "post_bar.yaxis.axis_label = 'posts'\n",
    "\n",
    "show(row(comment_bar, post_bar))"
   ]
  }
 ],
 "metadata": {
  "kernelspec": {
   "display_name": "Python [Root]",
   "language": "python",
   "name": "Python [Root]"
  },
  "language_info": {
   "codemirror_mode": {
    "name": "ipython",
    "version": 2
   },
   "file_extension": ".py",
   "mimetype": "text/x-python",
   "name": "python",
   "nbconvert_exporter": "python",
   "pygments_lexer": "ipython2",
   "version": "2.7.12"
  }
 },
 "nbformat": 4,
 "nbformat_minor": 0
}
