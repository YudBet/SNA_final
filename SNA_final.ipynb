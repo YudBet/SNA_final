{
 "cells": [
  {
   "cell_type": "markdown",
   "metadata": {},
   "source": [
    "# Basic information"
   ]
  },
  {
   "cell_type": "markdown",
   "metadata": {},
   "source": [
    "## three fanspages\n",
    "* imeifoods id='202586376996' \n",
    "* iLoveKCmilk id='180080052032125' \n",
    "* Dominos.tw id='115361891807579'"
   ]
  },
  {
   "cell_type": "code",
   "execution_count": 1,
   "metadata": {
    "collapsed": false
   },
   "outputs": [
    {
     "name": "stdout",
     "output_type": "stream",
     "text": [
      "I choose three fanpages to analyze as following\n"
     ]
    },
    {
     "data": {
      "text/html": [
       "<a href=\"https://www.facebook.com/imeifoods/\" target=\"_blank\">imeifoods</a>"
      ],
      "text/plain": [
       "<IPython.core.display.HTML object>"
      ]
     },
     "metadata": {},
     "output_type": "display_data"
    },
    {
     "data": {
      "text/html": [
       "<a href=\"https://www.facebook.com/iLoveKCmilk/\" target=\"_blank\">iLoveKCmilk</a>"
      ],
      "text/plain": [
       "<IPython.core.display.HTML object>"
      ]
     },
     "metadata": {},
     "output_type": "display_data"
    },
    {
     "data": {
      "text/html": [
       "<a href=\"https://www.facebook.com/Dominos.tw/\" target=\"_blank\">Dominos.tw</a>"
      ],
      "text/plain": [
       "<IPython.core.display.HTML object>"
      ]
     },
     "metadata": {},
     "output_type": "display_data"
    }
   ],
   "source": [
    "import pyes\n",
    "import json\n",
    "from IPython.core.display import display, HTML\n",
    "\n",
    "\n",
    "host = '192.168.1.100:9200'\n",
    "conn = pyes.es.ES(host)\n",
    "\n",
    "fnames = ['imeifoods', 'iLoveKCmilk', 'Dominos.tw']\n",
    "fids = ['202586376996', '180080052032125', '115361891807579']\n",
    "\n",
    "tqs = [pyes.query.TermQuery(field=\"fid\", value=fid) for fid in fids]\n",
    "rs = [conn.search(query=tq, indices='facebook_nested', doc_types='fanpage') for tq in tqs]\n",
    "\n",
    "print 'I choose three fanpages to analyze as following'\n",
    "for r, name in zip(rs, fnames):\n",
    "    display(HTML('<a href='+ json.dumps(r[0]['link'], indent=2) + ' target=\"_blank\">' + name + '</a>'))"
   ]
  },
  {
   "cell_type": "markdown",
   "metadata": {},
   "source": [
    "## searching range (2015 whole year)"
   ]
  },
  {
   "cell_type": "code",
   "execution_count": 2,
   "metadata": {
    "collapsed": true
   },
   "outputs": [],
   "source": [
    "ESR = pyes.ESRange(field='created_time', from_value='2015-01-02T00:00:00+0800', to_value='2015-12-31T23:59:59+0800', \n",
    "                   include_lower=True, include_upper=False) # use whole data in 2015\n",
    "rq = pyes.query.RangeQuery(qrange=ESR)\n",
    "bqs = [pyes.query.BoolQuery().add_must(rq).add_must(tq) for tq in tqs]"
   ]
  },
  {
   "cell_type": "markdown",
   "metadata": {},
   "source": [
    "## # of comments"
   ]
  },
  {
   "cell_type": "code",
   "execution_count": 3,
   "metadata": {
    "collapsed": false
   },
   "outputs": [
    {
     "name": "stdout",
     "output_type": "stream",
     "text": [
      "[25541, 15183, 35130]\n"
     ]
    }
   ],
   "source": [
    "res = [conn.search(query=bq, indices='facebook_nested', doc_types='comment') for bq in bqs]\n",
    "print [len(r) for r in res]"
   ]
  },
  {
   "cell_type": "markdown",
   "metadata": {},
   "source": [
    "## # of posts"
   ]
  },
  {
   "cell_type": "code",
   "execution_count": 4,
   "metadata": {
    "collapsed": false
   },
   "outputs": [
    {
     "name": "stdout",
     "output_type": "stream",
     "text": [
      "[207, 104, 364]\n"
     ]
    }
   ],
   "source": [
    "res = [conn.search(query=bq, indices='facebook_nested', doc_types='post') for bq in bqs]\n",
    "print [len(r) for r in res]"
   ]
  },
  {
   "cell_type": "markdown",
   "metadata": {},
   "source": [
    "## aggregate by 12 months"
   ]
  },
  {
   "cell_type": "code",
   "execution_count": 5,
   "metadata": {
    "collapsed": true
   },
   "outputs": [],
   "source": [
    "DHAgg = pyes.aggs.DateHistogramAgg('month', field='created_time', interval='month')\n",
    "\n",
    "qs = [pyes.query.Search(bq) for bq in bqs]\n",
    "for q in qs:\n",
    "    q.agg.add(DHAgg)"
   ]
  },
  {
   "cell_type": "markdown",
   "metadata": {},
   "source": [
    "## # of comments in 12 months"
   ]
  },
  {
   "cell_type": "code",
   "execution_count": 6,
   "metadata": {
    "collapsed": false
   },
   "outputs": [
    {
     "name": "stdout",
     "output_type": "stream",
     "text": [
      "[[654, 903, 5042, 1150, 1461, 1821, 5581, 480, 1149, 2685, 2560, 2055], [5747, 1237, 2, 609, 2385, 2524, 339, 169, 464, 1535, 22, 150], [1296, 679, 1797, 964, 2762, 1655, 2388, 4970, 4386, 3053, 5659, 5521]]\n"
     ]
    }
   ],
   "source": [
    "rs = [conn.search(query=q, indices='facebook_nested', doc_types='comment') for q in qs]\n",
    "comment_month = [[rs[i].aggs['month']['buckets'][m]['doc_count'] for m in range(12)] for i in range(3)]\n",
    "print comment_month"
   ]
  },
  {
   "cell_type": "markdown",
   "metadata": {},
   "source": [
    "## # of posts in 12 months"
   ]
  },
  {
   "cell_type": "code",
   "execution_count": 7,
   "metadata": {
    "collapsed": false
   },
   "outputs": [
    {
     "name": "stdout",
     "output_type": "stream",
     "text": [
      "[[16, 15, 15, 12, 14, 15, 28, 14, 17, 22, 15, 24], [17, 8, 0, 9, 10, 13, 11, 10, 8, 12, 1, 5], [40, 25, 26, 38, 32, 33, 35, 29, 25, 26, 30, 25]]\n"
     ]
    }
   ],
   "source": [
    "rs = [conn.search(query=q, indices='facebook_nested', doc_types='post') for q in qs]\n",
    "post_month = [[rs[i].aggs['month']['buckets'][m]['doc_count'] for m in range(12)] for i in range(3)]\n",
    "print post_month"
   ]
  },
  {
   "cell_type": "markdown",
   "metadata": {},
   "source": []
  }
 ],
 "metadata": {
  "kernelspec": {
   "display_name": "Python [Root]",
   "language": "python",
   "name": "Python [Root]"
  },
  "language_info": {
   "codemirror_mode": {
    "name": "ipython",
    "version": 2
   },
   "file_extension": ".py",
   "mimetype": "text/x-python",
   "name": "python",
   "nbconvert_exporter": "python",
   "pygments_lexer": "ipython2",
   "version": "2.7.12"
  }
 },
 "nbformat": 4,
 "nbformat_minor": 0
}
