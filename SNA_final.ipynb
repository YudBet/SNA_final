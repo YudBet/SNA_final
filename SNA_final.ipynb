{
 "cells": [
  {
   "cell_type": "markdown",
   "metadata": {},
   "source": [
    "# Basic information"
   ]
  },
  {
   "cell_type": "markdown",
   "metadata": {},
   "source": [
    "## three fanspages\n",
    "* imeifoods id='202586376996' \n",
    "* iLoveKCmilk id='180080052032125' \n",
    "* Dominos.tw id='115361891807579'"
   ]
  },
  {
   "cell_type": "code",
   "execution_count": 1,
   "metadata": {
    "collapsed": false
   },
   "outputs": [
    {
     "name": "stdout",
     "output_type": "stream",
     "text": [
      "I choose three fanpages to analyze as following\n"
     ]
    },
    {
     "data": {
      "text/html": [
       "<a href=\"https://www.facebook.com/imeifoods/\" target=\"_blank\">imeifoods</a>"
      ],
      "text/plain": [
       "<IPython.core.display.HTML object>"
      ]
     },
     "metadata": {},
     "output_type": "display_data"
    },
    {
     "data": {
      "text/html": [
       "<a href=\"https://www.facebook.com/iLoveKCmilk/\" target=\"_blank\">iLoveKCmilk</a>"
      ],
      "text/plain": [
       "<IPython.core.display.HTML object>"
      ]
     },
     "metadata": {},
     "output_type": "display_data"
    },
    {
     "data": {
      "text/html": [
       "<a href=\"https://www.facebook.com/Dominos.tw/\" target=\"_blank\">Dominos.tw</a>"
      ],
      "text/plain": [
       "<IPython.core.display.HTML object>"
      ]
     },
     "metadata": {},
     "output_type": "display_data"
    }
   ],
   "source": [
    "import pyes\n",
    "import json\n",
    "from IPython.core.display import display, HTML\n",
    "\n",
    "\n",
    "host = '192.168.1.100:9200'\n",
    "conn = pyes.es.ES(host)\n",
    "\n",
    "fnames = ['imeifoods', 'iLoveKCmilk', 'Dominos.tw']\n",
    "fids = ['202586376996', '180080052032125', '115361891807579']\n",
    "\n",
    "tqs = [pyes.query.TermQuery(field=\"fid\", value=fid) for fid in fids]\n",
    "rs = [conn.search(query=tq, indices='facebook_nested', doc_types='fanpage') for tq in tqs]\n",
    "\n",
    "print 'I choose three fanpages to analyze as following'\n",
    "for r, name in zip(rs, fnames):\n",
    "    display(HTML('<a href='+ json.dumps(r[0]['link'], indent=2) + ' target=\"_blank\">' + name + '</a>'))"
   ]
  },
  {
   "cell_type": "markdown",
   "metadata": {},
   "source": [
    "## searching range (2015 whole year)"
   ]
  },
  {
   "cell_type": "code",
   "execution_count": 2,
   "metadata": {
    "collapsed": true
   },
   "outputs": [],
   "source": [
    "ESR = pyes.ESRange(field='created_time', from_value='2015-01-02T00:00:00+0800', to_value='2015-12-31T23:59:59+0800', \n",
    "                   include_lower=True, include_upper=False) # use whole data in 2015\n",
    "rq = pyes.query.RangeQuery(qrange=ESR)\n",
    "bqs = [pyes.query.BoolQuery().add_must(rq).add_must(tq) for tq in tqs]"
   ]
  },
  {
   "cell_type": "markdown",
   "metadata": {},
   "source": [
    "## # of comments"
   ]
  },
  {
   "cell_type": "code",
   "execution_count": 3,
   "metadata": {
    "collapsed": false
   },
   "outputs": [
    {
     "name": "stdout",
     "output_type": "stream",
     "text": [
      "[25541, 15183, 35130]\n"
     ]
    }
   ],
   "source": [
    "res = [conn.search(query=bq, indices='facebook_nested', doc_types='comment') for bq in bqs]\n",
    "print [len(r) for r in res]"
   ]
  },
  {
   "cell_type": "markdown",
   "metadata": {},
   "source": [
    "## # of posts"
   ]
  },
  {
   "cell_type": "code",
   "execution_count": 4,
   "metadata": {
    "collapsed": false
   },
   "outputs": [
    {
     "name": "stdout",
     "output_type": "stream",
     "text": [
      "[207, 104, 364]\n"
     ]
    }
   ],
   "source": [
    "res = [conn.search(query=bq, indices='facebook_nested', doc_types='post') for bq in bqs]\n",
    "print [len(r) for r in res]"
   ]
  },
  {
   "cell_type": "markdown",
   "metadata": {},
   "source": [
    "## aggregate by 12 months"
   ]
  },
  {
   "cell_type": "code",
   "execution_count": 5,
   "metadata": {
    "collapsed": true
   },
   "outputs": [],
   "source": [
    "DHAgg = pyes.aggs.DateHistogramAgg('month', field='created_time', interval='month')\n",
    "\n",
    "qs = [pyes.query.Search(bq) for bq in bqs]\n",
    "for q in qs:\n",
    "    q.agg.add(DHAgg)"
   ]
  },
  {
   "cell_type": "markdown",
   "metadata": {},
   "source": [
    "## # of comments in 12 months"
   ]
  },
  {
   "cell_type": "code",
   "execution_count": 6,
   "metadata": {
    "collapsed": false
   },
   "outputs": [
    {
     "name": "stdout",
     "output_type": "stream",
     "text": [
      "[[654, 903, 5042, 1150, 1461, 1821, 5581, 480, 1149, 2685, 2560, 2055], [5747, 1237, 2, 609, 2385, 2524, 339, 169, 464, 1535, 22, 150], [1296, 679, 1797, 964, 2762, 1655, 2388, 4970, 4386, 3053, 5659, 5521]]\n"
     ]
    }
   ],
   "source": [
    "rs = [conn.search(query=q, indices='facebook_nested', doc_types='comment') for q in qs]\n",
    "comment_month = [[rs[i].aggs['month']['buckets'][m]['doc_count'] for m in range(12)] for i in range(3)]\n",
    "print comment_month"
   ]
  },
  {
   "cell_type": "markdown",
   "metadata": {},
   "source": [
    "## # of posts in 12 months"
   ]
  },
  {
   "cell_type": "code",
   "execution_count": 7,
   "metadata": {
    "collapsed": false
   },
   "outputs": [
    {
     "name": "stdout",
     "output_type": "stream",
     "text": [
      "[[16, 15, 15, 12, 14, 15, 28, 14, 17, 22, 15, 24], [17, 8, 0, 9, 10, 13, 11, 10, 8, 12, 1, 5], [40, 25, 26, 38, 32, 33, 35, 29, 25, 26, 30, 25]]\n"
     ]
    }
   ],
   "source": [
    "rs = [conn.search(query=q, indices='facebook_nested', doc_types='post') for q in qs]\n",
    "post_month = [[rs[i].aggs['month']['buckets'][m]['doc_count'] for m in range(12)] for i in range(3)]\n",
    "print post_month"
   ]
  },
  {
   "cell_type": "markdown",
   "metadata": {},
   "source": []
  },
  {
   "cell_type": "code",
   "execution_count": null,
   "metadata": {
    "collapsed": true
   },
   "outputs": [],
   "source": []
  },
  {
   "cell_type": "markdown",
   "metadata": {},
   "source": [
    "# Visualization: use Bokeh"
   ]
  },
  {
   "cell_type": "code",
   "execution_count": 8,
   "metadata": {
    "collapsed": false
   },
   "outputs": [
    {
     "data": {
      "text/html": [
       "\n",
       "    <div class=\"bk-root\">\n",
       "        <a href=\"http://bokeh.pydata.org\" target=\"_blank\" class=\"bk-logo bk-logo-small bk-logo-notebook\"></a>\n",
       "        <span id=\"0d9b6c7e-3873-493c-bae3-5a8e802e0dac\">Loading BokehJS ...</span>\n",
       "    </div>"
      ]
     },
     "metadata": {},
     "output_type": "display_data"
    },
    {
     "data": {
      "application/javascript": [
       "\n",
       "(function(global) {\n",
       "  function now() {\n",
       "    return new Date();\n",
       "  }\n",
       "\n",
       "  if (typeof (window._bokeh_onload_callbacks) === \"undefined\") {\n",
       "    window._bokeh_onload_callbacks = [];\n",
       "  }\n",
       "\n",
       "  function run_callbacks() {\n",
       "    window._bokeh_onload_callbacks.forEach(function(callback) { callback() });\n",
       "    delete window._bokeh_onload_callbacks\n",
       "    console.info(\"Bokeh: all callbacks have finished\");\n",
       "  }\n",
       "\n",
       "  function load_libs(js_urls, callback) {\n",
       "    window._bokeh_onload_callbacks.push(callback);\n",
       "    if (window._bokeh_is_loading > 0) {\n",
       "      console.log(\"Bokeh: BokehJS is being loaded, scheduling callback at\", now());\n",
       "      return null;\n",
       "    }\n",
       "    if (js_urls == null || js_urls.length === 0) {\n",
       "      run_callbacks();\n",
       "      return null;\n",
       "    }\n",
       "    console.log(\"Bokeh: BokehJS not loaded, scheduling load and callback at\", now());\n",
       "    window._bokeh_is_loading = js_urls.length;\n",
       "    for (var i = 0; i < js_urls.length; i++) {\n",
       "      var url = js_urls[i];\n",
       "      var s = document.createElement('script');\n",
       "      s.src = url;\n",
       "      s.async = false;\n",
       "      s.onreadystatechange = s.onload = function() {\n",
       "        window._bokeh_is_loading--;\n",
       "        if (window._bokeh_is_loading === 0) {\n",
       "          console.log(\"Bokeh: all BokehJS libraries loaded\");\n",
       "          run_callbacks()\n",
       "        }\n",
       "      };\n",
       "      s.onerror = function() {\n",
       "        console.warn(\"failed to load library \" + url);\n",
       "      };\n",
       "      console.log(\"Bokeh: injecting script tag for BokehJS library: \", url);\n",
       "      document.getElementsByTagName(\"head\")[0].appendChild(s);\n",
       "    }\n",
       "  };\n",
       "\n",
       "  var js_urls = ['https://cdn.pydata.org/bokeh/release/bokeh-0.12.0.min.js', 'https://cdn.pydata.org/bokeh/release/bokeh-widgets-0.12.0.min.js', 'https://cdn.pydata.org/bokeh/release/bokeh-compiler-0.12.0.min.js'];\n",
       "\n",
       "  var inline_js = [\n",
       "    function(Bokeh) {\n",
       "      Bokeh.set_log_level(\"info\");\n",
       "    },\n",
       "    \n",
       "    function(Bokeh) {\n",
       "      Bokeh.$(\"#0d9b6c7e-3873-493c-bae3-5a8e802e0dac\").text(\"BokehJS successfully loaded\");\n",
       "    },\n",
       "    function(Bokeh) {\n",
       "      console.log(\"Bokeh: injecting CSS: https://cdn.pydata.org/bokeh/release/bokeh-0.12.0.min.css\");\n",
       "      Bokeh.embed.inject_css(\"https://cdn.pydata.org/bokeh/release/bokeh-0.12.0.min.css\");\n",
       "      console.log(\"Bokeh: injecting CSS: https://cdn.pydata.org/bokeh/release/bokeh-widgets-0.12.0.min.css\");\n",
       "      Bokeh.embed.inject_css(\"https://cdn.pydata.org/bokeh/release/bokeh-widgets-0.12.0.min.css\");\n",
       "    }\n",
       "  ];\n",
       "\n",
       "  function run_inline_js() {\n",
       "    for (var i = 0; i < inline_js.length; i++) {\n",
       "      inline_js[i](window.Bokeh);\n",
       "    }\n",
       "  }\n",
       "\n",
       "  if (window._bokeh_is_loading === 0) {\n",
       "    console.log(\"Bokeh: BokehJS loaded, going straight to plotting\");\n",
       "    run_inline_js();\n",
       "  } else {\n",
       "    load_libs(js_urls, function() {\n",
       "      console.log(\"Bokeh: BokehJS plotting callback run at\", now());\n",
       "      run_inline_js();\n",
       "    });\n",
       "  }\n",
       "}(this));"
      ]
     },
     "metadata": {},
     "output_type": "display_data"
    }
   ],
   "source": [
    "from bokeh.io import push_notebook, show, output_notebook\n",
    "from bokeh.layouts import row\n",
    "from bokeh.plotting import figure\n",
    "output_notebook()"
   ]
  },
  {
   "cell_type": "markdown",
   "metadata": {},
   "source": [
    "## bar charts: imeifoods"
   ]
  },
  {
   "cell_type": "code",
   "execution_count": 9,
   "metadata": {
    "collapsed": false
   },
   "outputs": [
    {
     "data": {
      "text/html": [
       "\n",
       "\n",
       "    <div class=\"bk-root\">\n",
       "        <div class=\"plotdiv\" id=\"a8b3cb23-915d-4d8f-a20e-38a220acfc37\"></div>\n",
       "    </div>\n",
       "<script type=\"text/javascript\">\n",
       "  \n",
       "  (function(global) {\n",
       "    function now() {\n",
       "      return new Date();\n",
       "    }\n",
       "  \n",
       "    if (typeof (window._bokeh_onload_callbacks) === \"undefined\") {\n",
       "      window._bokeh_onload_callbacks = [];\n",
       "    }\n",
       "  \n",
       "    function run_callbacks() {\n",
       "      window._bokeh_onload_callbacks.forEach(function(callback) { callback() });\n",
       "      delete window._bokeh_onload_callbacks\n",
       "      console.info(\"Bokeh: all callbacks have finished\");\n",
       "    }\n",
       "  \n",
       "    function load_libs(js_urls, callback) {\n",
       "      window._bokeh_onload_callbacks.push(callback);\n",
       "      if (window._bokeh_is_loading > 0) {\n",
       "        console.log(\"Bokeh: BokehJS is being loaded, scheduling callback at\", now());\n",
       "        return null;\n",
       "      }\n",
       "      if (js_urls == null || js_urls.length === 0) {\n",
       "        run_callbacks();\n",
       "        return null;\n",
       "      }\n",
       "      console.log(\"Bokeh: BokehJS not loaded, scheduling load and callback at\", now());\n",
       "      window._bokeh_is_loading = js_urls.length;\n",
       "      for (var i = 0; i < js_urls.length; i++) {\n",
       "        var url = js_urls[i];\n",
       "        var s = document.createElement('script');\n",
       "        s.src = url;\n",
       "        s.async = false;\n",
       "        s.onreadystatechange = s.onload = function() {\n",
       "          window._bokeh_is_loading--;\n",
       "          if (window._bokeh_is_loading === 0) {\n",
       "            console.log(\"Bokeh: all BokehJS libraries loaded\");\n",
       "            run_callbacks()\n",
       "          }\n",
       "        };\n",
       "        s.onerror = function() {\n",
       "          console.warn(\"failed to load library \" + url);\n",
       "        };\n",
       "        console.log(\"Bokeh: injecting script tag for BokehJS library: \", url);\n",
       "        document.getElementsByTagName(\"head\")[0].appendChild(s);\n",
       "      }\n",
       "    };var element = document.getElementById(\"a8b3cb23-915d-4d8f-a20e-38a220acfc37\");\n",
       "    if (element == null) {\n",
       "      console.log(\"Bokeh: ERROR: autoload.js configured with elementid 'a8b3cb23-915d-4d8f-a20e-38a220acfc37' but no matching script tag was found. \")\n",
       "      return false;\n",
       "    }\n",
       "  \n",
       "    var js_urls = [];\n",
       "  \n",
       "    var inline_js = [\n",
       "      function(Bokeh) {\n",
       "        Bokeh.$(function() {\n",
       "            var docs_json = {\"dc79551b-15e2-4876-a099-f38b255d16aa\":{\"roots\":{\"references\":[{\"attributes\":{\"callback\":null,\"column_names\":[\"line_color\",\"line_alpha\",\"color\",\"fill_alpha\",\"height\",\"width\",\"y\",\"x\",\"label\"],\"data\":{\"chart_index\":[{\"label\":\"Mar\"}],\"color\":[\"#f22c40\"],\"fill_alpha\":[0.8],\"height\":[5042.0],\"label\":[\"Mar\"],\"line_alpha\":[1.0],\"line_color\":[\"white\"],\"width\":[0.8],\"x\":[\"Mar\"],\"y\":[2521.0]}},\"id\":\"a8919056-e503-4156-8dbe-6bdfd29c0f96\",\"type\":\"ColumnDataSource\"},{\"attributes\":{\"fill_alpha\":{\"field\":\"fill_alpha\"},\"fill_color\":{\"field\":\"color\"},\"height\":{\"field\":\"height\",\"units\":\"data\"},\"line_color\":{\"field\":\"line_color\"},\"width\":{\"field\":\"width\",\"units\":\"data\"},\"x\":{\"field\":\"x\"},\"y\":{\"field\":\"y\"}},\"id\":\"88f8982f-a05a-4627-80ed-545d6b8e128e\",\"type\":\"Rect\"},{\"attributes\":{\"callback\":null,\"column_names\":[\"line_color\",\"line_alpha\",\"color\",\"fill_alpha\",\"height\",\"width\",\"y\",\"x\",\"label\"],\"data\":{\"chart_index\":[{\"label\":\"Aug\"}],\"color\":[\"#f22c40\"],\"fill_alpha\":[0.8],\"height\":[14.0],\"label\":[\"Aug\"],\"line_alpha\":[1.0],\"line_color\":[\"white\"],\"width\":[0.8],\"x\":[\"Aug\"],\"y\":[7.0]}},\"id\":\"1ae839b4-20c3-4756-bd2d-0152841862bf\",\"type\":\"ColumnDataSource\"},{\"attributes\":{\"callback\":null,\"column_names\":[\"line_color\",\"line_alpha\",\"color\",\"fill_alpha\",\"height\",\"width\",\"y\",\"x\",\"label\"],\"data\":{\"chart_index\":[{\"label\":\"Feb\"}],\"color\":[\"#f22c40\"],\"fill_alpha\":[0.8],\"height\":[903.0],\"label\":[\"Feb\"],\"line_alpha\":[1.0],\"line_color\":[\"white\"],\"width\":[0.8],\"x\":[\"Feb\"],\"y\":[451.5]}},\"id\":\"eaa61baa-dd15-46c2-ab71-1e39c93531c6\",\"type\":\"ColumnDataSource\"},{\"attributes\":{\"below\":[{\"id\":\"69ae2921-33bd-406f-846f-370cdf1c71c5\",\"type\":\"CategoricalAxis\"}],\"left\":[{\"id\":\"ec46ac42-f65f-4412-bbac-60bbb4ebadbc\",\"type\":\"LinearAxis\"}],\"plot_height\":450,\"plot_width\":450,\"renderers\":[{\"id\":\"f4776c48-b96f-4ea8-8fbd-7f06152651ef\",\"type\":\"BoxAnnotation\"},{\"id\":\"5f07833d-d0cf-4672-b3ff-575328db6810\",\"type\":\"GlyphRenderer\"},{\"id\":\"0461bed4-de99-4a18-ab77-c5b200f15b6e\",\"type\":\"GlyphRenderer\"},{\"id\":\"c5432ada-a988-4d81-b1db-cacfb32766ec\",\"type\":\"GlyphRenderer\"},{\"id\":\"5b300b1b-3925-4c8d-abc3-ea7029cceeca\",\"type\":\"GlyphRenderer\"},{\"id\":\"aeb17c01-7979-4471-80dd-47974dd54c34\",\"type\":\"GlyphRenderer\"},{\"id\":\"d21e249d-d497-4efc-9e27-14a3a659dea0\",\"type\":\"GlyphRenderer\"},{\"id\":\"8af21d7a-fb6a-4c11-8337-4e06f06020b6\",\"type\":\"GlyphRenderer\"},{\"id\":\"944080e3-7456-4fb5-948a-782a30ee639e\",\"type\":\"GlyphRenderer\"},{\"id\":\"b7dffaa5-982f-4024-b57b-496b36487efe\",\"type\":\"GlyphRenderer\"},{\"id\":\"18079023-fd25-4270-a85d-cd780d4001a5\",\"type\":\"GlyphRenderer\"},{\"id\":\"a6c63e48-c107-4eb7-9c9b-3b9e1b4551a3\",\"type\":\"GlyphRenderer\"},{\"id\":\"c0389f60-3d6b-4793-9e60-06f1eb2db3f3\",\"type\":\"GlyphRenderer\"},{\"id\":\"69ae2921-33bd-406f-846f-370cdf1c71c5\",\"type\":\"CategoricalAxis\"},{\"id\":\"ec46ac42-f65f-4412-bbac-60bbb4ebadbc\",\"type\":\"LinearAxis\"},{\"id\":\"7828362a-1264-4840-af46-a9c04d361813\",\"type\":\"Grid\"}],\"title\":{\"id\":\"61adc3d6-9765-4e95-aafa-d45f4ee623e8\",\"type\":\"Title\"},\"tool_events\":{\"id\":\"e981961f-0acf-4a36-825a-01b085c42449\",\"type\":\"ToolEvents\"},\"toolbar\":{\"id\":\"51ac76ec-c3d8-4697-b066-ea8949366225\",\"type\":\"Toolbar\"},\"x_mapper_type\":\"auto\",\"x_range\":{\"id\":\"6be8f883-c5ff-4caf-8b4a-520988ea6b35\",\"type\":\"FactorRange\"},\"y_mapper_type\":\"auto\",\"y_range\":{\"id\":\"e7b34011-737b-4689-8a48-680c8becf6d4\",\"type\":\"Range1d\"}},\"id\":\"8281d3d8-5096-4866-bad5-4f306a628193\",\"subtype\":\"Chart\",\"type\":\"Plot\"},{\"attributes\":{\"data_source\":{\"id\":\"c08e4ac8-644b-43a7-836d-3d454584e71d\",\"type\":\"ColumnDataSource\"},\"glyph\":{\"id\":\"f3a7887a-c1e5-4579-a91c-35308f2c46ae\",\"type\":\"Rect\"},\"hover_glyph\":null,\"nonselection_glyph\":null,\"selection_glyph\":null},\"id\":\"b7dffaa5-982f-4024-b57b-496b36487efe\",\"type\":\"GlyphRenderer\"},{\"attributes\":{},\"id\":\"4b43d4ff-687b-4d06-958d-fd753ea77449\",\"type\":\"ToolEvents\"},{\"attributes\":{\"fill_alpha\":{\"field\":\"fill_alpha\"},\"fill_color\":{\"field\":\"color\"},\"height\":{\"field\":\"height\",\"units\":\"data\"},\"line_color\":{\"field\":\"line_color\"},\"width\":{\"field\":\"width\",\"units\":\"data\"},\"x\":{\"field\":\"x\"},\"y\":{\"field\":\"y\"}},\"id\":\"8db5d7f9-9aa1-45a4-8ca0-ad0dd9cc17e8\",\"type\":\"Rect\"},{\"attributes\":{},\"id\":\"70f83f04-0d27-46a7-bca3-cc1ada0d3ac3\",\"type\":\"BasicTickFormatter\"},{\"attributes\":{\"below\":[{\"id\":\"bfaa4104-ee65-41c6-80e0-d2df0995b4c0\",\"type\":\"CategoricalAxis\"}],\"left\":[{\"id\":\"23488fe8-4c62-47ad-ac8e-96a815f96e1c\",\"type\":\"LinearAxis\"}],\"plot_height\":450,\"plot_width\":450,\"renderers\":[{\"id\":\"ce7378f6-8c9e-4153-9f63-5483785d60a1\",\"type\":\"BoxAnnotation\"},{\"id\":\"b032c523-52e9-463f-a223-c9ff934b15b1\",\"type\":\"GlyphRenderer\"},{\"id\":\"a737abb3-2cb5-4d59-970a-727e112fe1fa\",\"type\":\"GlyphRenderer\"},{\"id\":\"d1b94632-16f0-4cbd-ba43-bf602265a07f\",\"type\":\"GlyphRenderer\"},{\"id\":\"3ee85a3f-67d8-464f-afde-56b55e876bb8\",\"type\":\"GlyphRenderer\"},{\"id\":\"ac150a73-890b-45f9-960f-fb950a2319ce\",\"type\":\"GlyphRenderer\"},{\"id\":\"4835c0d1-239d-4d42-8787-366c5dc3d236\",\"type\":\"GlyphRenderer\"},{\"id\":\"ccb3395a-fff8-42bf-b5d1-7d8f49b380f4\",\"type\":\"GlyphRenderer\"},{\"id\":\"707cd0f1-3b13-4ba1-97a8-bd892f086db5\",\"type\":\"GlyphRenderer\"},{\"id\":\"07c45c7e-703a-4276-adad-c89e054acf0f\",\"type\":\"GlyphRenderer\"},{\"id\":\"6252739f-566c-4b43-8665-0b447db848ef\",\"type\":\"GlyphRenderer\"},{\"id\":\"0c200b9d-ae44-4c5b-a5c9-0e61755dc4da\",\"type\":\"GlyphRenderer\"},{\"id\":\"5869b0f0-b7b4-4161-ae18-f0dd1c6e4fab\",\"type\":\"GlyphRenderer\"},{\"id\":\"bfaa4104-ee65-41c6-80e0-d2df0995b4c0\",\"type\":\"CategoricalAxis\"},{\"id\":\"23488fe8-4c62-47ad-ac8e-96a815f96e1c\",\"type\":\"LinearAxis\"},{\"id\":\"269036ec-b656-4a15-ac3b-53c9f0884745\",\"type\":\"Grid\"}],\"title\":{\"id\":\"c6205d53-bc7c-4124-b765-75d0d8b35c57\",\"type\":\"Title\"},\"tool_events\":{\"id\":\"4b43d4ff-687b-4d06-958d-fd753ea77449\",\"type\":\"ToolEvents\"},\"toolbar\":{\"id\":\"f6102bef-42a1-47ac-b293-908aba2e2be6\",\"type\":\"Toolbar\"},\"x_mapper_type\":\"auto\",\"x_range\":{\"id\":\"45ce3293-b281-47ef-8348-81f2d4b1b2c2\",\"type\":\"FactorRange\"},\"y_mapper_type\":\"auto\",\"y_range\":{\"id\":\"7fdbe8bb-c429-43b7-867d-c8641d3de56f\",\"type\":\"Range1d\"}},\"id\":\"81e068f6-14c3-4b35-a636-2d94dda5d806\",\"subtype\":\"Chart\",\"type\":\"Plot\"},{\"attributes\":{\"plot\":{\"id\":\"81e068f6-14c3-4b35-a636-2d94dda5d806\",\"subtype\":\"Chart\",\"type\":\"Plot\"}},\"id\":\"9aa4417e-a49d-4147-a0f2-9385b739b204\",\"type\":\"WheelZoomTool\"},{\"attributes\":{\"data_source\":{\"id\":\"eaa61baa-dd15-46c2-ab71-1e39c93531c6\",\"type\":\"ColumnDataSource\"},\"glyph\":{\"id\":\"7959edb7-b832-46de-a356-a01d7df46cde\",\"type\":\"Rect\"},\"hover_glyph\":null,\"nonselection_glyph\":null,\"selection_glyph\":null},\"id\":\"a737abb3-2cb5-4d59-970a-727e112fe1fa\",\"type\":\"GlyphRenderer\"},{\"attributes\":{\"data_source\":{\"id\":\"6df3c245-f2d6-464d-ad77-eb7f74f5959a\",\"type\":\"ColumnDataSource\"},\"glyph\":{\"id\":\"191cbb5a-73ad-4669-8551-5a8f837e972b\",\"type\":\"Rect\"},\"hover_glyph\":null,\"nonselection_glyph\":null,\"selection_glyph\":null},\"id\":\"c5432ada-a988-4d81-b1db-cacfb32766ec\",\"type\":\"GlyphRenderer\"},{\"attributes\":{\"callback\":null,\"column_names\":[\"line_color\",\"line_alpha\",\"color\",\"fill_alpha\",\"height\",\"width\",\"y\",\"x\",\"label\"],\"data\":{\"chart_index\":[{\"label\":\"Jul\"}],\"color\":[\"#f22c40\"],\"fill_alpha\":[0.8],\"height\":[5581.0],\"label\":[\"Jul\"],\"line_alpha\":[1.0],\"line_color\":[\"white\"],\"width\":[0.8],\"x\":[\"Jul\"],\"y\":[2790.5]}},\"id\":\"2ae1e2c3-1efc-4e6c-b49f-597a2aae8d4d\",\"type\":\"ColumnDataSource\"},{\"attributes\":{\"data_source\":{\"id\":\"eec85998-1944-4089-b069-478de274ba58\",\"type\":\"ColumnDataSource\"},\"glyph\":{\"id\":\"5840401c-8aed-4c0c-bd46-84687b0e3c2d\",\"type\":\"Rect\"},\"hover_glyph\":null,\"nonselection_glyph\":null,\"selection_glyph\":null},\"id\":\"3ee85a3f-67d8-464f-afde-56b55e876bb8\",\"type\":\"GlyphRenderer\"},{\"attributes\":{\"data_source\":{\"id\":\"a8919056-e503-4156-8dbe-6bdfd29c0f96\",\"type\":\"ColumnDataSource\"},\"glyph\":{\"id\":\"6099488f-fe9c-4068-989e-0a375d34fc86\",\"type\":\"Rect\"},\"hover_glyph\":null,\"nonselection_glyph\":null,\"selection_glyph\":null},\"id\":\"d1b94632-16f0-4cbd-ba43-bf602265a07f\",\"type\":\"GlyphRenderer\"},{\"attributes\":{\"overlay\":{\"id\":\"ce7378f6-8c9e-4153-9f63-5483785d60a1\",\"type\":\"BoxAnnotation\"},\"plot\":{\"id\":\"81e068f6-14c3-4b35-a636-2d94dda5d806\",\"subtype\":\"Chart\",\"type\":\"Plot\"}},\"id\":\"04f7790b-f8a9-4fd8-96ad-370a1105b7c3\",\"type\":\"BoxZoomTool\"},{\"attributes\":{\"plot\":{\"id\":\"81e068f6-14c3-4b35-a636-2d94dda5d806\",\"subtype\":\"Chart\",\"type\":\"Plot\"}},\"id\":\"8eec1d39-f787-448e-b60f-7e3cc406f0e2\",\"type\":\"ResetTool\"},{\"attributes\":{\"data_source\":{\"id\":\"0e190f85-70d4-40b9-b5ec-bde4d8c25802\",\"type\":\"ColumnDataSource\"},\"glyph\":{\"id\":\"c95a65d4-fbfe-4753-bae1-4e621db93e16\",\"type\":\"Rect\"},\"hover_glyph\":null,\"nonselection_glyph\":null,\"selection_glyph\":null},\"id\":\"0461bed4-de99-4a18-ab77-c5b200f15b6e\",\"type\":\"GlyphRenderer\"},{\"attributes\":{},\"id\":\"8896d008-38d6-4682-ae0e-0daadad4d149\",\"type\":\"CategoricalTickFormatter\"},{\"attributes\":{\"plot\":{\"id\":\"8281d3d8-5096-4866-bad5-4f306a628193\",\"subtype\":\"Chart\",\"type\":\"Plot\"}},\"id\":\"1e8e46d3-91df-4d40-a5a6-38ecf7e0c2f2\",\"type\":\"ResetTool\"},{\"attributes\":{\"callback\":null,\"end\":29.4},\"id\":\"e7b34011-737b-4689-8a48-680c8becf6d4\",\"type\":\"Range1d\"},{\"attributes\":{\"data_source\":{\"id\":\"2ae1e2c3-1efc-4e6c-b49f-597a2aae8d4d\",\"type\":\"ColumnDataSource\"},\"glyph\":{\"id\":\"88f8982f-a05a-4627-80ed-545d6b8e128e\",\"type\":\"Rect\"},\"hover_glyph\":null,\"nonselection_glyph\":null,\"selection_glyph\":null},\"id\":\"ccb3395a-fff8-42bf-b5d1-7d8f49b380f4\",\"type\":\"GlyphRenderer\"},{\"attributes\":{\"data_source\":{\"id\":\"517adb7f-94b1-45fb-9f3e-c1353ceebb29\",\"type\":\"ColumnDataSource\"},\"glyph\":{\"id\":\"48496bea-82cd-468a-8fd2-3579c61c80ab\",\"type\":\"Rect\"},\"hover_glyph\":null,\"nonselection_glyph\":null,\"selection_glyph\":null},\"id\":\"4835c0d1-239d-4d42-8787-366c5dc3d236\",\"type\":\"GlyphRenderer\"},{\"attributes\":{},\"id\":\"ddbb099c-0038-4d72-be13-0febacbc9d62\",\"type\":\"CategoricalTickFormatter\"},{\"attributes\":{\"plot\":null,\"text\":\"Posts count\"},\"id\":\"61adc3d6-9765-4e95-aafa-d45f4ee623e8\",\"type\":\"Title\"},{\"attributes\":{\"fill_alpha\":{\"field\":\"fill_alpha\"},\"fill_color\":{\"field\":\"color\"},\"height\":{\"field\":\"height\",\"units\":\"data\"},\"line_color\":{\"field\":\"line_color\"},\"width\":{\"field\":\"width\",\"units\":\"data\"},\"x\":{\"field\":\"x\"},\"y\":{\"field\":\"y\"}},\"id\":\"903562ca-0cb7-424b-8cdb-2093551b4fa2\",\"type\":\"Rect\"},{\"attributes\":{\"data_source\":{\"id\":\"b5e7374c-6007-44c3-9140-abaa8a50c16d\",\"type\":\"ColumnDataSource\"},\"glyph\":{\"id\":\"2a1aa283-78d2-4084-b519-7bacaed03c48\",\"type\":\"Rect\"},\"hover_glyph\":null,\"nonselection_glyph\":null,\"selection_glyph\":null},\"id\":\"b032c523-52e9-463f-a223-c9ff934b15b1\",\"type\":\"GlyphRenderer\"},{\"attributes\":{\"fill_alpha\":{\"field\":\"fill_alpha\"},\"fill_color\":{\"field\":\"color\"},\"height\":{\"field\":\"height\",\"units\":\"data\"},\"line_color\":{\"field\":\"line_color\"},\"width\":{\"field\":\"width\",\"units\":\"data\"},\"x\":{\"field\":\"x\"},\"y\":{\"field\":\"y\"}},\"id\":\"f3a7887a-c1e5-4579-a91c-35308f2c46ae\",\"type\":\"Rect\"},{\"attributes\":{\"fill_alpha\":{\"field\":\"fill_alpha\"},\"fill_color\":{\"field\":\"color\"},\"height\":{\"field\":\"height\",\"units\":\"data\"},\"line_color\":{\"field\":\"line_color\"},\"width\":{\"field\":\"width\",\"units\":\"data\"},\"x\":{\"field\":\"x\"},\"y\":{\"field\":\"y\"}},\"id\":\"ef1b30f0-a3ef-4ddd-803c-e4f7c6554df0\",\"type\":\"Rect\"},{\"attributes\":{\"callback\":null,\"column_names\":[\"line_color\",\"line_alpha\",\"color\",\"fill_alpha\",\"height\",\"width\",\"y\",\"x\",\"label\"],\"data\":{\"chart_index\":[{\"label\":\"Jun\"}],\"color\":[\"#f22c40\"],\"fill_alpha\":[0.8],\"height\":[1821.0],\"label\":[\"Jun\"],\"line_alpha\":[1.0],\"line_color\":[\"white\"],\"width\":[0.8],\"x\":[\"Jun\"],\"y\":[910.5]}},\"id\":\"517adb7f-94b1-45fb-9f3e-c1353ceebb29\",\"type\":\"ColumnDataSource\"},{\"attributes\":{\"fill_alpha\":{\"field\":\"fill_alpha\"},\"fill_color\":{\"field\":\"color\"},\"height\":{\"field\":\"height\",\"units\":\"data\"},\"line_color\":{\"field\":\"line_color\"},\"width\":{\"field\":\"width\",\"units\":\"data\"},\"x\":{\"field\":\"x\"},\"y\":{\"field\":\"y\"}},\"id\":\"48496bea-82cd-468a-8fd2-3579c61c80ab\",\"type\":\"Rect\"},{\"attributes\":{\"callback\":null,\"end\":5860.05},\"id\":\"7fdbe8bb-c429-43b7-867d-c8641d3de56f\",\"type\":\"Range1d\"},{\"attributes\":{\"fill_alpha\":{\"field\":\"fill_alpha\"},\"fill_color\":{\"field\":\"color\"},\"height\":{\"field\":\"height\",\"units\":\"data\"},\"line_color\":{\"field\":\"line_color\"},\"width\":{\"field\":\"width\",\"units\":\"data\"},\"x\":{\"field\":\"x\"},\"y\":{\"field\":\"y\"}},\"id\":\"93c0b510-d888-4508-8e38-5d50eef889eb\",\"type\":\"Rect\"},{\"attributes\":{\"fill_alpha\":{\"field\":\"fill_alpha\"},\"fill_color\":{\"field\":\"color\"},\"height\":{\"field\":\"height\",\"units\":\"data\"},\"line_color\":{\"field\":\"line_color\"},\"width\":{\"field\":\"width\",\"units\":\"data\"},\"x\":{\"field\":\"x\"},\"y\":{\"field\":\"y\"}},\"id\":\"5840401c-8aed-4c0c-bd46-84687b0e3c2d\",\"type\":\"Rect\"},{\"attributes\":{\"callback\":null,\"column_names\":[\"line_color\",\"line_alpha\",\"color\",\"fill_alpha\",\"height\",\"width\",\"y\",\"x\",\"label\"],\"data\":{\"chart_index\":[{\"label\":\"Oct\"}],\"color\":[\"#f22c40\"],\"fill_alpha\":[0.8],\"height\":[2685.0],\"label\":[\"Oct\"],\"line_alpha\":[1.0],\"line_color\":[\"white\"],\"width\":[0.8],\"x\":[\"Oct\"],\"y\":[1342.5]}},\"id\":\"5ca537cc-f8ea-49a2-8cd5-d330c0eb8791\",\"type\":\"ColumnDataSource\"},{\"attributes\":{\"data_source\":{\"id\":\"a56989dd-95d7-42c9-b0e8-9e4039524664\",\"type\":\"ColumnDataSource\"},\"glyph\":{\"id\":\"903562ca-0cb7-424b-8cdb-2093551b4fa2\",\"type\":\"Rect\"},\"hover_glyph\":null,\"nonselection_glyph\":null,\"selection_glyph\":null},\"id\":\"8af21d7a-fb6a-4c11-8337-4e06f06020b6\",\"type\":\"GlyphRenderer\"},{\"attributes\":{\"fill_alpha\":{\"field\":\"fill_alpha\"},\"fill_color\":{\"field\":\"color\"},\"height\":{\"field\":\"height\",\"units\":\"data\"},\"line_color\":{\"field\":\"line_color\"},\"width\":{\"field\":\"width\",\"units\":\"data\"},\"x\":{\"field\":\"x\"},\"y\":{\"field\":\"y\"}},\"id\":\"a84f4215-332d-431e-8a67-1ac18f0bbfea\",\"type\":\"Rect\"},{\"attributes\":{\"data_source\":{\"id\":\"747bc3c8-c64e-4af7-bacf-78a3a7e46d2d\",\"type\":\"ColumnDataSource\"},\"glyph\":{\"id\":\"8720f2bf-b929-4b7d-84c5-bbd32c9dcd21\",\"type\":\"Rect\"},\"hover_glyph\":null,\"nonselection_glyph\":null,\"selection_glyph\":null},\"id\":\"0c200b9d-ae44-4c5b-a5c9-0e61755dc4da\",\"type\":\"GlyphRenderer\"},{\"attributes\":{\"fill_alpha\":{\"field\":\"fill_alpha\"},\"fill_color\":{\"field\":\"color\"},\"height\":{\"field\":\"height\",\"units\":\"data\"},\"line_color\":{\"field\":\"line_color\"},\"width\":{\"field\":\"width\",\"units\":\"data\"},\"x\":{\"field\":\"x\"},\"y\":{\"field\":\"y\"}},\"id\":\"c95a65d4-fbfe-4753-bae1-4e621db93e16\",\"type\":\"Rect\"},{\"attributes\":{\"callback\":null,\"column_names\":[\"line_color\",\"line_alpha\",\"color\",\"fill_alpha\",\"height\",\"width\",\"y\",\"x\",\"label\"],\"data\":{\"chart_index\":[{\"label\":\"Jun\"}],\"color\":[\"#f22c40\"],\"fill_alpha\":[0.8],\"height\":[15.0],\"label\":[\"Jun\"],\"line_alpha\":[1.0],\"line_color\":[\"white\"],\"width\":[0.8],\"x\":[\"Jun\"],\"y\":[7.5]}},\"id\":\"6e247aa9-103a-4ef1-b0c1-3fe37823d541\",\"type\":\"ColumnDataSource\"},{\"attributes\":{\"callback\":null,\"column_names\":[\"line_color\",\"line_alpha\",\"color\",\"fill_alpha\",\"height\",\"width\",\"y\",\"x\",\"label\"],\"data\":{\"chart_index\":[{\"label\":\"Dec\"}],\"color\":[\"#f22c40\"],\"fill_alpha\":[0.8],\"height\":[2055.0],\"label\":[\"Dec\"],\"line_alpha\":[1.0],\"line_color\":[\"white\"],\"width\":[0.8],\"x\":[\"Dec\"],\"y\":[1027.5]}},\"id\":\"52ab916f-fa22-41f6-9677-bfaf48400034\",\"type\":\"ColumnDataSource\"},{\"attributes\":{\"active_drag\":\"auto\",\"active_scroll\":\"auto\",\"active_tap\":\"auto\",\"tools\":[{\"id\":\"1b0163ed-c971-490d-8f37-a388457d5bca\",\"type\":\"PanTool\"},{\"id\":\"9aa4417e-a49d-4147-a0f2-9385b739b204\",\"type\":\"WheelZoomTool\"},{\"id\":\"04f7790b-f8a9-4fd8-96ad-370a1105b7c3\",\"type\":\"BoxZoomTool\"},{\"id\":\"d2ad98f9-0474-4626-a1ba-d7200049c303\",\"type\":\"SaveTool\"},{\"id\":\"8eec1d39-f787-448e-b60f-7e3cc406f0e2\",\"type\":\"ResetTool\"},{\"id\":\"383826e9-cdc1-43eb-ae98-810cbadc3148\",\"type\":\"HelpTool\"}]},\"id\":\"f6102bef-42a1-47ac-b293-908aba2e2be6\",\"type\":\"Toolbar\"},{\"attributes\":{\"callback\":null,\"column_names\":[\"line_color\",\"line_alpha\",\"color\",\"fill_alpha\",\"height\",\"width\",\"y\",\"x\",\"label\"],\"data\":{\"chart_index\":[{\"label\":\"Mar\"}],\"color\":[\"#f22c40\"],\"fill_alpha\":[0.8],\"height\":[15.0],\"label\":[\"Mar\"],\"line_alpha\":[1.0],\"line_color\":[\"white\"],\"width\":[0.8],\"x\":[\"Mar\"],\"y\":[7.5]}},\"id\":\"6df3c245-f2d6-464d-ad77-eb7f74f5959a\",\"type\":\"ColumnDataSource\"},{\"attributes\":{\"callback\":null,\"column_names\":[\"line_color\",\"line_alpha\",\"color\",\"fill_alpha\",\"height\",\"width\",\"y\",\"x\",\"label\"],\"data\":{\"chart_index\":[{\"label\":\"Dec\"}],\"color\":[\"#f22c40\"],\"fill_alpha\":[0.8],\"height\":[24.0],\"label\":[\"Dec\"],\"line_alpha\":[1.0],\"line_color\":[\"white\"],\"width\":[0.8],\"x\":[\"Dec\"],\"y\":[12.0]}},\"id\":\"f2b8f253-5266-4f61-8f34-545f273399b8\",\"type\":\"ColumnDataSource\"},{\"attributes\":{\"callback\":null,\"column_names\":[\"line_color\",\"line_alpha\",\"color\",\"fill_alpha\",\"height\",\"width\",\"y\",\"x\",\"label\"],\"data\":{\"chart_index\":[{\"label\":\"Feb\"}],\"color\":[\"#f22c40\"],\"fill_alpha\":[0.8],\"height\":[15.0],\"label\":[\"Feb\"],\"line_alpha\":[1.0],\"line_color\":[\"white\"],\"width\":[0.8],\"x\":[\"Feb\"],\"y\":[7.5]}},\"id\":\"0e190f85-70d4-40b9-b5ec-bde4d8c25802\",\"type\":\"ColumnDataSource\"},{\"attributes\":{\"fill_alpha\":{\"field\":\"fill_alpha\"},\"fill_color\":{\"field\":\"color\"},\"height\":{\"field\":\"height\",\"units\":\"data\"},\"line_color\":{\"field\":\"line_color\"},\"width\":{\"field\":\"width\",\"units\":\"data\"},\"x\":{\"field\":\"x\"},\"y\":{\"field\":\"y\"}},\"id\":\"adfb0407-30c2-4487-a195-7432846da67a\",\"type\":\"Rect\"},{\"attributes\":{\"plot\":{\"id\":\"81e068f6-14c3-4b35-a636-2d94dda5d806\",\"subtype\":\"Chart\",\"type\":\"Plot\"}},\"id\":\"383826e9-cdc1-43eb-ae98-810cbadc3148\",\"type\":\"HelpTool\"},{\"attributes\":{\"bottom_units\":\"screen\",\"fill_alpha\":{\"value\":0.5},\"fill_color\":{\"value\":\"lightgrey\"},\"left_units\":\"screen\",\"level\":\"overlay\",\"line_alpha\":{\"value\":1.0},\"line_color\":{\"value\":\"black\"},\"line_dash\":[4,4],\"line_width\":{\"value\":2},\"plot\":null,\"render_mode\":\"css\",\"right_units\":\"screen\",\"top_units\":\"screen\"},\"id\":\"ce7378f6-8c9e-4153-9f63-5483785d60a1\",\"type\":\"BoxAnnotation\"},{\"attributes\":{\"fill_alpha\":{\"field\":\"fill_alpha\"},\"fill_color\":{\"field\":\"color\"},\"height\":{\"field\":\"height\",\"units\":\"data\"},\"line_color\":{\"field\":\"line_color\"},\"width\":{\"field\":\"width\",\"units\":\"data\"},\"x\":{\"field\":\"x\"},\"y\":{\"field\":\"y\"}},\"id\":\"7959edb7-b832-46de-a356-a01d7df46cde\",\"type\":\"Rect\"},{\"attributes\":{\"callback\":null,\"factors\":[\"Jan\",\"Feb\",\"Mar\",\"Apr\",\"May\",\"Jun\",\"Jul\",\"Aug\",\"Sep\",\"Oct\",\"Nov\",\"Dec\"]},\"id\":\"6be8f883-c5ff-4caf-8b4a-520988ea6b35\",\"type\":\"FactorRange\"},{\"attributes\":{\"plot\":{\"id\":\"81e068f6-14c3-4b35-a636-2d94dda5d806\",\"subtype\":\"Chart\",\"type\":\"Plot\"}},\"id\":\"d2ad98f9-0474-4626-a1ba-d7200049c303\",\"type\":\"SaveTool\"},{\"attributes\":{\"callback\":null,\"column_names\":[\"line_color\",\"line_alpha\",\"color\",\"fill_alpha\",\"height\",\"width\",\"y\",\"x\",\"label\"],\"data\":{\"chart_index\":[{\"label\":\"Nov\"}],\"color\":[\"#f22c40\"],\"fill_alpha\":[0.8],\"height\":[2560.0],\"label\":[\"Nov\"],\"line_alpha\":[1.0],\"line_color\":[\"white\"],\"width\":[0.8],\"x\":[\"Nov\"],\"y\":[1280.0]}},\"id\":\"747bc3c8-c64e-4af7-bacf-78a3a7e46d2d\",\"type\":\"ColumnDataSource\"},{\"attributes\":{\"data_source\":{\"id\":\"48a0424d-6e9c-42e6-8aa4-0d845f4a0f14\",\"type\":\"ColumnDataSource\"},\"glyph\":{\"id\":\"93c0b510-d888-4508-8e38-5d50eef889eb\",\"type\":\"Rect\"},\"hover_glyph\":null,\"nonselection_glyph\":null,\"selection_glyph\":null},\"id\":\"ac150a73-890b-45f9-960f-fb950a2319ce\",\"type\":\"GlyphRenderer\"},{\"attributes\":{\"callback\":null,\"column_names\":[\"line_color\",\"line_alpha\",\"color\",\"fill_alpha\",\"height\",\"width\",\"y\",\"x\",\"label\"],\"data\":{\"chart_index\":[{\"label\":\"Apr\"}],\"color\":[\"#f22c40\"],\"fill_alpha\":[0.8],\"height\":[1150.0],\"label\":[\"Apr\"],\"line_alpha\":[1.0],\"line_color\":[\"white\"],\"width\":[0.8],\"x\":[\"Apr\"],\"y\":[575.0]}},\"id\":\"eec85998-1944-4089-b069-478de274ba58\",\"type\":\"ColumnDataSource\"},{\"attributes\":{\"callback\":null,\"column_names\":[\"line_color\",\"line_alpha\",\"color\",\"fill_alpha\",\"height\",\"width\",\"y\",\"x\",\"label\"],\"data\":{\"chart_index\":[{\"label\":\"Jul\"}],\"color\":[\"#f22c40\"],\"fill_alpha\":[0.8],\"height\":[28.0],\"label\":[\"Jul\"],\"line_alpha\":[1.0],\"line_color\":[\"white\"],\"width\":[0.8],\"x\":[\"Jul\"],\"y\":[14.0]}},\"id\":\"a56989dd-95d7-42c9-b0e8-9e4039524664\",\"type\":\"ColumnDataSource\"},{\"attributes\":{\"fill_alpha\":{\"field\":\"fill_alpha\"},\"fill_color\":{\"field\":\"color\"},\"height\":{\"field\":\"height\",\"units\":\"data\"},\"line_color\":{\"field\":\"line_color\"},\"width\":{\"field\":\"width\",\"units\":\"data\"},\"x\":{\"field\":\"x\"},\"y\":{\"field\":\"y\"}},\"id\":\"f0f2f624-61fc-4d3d-8f05-0575ee671565\",\"type\":\"Rect\"},{\"attributes\":{\"axis_label\":\"\",\"formatter\":{\"id\":\"8896d008-38d6-4682-ae0e-0daadad4d149\",\"type\":\"CategoricalTickFormatter\"},\"major_label_orientation\":0.7853981633974483,\"plot\":{\"id\":\"8281d3d8-5096-4866-bad5-4f306a628193\",\"subtype\":\"Chart\",\"type\":\"Plot\"},\"ticker\":{\"id\":\"cf319723-0df1-497c-bd48-bc29c193aefb\",\"type\":\"CategoricalTicker\"}},\"id\":\"69ae2921-33bd-406f-846f-370cdf1c71c5\",\"type\":\"CategoricalAxis\"},{\"attributes\":{\"callback\":null,\"column_names\":[\"line_color\",\"line_alpha\",\"color\",\"fill_alpha\",\"height\",\"width\",\"y\",\"x\",\"label\"],\"data\":{\"chart_index\":[{\"label\":\"Sep\"}],\"color\":[\"#f22c40\"],\"fill_alpha\":[0.8],\"height\":[1149.0],\"label\":[\"Sep\"],\"line_alpha\":[1.0],\"line_color\":[\"white\"],\"width\":[0.8],\"x\":[\"Sep\"],\"y\":[574.5]}},\"id\":\"6a02f768-5ac5-439e-a31c-bd4a2f16b44e\",\"type\":\"ColumnDataSource\"},{\"attributes\":{\"plot\":{\"id\":\"8281d3d8-5096-4866-bad5-4f306a628193\",\"subtype\":\"Chart\",\"type\":\"Plot\"}},\"id\":\"e1a7bc34-2475-41b2-91bf-11dd4b5eb392\",\"type\":\"SaveTool\"},{\"attributes\":{\"plot\":{\"id\":\"81e068f6-14c3-4b35-a636-2d94dda5d806\",\"subtype\":\"Chart\",\"type\":\"Plot\"}},\"id\":\"1b0163ed-c971-490d-8f37-a388457d5bca\",\"type\":\"PanTool\"},{\"attributes\":{},\"id\":\"2a6ee978-4f04-4b64-af57-5577170ddbd4\",\"type\":\"CategoricalTicker\"},{\"attributes\":{\"dimension\":1,\"plot\":{\"id\":\"81e068f6-14c3-4b35-a636-2d94dda5d806\",\"subtype\":\"Chart\",\"type\":\"Plot\"},\"ticker\":{\"id\":\"27ceb320-f757-4b66-bf82-c70fad510fdd\",\"type\":\"BasicTicker\"}},\"id\":\"269036ec-b656-4a15-ac3b-53c9f0884745\",\"type\":\"Grid\"},{\"attributes\":{\"fill_alpha\":{\"field\":\"fill_alpha\"},\"fill_color\":{\"field\":\"color\"},\"height\":{\"field\":\"height\",\"units\":\"data\"},\"line_color\":{\"field\":\"line_color\"},\"width\":{\"field\":\"width\",\"units\":\"data\"},\"x\":{\"field\":\"x\"},\"y\":{\"field\":\"y\"}},\"id\":\"8720f2bf-b929-4b7d-84c5-bbd32c9dcd21\",\"type\":\"Rect\"},{\"attributes\":{\"bottom_units\":\"screen\",\"fill_alpha\":{\"value\":0.5},\"fill_color\":{\"value\":\"lightgrey\"},\"left_units\":\"screen\",\"level\":\"overlay\",\"line_alpha\":{\"value\":1.0},\"line_color\":{\"value\":\"black\"},\"line_dash\":[4,4],\"line_width\":{\"value\":2},\"plot\":null,\"render_mode\":\"css\",\"right_units\":\"screen\",\"top_units\":\"screen\"},\"id\":\"f4776c48-b96f-4ea8-8fbd-7f06152651ef\",\"type\":\"BoxAnnotation\"},{\"attributes\":{\"axis_label\":\"comments\",\"formatter\":{\"id\":\"70f83f04-0d27-46a7-bca3-cc1ada0d3ac3\",\"type\":\"BasicTickFormatter\"},\"plot\":{\"id\":\"81e068f6-14c3-4b35-a636-2d94dda5d806\",\"subtype\":\"Chart\",\"type\":\"Plot\"},\"ticker\":{\"id\":\"27ceb320-f757-4b66-bf82-c70fad510fdd\",\"type\":\"BasicTicker\"}},\"id\":\"23488fe8-4c62-47ad-ac8e-96a815f96e1c\",\"type\":\"LinearAxis\"},{\"attributes\":{\"data_source\":{\"id\":\"1ae839b4-20c3-4756-bd2d-0152841862bf\",\"type\":\"ColumnDataSource\"},\"glyph\":{\"id\":\"8db5d7f9-9aa1-45a4-8ca0-ad0dd9cc17e8\",\"type\":\"Rect\"},\"hover_glyph\":null,\"nonselection_glyph\":null,\"selection_glyph\":null},\"id\":\"944080e3-7456-4fb5-948a-782a30ee639e\",\"type\":\"GlyphRenderer\"},{\"attributes\":{\"fill_alpha\":{\"field\":\"fill_alpha\"},\"fill_color\":{\"field\":\"color\"},\"height\":{\"field\":\"height\",\"units\":\"data\"},\"line_color\":{\"field\":\"line_color\"},\"width\":{\"field\":\"width\",\"units\":\"data\"},\"x\":{\"field\":\"x\"},\"y\":{\"field\":\"y\"}},\"id\":\"62042456-4a40-4144-9548-446496ff5e57\",\"type\":\"Rect\"},{\"attributes\":{\"overlay\":{\"id\":\"f4776c48-b96f-4ea8-8fbd-7f06152651ef\",\"type\":\"BoxAnnotation\"},\"plot\":{\"id\":\"8281d3d8-5096-4866-bad5-4f306a628193\",\"subtype\":\"Chart\",\"type\":\"Plot\"}},\"id\":\"27775910-c43c-44a2-9f5b-0a108326cbdc\",\"type\":\"BoxZoomTool\"},{\"attributes\":{\"callback\":null,\"column_names\":[\"line_color\",\"line_alpha\",\"color\",\"fill_alpha\",\"height\",\"width\",\"y\",\"x\",\"label\"],\"data\":{\"chart_index\":[{\"label\":\"Oct\"}],\"color\":[\"#f22c40\"],\"fill_alpha\":[0.8],\"height\":[22.0],\"label\":[\"Oct\"],\"line_alpha\":[1.0],\"line_color\":[\"white\"],\"width\":[0.8],\"x\":[\"Oct\"],\"y\":[11.0]}},\"id\":\"e9ea584f-8990-49b5-a1fe-d9b0b5d6ce69\",\"type\":\"ColumnDataSource\"},{\"attributes\":{\"callback\":null,\"column_names\":[\"line_color\",\"line_alpha\",\"color\",\"fill_alpha\",\"height\",\"width\",\"y\",\"x\",\"label\"],\"data\":{\"chart_index\":[{\"label\":\"Apr\"}],\"color\":[\"#f22c40\"],\"fill_alpha\":[0.8],\"height\":[12.0],\"label\":[\"Apr\"],\"line_alpha\":[1.0],\"line_color\":[\"white\"],\"width\":[0.8],\"x\":[\"Apr\"],\"y\":[6.0]}},\"id\":\"77886869-06ee-4a74-aa63-a86490134c6e\",\"type\":\"ColumnDataSource\"},{\"attributes\":{\"data_source\":{\"id\":\"5ca537cc-f8ea-49a2-8cd5-d330c0eb8791\",\"type\":\"ColumnDataSource\"},\"glyph\":{\"id\":\"adfb0407-30c2-4487-a195-7432846da67a\",\"type\":\"Rect\"},\"hover_glyph\":null,\"nonselection_glyph\":null,\"selection_glyph\":null},\"id\":\"6252739f-566c-4b43-8665-0b447db848ef\",\"type\":\"GlyphRenderer\"},{\"attributes\":{},\"id\":\"cf319723-0df1-497c-bd48-bc29c193aefb\",\"type\":\"CategoricalTicker\"},{\"attributes\":{\"fill_alpha\":{\"field\":\"fill_alpha\"},\"fill_color\":{\"field\":\"color\"},\"height\":{\"field\":\"height\",\"units\":\"data\"},\"line_color\":{\"field\":\"line_color\"},\"width\":{\"field\":\"width\",\"units\":\"data\"},\"x\":{\"field\":\"x\"},\"y\":{\"field\":\"y\"}},\"id\":\"f56c9cd9-0b0e-4426-9546-00608d49c86d\",\"type\":\"Rect\"},{\"attributes\":{\"data_source\":{\"id\":\"a7c736a7-888a-408c-b5ce-204924669aef\",\"type\":\"ColumnDataSource\"},\"glyph\":{\"id\":\"ef1b30f0-a3ef-4ddd-803c-e4f7c6554df0\",\"type\":\"Rect\"},\"hover_glyph\":null,\"nonselection_glyph\":null,\"selection_glyph\":null},\"id\":\"aeb17c01-7979-4471-80dd-47974dd54c34\",\"type\":\"GlyphRenderer\"},{\"attributes\":{\"callback\":null,\"column_names\":[\"line_color\",\"line_alpha\",\"color\",\"fill_alpha\",\"height\",\"width\",\"y\",\"x\",\"label\"],\"data\":{\"chart_index\":[{\"label\":\"May\"}],\"color\":[\"#f22c40\"],\"fill_alpha\":[0.8],\"height\":[14.0],\"label\":[\"May\"],\"line_alpha\":[1.0],\"line_color\":[\"white\"],\"width\":[0.8],\"x\":[\"May\"],\"y\":[7.0]}},\"id\":\"a7c736a7-888a-408c-b5ce-204924669aef\",\"type\":\"ColumnDataSource\"},{\"attributes\":{\"children\":[{\"id\":\"81e068f6-14c3-4b35-a636-2d94dda5d806\",\"subtype\":\"Chart\",\"type\":\"Plot\"},{\"id\":\"8281d3d8-5096-4866-bad5-4f306a628193\",\"subtype\":\"Chart\",\"type\":\"Plot\"}]},\"id\":\"3ebfa63f-1857-4c36-b46d-82cd0d1a9b05\",\"type\":\"Row\"},{\"attributes\":{\"data_source\":{\"id\":\"52a85800-9ffb-49d3-9f4c-af12c6bae320\",\"type\":\"ColumnDataSource\"},\"glyph\":{\"id\":\"62042456-4a40-4144-9548-446496ff5e57\",\"type\":\"Rect\"},\"hover_glyph\":null,\"nonselection_glyph\":null,\"selection_glyph\":null},\"id\":\"707cd0f1-3b13-4ba1-97a8-bd892f086db5\",\"type\":\"GlyphRenderer\"},{\"attributes\":{\"fill_alpha\":{\"field\":\"fill_alpha\"},\"fill_color\":{\"field\":\"color\"},\"height\":{\"field\":\"height\",\"units\":\"data\"},\"line_color\":{\"field\":\"line_color\"},\"width\":{\"field\":\"width\",\"units\":\"data\"},\"x\":{\"field\":\"x\"},\"y\":{\"field\":\"y\"}},\"id\":\"6099488f-fe9c-4068-989e-0a375d34fc86\",\"type\":\"Rect\"},{\"attributes\":{\"axis_label\":\"posts\",\"formatter\":{\"id\":\"2440e309-4351-4c0c-bae6-f7cf3c2b5ee6\",\"type\":\"BasicTickFormatter\"},\"plot\":{\"id\":\"8281d3d8-5096-4866-bad5-4f306a628193\",\"subtype\":\"Chart\",\"type\":\"Plot\"},\"ticker\":{\"id\":\"96b15129-70f7-49ae-acb7-b6b6e320e526\",\"type\":\"BasicTicker\"}},\"id\":\"ec46ac42-f65f-4412-bbac-60bbb4ebadbc\",\"type\":\"LinearAxis\"},{\"attributes\":{\"dimension\":1,\"plot\":{\"id\":\"8281d3d8-5096-4866-bad5-4f306a628193\",\"subtype\":\"Chart\",\"type\":\"Plot\"},\"ticker\":{\"id\":\"96b15129-70f7-49ae-acb7-b6b6e320e526\",\"type\":\"BasicTicker\"}},\"id\":\"7828362a-1264-4840-af46-a9c04d361813\",\"type\":\"Grid\"},{\"attributes\":{\"data_source\":{\"id\":\"f2b8f253-5266-4f61-8f34-545f273399b8\",\"type\":\"ColumnDataSource\"},\"glyph\":{\"id\":\"0c647286-459e-48fd-9439-28c167c80088\",\"type\":\"Rect\"},\"hover_glyph\":null,\"nonselection_glyph\":null,\"selection_glyph\":null},\"id\":\"c0389f60-3d6b-4793-9e60-06f1eb2db3f3\",\"type\":\"GlyphRenderer\"},{\"attributes\":{\"callback\":null,\"column_names\":[\"line_color\",\"line_alpha\",\"color\",\"fill_alpha\",\"height\",\"width\",\"y\",\"x\",\"label\"],\"data\":{\"chart_index\":[{\"label\":\"Jan\"}],\"color\":[\"#f22c40\"],\"fill_alpha\":[0.8],\"height\":[654.0],\"label\":[\"Jan\"],\"line_alpha\":[1.0],\"line_color\":[\"white\"],\"width\":[0.8],\"x\":[\"Jan\"],\"y\":[327.0]}},\"id\":\"b5e7374c-6007-44c3-9140-abaa8a50c16d\",\"type\":\"ColumnDataSource\"},{\"attributes\":{\"plot\":{\"id\":\"8281d3d8-5096-4866-bad5-4f306a628193\",\"subtype\":\"Chart\",\"type\":\"Plot\"}},\"id\":\"4d392af3-906d-4bf0-bf9f-70574689edbb\",\"type\":\"HelpTool\"},{\"attributes\":{},\"id\":\"e981961f-0acf-4a36-825a-01b085c42449\",\"type\":\"ToolEvents\"},{\"attributes\":{},\"id\":\"2440e309-4351-4c0c-bae6-f7cf3c2b5ee6\",\"type\":\"BasicTickFormatter\"},{\"attributes\":{\"data_source\":{\"id\":\"6a02f768-5ac5-439e-a31c-bd4a2f16b44e\",\"type\":\"ColumnDataSource\"},\"glyph\":{\"id\":\"ffb586a1-1080-4f73-9af4-abfc3f60f6e5\",\"type\":\"Rect\"},\"hover_glyph\":null,\"nonselection_glyph\":null,\"selection_glyph\":null},\"id\":\"07c45c7e-703a-4276-adad-c89e054acf0f\",\"type\":\"GlyphRenderer\"},{\"attributes\":{\"callback\":null,\"column_names\":[\"line_color\",\"line_alpha\",\"color\",\"fill_alpha\",\"height\",\"width\",\"y\",\"x\",\"label\"],\"data\":{\"chart_index\":[{\"label\":\"May\"}],\"color\":[\"#f22c40\"],\"fill_alpha\":[0.8],\"height\":[1461.0],\"label\":[\"May\"],\"line_alpha\":[1.0],\"line_color\":[\"white\"],\"width\":[0.8],\"x\":[\"May\"],\"y\":[730.5]}},\"id\":\"48a0424d-6e9c-42e6-8aa4-0d845f4a0f14\",\"type\":\"ColumnDataSource\"},{\"attributes\":{\"fill_alpha\":{\"field\":\"fill_alpha\"},\"fill_color\":{\"field\":\"color\"},\"height\":{\"field\":\"height\",\"units\":\"data\"},\"line_color\":{\"field\":\"line_color\"},\"width\":{\"field\":\"width\",\"units\":\"data\"},\"x\":{\"field\":\"x\"},\"y\":{\"field\":\"y\"}},\"id\":\"4936dfe0-b653-4dd3-b85b-5dcf959d76df\",\"type\":\"Rect\"},{\"attributes\":{\"plot\":{\"id\":\"8281d3d8-5096-4866-bad5-4f306a628193\",\"subtype\":\"Chart\",\"type\":\"Plot\"}},\"id\":\"f898e97b-10b4-449c-8eed-24cc2c2e9274\",\"type\":\"WheelZoomTool\"},{\"attributes\":{\"fill_alpha\":{\"field\":\"fill_alpha\"},\"fill_color\":{\"field\":\"color\"},\"height\":{\"field\":\"height\",\"units\":\"data\"},\"line_color\":{\"field\":\"line_color\"},\"width\":{\"field\":\"width\",\"units\":\"data\"},\"x\":{\"field\":\"x\"},\"y\":{\"field\":\"y\"}},\"id\":\"52a30fe8-44bf-44c5-87fe-91e0bafc4af9\",\"type\":\"Rect\"},{\"attributes\":{\"axis_label\":\"\",\"formatter\":{\"id\":\"ddbb099c-0038-4d72-be13-0febacbc9d62\",\"type\":\"CategoricalTickFormatter\"},\"major_label_orientation\":0.7853981633974483,\"plot\":{\"id\":\"81e068f6-14c3-4b35-a636-2d94dda5d806\",\"subtype\":\"Chart\",\"type\":\"Plot\"},\"ticker\":{\"id\":\"2a6ee978-4f04-4b64-af57-5577170ddbd4\",\"type\":\"CategoricalTicker\"}},\"id\":\"bfaa4104-ee65-41c6-80e0-d2df0995b4c0\",\"type\":\"CategoricalAxis\"},{\"attributes\":{\"fill_alpha\":{\"field\":\"fill_alpha\"},\"fill_color\":{\"field\":\"color\"},\"height\":{\"field\":\"height\",\"units\":\"data\"},\"line_color\":{\"field\":\"line_color\"},\"width\":{\"field\":\"width\",\"units\":\"data\"},\"x\":{\"field\":\"x\"},\"y\":{\"field\":\"y\"}},\"id\":\"2a1aa283-78d2-4084-b519-7bacaed03c48\",\"type\":\"Rect\"},{\"attributes\":{\"callback\":null,\"column_names\":[\"line_color\",\"line_alpha\",\"color\",\"fill_alpha\",\"height\",\"width\",\"y\",\"x\",\"label\"],\"data\":{\"chart_index\":[{\"label\":\"Nov\"}],\"color\":[\"#f22c40\"],\"fill_alpha\":[0.8],\"height\":[15.0],\"label\":[\"Nov\"],\"line_alpha\":[1.0],\"line_color\":[\"white\"],\"width\":[0.8],\"x\":[\"Nov\"],\"y\":[7.5]}},\"id\":\"5ffdf532-56bd-4328-950b-4ba06faeea2d\",\"type\":\"ColumnDataSource\"},{\"attributes\":{\"plot\":null,\"text\":\"Comments count\"},\"id\":\"c6205d53-bc7c-4124-b765-75d0d8b35c57\",\"type\":\"Title\"},{\"attributes\":{\"fill_alpha\":{\"field\":\"fill_alpha\"},\"fill_color\":{\"field\":\"color\"},\"height\":{\"field\":\"height\",\"units\":\"data\"},\"line_color\":{\"field\":\"line_color\"},\"width\":{\"field\":\"width\",\"units\":\"data\"},\"x\":{\"field\":\"x\"},\"y\":{\"field\":\"y\"}},\"id\":\"c652519b-84ec-4558-ade6-cd1aa1e42ccd\",\"type\":\"Rect\"},{\"attributes\":{\"callback\":null,\"column_names\":[\"line_color\",\"line_alpha\",\"color\",\"fill_alpha\",\"height\",\"width\",\"y\",\"x\",\"label\"],\"data\":{\"chart_index\":[{\"label\":\"Aug\"}],\"color\":[\"#f22c40\"],\"fill_alpha\":[0.8],\"height\":[480.0],\"label\":[\"Aug\"],\"line_alpha\":[1.0],\"line_color\":[\"white\"],\"width\":[0.8],\"x\":[\"Aug\"],\"y\":[240.0]}},\"id\":\"52a85800-9ffb-49d3-9f4c-af12c6bae320\",\"type\":\"ColumnDataSource\"},{\"attributes\":{},\"id\":\"27ceb320-f757-4b66-bf82-c70fad510fdd\",\"type\":\"BasicTicker\"},{\"attributes\":{\"data_source\":{\"id\":\"6e247aa9-103a-4ef1-b0c1-3fe37823d541\",\"type\":\"ColumnDataSource\"},\"glyph\":{\"id\":\"52a30fe8-44bf-44c5-87fe-91e0bafc4af9\",\"type\":\"Rect\"},\"hover_glyph\":null,\"nonselection_glyph\":null,\"selection_glyph\":null},\"id\":\"d21e249d-d497-4efc-9e27-14a3a659dea0\",\"type\":\"GlyphRenderer\"},{\"attributes\":{\"fill_alpha\":{\"field\":\"fill_alpha\"},\"fill_color\":{\"field\":\"color\"},\"height\":{\"field\":\"height\",\"units\":\"data\"},\"line_color\":{\"field\":\"line_color\"},\"width\":{\"field\":\"width\",\"units\":\"data\"},\"x\":{\"field\":\"x\"},\"y\":{\"field\":\"y\"}},\"id\":\"191cbb5a-73ad-4669-8551-5a8f837e972b\",\"type\":\"Rect\"},{\"attributes\":{\"callback\":null,\"column_names\":[\"line_color\",\"line_alpha\",\"color\",\"fill_alpha\",\"height\",\"width\",\"y\",\"x\",\"label\"],\"data\":{\"chart_index\":[{\"label\":\"Sep\"}],\"color\":[\"#f22c40\"],\"fill_alpha\":[0.8],\"height\":[17.0],\"label\":[\"Sep\"],\"line_alpha\":[1.0],\"line_color\":[\"white\"],\"width\":[0.8],\"x\":[\"Sep\"],\"y\":[8.5]}},\"id\":\"c08e4ac8-644b-43a7-836d-3d454584e71d\",\"type\":\"ColumnDataSource\"},{\"attributes\":{\"active_drag\":\"auto\",\"active_scroll\":\"auto\",\"active_tap\":\"auto\",\"tools\":[{\"id\":\"a81d1216-db3c-40e8-94e1-fb0c7e1ff692\",\"type\":\"PanTool\"},{\"id\":\"f898e97b-10b4-449c-8eed-24cc2c2e9274\",\"type\":\"WheelZoomTool\"},{\"id\":\"27775910-c43c-44a2-9f5b-0a108326cbdc\",\"type\":\"BoxZoomTool\"},{\"id\":\"e1a7bc34-2475-41b2-91bf-11dd4b5eb392\",\"type\":\"SaveTool\"},{\"id\":\"1e8e46d3-91df-4d40-a5a6-38ecf7e0c2f2\",\"type\":\"ResetTool\"},{\"id\":\"4d392af3-906d-4bf0-bf9f-70574689edbb\",\"type\":\"HelpTool\"}]},\"id\":\"51ac76ec-c3d8-4697-b066-ea8949366225\",\"type\":\"Toolbar\"},{\"attributes\":{\"data_source\":{\"id\":\"52ab916f-fa22-41f6-9677-bfaf48400034\",\"type\":\"ColumnDataSource\"},\"glyph\":{\"id\":\"4936dfe0-b653-4dd3-b85b-5dcf959d76df\",\"type\":\"Rect\"},\"hover_glyph\":null,\"nonselection_glyph\":null,\"selection_glyph\":null},\"id\":\"5869b0f0-b7b4-4161-ae18-f0dd1c6e4fab\",\"type\":\"GlyphRenderer\"},{\"attributes\":{\"callback\":null,\"column_names\":[\"line_color\",\"line_alpha\",\"color\",\"fill_alpha\",\"height\",\"width\",\"y\",\"x\",\"label\"],\"data\":{\"chart_index\":[{\"label\":\"Jan\"}],\"color\":[\"#f22c40\"],\"fill_alpha\":[0.8],\"height\":[16.0],\"label\":[\"Jan\"],\"line_alpha\":[1.0],\"line_color\":[\"white\"],\"width\":[0.8],\"x\":[\"Jan\"],\"y\":[8.0]}},\"id\":\"5ada523e-3694-4bc8-a9e8-ceea97beb556\",\"type\":\"ColumnDataSource\"},{\"attributes\":{\"callback\":null,\"factors\":[\"Jan\",\"Feb\",\"Mar\",\"Apr\",\"May\",\"Jun\",\"Jul\",\"Aug\",\"Sep\",\"Oct\",\"Nov\",\"Dec\"]},\"id\":\"45ce3293-b281-47ef-8348-81f2d4b1b2c2\",\"type\":\"FactorRange\"},{\"attributes\":{\"data_source\":{\"id\":\"77886869-06ee-4a74-aa63-a86490134c6e\",\"type\":\"ColumnDataSource\"},\"glyph\":{\"id\":\"f56c9cd9-0b0e-4426-9546-00608d49c86d\",\"type\":\"Rect\"},\"hover_glyph\":null,\"nonselection_glyph\":null,\"selection_glyph\":null},\"id\":\"5b300b1b-3925-4c8d-abc3-ea7029cceeca\",\"type\":\"GlyphRenderer\"},{\"attributes\":{\"data_source\":{\"id\":\"e9ea584f-8990-49b5-a1fe-d9b0b5d6ce69\",\"type\":\"ColumnDataSource\"},\"glyph\":{\"id\":\"a84f4215-332d-431e-8a67-1ac18f0bbfea\",\"type\":\"Rect\"},\"hover_glyph\":null,\"nonselection_glyph\":null,\"selection_glyph\":null},\"id\":\"18079023-fd25-4270-a85d-cd780d4001a5\",\"type\":\"GlyphRenderer\"},{\"attributes\":{\"fill_alpha\":{\"field\":\"fill_alpha\"},\"fill_color\":{\"field\":\"color\"},\"height\":{\"field\":\"height\",\"units\":\"data\"},\"line_color\":{\"field\":\"line_color\"},\"width\":{\"field\":\"width\",\"units\":\"data\"},\"x\":{\"field\":\"x\"},\"y\":{\"field\":\"y\"}},\"id\":\"0c647286-459e-48fd-9439-28c167c80088\",\"type\":\"Rect\"},{\"attributes\":{\"fill_alpha\":{\"field\":\"fill_alpha\"},\"fill_color\":{\"field\":\"color\"},\"height\":{\"field\":\"height\",\"units\":\"data\"},\"line_color\":{\"field\":\"line_color\"},\"width\":{\"field\":\"width\",\"units\":\"data\"},\"x\":{\"field\":\"x\"},\"y\":{\"field\":\"y\"}},\"id\":\"ffb586a1-1080-4f73-9af4-abfc3f60f6e5\",\"type\":\"Rect\"},{\"attributes\":{},\"id\":\"96b15129-70f7-49ae-acb7-b6b6e320e526\",\"type\":\"BasicTicker\"},{\"attributes\":{\"data_source\":{\"id\":\"5ada523e-3694-4bc8-a9e8-ceea97beb556\",\"type\":\"ColumnDataSource\"},\"glyph\":{\"id\":\"f0f2f624-61fc-4d3d-8f05-0575ee671565\",\"type\":\"Rect\"},\"hover_glyph\":null,\"nonselection_glyph\":null,\"selection_glyph\":null},\"id\":\"5f07833d-d0cf-4672-b3ff-575328db6810\",\"type\":\"GlyphRenderer\"},{\"attributes\":{\"plot\":{\"id\":\"8281d3d8-5096-4866-bad5-4f306a628193\",\"subtype\":\"Chart\",\"type\":\"Plot\"}},\"id\":\"a81d1216-db3c-40e8-94e1-fb0c7e1ff692\",\"type\":\"PanTool\"},{\"attributes\":{\"data_source\":{\"id\":\"5ffdf532-56bd-4328-950b-4ba06faeea2d\",\"type\":\"ColumnDataSource\"},\"glyph\":{\"id\":\"c652519b-84ec-4558-ade6-cd1aa1e42ccd\",\"type\":\"Rect\"},\"hover_glyph\":null,\"nonselection_glyph\":null,\"selection_glyph\":null},\"id\":\"a6c63e48-c107-4eb7-9c9b-3b9e1b4551a3\",\"type\":\"GlyphRenderer\"}],\"root_ids\":[\"3ebfa63f-1857-4c36-b46d-82cd0d1a9b05\"]},\"title\":\"Bokeh Application\",\"version\":\"0.12.0\"}};\n",
       "            var render_items = [{\"docid\":\"dc79551b-15e2-4876-a099-f38b255d16aa\",\"elementid\":\"a8b3cb23-915d-4d8f-a20e-38a220acfc37\",\"modelid\":\"3ebfa63f-1857-4c36-b46d-82cd0d1a9b05\",\"notebook_comms_target\":\"5e0a5e8b-73b8-47d7-9e1b-e3664783fb2f\"}];\n",
       "            \n",
       "            Bokeh.embed.embed_items(docs_json, render_items);\n",
       "        });\n",
       "      },\n",
       "      function(Bokeh) {\n",
       "      }\n",
       "    ];\n",
       "  \n",
       "    function run_inline_js() {\n",
       "      for (var i = 0; i < inline_js.length; i++) {\n",
       "        inline_js[i](window.Bokeh);\n",
       "      }\n",
       "    }\n",
       "  \n",
       "    if (window._bokeh_is_loading === 0) {\n",
       "      console.log(\"Bokeh: BokehJS loaded, going straight to plotting\");\n",
       "      run_inline_js();\n",
       "    } else {\n",
       "      load_libs(js_urls, function() {\n",
       "        console.log(\"Bokeh: BokehJS plotting callback run at\", now());\n",
       "        run_inline_js();\n",
       "      });\n",
       "    }\n",
       "  }(this));\n",
       "</script>"
      ]
     },
     "metadata": {},
     "output_type": "display_data"
    },
    {
     "data": {
      "text/html": [
       "<p><code>&lt;Bokeh Notebook handle for <strong>In[9]</strong>&gt;</code></p>"
      ],
      "text/plain": [
       "<bokeh.io._CommsHandle at 0x7f4cd9e2cf50>"
      ]
     },
     "execution_count": 9,
     "metadata": {},
     "output_type": "execute_result"
    }
   ],
   "source": [
    "from bokeh.charts import Bar\n",
    "from bokeh.charts.attributes import CatAttr\n",
    "\n",
    "MONTHS = ['Jan', 'Feb', 'Mar', 'Apr', 'May', 'Jun', 'Jul', 'Aug', 'Sep', 'Oct', 'Nov', 'Dec']\n",
    "\n",
    "comment_dict = dict(data=comment_month[0], label=MONTHS)\n",
    "post_dict = dict(data=post_month[0], label=MONTHS)\n",
    "\n",
    "comment_bar = Bar(comment_dict, values='data', label=CatAttr(columns=['label'], sort=False), \n",
    "               plot_width=450, plot_height=450, legend=None, title='Comments count')\n",
    "post_bar = Bar(post_dict, values='data', label=CatAttr(columns=['label'], sort=False), \n",
    "             plot_width=450, plot_height=450, legend=None, title='Posts count')\n",
    "\n",
    "comment_bar.xaxis.axis_label = post_bar.xaxis.axis_label = ''\n",
    "comment_bar.yaxis.axis_label = 'comments'\n",
    "post_bar.yaxis.axis_label = 'posts'\n",
    "\n",
    "show(row(comment_bar, post_bar))"
   ]
  },
  {
   "cell_type": "markdown",
   "metadata": {},
   "source": [
    "## bar charts: iLoveKCmilk"
   ]
  },
  {
   "cell_type": "code",
   "execution_count": 10,
   "metadata": {
    "collapsed": false
   },
   "outputs": [
    {
     "data": {
      "text/html": [
       "\n",
       "\n",
       "    <div class=\"bk-root\">\n",
       "        <div class=\"plotdiv\" id=\"a8465418-5f99-4bdc-b9d6-73aed8d64cc1\"></div>\n",
       "    </div>\n",
       "<script type=\"text/javascript\">\n",
       "  \n",
       "  (function(global) {\n",
       "    function now() {\n",
       "      return new Date();\n",
       "    }\n",
       "  \n",
       "    if (typeof (window._bokeh_onload_callbacks) === \"undefined\") {\n",
       "      window._bokeh_onload_callbacks = [];\n",
       "    }\n",
       "  \n",
       "    function run_callbacks() {\n",
       "      window._bokeh_onload_callbacks.forEach(function(callback) { callback() });\n",
       "      delete window._bokeh_onload_callbacks\n",
       "      console.info(\"Bokeh: all callbacks have finished\");\n",
       "    }\n",
       "  \n",
       "    function load_libs(js_urls, callback) {\n",
       "      window._bokeh_onload_callbacks.push(callback);\n",
       "      if (window._bokeh_is_loading > 0) {\n",
       "        console.log(\"Bokeh: BokehJS is being loaded, scheduling callback at\", now());\n",
       "        return null;\n",
       "      }\n",
       "      if (js_urls == null || js_urls.length === 0) {\n",
       "        run_callbacks();\n",
       "        return null;\n",
       "      }\n",
       "      console.log(\"Bokeh: BokehJS not loaded, scheduling load and callback at\", now());\n",
       "      window._bokeh_is_loading = js_urls.length;\n",
       "      for (var i = 0; i < js_urls.length; i++) {\n",
       "        var url = js_urls[i];\n",
       "        var s = document.createElement('script');\n",
       "        s.src = url;\n",
       "        s.async = false;\n",
       "        s.onreadystatechange = s.onload = function() {\n",
       "          window._bokeh_is_loading--;\n",
       "          if (window._bokeh_is_loading === 0) {\n",
       "            console.log(\"Bokeh: all BokehJS libraries loaded\");\n",
       "            run_callbacks()\n",
       "          }\n",
       "        };\n",
       "        s.onerror = function() {\n",
       "          console.warn(\"failed to load library \" + url);\n",
       "        };\n",
       "        console.log(\"Bokeh: injecting script tag for BokehJS library: \", url);\n",
       "        document.getElementsByTagName(\"head\")[0].appendChild(s);\n",
       "      }\n",
       "    };var element = document.getElementById(\"a8465418-5f99-4bdc-b9d6-73aed8d64cc1\");\n",
       "    if (element == null) {\n",
       "      console.log(\"Bokeh: ERROR: autoload.js configured with elementid 'a8465418-5f99-4bdc-b9d6-73aed8d64cc1' but no matching script tag was found. \")\n",
       "      return false;\n",
       "    }\n",
       "  \n",
       "    var js_urls = [];\n",
       "  \n",
       "    var inline_js = [\n",
       "      function(Bokeh) {\n",
       "        Bokeh.$(function() {\n",
       "            var docs_json = {\"fc5d52c8-0e12-4881-ae76-75131a2a16e2\":{\"roots\":{\"references\":[{\"attributes\":{\"plot\":{\"id\":\"871bac3c-4755-4e40-8a5e-8277a5ae419f\",\"subtype\":\"Chart\",\"type\":\"Plot\"}},\"id\":\"2e66cb2f-ee3f-4fa2-a3d3-6dc670d65e58\",\"type\":\"HelpTool\"},{\"attributes\":{\"fill_alpha\":{\"field\":\"fill_alpha\"},\"fill_color\":{\"field\":\"color\"},\"height\":{\"field\":\"height\",\"units\":\"data\"},\"line_color\":{\"field\":\"line_color\"},\"width\":{\"field\":\"width\",\"units\":\"data\"},\"x\":{\"field\":\"x\"},\"y\":{\"field\":\"y\"}},\"id\":\"3e0925c0-6992-4492-a995-41ba418b7ac5\",\"type\":\"Rect\"},{\"attributes\":{\"fill_alpha\":{\"field\":\"fill_alpha\"},\"fill_color\":{\"field\":\"color\"},\"height\":{\"field\":\"height\",\"units\":\"data\"},\"line_color\":{\"field\":\"line_color\"},\"width\":{\"field\":\"width\",\"units\":\"data\"},\"x\":{\"field\":\"x\"},\"y\":{\"field\":\"y\"}},\"id\":\"1d8e19de-b461-462d-893a-6c063c69c0b0\",\"type\":\"Rect\"},{\"attributes\":{\"callback\":null,\"column_names\":[\"line_color\",\"line_alpha\",\"color\",\"fill_alpha\",\"height\",\"width\",\"y\",\"x\",\"label\"],\"data\":{\"chart_index\":[{\"label\":\"Apr\"}],\"color\":[\"#f22c40\"],\"fill_alpha\":[0.8],\"height\":[9.0],\"label\":[\"Apr\"],\"line_alpha\":[1.0],\"line_color\":[\"white\"],\"width\":[0.8],\"x\":[\"Apr\"],\"y\":[4.5]}},\"id\":\"1e97cd2c-8932-4c2c-b526-e72a1c9b8b70\",\"type\":\"ColumnDataSource\"},{\"attributes\":{},\"id\":\"bb06881e-df1f-49d3-b24b-5bbaa50fb5a6\",\"type\":\"BasicTickFormatter\"},{\"attributes\":{\"callback\":null,\"column_names\":[\"line_color\",\"line_alpha\",\"color\",\"fill_alpha\",\"height\",\"width\",\"y\",\"x\",\"label\"],\"data\":{\"chart_index\":[{\"label\":\"Mar\"}],\"color\":[\"#f22c40\"],\"fill_alpha\":[0.8],\"height\":[0.0],\"label\":[\"Mar\"],\"line_alpha\":[1.0],\"line_color\":[\"white\"],\"width\":[0.8],\"x\":[\"Mar\"],\"y\":[0.0]}},\"id\":\"46993b03-3bc3-4a0d-ae18-bd6c907b877f\",\"type\":\"ColumnDataSource\"},{\"attributes\":{\"overlay\":{\"id\":\"708b7ad5-2d14-4b17-9e70-63ef60a1ed1d\",\"type\":\"BoxAnnotation\"},\"plot\":{\"id\":\"871bac3c-4755-4e40-8a5e-8277a5ae419f\",\"subtype\":\"Chart\",\"type\":\"Plot\"}},\"id\":\"578a66eb-beec-4ac6-9cd0-6ae261221806\",\"type\":\"BoxZoomTool\"},{\"attributes\":{\"data_source\":{\"id\":\"f09131c4-68d7-40d3-a20a-95ae264aba1b\",\"type\":\"ColumnDataSource\"},\"glyph\":{\"id\":\"703241aa-fc64-4e90-87ee-2590af8b6fc1\",\"type\":\"Rect\"},\"hover_glyph\":null,\"nonselection_glyph\":null,\"selection_glyph\":null},\"id\":\"94f92143-20e2-4658-82c7-e2fcfb714163\",\"type\":\"GlyphRenderer\"},{\"attributes\":{\"fill_alpha\":{\"field\":\"fill_alpha\"},\"fill_color\":{\"field\":\"color\"},\"height\":{\"field\":\"height\",\"units\":\"data\"},\"line_color\":{\"field\":\"line_color\"},\"width\":{\"field\":\"width\",\"units\":\"data\"},\"x\":{\"field\":\"x\"},\"y\":{\"field\":\"y\"}},\"id\":\"c0099a8d-65f3-4d0a-af61-9269ffad311a\",\"type\":\"Rect\"},{\"attributes\":{\"callback\":null,\"column_names\":[\"line_color\",\"line_alpha\",\"color\",\"fill_alpha\",\"height\",\"width\",\"y\",\"x\",\"label\"],\"data\":{\"chart_index\":[{\"label\":\"Jul\"}],\"color\":[\"#f22c40\"],\"fill_alpha\":[0.8],\"height\":[339.0],\"label\":[\"Jul\"],\"line_alpha\":[1.0],\"line_color\":[\"white\"],\"width\":[0.8],\"x\":[\"Jul\"],\"y\":[169.5]}},\"id\":\"028d2f4f-d6b8-41eb-a2b7-3b59bb9137f6\",\"type\":\"ColumnDataSource\"},{\"attributes\":{\"data_source\":{\"id\":\"a12bd562-f46f-4a59-ba2d-b49710a0fa14\",\"type\":\"ColumnDataSource\"},\"glyph\":{\"id\":\"258f095e-8925-47c9-90a7-38cae27251b7\",\"type\":\"Rect\"},\"hover_glyph\":null,\"nonselection_glyph\":null,\"selection_glyph\":null},\"id\":\"3b19468a-1b39-41d9-93d2-44cda7d73c58\",\"type\":\"GlyphRenderer\"},{\"attributes\":{\"callback\":null,\"column_names\":[\"line_color\",\"line_alpha\",\"color\",\"fill_alpha\",\"height\",\"width\",\"y\",\"x\",\"label\"],\"data\":{\"chart_index\":[{\"label\":\"Dec\"}],\"color\":[\"#f22c40\"],\"fill_alpha\":[0.8],\"height\":[150.0],\"label\":[\"Dec\"],\"line_alpha\":[1.0],\"line_color\":[\"white\"],\"width\":[0.8],\"x\":[\"Dec\"],\"y\":[75.0]}},\"id\":\"8530bc5b-ad9c-4e77-b531-d9d0f1ecc2bc\",\"type\":\"ColumnDataSource\"},{\"attributes\":{\"below\":[{\"id\":\"4b29fedd-79ae-4a09-8e02-4624cb29a497\",\"type\":\"CategoricalAxis\"}],\"left\":[{\"id\":\"d48929e0-5ee3-4069-b812-93312cc9cc3c\",\"type\":\"LinearAxis\"}],\"plot_height\":450,\"plot_width\":450,\"renderers\":[{\"id\":\"400888b5-f268-44a6-acb7-a93ab10d8976\",\"type\":\"BoxAnnotation\"},{\"id\":\"e576e646-0c3e-4340-83f8-66b4026d03aa\",\"type\":\"GlyphRenderer\"},{\"id\":\"932f4ee2-add2-4949-9ca0-accb61f2cd3f\",\"type\":\"GlyphRenderer\"},{\"id\":\"1059075c-9f68-426e-b674-634481ba3e59\",\"type\":\"GlyphRenderer\"},{\"id\":\"e310c739-0ac6-4184-853f-ff90ad491d24\",\"type\":\"GlyphRenderer\"},{\"id\":\"3e0824b9-7f43-440f-82b6-470b2af55c3b\",\"type\":\"GlyphRenderer\"},{\"id\":\"a8b0b8ef-30b6-456d-a08c-59fdd5e7c34e\",\"type\":\"GlyphRenderer\"},{\"id\":\"fda64921-6b5f-4a49-b0c0-f3a09fd47049\",\"type\":\"GlyphRenderer\"},{\"id\":\"3b19468a-1b39-41d9-93d2-44cda7d73c58\",\"type\":\"GlyphRenderer\"},{\"id\":\"8357f9d7-36ff-4412-8a3b-1fd2d464d5cb\",\"type\":\"GlyphRenderer\"},{\"id\":\"f6c95c48-c8aa-41d7-b1a3-29bdf2574a50\",\"type\":\"GlyphRenderer\"},{\"id\":\"368aab04-9211-4f73-84ce-e398a158e55c\",\"type\":\"GlyphRenderer\"},{\"id\":\"ac2f72fc-cfb5-452d-b6dc-6dafcbbec4a4\",\"type\":\"GlyphRenderer\"},{\"id\":\"4b29fedd-79ae-4a09-8e02-4624cb29a497\",\"type\":\"CategoricalAxis\"},{\"id\":\"d48929e0-5ee3-4069-b812-93312cc9cc3c\",\"type\":\"LinearAxis\"},{\"id\":\"5a243944-d556-4ca1-9b02-2fdd3a3b1b57\",\"type\":\"Grid\"}],\"title\":{\"id\":\"1e5af35f-24cb-46bd-be1e-0f01238cc618\",\"type\":\"Title\"},\"tool_events\":{\"id\":\"6d6a5a04-1dd9-4957-9941-aa2c52a512f4\",\"type\":\"ToolEvents\"},\"toolbar\":{\"id\":\"28675d6a-ed56-4a5a-9efa-d5837f497736\",\"type\":\"Toolbar\"},\"x_mapper_type\":\"auto\",\"x_range\":{\"id\":\"87e26751-c141-4e6f-b469-bec1fe4c20d7\",\"type\":\"FactorRange\"},\"y_mapper_type\":\"auto\",\"y_range\":{\"id\":\"8554ee8c-e3d4-49a8-8a69-4a4bc1860ef1\",\"type\":\"Range1d\"}},\"id\":\"1cf90785-b295-48ee-a333-efd9adfaa6cd\",\"subtype\":\"Chart\",\"type\":\"Plot\"},{\"attributes\":{\"callback\":null,\"column_names\":[\"line_color\",\"line_alpha\",\"color\",\"fill_alpha\",\"height\",\"width\",\"y\",\"x\",\"label\"],\"data\":{\"chart_index\":[{\"label\":\"Sep\"}],\"color\":[\"#f22c40\"],\"fill_alpha\":[0.8],\"height\":[8.0],\"label\":[\"Sep\"],\"line_alpha\":[1.0],\"line_color\":[\"white\"],\"width\":[0.8],\"x\":[\"Sep\"],\"y\":[4.0]}},\"id\":\"1302762c-af77-4fba-995a-387771282283\",\"type\":\"ColumnDataSource\"},{\"attributes\":{\"active_drag\":\"auto\",\"active_scroll\":\"auto\",\"active_tap\":\"auto\",\"tools\":[{\"id\":\"54ced1df-b3f7-4b21-8eea-54e8d0c4f8e1\",\"type\":\"PanTool\"},{\"id\":\"5f4db806-ac34-4403-a548-c3d61f21293c\",\"type\":\"WheelZoomTool\"},{\"id\":\"80e057cf-c708-4ff0-87af-8e3aabfa98eb\",\"type\":\"BoxZoomTool\"},{\"id\":\"034e8d45-a684-4367-8fe9-f147b3e8382e\",\"type\":\"SaveTool\"},{\"id\":\"7dcd0c2f-eb3e-4dd2-b620-dba4f0b0c203\",\"type\":\"ResetTool\"},{\"id\":\"73f856a0-7808-4c0b-b680-237c2e33fbbe\",\"type\":\"HelpTool\"}]},\"id\":\"28675d6a-ed56-4a5a-9efa-d5837f497736\",\"type\":\"Toolbar\"},{\"attributes\":{\"data_source\":{\"id\":\"ace557b5-b8a3-4930-95a5-8b476c6602de\",\"type\":\"ColumnDataSource\"},\"glyph\":{\"id\":\"a3cbf7db-d39e-49c8-905d-ab08a44efede\",\"type\":\"Rect\"},\"hover_glyph\":null,\"nonselection_glyph\":null,\"selection_glyph\":null},\"id\":\"2d89f871-4045-47cf-a703-cc9b33194ed5\",\"type\":\"GlyphRenderer\"},{\"attributes\":{\"fill_alpha\":{\"field\":\"fill_alpha\"},\"fill_color\":{\"field\":\"color\"},\"height\":{\"field\":\"height\",\"units\":\"data\"},\"line_color\":{\"field\":\"line_color\"},\"width\":{\"field\":\"width\",\"units\":\"data\"},\"x\":{\"field\":\"x\"},\"y\":{\"field\":\"y\"}},\"id\":\"ffb94f67-7a8c-4d65-9b15-0c427d504369\",\"type\":\"Rect\"},{\"attributes\":{\"dimension\":1,\"plot\":{\"id\":\"1cf90785-b295-48ee-a333-efd9adfaa6cd\",\"subtype\":\"Chart\",\"type\":\"Plot\"},\"ticker\":{\"id\":\"e06ce1f4-91c8-48a2-aded-fe13737e3bfd\",\"type\":\"BasicTicker\"}},\"id\":\"5a243944-d556-4ca1-9b02-2fdd3a3b1b57\",\"type\":\"Grid\"},{\"attributes\":{},\"id\":\"2c2354b6-a4a1-4168-b672-214609fcbcc5\",\"type\":\"CategoricalTickFormatter\"},{\"attributes\":{\"data_source\":{\"id\":\"8d131539-8389-447b-bbef-e5c7c6e8ba38\",\"type\":\"ColumnDataSource\"},\"glyph\":{\"id\":\"3492a656-01f3-4571-b56f-241419e08298\",\"type\":\"Rect\"},\"hover_glyph\":null,\"nonselection_glyph\":null,\"selection_glyph\":null},\"id\":\"53f1f7fc-8cf9-4af9-aa09-4e2f29f8ea80\",\"type\":\"GlyphRenderer\"},{\"attributes\":{\"callback\":null,\"column_names\":[\"line_color\",\"line_alpha\",\"color\",\"fill_alpha\",\"height\",\"width\",\"y\",\"x\",\"label\"],\"data\":{\"chart_index\":[{\"label\":\"Jan\"}],\"color\":[\"#f22c40\"],\"fill_alpha\":[0.8],\"height\":[17.0],\"label\":[\"Jan\"],\"line_alpha\":[1.0],\"line_color\":[\"white\"],\"width\":[0.8],\"x\":[\"Jan\"],\"y\":[8.5]}},\"id\":\"c9177be7-7590-4826-a2cc-7c8247389321\",\"type\":\"ColumnDataSource\"},{\"attributes\":{\"data_source\":{\"id\":\"fcb6e82e-f9dc-40e4-a063-1e7166ec8ad0\",\"type\":\"ColumnDataSource\"},\"glyph\":{\"id\":\"46377c83-1141-49a3-b764-9f03b5ade743\",\"type\":\"Rect\"},\"hover_glyph\":null,\"nonselection_glyph\":null,\"selection_glyph\":null},\"id\":\"368aab04-9211-4f73-84ce-e398a158e55c\",\"type\":\"GlyphRenderer\"},{\"attributes\":{\"below\":[{\"id\":\"f79a3573-ef4c-4abd-b4b5-3cd21c3b47a3\",\"type\":\"CategoricalAxis\"}],\"left\":[{\"id\":\"fa054529-a626-484b-97b2-17d6baef57c1\",\"type\":\"LinearAxis\"}],\"plot_height\":450,\"plot_width\":450,\"renderers\":[{\"id\":\"708b7ad5-2d14-4b17-9e70-63ef60a1ed1d\",\"type\":\"BoxAnnotation\"},{\"id\":\"632c5df6-0e4e-4125-8bdc-ccff971ddc01\",\"type\":\"GlyphRenderer\"},{\"id\":\"dd1af842-27d9-4e1f-abfc-51468099de8f\",\"type\":\"GlyphRenderer\"},{\"id\":\"32344c6e-007e-44f7-99fc-5a1555f3d4f2\",\"type\":\"GlyphRenderer\"},{\"id\":\"3213a74b-b96a-41b2-8136-4433d8052bd0\",\"type\":\"GlyphRenderer\"},{\"id\":\"9514ec78-3ec8-4a3c-8a5b-25fd8e4a38d5\",\"type\":\"GlyphRenderer\"},{\"id\":\"2d89f871-4045-47cf-a703-cc9b33194ed5\",\"type\":\"GlyphRenderer\"},{\"id\":\"6f326882-8139-49ff-bcec-a050f40af032\",\"type\":\"GlyphRenderer\"},{\"id\":\"43e1e128-7e49-4f23-b6d9-cae0b9e6b1dc\",\"type\":\"GlyphRenderer\"},{\"id\":\"81236ad4-bc22-4ec1-9f03-6a122ff73937\",\"type\":\"GlyphRenderer\"},{\"id\":\"53f1f7fc-8cf9-4af9-aa09-4e2f29f8ea80\",\"type\":\"GlyphRenderer\"},{\"id\":\"94f92143-20e2-4658-82c7-e2fcfb714163\",\"type\":\"GlyphRenderer\"},{\"id\":\"f67da37c-4de7-4eb9-a7c3-db0c4a0180c4\",\"type\":\"GlyphRenderer\"},{\"id\":\"f79a3573-ef4c-4abd-b4b5-3cd21c3b47a3\",\"type\":\"CategoricalAxis\"},{\"id\":\"fa054529-a626-484b-97b2-17d6baef57c1\",\"type\":\"LinearAxis\"},{\"id\":\"7e9d8c5d-e74b-4948-9591-943687f0ec1e\",\"type\":\"Grid\"}],\"title\":{\"id\":\"3d12a59e-f41f-4865-ab3d-c5e23384372d\",\"type\":\"Title\"},\"tool_events\":{\"id\":\"121dd780-0e15-4bfe-888a-0813f3f85d40\",\"type\":\"ToolEvents\"},\"toolbar\":{\"id\":\"958b598a-2767-48e4-8e26-b88ffcb8e397\",\"type\":\"Toolbar\"},\"x_mapper_type\":\"auto\",\"x_range\":{\"id\":\"dd9f83f2-2a2d-4b59-b677-e3aa7391a6ac\",\"type\":\"FactorRange\"},\"y_mapper_type\":\"auto\",\"y_range\":{\"id\":\"8306b753-574c-41b8-9acb-101d9f2a8cdd\",\"type\":\"Range1d\"}},\"id\":\"871bac3c-4755-4e40-8a5e-8277a5ae419f\",\"subtype\":\"Chart\",\"type\":\"Plot\"},{\"attributes\":{\"data_source\":{\"id\":\"9511d966-7351-4a8f-aea9-ffae1efd1a2e\",\"type\":\"ColumnDataSource\"},\"glyph\":{\"id\":\"ffb94f67-7a8c-4d65-9b15-0c427d504369\",\"type\":\"Rect\"},\"hover_glyph\":null,\"nonselection_glyph\":null,\"selection_glyph\":null},\"id\":\"a8b0b8ef-30b6-456d-a08c-59fdd5e7c34e\",\"type\":\"GlyphRenderer\"},{\"attributes\":{\"callback\":null,\"column_names\":[\"line_color\",\"line_alpha\",\"color\",\"fill_alpha\",\"height\",\"width\",\"y\",\"x\",\"label\"],\"data\":{\"chart_index\":[{\"label\":\"Sep\"}],\"color\":[\"#f22c40\"],\"fill_alpha\":[0.8],\"height\":[464.0],\"label\":[\"Sep\"],\"line_alpha\":[1.0],\"line_color\":[\"white\"],\"width\":[0.8],\"x\":[\"Sep\"],\"y\":[232.0]}},\"id\":\"6bce15a9-6f4f-4616-9545-4e19a8d5e7e9\",\"type\":\"ColumnDataSource\"},{\"attributes\":{\"plot\":{\"id\":\"871bac3c-4755-4e40-8a5e-8277a5ae419f\",\"subtype\":\"Chart\",\"type\":\"Plot\"}},\"id\":\"cb3f7a56-fcb7-43b1-939a-b4f8b60c6308\",\"type\":\"PanTool\"},{\"attributes\":{\"callback\":null,\"column_names\":[\"line_color\",\"line_alpha\",\"color\",\"fill_alpha\",\"height\",\"width\",\"y\",\"x\",\"label\"],\"data\":{\"chart_index\":[{\"label\":\"Dec\"}],\"color\":[\"#f22c40\"],\"fill_alpha\":[0.8],\"height\":[5.0],\"label\":[\"Dec\"],\"line_alpha\":[1.0],\"line_color\":[\"white\"],\"width\":[0.8],\"x\":[\"Dec\"],\"y\":[2.5]}},\"id\":\"9821fb1b-c9d6-427c-ac48-ec9a9d4cb250\",\"type\":\"ColumnDataSource\"},{\"attributes\":{\"callback\":null,\"column_names\":[\"line_color\",\"line_alpha\",\"color\",\"fill_alpha\",\"height\",\"width\",\"y\",\"x\",\"label\"],\"data\":{\"chart_index\":[{\"label\":\"Oct\"}],\"color\":[\"#f22c40\"],\"fill_alpha\":[0.8],\"height\":[12.0],\"label\":[\"Oct\"],\"line_alpha\":[1.0],\"line_color\":[\"white\"],\"width\":[0.8],\"x\":[\"Oct\"],\"y\":[6.0]}},\"id\":\"8d131539-8389-447b-bbef-e5c7c6e8ba38\",\"type\":\"ColumnDataSource\"},{\"attributes\":{\"callback\":null,\"end\":6034.35},\"id\":\"8554ee8c-e3d4-49a8-8a69-4a4bc1860ef1\",\"type\":\"Range1d\"},{\"attributes\":{\"fill_alpha\":{\"field\":\"fill_alpha\"},\"fill_color\":{\"field\":\"color\"},\"height\":{\"field\":\"height\",\"units\":\"data\"},\"line_color\":{\"field\":\"line_color\"},\"width\":{\"field\":\"width\",\"units\":\"data\"},\"x\":{\"field\":\"x\"},\"y\":{\"field\":\"y\"}},\"id\":\"703241aa-fc64-4e90-87ee-2590af8b6fc1\",\"type\":\"Rect\"},{\"attributes\":{\"callback\":null,\"factors\":[\"Jan\",\"Feb\",\"Mar\",\"Apr\",\"May\",\"Jun\",\"Jul\",\"Aug\",\"Sep\",\"Oct\",\"Nov\",\"Dec\"]},\"id\":\"dd9f83f2-2a2d-4b59-b677-e3aa7391a6ac\",\"type\":\"FactorRange\"},{\"attributes\":{\"data_source\":{\"id\":\"8530bc5b-ad9c-4e77-b531-d9d0f1ecc2bc\",\"type\":\"ColumnDataSource\"},\"glyph\":{\"id\":\"5337e5d5-5be3-4f03-8780-7df71177a79d\",\"type\":\"Rect\"},\"hover_glyph\":null,\"nonselection_glyph\":null,\"selection_glyph\":null},\"id\":\"ac2f72fc-cfb5-452d-b6dc-6dafcbbec4a4\",\"type\":\"GlyphRenderer\"},{\"attributes\":{\"data_source\":{\"id\":\"56d11cd1-c455-4049-84e2-626541bc6f6e\",\"type\":\"ColumnDataSource\"},\"glyph\":{\"id\":\"dac6fc23-b858-4b46-ac54-f8878402a70c\",\"type\":\"Rect\"},\"hover_glyph\":null,\"nonselection_glyph\":null,\"selection_glyph\":null},\"id\":\"932f4ee2-add2-4949-9ca0-accb61f2cd3f\",\"type\":\"GlyphRenderer\"},{\"attributes\":{\"callback\":null,\"column_names\":[\"line_color\",\"line_alpha\",\"color\",\"fill_alpha\",\"height\",\"width\",\"y\",\"x\",\"label\"],\"data\":{\"chart_index\":[{\"label\":\"May\"}],\"color\":[\"#f22c40\"],\"fill_alpha\":[0.8],\"height\":[2385.0],\"label\":[\"May\"],\"line_alpha\":[1.0],\"line_color\":[\"white\"],\"width\":[0.8],\"x\":[\"May\"],\"y\":[1192.5]}},\"id\":\"79eaaf77-9378-4e94-9b6a-28f48db8d6a6\",\"type\":\"ColumnDataSource\"},{\"attributes\":{\"data_source\":{\"id\":\"92783948-bda0-42f0-8f5d-ec1bbaa3d1b4\",\"type\":\"ColumnDataSource\"},\"glyph\":{\"id\":\"15c62a03-9012-4f08-abd2-a13d75cf613e\",\"type\":\"Rect\"},\"hover_glyph\":null,\"nonselection_glyph\":null,\"selection_glyph\":null},\"id\":\"dd1af842-27d9-4e1f-abfc-51468099de8f\",\"type\":\"GlyphRenderer\"},{\"attributes\":{\"plot\":{\"id\":\"871bac3c-4755-4e40-8a5e-8277a5ae419f\",\"subtype\":\"Chart\",\"type\":\"Plot\"}},\"id\":\"1c01c5b5-0e19-46d3-b42f-7ed42bc674c1\",\"type\":\"WheelZoomTool\"},{\"attributes\":{\"data_source\":{\"id\":\"79eaaf77-9378-4e94-9b6a-28f48db8d6a6\",\"type\":\"ColumnDataSource\"},\"glyph\":{\"id\":\"4bdc1972-42eb-472e-b87a-c232211516db\",\"type\":\"Rect\"},\"hover_glyph\":null,\"nonselection_glyph\":null,\"selection_glyph\":null},\"id\":\"3e0824b9-7f43-440f-82b6-470b2af55c3b\",\"type\":\"GlyphRenderer\"},{\"attributes\":{\"data_source\":{\"id\":\"7b33d2f4-0e75-4a9e-91df-c72d9a3a4ea5\",\"type\":\"ColumnDataSource\"},\"glyph\":{\"id\":\"f8fdda7d-3e6b-44c1-9560-63142f50e4df\",\"type\":\"Rect\"},\"hover_glyph\":null,\"nonselection_glyph\":null,\"selection_glyph\":null},\"id\":\"1059075c-9f68-426e-b674-634481ba3e59\",\"type\":\"GlyphRenderer\"},{\"attributes\":{\"fill_alpha\":{\"field\":\"fill_alpha\"},\"fill_color\":{\"field\":\"color\"},\"height\":{\"field\":\"height\",\"units\":\"data\"},\"line_color\":{\"field\":\"line_color\"},\"width\":{\"field\":\"width\",\"units\":\"data\"},\"x\":{\"field\":\"x\"},\"y\":{\"field\":\"y\"}},\"id\":\"a3cbf7db-d39e-49c8-905d-ab08a44efede\",\"type\":\"Rect\"},{\"attributes\":{\"callback\":null,\"column_names\":[\"line_color\",\"line_alpha\",\"color\",\"fill_alpha\",\"height\",\"width\",\"y\",\"x\",\"label\"],\"data\":{\"chart_index\":[{\"label\":\"Jan\"}],\"color\":[\"#f22c40\"],\"fill_alpha\":[0.8],\"height\":[5747.0],\"label\":[\"Jan\"],\"line_alpha\":[1.0],\"line_color\":[\"white\"],\"width\":[0.8],\"x\":[\"Jan\"],\"y\":[2873.5]}},\"id\":\"994105b4-1659-4a55-b968-eee72bd699ba\",\"type\":\"ColumnDataSource\"},{\"attributes\":{\"callback\":null,\"column_names\":[\"line_color\",\"line_alpha\",\"color\",\"fill_alpha\",\"height\",\"width\",\"y\",\"x\",\"label\"],\"data\":{\"chart_index\":[{\"label\":\"Oct\"}],\"color\":[\"#f22c40\"],\"fill_alpha\":[0.8],\"height\":[1535.0],\"label\":[\"Oct\"],\"line_alpha\":[1.0],\"line_color\":[\"white\"],\"width\":[0.8],\"x\":[\"Oct\"],\"y\":[767.5]}},\"id\":\"90e23861-db77-4e19-a145-047f75ae49e5\",\"type\":\"ColumnDataSource\"},{\"attributes\":{\"callback\":null,\"column_names\":[\"line_color\",\"line_alpha\",\"color\",\"fill_alpha\",\"height\",\"width\",\"y\",\"x\",\"label\"],\"data\":{\"chart_index\":[{\"label\":\"Nov\"}],\"color\":[\"#f22c40\"],\"fill_alpha\":[0.8],\"height\":[1.0],\"label\":[\"Nov\"],\"line_alpha\":[1.0],\"line_color\":[\"white\"],\"width\":[0.8],\"x\":[\"Nov\"],\"y\":[0.5]}},\"id\":\"f09131c4-68d7-40d3-a20a-95ae264aba1b\",\"type\":\"ColumnDataSource\"},{\"attributes\":{},\"id\":\"22abd77f-57c5-49ab-b429-85e05149052a\",\"type\":\"BasicTicker\"},{\"attributes\":{\"plot\":{\"id\":\"1cf90785-b295-48ee-a333-efd9adfaa6cd\",\"subtype\":\"Chart\",\"type\":\"Plot\"}},\"id\":\"034e8d45-a684-4367-8fe9-f147b3e8382e\",\"type\":\"SaveTool\"},{\"attributes\":{\"callback\":null,\"end\":17.85},\"id\":\"8306b753-574c-41b8-9acb-101d9f2a8cdd\",\"type\":\"Range1d\"},{\"attributes\":{\"callback\":null,\"column_names\":[\"line_color\",\"line_alpha\",\"color\",\"fill_alpha\",\"height\",\"width\",\"y\",\"x\",\"label\"],\"data\":{\"chart_index\":[{\"label\":\"Aug\"}],\"color\":[\"#f22c40\"],\"fill_alpha\":[0.8],\"height\":[10.0],\"label\":[\"Aug\"],\"line_alpha\":[1.0],\"line_color\":[\"white\"],\"width\":[0.8],\"x\":[\"Aug\"],\"y\":[5.0]}},\"id\":\"4e961735-a03f-40b3-b775-bd1b2dcbf33a\",\"type\":\"ColumnDataSource\"},{\"attributes\":{},\"id\":\"0c8c2ae7-b25e-4ab2-b3d5-f87722c584c6\",\"type\":\"CategoricalTickFormatter\"},{\"attributes\":{\"plot\":{\"id\":\"871bac3c-4755-4e40-8a5e-8277a5ae419f\",\"subtype\":\"Chart\",\"type\":\"Plot\"}},\"id\":\"ab004891-a36e-43f6-99d8-cab99af92a64\",\"type\":\"SaveTool\"},{\"attributes\":{\"dimension\":1,\"plot\":{\"id\":\"871bac3c-4755-4e40-8a5e-8277a5ae419f\",\"subtype\":\"Chart\",\"type\":\"Plot\"},\"ticker\":{\"id\":\"22abd77f-57c5-49ab-b429-85e05149052a\",\"type\":\"BasicTicker\"}},\"id\":\"7e9d8c5d-e74b-4948-9591-943687f0ec1e\",\"type\":\"Grid\"},{\"attributes\":{\"callback\":null,\"column_names\":[\"line_color\",\"line_alpha\",\"color\",\"fill_alpha\",\"height\",\"width\",\"y\",\"x\",\"label\"],\"data\":{\"chart_index\":[{\"label\":\"Jun\"}],\"color\":[\"#f22c40\"],\"fill_alpha\":[0.8],\"height\":[2524.0],\"label\":[\"Jun\"],\"line_alpha\":[1.0],\"line_color\":[\"white\"],\"width\":[0.8],\"x\":[\"Jun\"],\"y\":[1262.0]}},\"id\":\"9511d966-7351-4a8f-aea9-ffae1efd1a2e\",\"type\":\"ColumnDataSource\"},{\"attributes\":{\"fill_alpha\":{\"field\":\"fill_alpha\"},\"fill_color\":{\"field\":\"color\"},\"height\":{\"field\":\"height\",\"units\":\"data\"},\"line_color\":{\"field\":\"line_color\"},\"width\":{\"field\":\"width\",\"units\":\"data\"},\"x\":{\"field\":\"x\"},\"y\":{\"field\":\"y\"}},\"id\":\"3492a656-01f3-4571-b56f-241419e08298\",\"type\":\"Rect\"},{\"attributes\":{},\"id\":\"6d6a5a04-1dd9-4957-9941-aa2c52a512f4\",\"type\":\"ToolEvents\"},{\"attributes\":{\"fill_alpha\":{\"field\":\"fill_alpha\"},\"fill_color\":{\"field\":\"color\"},\"height\":{\"field\":\"height\",\"units\":\"data\"},\"line_color\":{\"field\":\"line_color\"},\"width\":{\"field\":\"width\",\"units\":\"data\"},\"x\":{\"field\":\"x\"},\"y\":{\"field\":\"y\"}},\"id\":\"2ecae169-53fb-4cc0-af0f-ce96a155577e\",\"type\":\"Rect\"},{\"attributes\":{\"data_source\":{\"id\":\"4e961735-a03f-40b3-b775-bd1b2dcbf33a\",\"type\":\"ColumnDataSource\"},\"glyph\":{\"id\":\"3e0925c0-6992-4492-a995-41ba418b7ac5\",\"type\":\"Rect\"},\"hover_glyph\":null,\"nonselection_glyph\":null,\"selection_glyph\":null},\"id\":\"43e1e128-7e49-4f23-b6d9-cae0b9e6b1dc\",\"type\":\"GlyphRenderer\"},{\"attributes\":{\"data_source\":{\"id\":\"c9177be7-7590-4826-a2cc-7c8247389321\",\"type\":\"ColumnDataSource\"},\"glyph\":{\"id\":\"fa796542-33f6-4708-98d7-5d34c2fcc872\",\"type\":\"Rect\"},\"hover_glyph\":null,\"nonselection_glyph\":null,\"selection_glyph\":null},\"id\":\"632c5df6-0e4e-4125-8bdc-ccff971ddc01\",\"type\":\"GlyphRenderer\"},{\"attributes\":{\"callback\":null,\"factors\":[\"Jan\",\"Feb\",\"Mar\",\"Apr\",\"May\",\"Jun\",\"Jul\",\"Aug\",\"Sep\",\"Oct\",\"Nov\",\"Dec\"]},\"id\":\"87e26751-c141-4e6f-b469-bec1fe4c20d7\",\"type\":\"FactorRange\"},{\"attributes\":{\"callback\":null,\"column_names\":[\"line_color\",\"line_alpha\",\"color\",\"fill_alpha\",\"height\",\"width\",\"y\",\"x\",\"label\"],\"data\":{\"chart_index\":[{\"label\":\"May\"}],\"color\":[\"#f22c40\"],\"fill_alpha\":[0.8],\"height\":[10.0],\"label\":[\"May\"],\"line_alpha\":[1.0],\"line_color\":[\"white\"],\"width\":[0.8],\"x\":[\"May\"],\"y\":[5.0]}},\"id\":\"28d26e83-7e95-4a52-b5ba-1424ce65dc18\",\"type\":\"ColumnDataSource\"},{\"attributes\":{\"fill_alpha\":{\"field\":\"fill_alpha\"},\"fill_color\":{\"field\":\"color\"},\"height\":{\"field\":\"height\",\"units\":\"data\"},\"line_color\":{\"field\":\"line_color\"},\"width\":{\"field\":\"width\",\"units\":\"data\"},\"x\":{\"field\":\"x\"},\"y\":{\"field\":\"y\"}},\"id\":\"fa796542-33f6-4708-98d7-5d34c2fcc872\",\"type\":\"Rect\"},{\"attributes\":{\"children\":[{\"id\":\"1cf90785-b295-48ee-a333-efd9adfaa6cd\",\"subtype\":\"Chart\",\"type\":\"Plot\"},{\"id\":\"871bac3c-4755-4e40-8a5e-8277a5ae419f\",\"subtype\":\"Chart\",\"type\":\"Plot\"}]},\"id\":\"3efc6961-4bd8-471e-be21-e6f6c91917cf\",\"type\":\"Row\"},{\"attributes\":{\"active_drag\":\"auto\",\"active_scroll\":\"auto\",\"active_tap\":\"auto\",\"tools\":[{\"id\":\"cb3f7a56-fcb7-43b1-939a-b4f8b60c6308\",\"type\":\"PanTool\"},{\"id\":\"1c01c5b5-0e19-46d3-b42f-7ed42bc674c1\",\"type\":\"WheelZoomTool\"},{\"id\":\"578a66eb-beec-4ac6-9cd0-6ae261221806\",\"type\":\"BoxZoomTool\"},{\"id\":\"ab004891-a36e-43f6-99d8-cab99af92a64\",\"type\":\"SaveTool\"},{\"id\":\"83f2df8a-c1d2-4d70-bd99-71714d072616\",\"type\":\"ResetTool\"},{\"id\":\"2e66cb2f-ee3f-4fa2-a3d3-6dc670d65e58\",\"type\":\"HelpTool\"}]},\"id\":\"958b598a-2767-48e4-8e26-b88ffcb8e397\",\"type\":\"Toolbar\"},{\"attributes\":{},\"id\":\"23b79556-946e-4b3e-aa57-47adb9cecf8c\",\"type\":\"CategoricalTicker\"},{\"attributes\":{\"plot\":null,\"text\":\"Comments count\"},\"id\":\"1e5af35f-24cb-46bd-be1e-0f01238cc618\",\"type\":\"Title\"},{\"attributes\":{\"fill_alpha\":{\"field\":\"fill_alpha\"},\"fill_color\":{\"field\":\"color\"},\"height\":{\"field\":\"height\",\"units\":\"data\"},\"line_color\":{\"field\":\"line_color\"},\"width\":{\"field\":\"width\",\"units\":\"data\"},\"x\":{\"field\":\"x\"},\"y\":{\"field\":\"y\"}},\"id\":\"f8fdda7d-3e6b-44c1-9560-63142f50e4df\",\"type\":\"Rect\"},{\"attributes\":{\"callback\":null,\"column_names\":[\"line_color\",\"line_alpha\",\"color\",\"fill_alpha\",\"height\",\"width\",\"y\",\"x\",\"label\"],\"data\":{\"chart_index\":[{\"label\":\"Aug\"}],\"color\":[\"#f22c40\"],\"fill_alpha\":[0.8],\"height\":[169.0],\"label\":[\"Aug\"],\"line_alpha\":[1.0],\"line_color\":[\"white\"],\"width\":[0.8],\"x\":[\"Aug\"],\"y\":[84.5]}},\"id\":\"a12bd562-f46f-4a59-ba2d-b49710a0fa14\",\"type\":\"ColumnDataSource\"},{\"attributes\":{\"fill_alpha\":{\"field\":\"fill_alpha\"},\"fill_color\":{\"field\":\"color\"},\"height\":{\"field\":\"height\",\"units\":\"data\"},\"line_color\":{\"field\":\"line_color\"},\"width\":{\"field\":\"width\",\"units\":\"data\"},\"x\":{\"field\":\"x\"},\"y\":{\"field\":\"y\"}},\"id\":\"4bdc1972-42eb-472e-b87a-c232211516db\",\"type\":\"Rect\"},{\"attributes\":{\"fill_alpha\":{\"field\":\"fill_alpha\"},\"fill_color\":{\"field\":\"color\"},\"height\":{\"field\":\"height\",\"units\":\"data\"},\"line_color\":{\"field\":\"line_color\"},\"width\":{\"field\":\"width\",\"units\":\"data\"},\"x\":{\"field\":\"x\"},\"y\":{\"field\":\"y\"}},\"id\":\"258f095e-8925-47c9-90a7-38cae27251b7\",\"type\":\"Rect\"},{\"attributes\":{\"fill_alpha\":{\"field\":\"fill_alpha\"},\"fill_color\":{\"field\":\"color\"},\"height\":{\"field\":\"height\",\"units\":\"data\"},\"line_color\":{\"field\":\"line_color\"},\"width\":{\"field\":\"width\",\"units\":\"data\"},\"x\":{\"field\":\"x\"},\"y\":{\"field\":\"y\"}},\"id\":\"15c62a03-9012-4f08-abd2-a13d75cf613e\",\"type\":\"Rect\"},{\"attributes\":{\"fill_alpha\":{\"field\":\"fill_alpha\"},\"fill_color\":{\"field\":\"color\"},\"height\":{\"field\":\"height\",\"units\":\"data\"},\"line_color\":{\"field\":\"line_color\"},\"width\":{\"field\":\"width\",\"units\":\"data\"},\"x\":{\"field\":\"x\"},\"y\":{\"field\":\"y\"}},\"id\":\"bb206ee2-bf1a-46e0-84cf-c3c09720a622\",\"type\":\"Rect\"},{\"attributes\":{\"plot\":{\"id\":\"1cf90785-b295-48ee-a333-efd9adfaa6cd\",\"subtype\":\"Chart\",\"type\":\"Plot\"}},\"id\":\"7dcd0c2f-eb3e-4dd2-b620-dba4f0b0c203\",\"type\":\"ResetTool\"},{\"attributes\":{\"axis_label\":\"\",\"formatter\":{\"id\":\"2c2354b6-a4a1-4168-b672-214609fcbcc5\",\"type\":\"CategoricalTickFormatter\"},\"major_label_orientation\":0.7853981633974483,\"plot\":{\"id\":\"1cf90785-b295-48ee-a333-efd9adfaa6cd\",\"subtype\":\"Chart\",\"type\":\"Plot\"},\"ticker\":{\"id\":\"9c4aa819-7bc6-49bc-889c-fd42bf6e0607\",\"type\":\"CategoricalTicker\"}},\"id\":\"4b29fedd-79ae-4a09-8e02-4624cb29a497\",\"type\":\"CategoricalAxis\"},{\"attributes\":{\"fill_alpha\":{\"field\":\"fill_alpha\"},\"fill_color\":{\"field\":\"color\"},\"height\":{\"field\":\"height\",\"units\":\"data\"},\"line_color\":{\"field\":\"line_color\"},\"width\":{\"field\":\"width\",\"units\":\"data\"},\"x\":{\"field\":\"x\"},\"y\":{\"field\":\"y\"}},\"id\":\"774c4d45-ef9e-4e71-bbd1-111555a910dc\",\"type\":\"Rect\"},{\"attributes\":{\"data_source\":{\"id\":\"1e97cd2c-8932-4c2c-b526-e72a1c9b8b70\",\"type\":\"ColumnDataSource\"},\"glyph\":{\"id\":\"e77bcb02-0dcc-42c0-84ce-e91490db9536\",\"type\":\"Rect\"},\"hover_glyph\":null,\"nonselection_glyph\":null,\"selection_glyph\":null},\"id\":\"3213a74b-b96a-41b2-8136-4433d8052bd0\",\"type\":\"GlyphRenderer\"},{\"attributes\":{\"data_source\":{\"id\":\"9821fb1b-c9d6-427c-ac48-ec9a9d4cb250\",\"type\":\"ColumnDataSource\"},\"glyph\":{\"id\":\"bb206ee2-bf1a-46e0-84cf-c3c09720a622\",\"type\":\"Rect\"},\"hover_glyph\":null,\"nonselection_glyph\":null,\"selection_glyph\":null},\"id\":\"f67da37c-4de7-4eb9-a7c3-db0c4a0180c4\",\"type\":\"GlyphRenderer\"},{\"attributes\":{\"fill_alpha\":{\"field\":\"fill_alpha\"},\"fill_color\":{\"field\":\"color\"},\"height\":{\"field\":\"height\",\"units\":\"data\"},\"line_color\":{\"field\":\"line_color\"},\"width\":{\"field\":\"width\",\"units\":\"data\"},\"x\":{\"field\":\"x\"},\"y\":{\"field\":\"y\"}},\"id\":\"5337e5d5-5be3-4f03-8780-7df71177a79d\",\"type\":\"Rect\"},{\"attributes\":{\"data_source\":{\"id\":\"6bce15a9-6f4f-4616-9545-4e19a8d5e7e9\",\"type\":\"ColumnDataSource\"},\"glyph\":{\"id\":\"e352d266-6c25-4dc9-89e5-118f566c0b88\",\"type\":\"Rect\"},\"hover_glyph\":null,\"nonselection_glyph\":null,\"selection_glyph\":null},\"id\":\"8357f9d7-36ff-4412-8a3b-1fd2d464d5cb\",\"type\":\"GlyphRenderer\"},{\"attributes\":{\"callback\":null,\"column_names\":[\"line_color\",\"line_alpha\",\"color\",\"fill_alpha\",\"height\",\"width\",\"y\",\"x\",\"label\"],\"data\":{\"chart_index\":[{\"label\":\"Mar\"}],\"color\":[\"#f22c40\"],\"fill_alpha\":[0.8],\"height\":[2.0],\"label\":[\"Mar\"],\"line_alpha\":[1.0],\"line_color\":[\"white\"],\"width\":[0.8],\"x\":[\"Mar\"],\"y\":[1.0]}},\"id\":\"7b33d2f4-0e75-4a9e-91df-c72d9a3a4ea5\",\"type\":\"ColumnDataSource\"},{\"attributes\":{},\"id\":\"9c4aa819-7bc6-49bc-889c-fd42bf6e0607\",\"type\":\"CategoricalTicker\"},{\"attributes\":{\"plot\":{\"id\":\"1cf90785-b295-48ee-a333-efd9adfaa6cd\",\"subtype\":\"Chart\",\"type\":\"Plot\"}},\"id\":\"73f856a0-7808-4c0b-b680-237c2e33fbbe\",\"type\":\"HelpTool\"},{\"attributes\":{\"fill_alpha\":{\"field\":\"fill_alpha\"},\"fill_color\":{\"field\":\"color\"},\"height\":{\"field\":\"height\",\"units\":\"data\"},\"line_color\":{\"field\":\"line_color\"},\"width\":{\"field\":\"width\",\"units\":\"data\"},\"x\":{\"field\":\"x\"},\"y\":{\"field\":\"y\"}},\"id\":\"dac6fc23-b858-4b46-ac54-f8878402a70c\",\"type\":\"Rect\"},{\"attributes\":{},\"id\":\"e06ce1f4-91c8-48a2-aded-fe13737e3bfd\",\"type\":\"BasicTicker\"},{\"attributes\":{\"plot\":{\"id\":\"1cf90785-b295-48ee-a333-efd9adfaa6cd\",\"subtype\":\"Chart\",\"type\":\"Plot\"}},\"id\":\"5f4db806-ac34-4403-a548-c3d61f21293c\",\"type\":\"WheelZoomTool\"},{\"attributes\":{\"bottom_units\":\"screen\",\"fill_alpha\":{\"value\":0.5},\"fill_color\":{\"value\":\"lightgrey\"},\"left_units\":\"screen\",\"level\":\"overlay\",\"line_alpha\":{\"value\":1.0},\"line_color\":{\"value\":\"black\"},\"line_dash\":[4,4],\"line_width\":{\"value\":2},\"plot\":null,\"render_mode\":\"css\",\"right_units\":\"screen\",\"top_units\":\"screen\"},\"id\":\"708b7ad5-2d14-4b17-9e70-63ef60a1ed1d\",\"type\":\"BoxAnnotation\"},{\"attributes\":{\"data_source\":{\"id\":\"994105b4-1659-4a55-b968-eee72bd699ba\",\"type\":\"ColumnDataSource\"},\"glyph\":{\"id\":\"774c4d45-ef9e-4e71-bbd1-111555a910dc\",\"type\":\"Rect\"},\"hover_glyph\":null,\"nonselection_glyph\":null,\"selection_glyph\":null},\"id\":\"e576e646-0c3e-4340-83f8-66b4026d03aa\",\"type\":\"GlyphRenderer\"},{\"attributes\":{\"plot\":{\"id\":\"1cf90785-b295-48ee-a333-efd9adfaa6cd\",\"subtype\":\"Chart\",\"type\":\"Plot\"}},\"id\":\"54ced1df-b3f7-4b21-8eea-54e8d0c4f8e1\",\"type\":\"PanTool\"},{\"attributes\":{\"callback\":null,\"column_names\":[\"line_color\",\"line_alpha\",\"color\",\"fill_alpha\",\"height\",\"width\",\"y\",\"x\",\"label\"],\"data\":{\"chart_index\":[{\"label\":\"Jun\"}],\"color\":[\"#f22c40\"],\"fill_alpha\":[0.8],\"height\":[13.0],\"label\":[\"Jun\"],\"line_alpha\":[1.0],\"line_color\":[\"white\"],\"width\":[0.8],\"x\":[\"Jun\"],\"y\":[6.5]}},\"id\":\"ace557b5-b8a3-4930-95a5-8b476c6602de\",\"type\":\"ColumnDataSource\"},{\"attributes\":{\"fill_alpha\":{\"field\":\"fill_alpha\"},\"fill_color\":{\"field\":\"color\"},\"height\":{\"field\":\"height\",\"units\":\"data\"},\"line_color\":{\"field\":\"line_color\"},\"width\":{\"field\":\"width\",\"units\":\"data\"},\"x\":{\"field\":\"x\"},\"y\":{\"field\":\"y\"}},\"id\":\"35331959-db51-49ca-9de3-c04654f3200d\",\"type\":\"Rect\"},{\"attributes\":{\"callback\":null,\"column_names\":[\"line_color\",\"line_alpha\",\"color\",\"fill_alpha\",\"height\",\"width\",\"y\",\"x\",\"label\"],\"data\":{\"chart_index\":[{\"label\":\"Feb\"}],\"color\":[\"#f22c40\"],\"fill_alpha\":[0.8],\"height\":[8.0],\"label\":[\"Feb\"],\"line_alpha\":[1.0],\"line_color\":[\"white\"],\"width\":[0.8],\"x\":[\"Feb\"],\"y\":[4.0]}},\"id\":\"92783948-bda0-42f0-8f5d-ec1bbaa3d1b4\",\"type\":\"ColumnDataSource\"},{\"attributes\":{\"data_source\":{\"id\":\"46993b03-3bc3-4a0d-ae18-bd6c907b877f\",\"type\":\"ColumnDataSource\"},\"glyph\":{\"id\":\"1d8e19de-b461-462d-893a-6c063c69c0b0\",\"type\":\"Rect\"},\"hover_glyph\":null,\"nonselection_glyph\":null,\"selection_glyph\":null},\"id\":\"32344c6e-007e-44f7-99fc-5a1555f3d4f2\",\"type\":\"GlyphRenderer\"},{\"attributes\":{\"fill_alpha\":{\"field\":\"fill_alpha\"},\"fill_color\":{\"field\":\"color\"},\"height\":{\"field\":\"height\",\"units\":\"data\"},\"line_color\":{\"field\":\"line_color\"},\"width\":{\"field\":\"width\",\"units\":\"data\"},\"x\":{\"field\":\"x\"},\"y\":{\"field\":\"y\"}},\"id\":\"e352d266-6c25-4dc9-89e5-118f566c0b88\",\"type\":\"Rect\"},{\"attributes\":{\"data_source\":{\"id\":\"d0f0ca98-f5de-46c2-998c-5cf7255ee7eb\",\"type\":\"ColumnDataSource\"},\"glyph\":{\"id\":\"2ecae169-53fb-4cc0-af0f-ce96a155577e\",\"type\":\"Rect\"},\"hover_glyph\":null,\"nonselection_glyph\":null,\"selection_glyph\":null},\"id\":\"e310c739-0ac6-4184-853f-ff90ad491d24\",\"type\":\"GlyphRenderer\"},{\"attributes\":{\"fill_alpha\":{\"field\":\"fill_alpha\"},\"fill_color\":{\"field\":\"color\"},\"height\":{\"field\":\"height\",\"units\":\"data\"},\"line_color\":{\"field\":\"line_color\"},\"width\":{\"field\":\"width\",\"units\":\"data\"},\"x\":{\"field\":\"x\"},\"y\":{\"field\":\"y\"}},\"id\":\"b9912cef-ebbe-4622-b01a-3ac458a0ce45\",\"type\":\"Rect\"},{\"attributes\":{\"axis_label\":\"\",\"formatter\":{\"id\":\"0c8c2ae7-b25e-4ab2-b3d5-f87722c584c6\",\"type\":\"CategoricalTickFormatter\"},\"major_label_orientation\":0.7853981633974483,\"plot\":{\"id\":\"871bac3c-4755-4e40-8a5e-8277a5ae419f\",\"subtype\":\"Chart\",\"type\":\"Plot\"},\"ticker\":{\"id\":\"23b79556-946e-4b3e-aa57-47adb9cecf8c\",\"type\":\"CategoricalTicker\"}},\"id\":\"f79a3573-ef4c-4abd-b4b5-3cd21c3b47a3\",\"type\":\"CategoricalAxis\"},{\"attributes\":{\"data_source\":{\"id\":\"028d2f4f-d6b8-41eb-a2b7-3b59bb9137f6\",\"type\":\"ColumnDataSource\"},\"glyph\":{\"id\":\"35331959-db51-49ca-9de3-c04654f3200d\",\"type\":\"Rect\"},\"hover_glyph\":null,\"nonselection_glyph\":null,\"selection_glyph\":null},\"id\":\"fda64921-6b5f-4a49-b0c0-f3a09fd47049\",\"type\":\"GlyphRenderer\"},{\"attributes\":{\"data_source\":{\"id\":\"1302762c-af77-4fba-995a-387771282283\",\"type\":\"ColumnDataSource\"},\"glyph\":{\"id\":\"b7fc3ef6-2f24-4e46-b890-4be3768f5c31\",\"type\":\"Rect\"},\"hover_glyph\":null,\"nonselection_glyph\":null,\"selection_glyph\":null},\"id\":\"81236ad4-bc22-4ec1-9f03-6a122ff73937\",\"type\":\"GlyphRenderer\"},{\"attributes\":{\"overlay\":{\"id\":\"400888b5-f268-44a6-acb7-a93ab10d8976\",\"type\":\"BoxAnnotation\"},\"plot\":{\"id\":\"1cf90785-b295-48ee-a333-efd9adfaa6cd\",\"subtype\":\"Chart\",\"type\":\"Plot\"}},\"id\":\"80e057cf-c708-4ff0-87af-8e3aabfa98eb\",\"type\":\"BoxZoomTool\"},{\"attributes\":{\"callback\":null,\"column_names\":[\"line_color\",\"line_alpha\",\"color\",\"fill_alpha\",\"height\",\"width\",\"y\",\"x\",\"label\"],\"data\":{\"chart_index\":[{\"label\":\"Feb\"}],\"color\":[\"#f22c40\"],\"fill_alpha\":[0.8],\"height\":[1237.0],\"label\":[\"Feb\"],\"line_alpha\":[1.0],\"line_color\":[\"white\"],\"width\":[0.8],\"x\":[\"Feb\"],\"y\":[618.5]}},\"id\":\"56d11cd1-c455-4049-84e2-626541bc6f6e\",\"type\":\"ColumnDataSource\"},{\"attributes\":{\"data_source\":{\"id\":\"0b81ef0d-e3bf-4e08-8de1-b7ecff7280c4\",\"type\":\"ColumnDataSource\"},\"glyph\":{\"id\":\"60447e57-b2d3-4153-a9f7-ffc223230f99\",\"type\":\"Rect\"},\"hover_glyph\":null,\"nonselection_glyph\":null,\"selection_glyph\":null},\"id\":\"6f326882-8139-49ff-bcec-a050f40af032\",\"type\":\"GlyphRenderer\"},{\"attributes\":{\"plot\":null,\"text\":\"Posts count\"},\"id\":\"3d12a59e-f41f-4865-ab3d-c5e23384372d\",\"type\":\"Title\"},{\"attributes\":{\"callback\":null,\"column_names\":[\"line_color\",\"line_alpha\",\"color\",\"fill_alpha\",\"height\",\"width\",\"y\",\"x\",\"label\"],\"data\":{\"chart_index\":[{\"label\":\"Nov\"}],\"color\":[\"#f22c40\"],\"fill_alpha\":[0.8],\"height\":[22.0],\"label\":[\"Nov\"],\"line_alpha\":[1.0],\"line_color\":[\"white\"],\"width\":[0.8],\"x\":[\"Nov\"],\"y\":[11.0]}},\"id\":\"fcb6e82e-f9dc-40e4-a063-1e7166ec8ad0\",\"type\":\"ColumnDataSource\"},{\"attributes\":{\"plot\":{\"id\":\"871bac3c-4755-4e40-8a5e-8277a5ae419f\",\"subtype\":\"Chart\",\"type\":\"Plot\"}},\"id\":\"83f2df8a-c1d2-4d70-bd99-71714d072616\",\"type\":\"ResetTool\"},{\"attributes\":{\"fill_alpha\":{\"field\":\"fill_alpha\"},\"fill_color\":{\"field\":\"color\"},\"height\":{\"field\":\"height\",\"units\":\"data\"},\"line_color\":{\"field\":\"line_color\"},\"width\":{\"field\":\"width\",\"units\":\"data\"},\"x\":{\"field\":\"x\"},\"y\":{\"field\":\"y\"}},\"id\":\"b7fc3ef6-2f24-4e46-b890-4be3768f5c31\",\"type\":\"Rect\"},{\"attributes\":{\"fill_alpha\":{\"field\":\"fill_alpha\"},\"fill_color\":{\"field\":\"color\"},\"height\":{\"field\":\"height\",\"units\":\"data\"},\"line_color\":{\"field\":\"line_color\"},\"width\":{\"field\":\"width\",\"units\":\"data\"},\"x\":{\"field\":\"x\"},\"y\":{\"field\":\"y\"}},\"id\":\"e77bcb02-0dcc-42c0-84ce-e91490db9536\",\"type\":\"Rect\"},{\"attributes\":{\"axis_label\":\"posts\",\"formatter\":{\"id\":\"bb06881e-df1f-49d3-b24b-5bbaa50fb5a6\",\"type\":\"BasicTickFormatter\"},\"plot\":{\"id\":\"871bac3c-4755-4e40-8a5e-8277a5ae419f\",\"subtype\":\"Chart\",\"type\":\"Plot\"},\"ticker\":{\"id\":\"22abd77f-57c5-49ab-b429-85e05149052a\",\"type\":\"BasicTicker\"}},\"id\":\"fa054529-a626-484b-97b2-17d6baef57c1\",\"type\":\"LinearAxis\"},{\"attributes\":{\"data_source\":{\"id\":\"28d26e83-7e95-4a52-b5ba-1424ce65dc18\",\"type\":\"ColumnDataSource\"},\"glyph\":{\"id\":\"c0099a8d-65f3-4d0a-af61-9269ffad311a\",\"type\":\"Rect\"},\"hover_glyph\":null,\"nonselection_glyph\":null,\"selection_glyph\":null},\"id\":\"9514ec78-3ec8-4a3c-8a5b-25fd8e4a38d5\",\"type\":\"GlyphRenderer\"},{\"attributes\":{\"callback\":null,\"column_names\":[\"line_color\",\"line_alpha\",\"color\",\"fill_alpha\",\"height\",\"width\",\"y\",\"x\",\"label\"],\"data\":{\"chart_index\":[{\"label\":\"Jul\"}],\"color\":[\"#f22c40\"],\"fill_alpha\":[0.8],\"height\":[11.0],\"label\":[\"Jul\"],\"line_alpha\":[1.0],\"line_color\":[\"white\"],\"width\":[0.8],\"x\":[\"Jul\"],\"y\":[5.5]}},\"id\":\"0b81ef0d-e3bf-4e08-8de1-b7ecff7280c4\",\"type\":\"ColumnDataSource\"},{\"attributes\":{\"bottom_units\":\"screen\",\"fill_alpha\":{\"value\":0.5},\"fill_color\":{\"value\":\"lightgrey\"},\"left_units\":\"screen\",\"level\":\"overlay\",\"line_alpha\":{\"value\":1.0},\"line_color\":{\"value\":\"black\"},\"line_dash\":[4,4],\"line_width\":{\"value\":2},\"plot\":null,\"render_mode\":\"css\",\"right_units\":\"screen\",\"top_units\":\"screen\"},\"id\":\"400888b5-f268-44a6-acb7-a93ab10d8976\",\"type\":\"BoxAnnotation\"},{\"attributes\":{\"fill_alpha\":{\"field\":\"fill_alpha\"},\"fill_color\":{\"field\":\"color\"},\"height\":{\"field\":\"height\",\"units\":\"data\"},\"line_color\":{\"field\":\"line_color\"},\"width\":{\"field\":\"width\",\"units\":\"data\"},\"x\":{\"field\":\"x\"},\"y\":{\"field\":\"y\"}},\"id\":\"46377c83-1141-49a3-b764-9f03b5ade743\",\"type\":\"Rect\"},{\"attributes\":{},\"id\":\"28130f48-d2a8-4189-aa84-17f7c7b1098d\",\"type\":\"BasicTickFormatter\"},{\"attributes\":{},\"id\":\"121dd780-0e15-4bfe-888a-0813f3f85d40\",\"type\":\"ToolEvents\"},{\"attributes\":{\"axis_label\":\"comments\",\"formatter\":{\"id\":\"28130f48-d2a8-4189-aa84-17f7c7b1098d\",\"type\":\"BasicTickFormatter\"},\"plot\":{\"id\":\"1cf90785-b295-48ee-a333-efd9adfaa6cd\",\"subtype\":\"Chart\",\"type\":\"Plot\"},\"ticker\":{\"id\":\"e06ce1f4-91c8-48a2-aded-fe13737e3bfd\",\"type\":\"BasicTicker\"}},\"id\":\"d48929e0-5ee3-4069-b812-93312cc9cc3c\",\"type\":\"LinearAxis\"},{\"attributes\":{\"data_source\":{\"id\":\"90e23861-db77-4e19-a145-047f75ae49e5\",\"type\":\"ColumnDataSource\"},\"glyph\":{\"id\":\"b9912cef-ebbe-4622-b01a-3ac458a0ce45\",\"type\":\"Rect\"},\"hover_glyph\":null,\"nonselection_glyph\":null,\"selection_glyph\":null},\"id\":\"f6c95c48-c8aa-41d7-b1a3-29bdf2574a50\",\"type\":\"GlyphRenderer\"},{\"attributes\":{\"callback\":null,\"column_names\":[\"line_color\",\"line_alpha\",\"color\",\"fill_alpha\",\"height\",\"width\",\"y\",\"x\",\"label\"],\"data\":{\"chart_index\":[{\"label\":\"Apr\"}],\"color\":[\"#f22c40\"],\"fill_alpha\":[0.8],\"height\":[609.0],\"label\":[\"Apr\"],\"line_alpha\":[1.0],\"line_color\":[\"white\"],\"width\":[0.8],\"x\":[\"Apr\"],\"y\":[304.5]}},\"id\":\"d0f0ca98-f5de-46c2-998c-5cf7255ee7eb\",\"type\":\"ColumnDataSource\"},{\"attributes\":{\"fill_alpha\":{\"field\":\"fill_alpha\"},\"fill_color\":{\"field\":\"color\"},\"height\":{\"field\":\"height\",\"units\":\"data\"},\"line_color\":{\"field\":\"line_color\"},\"width\":{\"field\":\"width\",\"units\":\"data\"},\"x\":{\"field\":\"x\"},\"y\":{\"field\":\"y\"}},\"id\":\"60447e57-b2d3-4153-a9f7-ffc223230f99\",\"type\":\"Rect\"}],\"root_ids\":[\"3efc6961-4bd8-471e-be21-e6f6c91917cf\"]},\"title\":\"Bokeh Application\",\"version\":\"0.12.0\"}};\n",
       "            var render_items = [{\"docid\":\"fc5d52c8-0e12-4881-ae76-75131a2a16e2\",\"elementid\":\"a8465418-5f99-4bdc-b9d6-73aed8d64cc1\",\"modelid\":\"3efc6961-4bd8-471e-be21-e6f6c91917cf\",\"notebook_comms_target\":\"0ff219fd-48a0-4f09-a7a1-913f1ee07604\"}];\n",
       "            \n",
       "            Bokeh.embed.embed_items(docs_json, render_items);\n",
       "        });\n",
       "      },\n",
       "      function(Bokeh) {\n",
       "      }\n",
       "    ];\n",
       "  \n",
       "    function run_inline_js() {\n",
       "      for (var i = 0; i < inline_js.length; i++) {\n",
       "        inline_js[i](window.Bokeh);\n",
       "      }\n",
       "    }\n",
       "  \n",
       "    if (window._bokeh_is_loading === 0) {\n",
       "      console.log(\"Bokeh: BokehJS loaded, going straight to plotting\");\n",
       "      run_inline_js();\n",
       "    } else {\n",
       "      load_libs(js_urls, function() {\n",
       "        console.log(\"Bokeh: BokehJS plotting callback run at\", now());\n",
       "        run_inline_js();\n",
       "      });\n",
       "    }\n",
       "  }(this));\n",
       "</script>"
      ]
     },
     "metadata": {},
     "output_type": "display_data"
    },
    {
     "data": {
      "text/html": [
       "<p><code>&lt;Bokeh Notebook handle for <strong>In[10]</strong>&gt;</code></p>"
      ],
      "text/plain": [
       "<bokeh.io._CommsHandle at 0x7f4cd9d1ffd0>"
      ]
     },
     "execution_count": 10,
     "metadata": {},
     "output_type": "execute_result"
    }
   ],
   "source": [
    "from bokeh.charts import Bar\n",
    "from bokeh.charts.attributes import CatAttr\n",
    "\n",
    "MONTHS = ['Jan', 'Feb', 'Mar', 'Apr', 'May', 'Jun', 'Jul', 'Aug', 'Sep', 'Oct', 'Nov', 'Dec']\n",
    "\n",
    "comment_dict = dict(data=comment_month[1], label=MONTHS)\n",
    "post_dict = dict(data=post_month[1], label=MONTHS)\n",
    "\n",
    "comment_bar = Bar(comment_dict, values='data', label=CatAttr(columns=['label'], sort=False), \n",
    "               plot_width=450, plot_height=450, legend=None, title='Comments count')\n",
    "post_bar = Bar(post_dict, values='data', label=CatAttr(columns=['label'], sort=False), \n",
    "             plot_width=450, plot_height=450, legend=None, title='Posts count')\n",
    "\n",
    "comment_bar.xaxis.axis_label = post_bar.xaxis.axis_label = ''\n",
    "comment_bar.yaxis.axis_label = 'comments'\n",
    "post_bar.yaxis.axis_label = 'posts'\n",
    "\n",
    "show(row(comment_bar, post_bar))"
   ]
  },
  {
   "cell_type": "markdown",
   "metadata": {},
   "source": [
    "## bar charts: Dominos.tw"
   ]
  },
  {
   "cell_type": "code",
   "execution_count": 11,
   "metadata": {
    "collapsed": false
   },
   "outputs": [
    {
     "data": {
      "text/html": [
       "\n",
       "\n",
       "    <div class=\"bk-root\">\n",
       "        <div class=\"plotdiv\" id=\"0657aec5-45e8-4a28-a4d7-e45db23caef7\"></div>\n",
       "    </div>\n",
       "<script type=\"text/javascript\">\n",
       "  \n",
       "  (function(global) {\n",
       "    function now() {\n",
       "      return new Date();\n",
       "    }\n",
       "  \n",
       "    if (typeof (window._bokeh_onload_callbacks) === \"undefined\") {\n",
       "      window._bokeh_onload_callbacks = [];\n",
       "    }\n",
       "  \n",
       "    function run_callbacks() {\n",
       "      window._bokeh_onload_callbacks.forEach(function(callback) { callback() });\n",
       "      delete window._bokeh_onload_callbacks\n",
       "      console.info(\"Bokeh: all callbacks have finished\");\n",
       "    }\n",
       "  \n",
       "    function load_libs(js_urls, callback) {\n",
       "      window._bokeh_onload_callbacks.push(callback);\n",
       "      if (window._bokeh_is_loading > 0) {\n",
       "        console.log(\"Bokeh: BokehJS is being loaded, scheduling callback at\", now());\n",
       "        return null;\n",
       "      }\n",
       "      if (js_urls == null || js_urls.length === 0) {\n",
       "        run_callbacks();\n",
       "        return null;\n",
       "      }\n",
       "      console.log(\"Bokeh: BokehJS not loaded, scheduling load and callback at\", now());\n",
       "      window._bokeh_is_loading = js_urls.length;\n",
       "      for (var i = 0; i < js_urls.length; i++) {\n",
       "        var url = js_urls[i];\n",
       "        var s = document.createElement('script');\n",
       "        s.src = url;\n",
       "        s.async = false;\n",
       "        s.onreadystatechange = s.onload = function() {\n",
       "          window._bokeh_is_loading--;\n",
       "          if (window._bokeh_is_loading === 0) {\n",
       "            console.log(\"Bokeh: all BokehJS libraries loaded\");\n",
       "            run_callbacks()\n",
       "          }\n",
       "        };\n",
       "        s.onerror = function() {\n",
       "          console.warn(\"failed to load library \" + url);\n",
       "        };\n",
       "        console.log(\"Bokeh: injecting script tag for BokehJS library: \", url);\n",
       "        document.getElementsByTagName(\"head\")[0].appendChild(s);\n",
       "      }\n",
       "    };var element = document.getElementById(\"0657aec5-45e8-4a28-a4d7-e45db23caef7\");\n",
       "    if (element == null) {\n",
       "      console.log(\"Bokeh: ERROR: autoload.js configured with elementid '0657aec5-45e8-4a28-a4d7-e45db23caef7' but no matching script tag was found. \")\n",
       "      return false;\n",
       "    }\n",
       "  \n",
       "    var js_urls = [];\n",
       "  \n",
       "    var inline_js = [\n",
       "      function(Bokeh) {\n",
       "        Bokeh.$(function() {\n",
       "            var docs_json = {\"a2c46bb5-533c-41ca-9f6b-e2acccaa3556\":{\"roots\":{\"references\":[{\"attributes\":{\"data_source\":{\"id\":\"7f1169da-8def-4c79-9292-943a4796acbc\",\"type\":\"ColumnDataSource\"},\"glyph\":{\"id\":\"3c6efd0c-55ba-4180-b9ae-240fbd81f602\",\"type\":\"Rect\"},\"hover_glyph\":null,\"nonselection_glyph\":null,\"selection_glyph\":null},\"id\":\"dab77ccb-f4a8-4331-b3e9-54e416a9593c\",\"type\":\"GlyphRenderer\"},{\"attributes\":{\"callback\":null,\"column_names\":[\"line_color\",\"line_alpha\",\"color\",\"fill_alpha\",\"height\",\"width\",\"y\",\"x\",\"label\"],\"data\":{\"chart_index\":[{\"label\":\"Sep\"}],\"color\":[\"#f22c40\"],\"fill_alpha\":[0.8],\"height\":[4386.0],\"label\":[\"Sep\"],\"line_alpha\":[1.0],\"line_color\":[\"white\"],\"width\":[0.8],\"x\":[\"Sep\"],\"y\":[2193.0]}},\"id\":\"b0eb1d53-a2f7-48b0-b763-48325b3e7d89\",\"type\":\"ColumnDataSource\"},{\"attributes\":{\"callback\":null,\"column_names\":[\"line_color\",\"line_alpha\",\"color\",\"fill_alpha\",\"height\",\"width\",\"y\",\"x\",\"label\"],\"data\":{\"chart_index\":[{\"label\":\"Aug\"}],\"color\":[\"#f22c40\"],\"fill_alpha\":[0.8],\"height\":[29.0],\"label\":[\"Aug\"],\"line_alpha\":[1.0],\"line_color\":[\"white\"],\"width\":[0.8],\"x\":[\"Aug\"],\"y\":[14.5]}},\"id\":\"3fd5bb52-f3c8-470b-998f-e0f207d0203d\",\"type\":\"ColumnDataSource\"},{\"attributes\":{\"fill_alpha\":{\"field\":\"fill_alpha\"},\"fill_color\":{\"field\":\"color\"},\"height\":{\"field\":\"height\",\"units\":\"data\"},\"line_color\":{\"field\":\"line_color\"},\"width\":{\"field\":\"width\",\"units\":\"data\"},\"x\":{\"field\":\"x\"},\"y\":{\"field\":\"y\"}},\"id\":\"f67b5b3c-3654-49dd-8542-00e9ddd4304d\",\"type\":\"Rect\"},{\"attributes\":{\"data_source\":{\"id\":\"b0eb1d53-a2f7-48b0-b763-48325b3e7d89\",\"type\":\"ColumnDataSource\"},\"glyph\":{\"id\":\"d2aa56f0-8204-4d1d-abfa-c926c42d137a\",\"type\":\"Rect\"},\"hover_glyph\":null,\"nonselection_glyph\":null,\"selection_glyph\":null},\"id\":\"55bf9160-a24a-41ca-a6c1-1598b2621d47\",\"type\":\"GlyphRenderer\"},{\"attributes\":{\"axis_label\":\"posts\",\"formatter\":{\"id\":\"54ccc808-92d1-4004-b561-ade05ca5c4af\",\"type\":\"BasicTickFormatter\"},\"plot\":{\"id\":\"5fb86506-c63f-4d04-86bb-afdc2eebe79d\",\"subtype\":\"Chart\",\"type\":\"Plot\"},\"ticker\":{\"id\":\"1303e432-2c61-4569-8602-31d4b2f01143\",\"type\":\"BasicTicker\"}},\"id\":\"32f903db-fb10-4211-931c-f3888ed3ebc3\",\"type\":\"LinearAxis\"},{\"attributes\":{\"plot\":{\"id\":\"4f507392-8990-4205-b22d-9cb67db23a38\",\"subtype\":\"Chart\",\"type\":\"Plot\"}},\"id\":\"36f3d0b3-49c4-492e-acb3-d20c75e4e521\",\"type\":\"HelpTool\"},{\"attributes\":{\"data_source\":{\"id\":\"60c6de85-3b2a-4b5f-bcae-31c329934573\",\"type\":\"ColumnDataSource\"},\"glyph\":{\"id\":\"aeadd577-063c-4641-af5c-dcb68d376390\",\"type\":\"Rect\"},\"hover_glyph\":null,\"nonselection_glyph\":null,\"selection_glyph\":null},\"id\":\"ade297d6-f65e-4ebf-a509-025d43d1d0e7\",\"type\":\"GlyphRenderer\"},{\"attributes\":{\"callback\":null,\"end\":5941.95},\"id\":\"6b1821ef-378b-4678-a97d-879b993b75d3\",\"type\":\"Range1d\"},{\"attributes\":{},\"id\":\"2a7e59e4-f727-45de-b56b-ec968d114cf2\",\"type\":\"CategoricalTickFormatter\"},{\"attributes\":{\"plot\":null,\"text\":\"Posts count\"},\"id\":\"89d13634-77c3-4070-bea1-68002bfc5383\",\"type\":\"Title\"},{\"attributes\":{\"plot\":{\"id\":\"4f507392-8990-4205-b22d-9cb67db23a38\",\"subtype\":\"Chart\",\"type\":\"Plot\"}},\"id\":\"675158c1-ec12-46e8-adb7-3ba97a59e41a\",\"type\":\"ResetTool\"},{\"attributes\":{\"axis_label\":\"comments\",\"formatter\":{\"id\":\"dee6d11d-ec42-43d1-996a-6ddf8ed63ea5\",\"type\":\"BasicTickFormatter\"},\"plot\":{\"id\":\"4f507392-8990-4205-b22d-9cb67db23a38\",\"subtype\":\"Chart\",\"type\":\"Plot\"},\"ticker\":{\"id\":\"8c731c93-61d4-4c9f-8d48-becfb3519a76\",\"type\":\"BasicTicker\"}},\"id\":\"a203dd81-1787-44ef-b67b-6514b93cbb4b\",\"type\":\"LinearAxis\"},{\"attributes\":{\"fill_alpha\":{\"field\":\"fill_alpha\"},\"fill_color\":{\"field\":\"color\"},\"height\":{\"field\":\"height\",\"units\":\"data\"},\"line_color\":{\"field\":\"line_color\"},\"width\":{\"field\":\"width\",\"units\":\"data\"},\"x\":{\"field\":\"x\"},\"y\":{\"field\":\"y\"}},\"id\":\"1e879fa3-3ebb-4cea-b01a-50d15190ba37\",\"type\":\"Rect\"},{\"attributes\":{\"fill_alpha\":{\"field\":\"fill_alpha\"},\"fill_color\":{\"field\":\"color\"},\"height\":{\"field\":\"height\",\"units\":\"data\"},\"line_color\":{\"field\":\"line_color\"},\"width\":{\"field\":\"width\",\"units\":\"data\"},\"x\":{\"field\":\"x\"},\"y\":{\"field\":\"y\"}},\"id\":\"f3379b48-4f55-432f-9f82-9f1a7eecf757\",\"type\":\"Rect\"},{\"attributes\":{},\"id\":\"1303e432-2c61-4569-8602-31d4b2f01143\",\"type\":\"BasicTicker\"},{\"attributes\":{\"data_source\":{\"id\":\"7016c5a3-92a3-4a12-93f9-c26a8846f4cc\",\"type\":\"ColumnDataSource\"},\"glyph\":{\"id\":\"9d941382-6060-4c2d-96b5-151c8bc89ef3\",\"type\":\"Rect\"},\"hover_glyph\":null,\"nonselection_glyph\":null,\"selection_glyph\":null},\"id\":\"2b8a5224-4293-4b72-a1da-51d79d5e6d2e\",\"type\":\"GlyphRenderer\"},{\"attributes\":{\"callback\":null,\"column_names\":[\"line_color\",\"line_alpha\",\"color\",\"fill_alpha\",\"height\",\"width\",\"y\",\"x\",\"label\"],\"data\":{\"chart_index\":[{\"label\":\"Jul\"}],\"color\":[\"#f22c40\"],\"fill_alpha\":[0.8],\"height\":[2388.0],\"label\":[\"Jul\"],\"line_alpha\":[1.0],\"line_color\":[\"white\"],\"width\":[0.8],\"x\":[\"Jul\"],\"y\":[1194.0]}},\"id\":\"0627709f-a496-4181-836a-4d9e4b0640e0\",\"type\":\"ColumnDataSource\"},{\"attributes\":{\"fill_alpha\":{\"field\":\"fill_alpha\"},\"fill_color\":{\"field\":\"color\"},\"height\":{\"field\":\"height\",\"units\":\"data\"},\"line_color\":{\"field\":\"line_color\"},\"width\":{\"field\":\"width\",\"units\":\"data\"},\"x\":{\"field\":\"x\"},\"y\":{\"field\":\"y\"}},\"id\":\"0249bab9-4a31-44b5-b1e4-ae3aa82dd914\",\"type\":\"Rect\"},{\"attributes\":{},\"id\":\"b1f744ce-b0e3-4a52-9396-38e7d1425fe0\",\"type\":\"CategoricalTicker\"},{\"attributes\":{\"fill_alpha\":{\"field\":\"fill_alpha\"},\"fill_color\":{\"field\":\"color\"},\"height\":{\"field\":\"height\",\"units\":\"data\"},\"line_color\":{\"field\":\"line_color\"},\"width\":{\"field\":\"width\",\"units\":\"data\"},\"x\":{\"field\":\"x\"},\"y\":{\"field\":\"y\"}},\"id\":\"9d941382-6060-4c2d-96b5-151c8bc89ef3\",\"type\":\"Rect\"},{\"attributes\":{\"data_source\":{\"id\":\"26edbbed-9dd8-4db4-b1bf-12949d36689b\",\"type\":\"ColumnDataSource\"},\"glyph\":{\"id\":\"4527f94a-b7dc-4f86-b565-d7ad992e0987\",\"type\":\"Rect\"},\"hover_glyph\":null,\"nonselection_glyph\":null,\"selection_glyph\":null},\"id\":\"f04fec10-d038-4d8d-8b96-f286f4a2b060\",\"type\":\"GlyphRenderer\"},{\"attributes\":{\"fill_alpha\":{\"field\":\"fill_alpha\"},\"fill_color\":{\"field\":\"color\"},\"height\":{\"field\":\"height\",\"units\":\"data\"},\"line_color\":{\"field\":\"line_color\"},\"width\":{\"field\":\"width\",\"units\":\"data\"},\"x\":{\"field\":\"x\"},\"y\":{\"field\":\"y\"}},\"id\":\"3c6efd0c-55ba-4180-b9ae-240fbd81f602\",\"type\":\"Rect\"},{\"attributes\":{\"callback\":null,\"column_names\":[\"line_color\",\"line_alpha\",\"color\",\"fill_alpha\",\"height\",\"width\",\"y\",\"x\",\"label\"],\"data\":{\"chart_index\":[{\"label\":\"Sep\"}],\"color\":[\"#f22c40\"],\"fill_alpha\":[0.8],\"height\":[25.0],\"label\":[\"Sep\"],\"line_alpha\":[1.0],\"line_color\":[\"white\"],\"width\":[0.8],\"x\":[\"Sep\"],\"y\":[12.5]}},\"id\":\"b5ebb2a0-c9a7-4a2f-8c7e-a40648a32181\",\"type\":\"ColumnDataSource\"},{\"attributes\":{\"callback\":null,\"column_names\":[\"line_color\",\"line_alpha\",\"color\",\"fill_alpha\",\"height\",\"width\",\"y\",\"x\",\"label\"],\"data\":{\"chart_index\":[{\"label\":\"Oct\"}],\"color\":[\"#f22c40\"],\"fill_alpha\":[0.8],\"height\":[26.0],\"label\":[\"Oct\"],\"line_alpha\":[1.0],\"line_color\":[\"white\"],\"width\":[0.8],\"x\":[\"Oct\"],\"y\":[13.0]}},\"id\":\"af157f05-bd9d-42e1-92bf-9b2a6a0b105f\",\"type\":\"ColumnDataSource\"},{\"attributes\":{\"active_drag\":\"auto\",\"active_scroll\":\"auto\",\"active_tap\":\"auto\",\"tools\":[{\"id\":\"85278dfa-5b1a-43bf-a583-4505163bf83f\",\"type\":\"PanTool\"},{\"id\":\"c682dd8c-4c5e-41d6-9d61-10f48955e3c7\",\"type\":\"WheelZoomTool\"},{\"id\":\"4aca4818-45f5-4cd0-bc0e-05d4c9f87cb0\",\"type\":\"BoxZoomTool\"},{\"id\":\"e906fd81-6079-4a2c-ae72-2f316f65d534\",\"type\":\"SaveTool\"},{\"id\":\"675158c1-ec12-46e8-adb7-3ba97a59e41a\",\"type\":\"ResetTool\"},{\"id\":\"36f3d0b3-49c4-492e-acb3-d20c75e4e521\",\"type\":\"HelpTool\"}]},\"id\":\"674bf37d-85fa-4a52-a284-81c64487d760\",\"type\":\"Toolbar\"},{\"attributes\":{\"plot\":{\"id\":\"4f507392-8990-4205-b22d-9cb67db23a38\",\"subtype\":\"Chart\",\"type\":\"Plot\"}},\"id\":\"e906fd81-6079-4a2c-ae72-2f316f65d534\",\"type\":\"SaveTool\"},{\"attributes\":{\"data_source\":{\"id\":\"8fd46345-bd3a-4a35-ae96-de76a413dc4d\",\"type\":\"ColumnDataSource\"},\"glyph\":{\"id\":\"45f3081b-e755-4cc2-8804-07cd211bbb85\",\"type\":\"Rect\"},\"hover_glyph\":null,\"nonselection_glyph\":null,\"selection_glyph\":null},\"id\":\"2921baa2-cfc6-45b8-b4b1-2c28222bef6a\",\"type\":\"GlyphRenderer\"},{\"attributes\":{\"fill_alpha\":{\"field\":\"fill_alpha\"},\"fill_color\":{\"field\":\"color\"},\"height\":{\"field\":\"height\",\"units\":\"data\"},\"line_color\":{\"field\":\"line_color\"},\"width\":{\"field\":\"width\",\"units\":\"data\"},\"x\":{\"field\":\"x\"},\"y\":{\"field\":\"y\"}},\"id\":\"45f3081b-e755-4cc2-8804-07cd211bbb85\",\"type\":\"Rect\"},{\"attributes\":{\"callback\":null,\"column_names\":[\"line_color\",\"line_alpha\",\"color\",\"fill_alpha\",\"height\",\"width\",\"y\",\"x\",\"label\"],\"data\":{\"chart_index\":[{\"label\":\"Mar\"}],\"color\":[\"#f22c40\"],\"fill_alpha\":[0.8],\"height\":[26.0],\"label\":[\"Mar\"],\"line_alpha\":[1.0],\"line_color\":[\"white\"],\"width\":[0.8],\"x\":[\"Mar\"],\"y\":[13.0]}},\"id\":\"93cf3d28-5131-4cac-a5fd-28a8fb2e07e4\",\"type\":\"ColumnDataSource\"},{\"attributes\":{\"callback\":null,\"column_names\":[\"line_color\",\"line_alpha\",\"color\",\"fill_alpha\",\"height\",\"width\",\"y\",\"x\",\"label\"],\"data\":{\"chart_index\":[{\"label\":\"Dec\"}],\"color\":[\"#f22c40\"],\"fill_alpha\":[0.8],\"height\":[25.0],\"label\":[\"Dec\"],\"line_alpha\":[1.0],\"line_color\":[\"white\"],\"width\":[0.8],\"x\":[\"Dec\"],\"y\":[12.5]}},\"id\":\"60a601d7-404b-44c1-ba0f-fd2518ca2122\",\"type\":\"ColumnDataSource\"},{\"attributes\":{\"callback\":null,\"column_names\":[\"line_color\",\"line_alpha\",\"color\",\"fill_alpha\",\"height\",\"width\",\"y\",\"x\",\"label\"],\"data\":{\"chart_index\":[{\"label\":\"May\"}],\"color\":[\"#f22c40\"],\"fill_alpha\":[0.8],\"height\":[2762.0],\"label\":[\"May\"],\"line_alpha\":[1.0],\"line_color\":[\"white\"],\"width\":[0.8],\"x\":[\"May\"],\"y\":[1381.0]}},\"id\":\"b8b0b1d3-1c1d-439d-bce8-b2edff4eca7e\",\"type\":\"ColumnDataSource\"},{\"attributes\":{\"plot\":{\"id\":\"4f507392-8990-4205-b22d-9cb67db23a38\",\"subtype\":\"Chart\",\"type\":\"Plot\"}},\"id\":\"c682dd8c-4c5e-41d6-9d61-10f48955e3c7\",\"type\":\"WheelZoomTool\"},{\"attributes\":{\"callback\":null,\"column_names\":[\"line_color\",\"line_alpha\",\"color\",\"fill_alpha\",\"height\",\"width\",\"y\",\"x\",\"label\"],\"data\":{\"chart_index\":[{\"label\":\"Mar\"}],\"color\":[\"#f22c40\"],\"fill_alpha\":[0.8],\"height\":[1797.0],\"label\":[\"Mar\"],\"line_alpha\":[1.0],\"line_color\":[\"white\"],\"width\":[0.8],\"x\":[\"Mar\"],\"y\":[898.5]}},\"id\":\"4b4c588e-8c64-4962-8a32-3ef286c7ccfa\",\"type\":\"ColumnDataSource\"},{\"attributes\":{\"data_source\":{\"id\":\"6122c5c3-741b-40e0-b511-e8c375780deb\",\"type\":\"ColumnDataSource\"},\"glyph\":{\"id\":\"f3379b48-4f55-432f-9f82-9f1a7eecf757\",\"type\":\"Rect\"},\"hover_glyph\":null,\"nonselection_glyph\":null,\"selection_glyph\":null},\"id\":\"d866ccf1-9f60-40e3-b21c-bc36ed7f371a\",\"type\":\"GlyphRenderer\"},{\"attributes\":{\"callback\":null,\"column_names\":[\"line_color\",\"line_alpha\",\"color\",\"fill_alpha\",\"height\",\"width\",\"y\",\"x\",\"label\"],\"data\":{\"chart_index\":[{\"label\":\"Dec\"}],\"color\":[\"#f22c40\"],\"fill_alpha\":[0.8],\"height\":[5521.0],\"label\":[\"Dec\"],\"line_alpha\":[1.0],\"line_color\":[\"white\"],\"width\":[0.8],\"x\":[\"Dec\"],\"y\":[2760.5]}},\"id\":\"26edbbed-9dd8-4db4-b1bf-12949d36689b\",\"type\":\"ColumnDataSource\"},{\"attributes\":{\"callback\":null,\"column_names\":[\"line_color\",\"line_alpha\",\"color\",\"fill_alpha\",\"height\",\"width\",\"y\",\"x\",\"label\"],\"data\":{\"chart_index\":[{\"label\":\"Feb\"}],\"color\":[\"#f22c40\"],\"fill_alpha\":[0.8],\"height\":[25.0],\"label\":[\"Feb\"],\"line_alpha\":[1.0],\"line_color\":[\"white\"],\"width\":[0.8],\"x\":[\"Feb\"],\"y\":[12.5]}},\"id\":\"60c6de85-3b2a-4b5f-bcae-31c329934573\",\"type\":\"ColumnDataSource\"},{\"attributes\":{\"callback\":null,\"column_names\":[\"line_color\",\"line_alpha\",\"color\",\"fill_alpha\",\"height\",\"width\",\"y\",\"x\",\"label\"],\"data\":{\"chart_index\":[{\"label\":\"Apr\"}],\"color\":[\"#f22c40\"],\"fill_alpha\":[0.8],\"height\":[38.0],\"label\":[\"Apr\"],\"line_alpha\":[1.0],\"line_color\":[\"white\"],\"width\":[0.8],\"x\":[\"Apr\"],\"y\":[19.0]}},\"id\":\"569bd17c-3eb9-4166-9408-01a13c406e91\",\"type\":\"ColumnDataSource\"},{\"attributes\":{\"data_source\":{\"id\":\"3fd5bb52-f3c8-470b-998f-e0f207d0203d\",\"type\":\"ColumnDataSource\"},\"glyph\":{\"id\":\"2ee4fd72-a3f3-4b7d-9371-cddf2f70388f\",\"type\":\"Rect\"},\"hover_glyph\":null,\"nonselection_glyph\":null,\"selection_glyph\":null},\"id\":\"4dd4e4ec-d810-472d-8a55-93e02d2cb713\",\"type\":\"GlyphRenderer\"},{\"attributes\":{\"data_source\":{\"id\":\"b8b0b1d3-1c1d-439d-bce8-b2edff4eca7e\",\"type\":\"ColumnDataSource\"},\"glyph\":{\"id\":\"108d248b-a402-4a26-a42a-f3e158840ce7\",\"type\":\"Rect\"},\"hover_glyph\":null,\"nonselection_glyph\":null,\"selection_glyph\":null},\"id\":\"8fc8efac-326e-48c4-be2f-611b02f853da\",\"type\":\"GlyphRenderer\"},{\"attributes\":{\"data_source\":{\"id\":\"51450964-e403-423d-9ae8-b4288c2d74c5\",\"type\":\"ColumnDataSource\"},\"glyph\":{\"id\":\"efef67e0-2242-42a8-8719-ef516030fa52\",\"type\":\"Rect\"},\"hover_glyph\":null,\"nonselection_glyph\":null,\"selection_glyph\":null},\"id\":\"5fcb202e-1f29-427a-a201-00d3a8865060\",\"type\":\"GlyphRenderer\"},{\"attributes\":{\"data_source\":{\"id\":\"82c30e0c-5e01-471b-ab2a-dd9c46e59df9\",\"type\":\"ColumnDataSource\"},\"glyph\":{\"id\":\"54362a02-d7e5-4457-9bb1-3670f341eeff\",\"type\":\"Rect\"},\"hover_glyph\":null,\"nonselection_glyph\":null,\"selection_glyph\":null},\"id\":\"0ce1828a-db3b-4744-8333-71ea60da1281\",\"type\":\"GlyphRenderer\"},{\"attributes\":{\"fill_alpha\":{\"field\":\"fill_alpha\"},\"fill_color\":{\"field\":\"color\"},\"height\":{\"field\":\"height\",\"units\":\"data\"},\"line_color\":{\"field\":\"line_color\"},\"width\":{\"field\":\"width\",\"units\":\"data\"},\"x\":{\"field\":\"x\"},\"y\":{\"field\":\"y\"}},\"id\":\"2ee4fd72-a3f3-4b7d-9371-cddf2f70388f\",\"type\":\"Rect\"},{\"attributes\":{\"data_source\":{\"id\":\"9d8990b2-7243-4bb1-a899-7e4548e119db\",\"type\":\"ColumnDataSource\"},\"glyph\":{\"id\":\"92804bae-369c-468f-b583-c98d018fb4bc\",\"type\":\"Rect\"},\"hover_glyph\":null,\"nonselection_glyph\":null,\"selection_glyph\":null},\"id\":\"b5235144-c92f-44c0-a72c-dff72d857dc5\",\"type\":\"GlyphRenderer\"},{\"attributes\":{\"overlay\":{\"id\":\"7965c177-e107-4978-8cdb-3b644d2bf8aa\",\"type\":\"BoxAnnotation\"},\"plot\":{\"id\":\"5fb86506-c63f-4d04-86bb-afdc2eebe79d\",\"subtype\":\"Chart\",\"type\":\"Plot\"}},\"id\":\"efeb6f54-0b5f-453a-b956-c4d2282f9742\",\"type\":\"BoxZoomTool\"},{\"attributes\":{\"callback\":null,\"column_names\":[\"line_color\",\"line_alpha\",\"color\",\"fill_alpha\",\"height\",\"width\",\"y\",\"x\",\"label\"],\"data\":{\"chart_index\":[{\"label\":\"Jun\"}],\"color\":[\"#f22c40\"],\"fill_alpha\":[0.8],\"height\":[33.0],\"label\":[\"Jun\"],\"line_alpha\":[1.0],\"line_color\":[\"white\"],\"width\":[0.8],\"x\":[\"Jun\"],\"y\":[16.5]}},\"id\":\"7f1169da-8def-4c79-9292-943a4796acbc\",\"type\":\"ColumnDataSource\"},{\"attributes\":{\"bottom_units\":\"screen\",\"fill_alpha\":{\"value\":0.5},\"fill_color\":{\"value\":\"lightgrey\"},\"left_units\":\"screen\",\"level\":\"overlay\",\"line_alpha\":{\"value\":1.0},\"line_color\":{\"value\":\"black\"},\"line_dash\":[4,4],\"line_width\":{\"value\":2},\"plot\":null,\"render_mode\":\"css\",\"right_units\":\"screen\",\"top_units\":\"screen\"},\"id\":\"76ca92e4-e70a-47bf-a0d6-85539ca0aff2\",\"type\":\"BoxAnnotation\"},{\"attributes\":{},\"id\":\"54ccc808-92d1-4004-b561-ade05ca5c4af\",\"type\":\"BasicTickFormatter\"},{\"attributes\":{\"callback\":null,\"column_names\":[\"line_color\",\"line_alpha\",\"color\",\"fill_alpha\",\"height\",\"width\",\"y\",\"x\",\"label\"],\"data\":{\"chart_index\":[{\"label\":\"Nov\"}],\"color\":[\"#f22c40\"],\"fill_alpha\":[0.8],\"height\":[30.0],\"label\":[\"Nov\"],\"line_alpha\":[1.0],\"line_color\":[\"white\"],\"width\":[0.8],\"x\":[\"Nov\"],\"y\":[15.0]}},\"id\":\"9d8990b2-7243-4bb1-a899-7e4548e119db\",\"type\":\"ColumnDataSource\"},{\"attributes\":{\"fill_alpha\":{\"field\":\"fill_alpha\"},\"fill_color\":{\"field\":\"color\"},\"height\":{\"field\":\"height\",\"units\":\"data\"},\"line_color\":{\"field\":\"line_color\"},\"width\":{\"field\":\"width\",\"units\":\"data\"},\"x\":{\"field\":\"x\"},\"y\":{\"field\":\"y\"}},\"id\":\"3788fed0-b403-4535-90c8-b67956b97433\",\"type\":\"Rect\"},{\"attributes\":{\"fill_alpha\":{\"field\":\"fill_alpha\"},\"fill_color\":{\"field\":\"color\"},\"height\":{\"field\":\"height\",\"units\":\"data\"},\"line_color\":{\"field\":\"line_color\"},\"width\":{\"field\":\"width\",\"units\":\"data\"},\"x\":{\"field\":\"x\"},\"y\":{\"field\":\"y\"}},\"id\":\"92804bae-369c-468f-b583-c98d018fb4bc\",\"type\":\"Rect\"},{\"attributes\":{\"fill_alpha\":{\"field\":\"fill_alpha\"},\"fill_color\":{\"field\":\"color\"},\"height\":{\"field\":\"height\",\"units\":\"data\"},\"line_color\":{\"field\":\"line_color\"},\"width\":{\"field\":\"width\",\"units\":\"data\"},\"x\":{\"field\":\"x\"},\"y\":{\"field\":\"y\"}},\"id\":\"54362a02-d7e5-4457-9bb1-3670f341eeff\",\"type\":\"Rect\"},{\"attributes\":{\"data_source\":{\"id\":\"a53e24dc-485d-46c6-8086-f592e513f4f3\",\"type\":\"ColumnDataSource\"},\"glyph\":{\"id\":\"1e879fa3-3ebb-4cea-b01a-50d15190ba37\",\"type\":\"Rect\"},\"hover_glyph\":null,\"nonselection_glyph\":null,\"selection_glyph\":null},\"id\":\"c5361d72-9541-45e6-aa80-f6080a62be33\",\"type\":\"GlyphRenderer\"},{\"attributes\":{\"fill_alpha\":{\"field\":\"fill_alpha\"},\"fill_color\":{\"field\":\"color\"},\"height\":{\"field\":\"height\",\"units\":\"data\"},\"line_color\":{\"field\":\"line_color\"},\"width\":{\"field\":\"width\",\"units\":\"data\"},\"x\":{\"field\":\"x\"},\"y\":{\"field\":\"y\"}},\"id\":\"c5054299-6ddd-467b-ae02-3d8677038e1c\",\"type\":\"Rect\"},{\"attributes\":{},\"id\":\"86180191-d5ee-4072-8ae4-29293e58ea3d\",\"type\":\"CategoricalTickFormatter\"},{\"attributes\":{\"callback\":null,\"column_names\":[\"line_color\",\"line_alpha\",\"color\",\"fill_alpha\",\"height\",\"width\",\"y\",\"x\",\"label\"],\"data\":{\"chart_index\":[{\"label\":\"Jul\"}],\"color\":[\"#f22c40\"],\"fill_alpha\":[0.8],\"height\":[35.0],\"label\":[\"Jul\"],\"line_alpha\":[1.0],\"line_color\":[\"white\"],\"width\":[0.8],\"x\":[\"Jul\"],\"y\":[17.5]}},\"id\":\"a53e24dc-485d-46c6-8086-f592e513f4f3\",\"type\":\"ColumnDataSource\"},{\"attributes\":{\"fill_alpha\":{\"field\":\"fill_alpha\"},\"fill_color\":{\"field\":\"color\"},\"height\":{\"field\":\"height\",\"units\":\"data\"},\"line_color\":{\"field\":\"line_color\"},\"width\":{\"field\":\"width\",\"units\":\"data\"},\"x\":{\"field\":\"x\"},\"y\":{\"field\":\"y\"}},\"id\":\"a615c668-aa06-4c34-ae43-72f1fc453ac3\",\"type\":\"Rect\"},{\"attributes\":{\"data_source\":{\"id\":\"669ada4a-2fee-4c99-a1b4-3dbdb63281ea\",\"type\":\"ColumnDataSource\"},\"glyph\":{\"id\":\"969e32c3-42d1-41ba-91c0-e36c66930147\",\"type\":\"Rect\"},\"hover_glyph\":null,\"nonselection_glyph\":null,\"selection_glyph\":null},\"id\":\"b5ee75e6-e8f4-43e8-b2e8-01f7f33e8785\",\"type\":\"GlyphRenderer\"},{\"attributes\":{},\"id\":\"dee6d11d-ec42-43d1-996a-6ddf8ed63ea5\",\"type\":\"BasicTickFormatter\"},{\"attributes\":{\"callback\":null,\"column_names\":[\"line_color\",\"line_alpha\",\"color\",\"fill_alpha\",\"height\",\"width\",\"y\",\"x\",\"label\"],\"data\":{\"chart_index\":[{\"label\":\"Jun\"}],\"color\":[\"#f22c40\"],\"fill_alpha\":[0.8],\"height\":[1655.0],\"label\":[\"Jun\"],\"line_alpha\":[1.0],\"line_color\":[\"white\"],\"width\":[0.8],\"x\":[\"Jun\"],\"y\":[827.5]}},\"id\":\"7651dead-9db0-4078-b28e-d000cedd6d95\",\"type\":\"ColumnDataSource\"},{\"attributes\":{},\"id\":\"cf3a9688-e050-48cf-9bf2-ff226d22e264\",\"type\":\"ToolEvents\"},{\"attributes\":{\"active_drag\":\"auto\",\"active_scroll\":\"auto\",\"active_tap\":\"auto\",\"tools\":[{\"id\":\"b6bb7ba6-1017-42f8-94b3-0780f55d8901\",\"type\":\"PanTool\"},{\"id\":\"6cf99380-b3ba-4825-bf11-8fa32379d28c\",\"type\":\"WheelZoomTool\"},{\"id\":\"efeb6f54-0b5f-453a-b956-c4d2282f9742\",\"type\":\"BoxZoomTool\"},{\"id\":\"f5df85ac-8252-42f9-8962-099a71b33072\",\"type\":\"SaveTool\"},{\"id\":\"abf7d28a-8f90-4b40-841c-630850c6b05d\",\"type\":\"ResetTool\"},{\"id\":\"e5c9de10-54c3-4506-ac10-1871900e0e75\",\"type\":\"HelpTool\"}]},\"id\":\"c7252500-aa76-48bd-95ef-2082cd31d4c8\",\"type\":\"Toolbar\"},{\"attributes\":{},\"id\":\"59b1eb17-7684-4152-9ad5-2b1e4b020a96\",\"type\":\"ToolEvents\"},{\"attributes\":{\"dimension\":1,\"plot\":{\"id\":\"5fb86506-c63f-4d04-86bb-afdc2eebe79d\",\"subtype\":\"Chart\",\"type\":\"Plot\"},\"ticker\":{\"id\":\"1303e432-2c61-4569-8602-31d4b2f01143\",\"type\":\"BasicTicker\"}},\"id\":\"724e129c-eb31-4c6f-abe3-af448a610c59\",\"type\":\"Grid\"},{\"attributes\":{\"data_source\":{\"id\":\"93cf3d28-5131-4cac-a5fd-28a8fb2e07e4\",\"type\":\"ColumnDataSource\"},\"glyph\":{\"id\":\"3788fed0-b403-4535-90c8-b67956b97433\",\"type\":\"Rect\"},\"hover_glyph\":null,\"nonselection_glyph\":null,\"selection_glyph\":null},\"id\":\"97c12680-c96c-4192-b4e4-d6709a710dc9\",\"type\":\"GlyphRenderer\"},{\"attributes\":{\"callback\":null,\"column_names\":[\"line_color\",\"line_alpha\",\"color\",\"fill_alpha\",\"height\",\"width\",\"y\",\"x\",\"label\"],\"data\":{\"chart_index\":[{\"label\":\"Feb\"}],\"color\":[\"#f22c40\"],\"fill_alpha\":[0.8],\"height\":[679.0],\"label\":[\"Feb\"],\"line_alpha\":[1.0],\"line_color\":[\"white\"],\"width\":[0.8],\"x\":[\"Feb\"],\"y\":[339.5]}},\"id\":\"ef257739-2d7a-43c8-b06b-587dc2bcd8c6\",\"type\":\"ColumnDataSource\"},{\"attributes\":{\"data_source\":{\"id\":\"445cbfe5-dcc1-46ed-aa35-b35895167787\",\"type\":\"ColumnDataSource\"},\"glyph\":{\"id\":\"c5054299-6ddd-467b-ae02-3d8677038e1c\",\"type\":\"Rect\"},\"hover_glyph\":null,\"nonselection_glyph\":null,\"selection_glyph\":null},\"id\":\"7cf93934-ff11-4795-9c39-53eb5b21dfac\",\"type\":\"GlyphRenderer\"},{\"attributes\":{\"fill_alpha\":{\"field\":\"fill_alpha\"},\"fill_color\":{\"field\":\"color\"},\"height\":{\"field\":\"height\",\"units\":\"data\"},\"line_color\":{\"field\":\"line_color\"},\"width\":{\"field\":\"width\",\"units\":\"data\"},\"x\":{\"field\":\"x\"},\"y\":{\"field\":\"y\"}},\"id\":\"e4471ad9-24d9-4b41-8498-34e9841a15b6\",\"type\":\"Rect\"},{\"attributes\":{\"fill_alpha\":{\"field\":\"fill_alpha\"},\"fill_color\":{\"field\":\"color\"},\"height\":{\"field\":\"height\",\"units\":\"data\"},\"line_color\":{\"field\":\"line_color\"},\"width\":{\"field\":\"width\",\"units\":\"data\"},\"x\":{\"field\":\"x\"},\"y\":{\"field\":\"y\"}},\"id\":\"efef67e0-2242-42a8-8719-ef516030fa52\",\"type\":\"Rect\"},{\"attributes\":{\"data_source\":{\"id\":\"0627709f-a496-4181-836a-4d9e4b0640e0\",\"type\":\"ColumnDataSource\"},\"glyph\":{\"id\":\"e4471ad9-24d9-4b41-8498-34e9841a15b6\",\"type\":\"Rect\"},\"hover_glyph\":null,\"nonselection_glyph\":null,\"selection_glyph\":null},\"id\":\"e3af4142-3afd-4555-9af3-58a31b5fe3ed\",\"type\":\"GlyphRenderer\"},{\"attributes\":{\"callback\":null,\"column_names\":[\"line_color\",\"line_alpha\",\"color\",\"fill_alpha\",\"height\",\"width\",\"y\",\"x\",\"label\"],\"data\":{\"chart_index\":[{\"label\":\"Jan\"}],\"color\":[\"#f22c40\"],\"fill_alpha\":[0.8],\"height\":[40.0],\"label\":[\"Jan\"],\"line_alpha\":[1.0],\"line_color\":[\"white\"],\"width\":[0.8],\"x\":[\"Jan\"],\"y\":[20.0]}},\"id\":\"445cbfe5-dcc1-46ed-aa35-b35895167787\",\"type\":\"ColumnDataSource\"},{\"attributes\":{\"callback\":null,\"column_names\":[\"line_color\",\"line_alpha\",\"color\",\"fill_alpha\",\"height\",\"width\",\"y\",\"x\",\"label\"],\"data\":{\"chart_index\":[{\"label\":\"Apr\"}],\"color\":[\"#f22c40\"],\"fill_alpha\":[0.8],\"height\":[964.0],\"label\":[\"Apr\"],\"line_alpha\":[1.0],\"line_color\":[\"white\"],\"width\":[0.8],\"x\":[\"Apr\"],\"y\":[482.0]}},\"id\":\"7016c5a3-92a3-4a12-93f9-c26a8846f4cc\",\"type\":\"ColumnDataSource\"},{\"attributes\":{\"plot\":{\"id\":\"5fb86506-c63f-4d04-86bb-afdc2eebe79d\",\"subtype\":\"Chart\",\"type\":\"Plot\"}},\"id\":\"f5df85ac-8252-42f9-8962-099a71b33072\",\"type\":\"SaveTool\"},{\"attributes\":{\"data_source\":{\"id\":\"60a601d7-404b-44c1-ba0f-fd2518ca2122\",\"type\":\"ColumnDataSource\"},\"glyph\":{\"id\":\"24465434-3471-4d8a-803f-630f9d28736e\",\"type\":\"Rect\"},\"hover_glyph\":null,\"nonselection_glyph\":null,\"selection_glyph\":null},\"id\":\"07df8ed3-1da5-49d8-9db9-78a31ff3f1c1\",\"type\":\"GlyphRenderer\"},{\"attributes\":{\"dimension\":1,\"plot\":{\"id\":\"4f507392-8990-4205-b22d-9cb67db23a38\",\"subtype\":\"Chart\",\"type\":\"Plot\"},\"ticker\":{\"id\":\"8c731c93-61d4-4c9f-8d48-becfb3519a76\",\"type\":\"BasicTicker\"}},\"id\":\"d3ff604f-5290-4328-88a0-610667ee3e29\",\"type\":\"Grid\"},{\"attributes\":{\"data_source\":{\"id\":\"569bd17c-3eb9-4166-9408-01a13c406e91\",\"type\":\"ColumnDataSource\"},\"glyph\":{\"id\":\"0249bab9-4a31-44b5-b1e4-ae3aa82dd914\",\"type\":\"Rect\"},\"hover_glyph\":null,\"nonselection_glyph\":null,\"selection_glyph\":null},\"id\":\"d3476b82-07ab-46ee-a6a4-5c075913f8d2\",\"type\":\"GlyphRenderer\"},{\"attributes\":{\"bottom_units\":\"screen\",\"fill_alpha\":{\"value\":0.5},\"fill_color\":{\"value\":\"lightgrey\"},\"left_units\":\"screen\",\"level\":\"overlay\",\"line_alpha\":{\"value\":1.0},\"line_color\":{\"value\":\"black\"},\"line_dash\":[4,4],\"line_width\":{\"value\":2},\"plot\":null,\"render_mode\":\"css\",\"right_units\":\"screen\",\"top_units\":\"screen\"},\"id\":\"7965c177-e107-4978-8cdb-3b644d2bf8aa\",\"type\":\"BoxAnnotation\"},{\"attributes\":{\"data_source\":{\"id\":\"7651dead-9db0-4078-b28e-d000cedd6d95\",\"type\":\"ColumnDataSource\"},\"glyph\":{\"id\":\"e78360c8-f7d7-41df-87f1-696ccf68b4dd\",\"type\":\"Rect\"},\"hover_glyph\":null,\"nonselection_glyph\":null,\"selection_glyph\":null},\"id\":\"25eb3e59-4d90-4908-8eac-8dafcf3374d7\",\"type\":\"GlyphRenderer\"},{\"attributes\":{\"callback\":null,\"factors\":[\"Jan\",\"Feb\",\"Mar\",\"Apr\",\"May\",\"Jun\",\"Jul\",\"Aug\",\"Sep\",\"Oct\",\"Nov\",\"Dec\"]},\"id\":\"0da05b5d-751b-4291-ab77-668103a7859e\",\"type\":\"FactorRange\"},{\"attributes\":{},\"id\":\"8feb1f43-6d47-4d79-94a7-64a0f673c063\",\"type\":\"CategoricalTicker\"},{\"attributes\":{\"fill_alpha\":{\"field\":\"fill_alpha\"},\"fill_color\":{\"field\":\"color\"},\"height\":{\"field\":\"height\",\"units\":\"data\"},\"line_color\":{\"field\":\"line_color\"},\"width\":{\"field\":\"width\",\"units\":\"data\"},\"x\":{\"field\":\"x\"},\"y\":{\"field\":\"y\"}},\"id\":\"4527f94a-b7dc-4f86-b565-d7ad992e0987\",\"type\":\"Rect\"},{\"attributes\":{\"data_source\":{\"id\":\"ef257739-2d7a-43c8-b06b-587dc2bcd8c6\",\"type\":\"ColumnDataSource\"},\"glyph\":{\"id\":\"d0d7e5d7-5cc3-4719-bba9-f183cc3dc028\",\"type\":\"Rect\"},\"hover_glyph\":null,\"nonselection_glyph\":null,\"selection_glyph\":null},\"id\":\"29272295-201b-47fc-bf9d-717a6d66e97e\",\"type\":\"GlyphRenderer\"},{\"attributes\":{\"fill_alpha\":{\"field\":\"fill_alpha\"},\"fill_color\":{\"field\":\"color\"},\"height\":{\"field\":\"height\",\"units\":\"data\"},\"line_color\":{\"field\":\"line_color\"},\"width\":{\"field\":\"width\",\"units\":\"data\"},\"x\":{\"field\":\"x\"},\"y\":{\"field\":\"y\"}},\"id\":\"f2c146b2-b533-4027-8039-5690e568a980\",\"type\":\"Rect\"},{\"attributes\":{\"data_source\":{\"id\":\"b5ebb2a0-c9a7-4a2f-8c7e-a40648a32181\",\"type\":\"ColumnDataSource\"},\"glyph\":{\"id\":\"f67b5b3c-3654-49dd-8542-00e9ddd4304d\",\"type\":\"Rect\"},\"hover_glyph\":null,\"nonselection_glyph\":null,\"selection_glyph\":null},\"id\":\"b2d64c6d-0e7b-400e-97ee-b88e9d321568\",\"type\":\"GlyphRenderer\"},{\"attributes\":{\"fill_alpha\":{\"field\":\"fill_alpha\"},\"fill_color\":{\"field\":\"color\"},\"height\":{\"field\":\"height\",\"units\":\"data\"},\"line_color\":{\"field\":\"line_color\"},\"width\":{\"field\":\"width\",\"units\":\"data\"},\"x\":{\"field\":\"x\"},\"y\":{\"field\":\"y\"}},\"id\":\"d0d7e5d7-5cc3-4719-bba9-f183cc3dc028\",\"type\":\"Rect\"},{\"attributes\":{\"plot\":{\"id\":\"5fb86506-c63f-4d04-86bb-afdc2eebe79d\",\"subtype\":\"Chart\",\"type\":\"Plot\"}},\"id\":\"6cf99380-b3ba-4825-bf11-8fa32379d28c\",\"type\":\"WheelZoomTool\"},{\"attributes\":{\"callback\":null,\"column_names\":[\"line_color\",\"line_alpha\",\"color\",\"fill_alpha\",\"height\",\"width\",\"y\",\"x\",\"label\"],\"data\":{\"chart_index\":[{\"label\":\"Aug\"}],\"color\":[\"#f22c40\"],\"fill_alpha\":[0.8],\"height\":[4970.0],\"label\":[\"Aug\"],\"line_alpha\":[1.0],\"line_color\":[\"white\"],\"width\":[0.8],\"x\":[\"Aug\"],\"y\":[2485.0]}},\"id\":\"6122c5c3-741b-40e0-b511-e8c375780deb\",\"type\":\"ColumnDataSource\"},{\"attributes\":{\"fill_alpha\":{\"field\":\"fill_alpha\"},\"fill_color\":{\"field\":\"color\"},\"height\":{\"field\":\"height\",\"units\":\"data\"},\"line_color\":{\"field\":\"line_color\"},\"width\":{\"field\":\"width\",\"units\":\"data\"},\"x\":{\"field\":\"x\"},\"y\":{\"field\":\"y\"}},\"id\":\"108d248b-a402-4a26-a42a-f3e158840ce7\",\"type\":\"Rect\"},{\"attributes\":{\"axis_label\":\"\",\"formatter\":{\"id\":\"86180191-d5ee-4072-8ae4-29293e58ea3d\",\"type\":\"CategoricalTickFormatter\"},\"major_label_orientation\":0.7853981633974483,\"plot\":{\"id\":\"5fb86506-c63f-4d04-86bb-afdc2eebe79d\",\"subtype\":\"Chart\",\"type\":\"Plot\"},\"ticker\":{\"id\":\"b1f744ce-b0e3-4a52-9396-38e7d1425fe0\",\"type\":\"CategoricalTicker\"}},\"id\":\"a5451f12-371f-4cb8-a3e5-e0b59192d917\",\"type\":\"CategoricalAxis\"},{\"attributes\":{\"overlay\":{\"id\":\"76ca92e4-e70a-47bf-a0d6-85539ca0aff2\",\"type\":\"BoxAnnotation\"},\"plot\":{\"id\":\"4f507392-8990-4205-b22d-9cb67db23a38\",\"subtype\":\"Chart\",\"type\":\"Plot\"}},\"id\":\"4aca4818-45f5-4cd0-bc0e-05d4c9f87cb0\",\"type\":\"BoxZoomTool\"},{\"attributes\":{\"below\":[{\"id\":\"a5451f12-371f-4cb8-a3e5-e0b59192d917\",\"type\":\"CategoricalAxis\"}],\"left\":[{\"id\":\"32f903db-fb10-4211-931c-f3888ed3ebc3\",\"type\":\"LinearAxis\"}],\"plot_height\":450,\"plot_width\":450,\"renderers\":[{\"id\":\"7965c177-e107-4978-8cdb-3b644d2bf8aa\",\"type\":\"BoxAnnotation\"},{\"id\":\"7cf93934-ff11-4795-9c39-53eb5b21dfac\",\"type\":\"GlyphRenderer\"},{\"id\":\"ade297d6-f65e-4ebf-a509-025d43d1d0e7\",\"type\":\"GlyphRenderer\"},{\"id\":\"97c12680-c96c-4192-b4e4-d6709a710dc9\",\"type\":\"GlyphRenderer\"},{\"id\":\"d3476b82-07ab-46ee-a6a4-5c075913f8d2\",\"type\":\"GlyphRenderer\"},{\"id\":\"5fcb202e-1f29-427a-a201-00d3a8865060\",\"type\":\"GlyphRenderer\"},{\"id\":\"dab77ccb-f4a8-4331-b3e9-54e416a9593c\",\"type\":\"GlyphRenderer\"},{\"id\":\"c5361d72-9541-45e6-aa80-f6080a62be33\",\"type\":\"GlyphRenderer\"},{\"id\":\"4dd4e4ec-d810-472d-8a55-93e02d2cb713\",\"type\":\"GlyphRenderer\"},{\"id\":\"b2d64c6d-0e7b-400e-97ee-b88e9d321568\",\"type\":\"GlyphRenderer\"},{\"id\":\"d8b98f9e-3668-45ef-b0b0-0f2168ede940\",\"type\":\"GlyphRenderer\"},{\"id\":\"b5235144-c92f-44c0-a72c-dff72d857dc5\",\"type\":\"GlyphRenderer\"},{\"id\":\"07df8ed3-1da5-49d8-9db9-78a31ff3f1c1\",\"type\":\"GlyphRenderer\"},{\"id\":\"a5451f12-371f-4cb8-a3e5-e0b59192d917\",\"type\":\"CategoricalAxis\"},{\"id\":\"32f903db-fb10-4211-931c-f3888ed3ebc3\",\"type\":\"LinearAxis\"},{\"id\":\"724e129c-eb31-4c6f-abe3-af448a610c59\",\"type\":\"Grid\"}],\"title\":{\"id\":\"89d13634-77c3-4070-bea1-68002bfc5383\",\"type\":\"Title\"},\"tool_events\":{\"id\":\"cf3a9688-e050-48cf-9bf2-ff226d22e264\",\"type\":\"ToolEvents\"},\"toolbar\":{\"id\":\"c7252500-aa76-48bd-95ef-2082cd31d4c8\",\"type\":\"Toolbar\"},\"x_mapper_type\":\"auto\",\"x_range\":{\"id\":\"0da05b5d-751b-4291-ab77-668103a7859e\",\"type\":\"FactorRange\"},\"y_mapper_type\":\"auto\",\"y_range\":{\"id\":\"541a6aae-afa7-4a48-aa01-658456816266\",\"type\":\"Range1d\"}},\"id\":\"5fb86506-c63f-4d04-86bb-afdc2eebe79d\",\"subtype\":\"Chart\",\"type\":\"Plot\"},{\"attributes\":{\"children\":[{\"id\":\"4f507392-8990-4205-b22d-9cb67db23a38\",\"subtype\":\"Chart\",\"type\":\"Plot\"},{\"id\":\"5fb86506-c63f-4d04-86bb-afdc2eebe79d\",\"subtype\":\"Chart\",\"type\":\"Plot\"}]},\"id\":\"a91c06b4-baf4-49f2-b244-4dd8b8b460ec\",\"type\":\"Row\"},{\"attributes\":{\"plot\":{\"id\":\"5fb86506-c63f-4d04-86bb-afdc2eebe79d\",\"subtype\":\"Chart\",\"type\":\"Plot\"}},\"id\":\"abf7d28a-8f90-4b40-841c-630850c6b05d\",\"type\":\"ResetTool\"},{\"attributes\":{\"plot\":null,\"text\":\"Comments count\"},\"id\":\"e74d6254-9b63-4344-b426-4b327a0d9c89\",\"type\":\"Title\"},{\"attributes\":{\"callback\":null,\"column_names\":[\"line_color\",\"line_alpha\",\"color\",\"fill_alpha\",\"height\",\"width\",\"y\",\"x\",\"label\"],\"data\":{\"chart_index\":[{\"label\":\"Oct\"}],\"color\":[\"#f22c40\"],\"fill_alpha\":[0.8],\"height\":[3053.0],\"label\":[\"Oct\"],\"line_alpha\":[1.0],\"line_color\":[\"white\"],\"width\":[0.8],\"x\":[\"Oct\"],\"y\":[1526.5]}},\"id\":\"669ada4a-2fee-4c99-a1b4-3dbdb63281ea\",\"type\":\"ColumnDataSource\"},{\"attributes\":{\"fill_alpha\":{\"field\":\"fill_alpha\"},\"fill_color\":{\"field\":\"color\"},\"height\":{\"field\":\"height\",\"units\":\"data\"},\"line_color\":{\"field\":\"line_color\"},\"width\":{\"field\":\"width\",\"units\":\"data\"},\"x\":{\"field\":\"x\"},\"y\":{\"field\":\"y\"}},\"id\":\"969e32c3-42d1-41ba-91c0-e36c66930147\",\"type\":\"Rect\"},{\"attributes\":{\"below\":[{\"id\":\"36bebb2c-f49c-4ca8-9eb8-0b07bf33facb\",\"type\":\"CategoricalAxis\"}],\"left\":[{\"id\":\"a203dd81-1787-44ef-b67b-6514b93cbb4b\",\"type\":\"LinearAxis\"}],\"plot_height\":450,\"plot_width\":450,\"renderers\":[{\"id\":\"76ca92e4-e70a-47bf-a0d6-85539ca0aff2\",\"type\":\"BoxAnnotation\"},{\"id\":\"2921baa2-cfc6-45b8-b4b1-2c28222bef6a\",\"type\":\"GlyphRenderer\"},{\"id\":\"29272295-201b-47fc-bf9d-717a6d66e97e\",\"type\":\"GlyphRenderer\"},{\"id\":\"3bebeb84-75dc-43cb-893a-488a9ed81d5d\",\"type\":\"GlyphRenderer\"},{\"id\":\"2b8a5224-4293-4b72-a1da-51d79d5e6d2e\",\"type\":\"GlyphRenderer\"},{\"id\":\"8fc8efac-326e-48c4-be2f-611b02f853da\",\"type\":\"GlyphRenderer\"},{\"id\":\"25eb3e59-4d90-4908-8eac-8dafcf3374d7\",\"type\":\"GlyphRenderer\"},{\"id\":\"e3af4142-3afd-4555-9af3-58a31b5fe3ed\",\"type\":\"GlyphRenderer\"},{\"id\":\"d866ccf1-9f60-40e3-b21c-bc36ed7f371a\",\"type\":\"GlyphRenderer\"},{\"id\":\"55bf9160-a24a-41ca-a6c1-1598b2621d47\",\"type\":\"GlyphRenderer\"},{\"id\":\"b5ee75e6-e8f4-43e8-b2e8-01f7f33e8785\",\"type\":\"GlyphRenderer\"},{\"id\":\"0ce1828a-db3b-4744-8333-71ea60da1281\",\"type\":\"GlyphRenderer\"},{\"id\":\"f04fec10-d038-4d8d-8b96-f286f4a2b060\",\"type\":\"GlyphRenderer\"},{\"id\":\"36bebb2c-f49c-4ca8-9eb8-0b07bf33facb\",\"type\":\"CategoricalAxis\"},{\"id\":\"a203dd81-1787-44ef-b67b-6514b93cbb4b\",\"type\":\"LinearAxis\"},{\"id\":\"d3ff604f-5290-4328-88a0-610667ee3e29\",\"type\":\"Grid\"}],\"title\":{\"id\":\"e74d6254-9b63-4344-b426-4b327a0d9c89\",\"type\":\"Title\"},\"tool_events\":{\"id\":\"59b1eb17-7684-4152-9ad5-2b1e4b020a96\",\"type\":\"ToolEvents\"},\"toolbar\":{\"id\":\"674bf37d-85fa-4a52-a284-81c64487d760\",\"type\":\"Toolbar\"},\"x_mapper_type\":\"auto\",\"x_range\":{\"id\":\"2477d2d2-ac06-499c-8fae-486f6f56337c\",\"type\":\"FactorRange\"},\"y_mapper_type\":\"auto\",\"y_range\":{\"id\":\"6b1821ef-378b-4678-a97d-879b993b75d3\",\"type\":\"Range1d\"}},\"id\":\"4f507392-8990-4205-b22d-9cb67db23a38\",\"subtype\":\"Chart\",\"type\":\"Plot\"},{\"attributes\":{\"plot\":{\"id\":\"5fb86506-c63f-4d04-86bb-afdc2eebe79d\",\"subtype\":\"Chart\",\"type\":\"Plot\"}},\"id\":\"b6bb7ba6-1017-42f8-94b3-0780f55d8901\",\"type\":\"PanTool\"},{\"attributes\":{\"fill_alpha\":{\"field\":\"fill_alpha\"},\"fill_color\":{\"field\":\"color\"},\"height\":{\"field\":\"height\",\"units\":\"data\"},\"line_color\":{\"field\":\"line_color\"},\"width\":{\"field\":\"width\",\"units\":\"data\"},\"x\":{\"field\":\"x\"},\"y\":{\"field\":\"y\"}},\"id\":\"aeadd577-063c-4641-af5c-dcb68d376390\",\"type\":\"Rect\"},{\"attributes\":{\"axis_label\":\"\",\"formatter\":{\"id\":\"2a7e59e4-f727-45de-b56b-ec968d114cf2\",\"type\":\"CategoricalTickFormatter\"},\"major_label_orientation\":0.7853981633974483,\"plot\":{\"id\":\"4f507392-8990-4205-b22d-9cb67db23a38\",\"subtype\":\"Chart\",\"type\":\"Plot\"},\"ticker\":{\"id\":\"8feb1f43-6d47-4d79-94a7-64a0f673c063\",\"type\":\"CategoricalTicker\"}},\"id\":\"36bebb2c-f49c-4ca8-9eb8-0b07bf33facb\",\"type\":\"CategoricalAxis\"},{\"attributes\":{\"data_source\":{\"id\":\"4b4c588e-8c64-4962-8a32-3ef286c7ccfa\",\"type\":\"ColumnDataSource\"},\"glyph\":{\"id\":\"a615c668-aa06-4c34-ae43-72f1fc453ac3\",\"type\":\"Rect\"},\"hover_glyph\":null,\"nonselection_glyph\":null,\"selection_glyph\":null},\"id\":\"3bebeb84-75dc-43cb-893a-488a9ed81d5d\",\"type\":\"GlyphRenderer\"},{\"attributes\":{\"plot\":{\"id\":\"5fb86506-c63f-4d04-86bb-afdc2eebe79d\",\"subtype\":\"Chart\",\"type\":\"Plot\"}},\"id\":\"e5c9de10-54c3-4506-ac10-1871900e0e75\",\"type\":\"HelpTool\"},{\"attributes\":{\"callback\":null,\"factors\":[\"Jan\",\"Feb\",\"Mar\",\"Apr\",\"May\",\"Jun\",\"Jul\",\"Aug\",\"Sep\",\"Oct\",\"Nov\",\"Dec\"]},\"id\":\"2477d2d2-ac06-499c-8fae-486f6f56337c\",\"type\":\"FactorRange\"},{\"attributes\":{},\"id\":\"8c731c93-61d4-4c9f-8d48-becfb3519a76\",\"type\":\"BasicTicker\"},{\"attributes\":{\"fill_alpha\":{\"field\":\"fill_alpha\"},\"fill_color\":{\"field\":\"color\"},\"height\":{\"field\":\"height\",\"units\":\"data\"},\"line_color\":{\"field\":\"line_color\"},\"width\":{\"field\":\"width\",\"units\":\"data\"},\"x\":{\"field\":\"x\"},\"y\":{\"field\":\"y\"}},\"id\":\"24465434-3471-4d8a-803f-630f9d28736e\",\"type\":\"Rect\"},{\"attributes\":{\"callback\":null,\"column_names\":[\"line_color\",\"line_alpha\",\"color\",\"fill_alpha\",\"height\",\"width\",\"y\",\"x\",\"label\"],\"data\":{\"chart_index\":[{\"label\":\"Nov\"}],\"color\":[\"#f22c40\"],\"fill_alpha\":[0.8],\"height\":[5659.0],\"label\":[\"Nov\"],\"line_alpha\":[1.0],\"line_color\":[\"white\"],\"width\":[0.8],\"x\":[\"Nov\"],\"y\":[2829.5]}},\"id\":\"82c30e0c-5e01-471b-ab2a-dd9c46e59df9\",\"type\":\"ColumnDataSource\"},{\"attributes\":{\"callback\":null,\"end\":42.0},\"id\":\"541a6aae-afa7-4a48-aa01-658456816266\",\"type\":\"Range1d\"},{\"attributes\":{\"plot\":{\"id\":\"4f507392-8990-4205-b22d-9cb67db23a38\",\"subtype\":\"Chart\",\"type\":\"Plot\"}},\"id\":\"85278dfa-5b1a-43bf-a583-4505163bf83f\",\"type\":\"PanTool\"},{\"attributes\":{\"callback\":null,\"column_names\":[\"line_color\",\"line_alpha\",\"color\",\"fill_alpha\",\"height\",\"width\",\"y\",\"x\",\"label\"],\"data\":{\"chart_index\":[{\"label\":\"Jan\"}],\"color\":[\"#f22c40\"],\"fill_alpha\":[0.8],\"height\":[1296.0],\"label\":[\"Jan\"],\"line_alpha\":[1.0],\"line_color\":[\"white\"],\"width\":[0.8],\"x\":[\"Jan\"],\"y\":[648.0]}},\"id\":\"8fd46345-bd3a-4a35-ae96-de76a413dc4d\",\"type\":\"ColumnDataSource\"},{\"attributes\":{\"callback\":null,\"column_names\":[\"line_color\",\"line_alpha\",\"color\",\"fill_alpha\",\"height\",\"width\",\"y\",\"x\",\"label\"],\"data\":{\"chart_index\":[{\"label\":\"May\"}],\"color\":[\"#f22c40\"],\"fill_alpha\":[0.8],\"height\":[32.0],\"label\":[\"May\"],\"line_alpha\":[1.0],\"line_color\":[\"white\"],\"width\":[0.8],\"x\":[\"May\"],\"y\":[16.0]}},\"id\":\"51450964-e403-423d-9ae8-b4288c2d74c5\",\"type\":\"ColumnDataSource\"},{\"attributes\":{\"fill_alpha\":{\"field\":\"fill_alpha\"},\"fill_color\":{\"field\":\"color\"},\"height\":{\"field\":\"height\",\"units\":\"data\"},\"line_color\":{\"field\":\"line_color\"},\"width\":{\"field\":\"width\",\"units\":\"data\"},\"x\":{\"field\":\"x\"},\"y\":{\"field\":\"y\"}},\"id\":\"e78360c8-f7d7-41df-87f1-696ccf68b4dd\",\"type\":\"Rect\"},{\"attributes\":{\"data_source\":{\"id\":\"af157f05-bd9d-42e1-92bf-9b2a6a0b105f\",\"type\":\"ColumnDataSource\"},\"glyph\":{\"id\":\"f2c146b2-b533-4027-8039-5690e568a980\",\"type\":\"Rect\"},\"hover_glyph\":null,\"nonselection_glyph\":null,\"selection_glyph\":null},\"id\":\"d8b98f9e-3668-45ef-b0b0-0f2168ede940\",\"type\":\"GlyphRenderer\"},{\"attributes\":{\"fill_alpha\":{\"field\":\"fill_alpha\"},\"fill_color\":{\"field\":\"color\"},\"height\":{\"field\":\"height\",\"units\":\"data\"},\"line_color\":{\"field\":\"line_color\"},\"width\":{\"field\":\"width\",\"units\":\"data\"},\"x\":{\"field\":\"x\"},\"y\":{\"field\":\"y\"}},\"id\":\"d2aa56f0-8204-4d1d-abfa-c926c42d137a\",\"type\":\"Rect\"}],\"root_ids\":[\"a91c06b4-baf4-49f2-b244-4dd8b8b460ec\"]},\"title\":\"Bokeh Application\",\"version\":\"0.12.0\"}};\n",
       "            var render_items = [{\"docid\":\"a2c46bb5-533c-41ca-9f6b-e2acccaa3556\",\"elementid\":\"0657aec5-45e8-4a28-a4d7-e45db23caef7\",\"modelid\":\"a91c06b4-baf4-49f2-b244-4dd8b8b460ec\",\"notebook_comms_target\":\"ca1719a5-90db-4b04-bbc9-e42645e80767\"}];\n",
       "            \n",
       "            Bokeh.embed.embed_items(docs_json, render_items);\n",
       "        });\n",
       "      },\n",
       "      function(Bokeh) {\n",
       "      }\n",
       "    ];\n",
       "  \n",
       "    function run_inline_js() {\n",
       "      for (var i = 0; i < inline_js.length; i++) {\n",
       "        inline_js[i](window.Bokeh);\n",
       "      }\n",
       "    }\n",
       "  \n",
       "    if (window._bokeh_is_loading === 0) {\n",
       "      console.log(\"Bokeh: BokehJS loaded, going straight to plotting\");\n",
       "      run_inline_js();\n",
       "    } else {\n",
       "      load_libs(js_urls, function() {\n",
       "        console.log(\"Bokeh: BokehJS plotting callback run at\", now());\n",
       "        run_inline_js();\n",
       "      });\n",
       "    }\n",
       "  }(this));\n",
       "</script>"
      ]
     },
     "metadata": {},
     "output_type": "display_data"
    },
    {
     "data": {
      "text/html": [
       "<p><code>&lt;Bokeh Notebook handle for <strong>In[11]</strong>&gt;</code></p>"
      ],
      "text/plain": [
       "<bokeh.io._CommsHandle at 0x7f4cd9c42e10>"
      ]
     },
     "execution_count": 11,
     "metadata": {},
     "output_type": "execute_result"
    }
   ],
   "source": [
    "from bokeh.charts import Bar\n",
    "from bokeh.charts.attributes import CatAttr\n",
    "\n",
    "MONTHS = ['Jan', 'Feb', 'Mar', 'Apr', 'May', 'Jun', 'Jul', 'Aug', 'Sep', 'Oct', 'Nov', 'Dec']\n",
    "\n",
    "comment_dict = dict(data=comment_month[2], label=MONTHS)\n",
    "post_dict = dict(data=post_month[2], label=MONTHS)\n",
    "\n",
    "comment_bar = Bar(comment_dict, values='data', label=CatAttr(columns=['label'], sort=False), \n",
    "               plot_width=450, plot_height=450, legend=None, title='Comments count')\n",
    "post_bar = Bar(post_dict, values='data', label=CatAttr(columns=['label'], sort=False), \n",
    "             plot_width=450, plot_height=450, legend=None, title='Posts count')\n",
    "\n",
    "comment_bar.xaxis.axis_label = post_bar.xaxis.axis_label = ''\n",
    "comment_bar.yaxis.axis_label = 'comments'\n",
    "post_bar.yaxis.axis_label = 'posts'\n",
    "\n",
    "show(row(comment_bar, post_bar))"
   ]
  },
  {
   "cell_type": "markdown",
   "metadata": {},
   "source": [
    "# Visualization: use Seaborn"
   ]
  },
  {
   "cell_type": "markdown",
   "metadata": {},
   "source": [
    "## Step 1 Box plot  (distribution #comments/each post among different facebook fans pages)"
   ]
  },
  {
   "cell_type": "code",
   "execution_count": 37,
   "metadata": {
    "collapsed": true
   },
   "outputs": [],
   "source": [
    "%matplotlib inline\n",
    "\n",
    "import pyes\n",
    "import json\n",
    "import pandas as pd\n",
    "import seaborn as sns\n",
    "\n",
    "def pp(o): \n",
    "    print json.dumps(o, indent=1)\n",
    "\n",
    "def boxPlotFBFansPageComp(fids, host, pngFilePath, outlierFilter):\n",
    "    data = []\n",
    "    for fid in fids:\n",
    "        conn = pyes.es.ES(host)\n",
    "        tq = pyes.query.TermQuery(field=\"fid\", value=fid)\n",
    "        tagg = pyes.aggs.TermsAgg('pid', field= 'fid_pid')\n",
    "        qsearch = pyes.query.Search(tq) \n",
    "        qsearch.agg.add(tagg) \n",
    "        result = conn.search(query=qsearch, indices='facebook_nested', doc_types='comment')\n",
    "        #print json.dumps(result.aggs,indent=2) \n",
    "        for fidpid_summary in result.aggs[\"pid\"][\"buckets\"]:\n",
    "            #print fidpid_summary[\"key\"] + ',' + str(fidpid_summary[\"doc_count\"])\n",
    "            if fidpid_summary[\"doc_count\"] < outlierFilter or outlierFilter < 0:\n",
    "                data.append([fidpid_summary[\"doc_count\"], fnames[fids.index(fid)], fidpid_summary[\"key\"]])\n",
    "\n",
    "    df = pd.DataFrame(data,columns={'count', 'fname', 'fidpid'})\n",
    "    sns.set(style=\"ticks\")\n",
    "    sns_plot = sns.boxplot(x=\"fname\", y=\"count\", data=df, palette=\"PRGn\")\n",
    "    fig = sns_plot.get_figure()\n",
    "    fig.savefig(pngFilePath)"
   ]
  },
  {
   "cell_type": "markdown",
   "metadata": {},
   "source": [
    "## Step 2: Please assign several Facebook fan pages and parameters "
   ]
  },
  {
   "cell_type": "code",
   "execution_count": 38,
   "metadata": {
    "collapsed": false
   },
   "outputs": [
    {
     "data": {
      "image/png": "[encoded data removed]",
      "text/plain": [
       "<matplotlib.figure.Figure at 0x7f4ccba7dd50>"
      ]
     },
     "metadata": {},
     "output_type": "display_data"
    }
   ],
   "source": [
    "fids = ['202586376996', '180080052032125', '115361891807579']\n",
    "host = '192.168.1.100:9200'\n",
    "pngFilePath = \"output.png\"\n",
    "outlierFilter = 2000\n",
    "\n",
    "\n",
    "boxPlotFBFansPageComp(fids, host, pngFilePath, outlierFilter)"
   ]
  },
  {
   "cell_type": "markdown",
   "metadata": {},
   "source": [
    "## Step 3: Box plot (#post per month for specified page)"
   ]
  },
  {
   "cell_type": "code",
   "execution_count": 62,
   "metadata": {
    "collapsed": true
   },
   "outputs": [],
   "source": [
    "import pyes\n",
    "import json\n",
    "import pandas as pd\n",
    "import seaborn as sns\n",
    "import datetime\n",
    "import matplotlib.pyplot as plt\n",
    "\n",
    "\n",
    "def boxPlotNumofPostPerMonth(fid, host, lowerbound, upperbound, path):\n",
    "    conn = pyes.es.ES(host)\n",
    "    tq = pyes.query.TermQuery(field=\"fid\", value=fid)\n",
    "    ESR = pyes.ESRange(field='created_time', from_value='2015-01-02T00:00:00+0800', to_value='2015-12-31T23:59:59+0800', \n",
    "                   include_lower=True, include_upper=False) # use whole data in 2015\n",
    "    rq = pyes.query.RangeQuery(qrange=ESR)\n",
    "    \n",
    "    bq = pyes.query.BoolQuery().add_must(rq).add_must(tq)\n",
    "    \n",
    "    #tagg = pyes.aggs.TermsAgg('pid', field= 'fid_pid')\n",
    "    DHAgg = pyes.aggs.DateHistogramAgg('month', field='created_time', interval='month', sub_aggs=[])\n",
    "    tagg = pyes.aggs.TermsAgg('pid', field= 'fid_pid')\n",
    "    DHAgg.sub_aggs.append(tagg) \n",
    "    qsearch = pyes.query.Search(bq) \n",
    "    qsearch.agg.add(DHAgg) \n",
    "    result = conn.search(query=qsearch, indices='facebook_nested', doc_types='comment')\n",
    "\n",
    "    data=[]\n",
    "    for r in result.aggs[\"month\"][\"buckets\"]:\n",
    "        for pid in r[\"pid\"][\"buckets\"]:\n",
    "            monthyear = datetime.datetime.strptime(r[\"key_as_string\"], \"%Y-%m-%dT%H:%M:%S.%fZ\").strftime('%m')\n",
    "            data.append([pid[\"doc_count\"], monthyear, pid[\"key\"], r[\"key\"]])\n",
    "\n",
    "    df = pd.DataFrame(data, columns={'date', 'count', 'fid', 'pid'})\n",
    "    sns.set(style=\"ticks\")\n",
    "    sns_plot = sns.boxplot(x=\"date\", y=\"count\", data=df, palette=\"PRGn\")\n",
    "    sns_plot.set_title(fnames[fids.index(fid)])\n",
    "    fig = sns_plot.get_figure()\n",
    "    plt.ylim(lower_bound, upper_bound)\n",
    "    fig.savefig(path)"
   ]
  },
  {
   "cell_type": "markdown",
   "metadata": {},
   "source": [
    "## Step 4: Please assign several Facebook fan pages and parameters"
   ]
  },
  {
   "cell_type": "code",
   "execution_count": 65,
   "metadata": {
    "collapsed": false
   },
   "outputs": [
    {
     "data": {
      "image/png": "[encoded data removed]",
      "text/plain": [
       "<matplotlib.figure.Figure at 0x7f4ccc8fe090>"
      ]
     },
     "metadata": {},
     "output_type": "display_data"
    }
   ],
   "source": [
    "host = '192.168.1.100:9200'\n",
    "lower_bound = 0\n",
    "upper_bound = 500\n",
    "\n",
    "fids = ['202586376996', '180080052032125', '115361891807579']\n",
    "pngFilePaths = [\"output3.png\", 'output4.png', 'output5.png']\n",
    "\n",
    "boxPlotNumofPostPerMonth(fids[2], host, lower_bound, upper_bound, pngFilePaths[2])"
   ]
  },
  {
   "cell_type": "markdown",
   "metadata": {},
   "source": [
    "## Step 5 Get User-Post frequence matrix\n",
    "### input {es address, row name, column name, fans page ID}"
   ]
  },
  {
   "cell_type": "code",
   "execution_count": 34,
   "metadata": {
    "collapsed": false
   },
   "outputs": [],
   "source": [
    "import pyes\n",
    "import json\n",
    "\n",
    "def getUserPostFreqMatrix(host, row, column, fid):\n",
    "    rc = 200\n",
    "    cc = 200\n",
    "    \n",
    "    rowIndexList, colIndexList, matrix = [], [], []\n",
    "    conn = pyes.es.ES(host)\n",
    "    tq = pyes.query.TermQuery(field=\"fid\", value=fid)\n",
    "\n",
    "    tagg = pyes.aggs.TermsAgg(row, field=row, sub_aggs=[]) \n",
    "    tagg1 = pyes.aggs.TermsAgg(column, field=column)  \n",
    "    tagg.sub_aggs.append(tagg1) \n",
    "\n",
    "    qsearch = pyes.query.Search(tq) \n",
    "    qsearch.agg.add(tagg)\n",
    "\n",
    "    rs = conn.search(query=qsearch, indices='facebook_nested', doc_types='comment')\n",
    "    \n",
    "    rowcount = 0\n",
    "    colcount = 0\n",
    "    print json.dumps(rs.aggs, indent=2) \n",
    "    for user in rs.aggs[row]['buckets']:\n",
    "        if user['key'] != \"\" and user['key'] not in rowIndexList and rowcount < rc:\n",
    "            rowIndexList.append(user['key'])\n",
    "            rowcount = rowcount + 1\n",
    "\n",
    "        for post in user[column]['buckets']:\n",
    "            if post['key'] not in colIndexList and colcount < cc:\n",
    "                colIndexList.append(post['key'])\n",
    "                colcount = colcount + 1\n",
    "\n",
    "    for i in range(0, len(rowIndexList)):\n",
    "        matrix.append([0.0]*len(colIndexList))\n",
    "\n",
    "    for user in rs.aggs[row]['buckets']:\n",
    "        if user[\"key\"] in rowIndexList:\n",
    "            for post in user[column]['buckets']:\n",
    "                if post['key'] in colIndexList:\n",
    "                    matrix[rowIndexList.index(user['key'])][colIndexList.index(post['key'])] = float(post['doc_count'])\n",
    "    \n",
    "    \n",
    "    return {\"data\": matrix, \"col\": colIndexList, \"row\": rowIndexList}"
   ]
  },
  {
   "cell_type": "markdown",
   "metadata": {},
   "source": [
    "## Step 6: Please assign specified Facebook fan page and parameters"
   ]
  },
  {
   "cell_type": "code",
   "execution_count": 35,
   "metadata": {
    "collapsed": false
   },
   "outputs": [
    {
     "ename": "TypeError",
     "evalue": "'NoneType' object is not callable",
     "output_type": "error",
     "traceback": [
      "\u001b[1;31m\u001b[0m",
      "\u001b[1;31mTypeError\u001b[0mTraceback (most recent call last)",
      "\u001b[1;32m<ipython-input-35-1d433fafebea>\u001b[0m in \u001b[0;36m<module>\u001b[1;34m()\u001b[0m\n\u001b[0;32m      5\u001b[0m \u001b[1;33m\u001b[0m\u001b[0m\n\u001b[0;32m      6\u001b[0m \u001b[1;33m\u001b[0m\u001b[0m\n\u001b[1;32m----> 7\u001b[1;33m \u001b[0mresult\u001b[0m \u001b[1;33m=\u001b[0m \u001b[0mgetUserPostFreqMatrix\u001b[0m\u001b[1;33m(\u001b[0m\u001b[0mes_address\u001b[0m\u001b[1;33m,\u001b[0m \u001b[0mrow\u001b[0m\u001b[1;33m,\u001b[0m \u001b[0mcolumn\u001b[0m\u001b[1;33m,\u001b[0m \u001b[0mfid\u001b[0m\u001b[1;33m)\u001b[0m\u001b[1;33m\u001b[0m\u001b[0m\n\u001b[0m\u001b[0;32m      8\u001b[0m \u001b[1;32mprint\u001b[0m \u001b[0mresult\u001b[0m\u001b[1;33m\u001b[0m\u001b[0m\n",
      "\u001b[1;32m<ipython-input-34-663964f677d4>\u001b[0m in \u001b[0;36mgetUserPostFreqMatrix\u001b[1;34m(host, row, column, fid)\u001b[0m\n\u001b[0;32m     21\u001b[0m     \u001b[0mrowcount\u001b[0m \u001b[1;33m=\u001b[0m \u001b[1;36m0\u001b[0m\u001b[1;33m\u001b[0m\u001b[0m\n\u001b[0;32m     22\u001b[0m     \u001b[0mcolcount\u001b[0m \u001b[1;33m=\u001b[0m \u001b[1;36m0\u001b[0m\u001b[1;33m\u001b[0m\u001b[0m\n\u001b[1;32m---> 23\u001b[1;33m     \u001b[1;32mprint\u001b[0m \u001b[0mjson\u001b[0m\u001b[1;33m.\u001b[0m\u001b[0mdumps\u001b[0m\u001b[1;33m(\u001b[0m\u001b[0mrs\u001b[0m\u001b[1;33m.\u001b[0m\u001b[0maggs\u001b[0m\u001b[1;33m,\u001b[0m \u001b[0mindent\u001b[0m\u001b[1;33m=\u001b[0m\u001b[1;36m2\u001b[0m\u001b[1;33m)\u001b[0m\u001b[1;33m\u001b[0m\u001b[0m\n\u001b[0m\u001b[0;32m     24\u001b[0m     \u001b[1;32mfor\u001b[0m \u001b[0muser\u001b[0m \u001b[1;32min\u001b[0m \u001b[0mrs\u001b[0m\u001b[1;33m.\u001b[0m\u001b[0maggs\u001b[0m\u001b[1;33m[\u001b[0m\u001b[0mrow\u001b[0m\u001b[1;33m]\u001b[0m\u001b[1;33m[\u001b[0m\u001b[1;34m'buckets'\u001b[0m\u001b[1;33m]\u001b[0m\u001b[1;33m:\u001b[0m\u001b[1;33m\u001b[0m\u001b[0m\n\u001b[0;32m     25\u001b[0m         \u001b[1;32mif\u001b[0m \u001b[0muser\u001b[0m\u001b[1;33m[\u001b[0m\u001b[1;34m'key'\u001b[0m\u001b[1;33m]\u001b[0m \u001b[1;33m!=\u001b[0m \u001b[1;34m\"\"\u001b[0m \u001b[1;32mand\u001b[0m \u001b[0muser\u001b[0m\u001b[1;33m[\u001b[0m\u001b[1;34m'key'\u001b[0m\u001b[1;33m]\u001b[0m \u001b[1;32mnot\u001b[0m \u001b[1;32min\u001b[0m \u001b[0mrowIndexList\u001b[0m \u001b[1;32mand\u001b[0m \u001b[0mrowcount\u001b[0m \u001b[1;33m<\u001b[0m \u001b[0mrc\u001b[0m\u001b[1;33m:\u001b[0m\u001b[1;33m\u001b[0m\u001b[0m\n",
      "\u001b[1;32m/opt/conda/lib/python2.7/site-packages/pyes/es.pyc\u001b[0m in \u001b[0;36maggs\u001b[1;34m(self)\u001b[0m\n\u001b[0;32m   1483\u001b[0m     \u001b[1;32mdef\u001b[0m \u001b[0maggs\u001b[0m\u001b[1;33m(\u001b[0m\u001b[0mself\u001b[0m\u001b[1;33m)\u001b[0m\u001b[1;33m:\u001b[0m\u001b[1;33m\u001b[0m\u001b[0m\n\u001b[0;32m   1484\u001b[0m         \u001b[1;32mif\u001b[0m \u001b[0mself\u001b[0m\u001b[1;33m.\u001b[0m\u001b[0m_results\u001b[0m \u001b[1;32mis\u001b[0m \u001b[0mNone\u001b[0m\u001b[1;33m:\u001b[0m\u001b[1;33m\u001b[0m\u001b[0m\n\u001b[1;32m-> 1485\u001b[1;33m             \u001b[0mself\u001b[0m\u001b[1;33m.\u001b[0m\u001b[0m_do_search\u001b[0m\u001b[1;33m(\u001b[0m\u001b[1;33m)\u001b[0m\u001b[1;33m\u001b[0m\u001b[0m\n\u001b[0m\u001b[0;32m   1486\u001b[0m         \u001b[1;32mreturn\u001b[0m \u001b[0mself\u001b[0m\u001b[1;33m.\u001b[0m\u001b[0m_aggs\u001b[0m\u001b[1;33m\u001b[0m\u001b[0m\n\u001b[0;32m   1487\u001b[0m \u001b[1;33m\u001b[0m\u001b[0m\n",
      "\u001b[1;32m/opt/conda/lib/python2.7/site-packages/pyes/es.pyc\u001b[0m in \u001b[0;36m_do_search\u001b[1;34m(self, auto_increment)\u001b[0m\n\u001b[0;32m   1414\u001b[0m                 \u001b[0mself\u001b[0m\u001b[1;33m.\u001b[0m\u001b[0mstart\u001b[0m \u001b[1;33m+=\u001b[0m \u001b[0mself\u001b[0m\u001b[1;33m.\u001b[0m\u001b[0mchuck_size\u001b[0m\u001b[1;33m\u001b[0m\u001b[0m\n\u001b[0;32m   1415\u001b[0m \u001b[1;33m\u001b[0m\u001b[0m\n\u001b[1;32m-> 1416\u001b[1;33m             \u001b[0mself\u001b[0m\u001b[1;33m.\u001b[0m\u001b[0m_results\u001b[0m \u001b[1;33m=\u001b[0m \u001b[0mself\u001b[0m\u001b[1;33m.\u001b[0m\u001b[0m_search_raw\u001b[0m\u001b[1;33m(\u001b[0m\u001b[0mself\u001b[0m\u001b[1;33m.\u001b[0m\u001b[0mstart\u001b[0m\u001b[1;33m,\u001b[0m \u001b[0mself\u001b[0m\u001b[1;33m.\u001b[0m\u001b[0mchuck_size\u001b[0m\u001b[1;33m)\u001b[0m\u001b[1;33m\u001b[0m\u001b[0m\n\u001b[0m\u001b[0;32m   1417\u001b[0m \u001b[1;33m\u001b[0m\u001b[0m\n\u001b[0;32m   1418\u001b[0m             \u001b[0mdo_scan\u001b[0m \u001b[1;33m=\u001b[0m \u001b[0mself\u001b[0m\u001b[1;33m.\u001b[0m\u001b[0mquery_params\u001b[0m\u001b[1;33m.\u001b[0m\u001b[0mpop\u001b[0m\u001b[1;33m(\u001b[0m\u001b[1;34m\"search_type\"\u001b[0m\u001b[1;33m,\u001b[0m \u001b[0mNone\u001b[0m\u001b[1;33m)\u001b[0m \u001b[1;33m==\u001b[0m \u001b[1;34m\"scan\"\u001b[0m\u001b[1;33m\u001b[0m\u001b[0m\n",
      "\u001b[1;32m/opt/conda/lib/python2.7/site-packages/pyes/es.pyc\u001b[0m in \u001b[0;36m_search_raw\u001b[1;34m(self, start, size)\u001b[0m\n\u001b[0;32m   1657\u001b[0m \u001b[1;33m\u001b[0m\u001b[0m\n\u001b[0;32m   1658\u001b[0m         return self.connection.search_raw(self.search, indices=self.indices,\n\u001b[1;32m-> 1659\u001b[1;33m                                           doc_types=self.doc_types, headers=self.headers, **query_params)\n\u001b[0m\u001b[0;32m   1660\u001b[0m \u001b[1;33m\u001b[0m\u001b[0m\n\u001b[0;32m   1661\u001b[0m     \u001b[1;32mdef\u001b[0m \u001b[0mget_suggested_texts\u001b[0m\u001b[1;33m(\u001b[0m\u001b[0mself\u001b[0m\u001b[1;33m)\u001b[0m\u001b[1;33m:\u001b[0m\u001b[1;33m\u001b[0m\u001b[0m\n",
      "\u001b[1;32m/opt/conda/lib/python2.7/site-packages/pyes/es.pyc\u001b[0m in \u001b[0;36msearch_raw\u001b[1;34m(self, query, indices, doc_types, headers, **query_params)\u001b[0m\n\u001b[0;32m   1005\u001b[0m         \u001b[0mbody\u001b[0m \u001b[1;33m=\u001b[0m \u001b[0mself\u001b[0m\u001b[1;33m.\u001b[0m\u001b[0m_encode_query\u001b[0m\u001b[1;33m(\u001b[0m\u001b[0mquery\u001b[0m\u001b[1;33m)\u001b[0m\u001b[1;33m\u001b[0m\u001b[0m\n\u001b[0;32m   1006\u001b[0m         \u001b[0mpath\u001b[0m \u001b[1;33m=\u001b[0m \u001b[0mself\u001b[0m\u001b[1;33m.\u001b[0m\u001b[0m_make_path\u001b[0m\u001b[1;33m(\u001b[0m\u001b[0mindices\u001b[0m\u001b[1;33m,\u001b[0m \u001b[0mdoc_types\u001b[0m\u001b[1;33m,\u001b[0m \u001b[1;34m\"_search\"\u001b[0m\u001b[1;33m)\u001b[0m\u001b[1;33m\u001b[0m\u001b[0m\n\u001b[1;32m-> 1007\u001b[1;33m         \u001b[1;32mreturn\u001b[0m \u001b[0mself\u001b[0m\u001b[1;33m.\u001b[0m\u001b[0m_send_request\u001b[0m\u001b[1;33m(\u001b[0m\u001b[1;34m'GET'\u001b[0m\u001b[1;33m,\u001b[0m \u001b[0mpath\u001b[0m\u001b[1;33m,\u001b[0m \u001b[0mbody\u001b[0m\u001b[1;33m,\u001b[0m \u001b[0mparams\u001b[0m\u001b[1;33m=\u001b[0m\u001b[0mquery_params\u001b[0m\u001b[1;33m,\u001b[0m \u001b[0mheaders\u001b[0m\u001b[1;33m=\u001b[0m\u001b[0mheaders\u001b[0m\u001b[1;33m)\u001b[0m\u001b[1;33m\u001b[0m\u001b[0m\n\u001b[0m\u001b[0;32m   1008\u001b[0m \u001b[1;33m\u001b[0m\u001b[0m\n\u001b[0;32m   1009\u001b[0m     def search_raw_multi(self, queries, indices_list=None, doc_types_list=None,\n",
      "\u001b[1;32m/opt/conda/lib/python2.7/site-packages/pyes/es.pyc\u001b[0m in \u001b[0;36m_send_request\u001b[1;34m(self, method, path, body, params, headers, raw, return_response)\u001b[0m\n\u001b[0;32m    475\u001b[0m                 \u001b[1;32mraise\u001b[0m \u001b[0mElasticSearchException\u001b[0m\u001b[1;33m(\u001b[0m\u001b[0mresponse_body\u001b[0m\u001b[1;33m,\u001b[0m \u001b[0mresponse\u001b[0m\u001b[1;33m.\u001b[0m\u001b[0mstatus\u001b[0m\u001b[1;33m,\u001b[0m \u001b[0mresponse_body\u001b[0m\u001b[1;33m)\u001b[0m\u001b[1;33m\u001b[0m\u001b[0m\n\u001b[0;32m    476\u001b[0m         \u001b[1;32mif\u001b[0m \u001b[0mresponse\u001b[0m\u001b[1;33m.\u001b[0m\u001b[0mstatus\u001b[0m \u001b[1;32mnot\u001b[0m \u001b[1;32min\u001b[0m \u001b[1;33m[\u001b[0m\u001b[1;36m200\u001b[0m\u001b[1;33m,\u001b[0m \u001b[1;36m201\u001b[0m\u001b[1;33m]\u001b[0m\u001b[1;33m:\u001b[0m\u001b[1;33m\u001b[0m\u001b[0m\n\u001b[1;32m--> 477\u001b[1;33m             \u001b[0mraise_if_error\u001b[0m\u001b[1;33m(\u001b[0m\u001b[0mresponse\u001b[0m\u001b[1;33m.\u001b[0m\u001b[0mstatus\u001b[0m\u001b[1;33m,\u001b[0m \u001b[0mdecoded\u001b[0m\u001b[1;33m)\u001b[0m\u001b[1;33m\u001b[0m\u001b[0m\n\u001b[0m\u001b[0;32m    478\u001b[0m         \u001b[1;32mif\u001b[0m \u001b[1;32mnot\u001b[0m \u001b[0mraw\u001b[0m \u001b[1;32mand\u001b[0m \u001b[0misinstance\u001b[0m\u001b[1;33m(\u001b[0m\u001b[0mdecoded\u001b[0m\u001b[1;33m,\u001b[0m \u001b[0mdict\u001b[0m\u001b[1;33m)\u001b[0m\u001b[1;33m:\u001b[0m\u001b[1;33m\u001b[0m\u001b[0m\n\u001b[0;32m    479\u001b[0m             \u001b[0mdecoded\u001b[0m \u001b[1;33m=\u001b[0m \u001b[0mDotDict\u001b[0m\u001b[1;33m(\u001b[0m\u001b[0mdecoded\u001b[0m\u001b[1;33m)\u001b[0m\u001b[1;33m\u001b[0m\u001b[0m\n",
      "\u001b[1;32m/opt/conda/lib/python2.7/site-packages/pyes/convert_errors.pyc\u001b[0m in \u001b[0;36mraise_if_error\u001b[1;34m(status, result, request)\u001b[0m\n\u001b[0;32m     72\u001b[0m         \u001b[0merror\u001b[0m \u001b[1;33m=\u001b[0m \u001b[0merror_list\u001b[0m\u001b[1;33m[\u001b[0m\u001b[0mlen\u001b[0m\u001b[1;33m(\u001b[0m\u001b[0merror_list\u001b[0m\u001b[1;33m)\u001b[0m \u001b[1;33m-\u001b[0m \u001b[1;36m1\u001b[0m\u001b[1;33m]\u001b[0m\u001b[1;33m\u001b[0m\u001b[0m\n\u001b[0;32m     73\u001b[0m \u001b[1;33m\u001b[0m\u001b[0m\n\u001b[1;32m---> 74\u001b[1;33m     \u001b[0mbits\u001b[0m \u001b[1;33m=\u001b[0m \u001b[0merror\u001b[0m\u001b[1;33m.\u001b[0m\u001b[0msplit\u001b[0m\u001b[1;33m(\u001b[0m\u001b[1;34m'['\u001b[0m\u001b[1;33m,\u001b[0m \u001b[1;36m1\u001b[0m\u001b[1;33m)\u001b[0m\u001b[1;33m\u001b[0m\u001b[0m\n\u001b[0m\u001b[0;32m     75\u001b[0m     \u001b[1;32mif\u001b[0m \u001b[0mlen\u001b[0m\u001b[1;33m(\u001b[0m\u001b[0mbits\u001b[0m\u001b[1;33m)\u001b[0m \u001b[1;33m==\u001b[0m \u001b[1;36m2\u001b[0m\u001b[1;33m:\u001b[0m\u001b[1;33m\u001b[0m\u001b[0m\n\u001b[0;32m     76\u001b[0m         \u001b[0mexcClass\u001b[0m \u001b[1;33m=\u001b[0m \u001b[0mexceptions_by_name\u001b[0m\u001b[1;33m.\u001b[0m\u001b[0mget\u001b[0m\u001b[1;33m(\u001b[0m\u001b[0mbits\u001b[0m\u001b[1;33m[\u001b[0m\u001b[1;36m0\u001b[0m\u001b[1;33m]\u001b[0m\u001b[1;33m,\u001b[0m \u001b[0mNone\u001b[0m\u001b[1;33m)\u001b[0m\u001b[1;33m\u001b[0m\u001b[0m\n",
      "\u001b[1;31mTypeError\u001b[0m: 'NoneType' object is not callable"
     ]
    }
   ],
   "source": [
    "es_address = '192.168.1.100:9200'\n",
    "row = 'from.id'\n",
    "column = 'fid_pid'\n",
    "fid = '202586376996'\n",
    "\n",
    "\n",
    "result = getUserPostFreqMatrix(es_address, row, column, fid)\n",
    "print result"
   ]
  }
 ],
 "metadata": {
  "kernelspec": {
   "display_name": "Python [Root]",
   "language": "python",
   "name": "Python [Root]"
  },
  "language_info": {
   "codemirror_mode": {
    "name": "ipython",
    "version": 2
   },
   "file_extension": ".py",
   "mimetype": "text/x-python",
   "name": "python",
   "nbconvert_exporter": "python",
   "pygments_lexer": "ipython2",
   "version": "2.7.12"
  }
 },
 "nbformat": 4,
 "nbformat_minor": 0
}
